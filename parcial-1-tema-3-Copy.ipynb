{
 "cells": [
  {
   "cell_type": "markdown",
   "metadata": {},
   "source": [
    "# Métodos Numericos 2023\n",
    "\n",
    "## Parcial 1 - Tema 3\n",
    "\n",
    "### Fecha de entrega \n",
    "\n",
    "25 de Abril de 2022\n",
    "\n",
    "### Nota sobre la programación en Julia\n",
    "\n",
    "Recuerde que su notebook tiene que poder ser entendida por otra persona. Para ello:\n",
    "\n",
    "* Cuando crea conveniente, use texto Markdown para desarrollar o comentar una idea.\n",
    "\n",
    "* Agregue comentarios a su código de ser necesario.\n",
    "\n",
    "* Realice gráficos que tengan etiquetas en los ejes y leyendas para cada curva o serie de puntos graficados, como así también un título apropiado.\n",
    "\n",
    "* Procure respetar reglas de buena programación:\n",
    "\n",
    "    * Use sangrías adecuadamente.\n",
    "\n",
    "    * Cuando sea posible, implemente funciones de caracter general, en vez de código específico a cada problema, facilitando así la reutilización de código.\n",
    "\n",
    "    * Implemente funciones que tengan los argumentos necesarios para su buen funcionamiento."
   ]
  },
  {
   "cell_type": "code",
   "execution_count": 65,
   "metadata": {},
   "outputs": [],
   "source": [
    "using Plots\n",
    "using LaTeXStrings\n",
    "using DataFrames"
   ]
  },
  {
   "cell_type": "markdown",
   "metadata": {},
   "source": [
    "## Problema 1\n",
    "\n",
    "Se desea crear un programa que calcule el Máximo Común Divisor (MCD) de dos números enteros ingresados por el usuario. \n",
    "Para ello, se utilizará el algoritmo de Euclides, el cual consiste en dividir el número mayor entre el número menor y luego dividir el divisor entre el resto obtenido hasta llegar a un resto de cero.\n",
    "El último divisor será el MCD de los dos números ingresados.\n",
    "\n",
    "Algoritmo de Euclides tradicional implementado de manera iterativa (Wikipedia) puede, básicamente, describirse con el siguiente pseudocódigo\n",
    "\n",
    "    function mcd_euclides(m,p)\n",
    "        while p != 0\n",
    "            m,p = p,m%p\n",
    "        end\n",
    "        return m\n",
    "    end\n",
    "\n",
    "Consignas:\n",
    "\n",
    "1. Programe una función `mcd_euclides(m,p)`, que tome dos números enteros `m` y `p` como argumentos. La función deberá retornar el MCD.\n",
    "\n",
    "    La función deberá incluir un *argumento opcional* de tipo booleano llamado `verbose` normalmente  (i.e. por default) seteado al valor `false`. Cuando dicho argumento sea `true`, la función deberá imprimir por pantalla el número de iteraciones que utilizó para calcular el MCD que retorna. La última iteración del resto cero debe tenerse en cuenta en dicho cálculo.\n",
    "\n",
    "2. Calcule el MCD de:\n",
    "\n",
    "        mcd_euclides(255,195)\n",
    "        mcd_euclides(85,195)\n",
    "        mcd_euclides(46905159,39173043)\n",
    "        \n",
    "    reportando en pantalla el número de iteraciones utilizados en cada caso."
   ]
  },
  {
   "cell_type": "code",
   "execution_count": null,
   "metadata": {},
   "outputs": [],
   "source": []
  },
  {
   "cell_type": "markdown",
   "metadata": {},
   "source": [
    "# Problema 2\n",
    "\n",
    "Considere dos móviles, 1 y 2, que se mueven sobre el eje $x$. \n",
    "El móvil 1 se desplaza con velocidad constante y el móvil 2 con una aceleración $a_{2}(t)$.\n",
    "El objetivo es calcular, numéricamente, una aproximación al tiempo $t$ y a la posición $x(t)$ en que los móviles se encuentran.\n",
    "\n",
    "Para ello, siga los siguientes pasos:\n",
    "\n",
    "1. Utilizando sus conocimientos de cinemática, encuentre las funciones de movimiento de los móviles, $x_{1}(t)$ y $x_{2}(t)$, considerando:\n",
    "\n",
    "    * la posición inicial del móvil 1, $x_1(0)=-16m$,\n",
    "    * la velocidad inicial del móvil 1, $v_1(0)=4ms^{-1}$,\n",
    "    * la aceleración del móvil 1, $a_1(t)=0ms^{-2}$ para todo $t$,\n",
    "    * la posición inicial del móvil 2, $x_2(0)= 18m$,\n",
    "    * la velocidad inicial del móvil 2, $v_2(0)= -12ms^{-1}$, y\n",
    "    * la aceleración del móvil 2, $a_2(t)= \\exp(-ct)ms^{-2}$ con $c=0.1s^{-1}$ para todo $t$.\n",
    "\n",
    "    Notar, el móvil 1 se mueve con velocidad constante y el móvil 2, con aceleración variable. **Ayuda:** La función de movimiento del móvil 2 es de la forma $x_2(t) = a + bt + c^{-2}\\exp(-ct)$, con constantes de integración $a$ y $b$ determinadas por las condiciones iniciales.\n",
    "\n",
    "2. Grafique las funciones de movimiento $x_1(t)$  y  $x_2(t)$, entre $t=0s$ y $t=5s$.\n",
    "\n",
    "3. Calcule la coordenada diferencia $f(t)=x_1(t)-x_2(t)$ y la derivada $f'(t)$ (ya que la necesitará para el método de Newton) y grafíquelas en el mismo intervalo.\n",
    "\n",
    "4. Determine el instante $t$ y la posición $x(t)$ para el encuentro de los dos móviles con direcciones iniciales opuestas. Para ello:\n",
    "\n",
    "    1. Escriba funciones que encuentren la raíz $t$ de la función $f$:\n",
    " \n",
    "        1. utilizando el método de bisección.\n",
    "\n",
    "        2. utilizando el método de la secante.\n",
    "\n",
    "        3. utilizando el método de Regula Falsi.\n",
    "\n",
    "        4. utilizando el método de Newton.\n",
    "    \n",
    "        * Estas funciones deberán imprimir un mensaje cuando los correspondientes algoritmos no converjan tras `nmax=100` iteraciones. \n",
    "        \n",
    "        * Además, deberán retornar una tupla `list_p,list_e,list_f` en donde `list_p` es un array de aproximaciones $p_1,p_2,...,p_n$ de la raíz, `list_e`, es un array de correspondientes estimaciones de errores relativos $r_1,r_2,...,r_n$ (por ejemplo, $r_i = |p_i-p_{i+1}|/|p_{i+1}|$ para Newton) y `list_f` es un array de correspondientes valores $f(p_1),f(p_2),...,f(p_n)$. Aquí, $n$ es el número de iteraciones utilizado por el algoritmo en cuestión.\n",
    "  \n",
    "    4. Con los métodos implementados, calcule approximaciones y correspondientes errores del tiempo $t$ y la correspondiente posición $x(t)=x_1(t)=x_2(t)$ a la cuál se produce el primer encuentro entre los dos móviles. Para ello, utilice `a=0.0` y `b=5.0`, para bisección, secante y Regula Falsi, y `p=0.0` para Newton. Además, utilice las tolerancias de error `tol_x = 10e-8` y `tol_y = 10e-8`.\n",
    "    \n",
    "    5. Grafique, en un mismo gráfico y en escala doble logarítmica, el error relativo $r_i$ en función del número de iteración $i$ para los cuatro métodos.\n",
    "    \n",
    "    6. Grafique $|f(t_i)|$ vs $i$ para los cuatro métodos.\n",
    "\n",
    "    7. Sintetize los resultados en una tabla que incluya, para cada método, las aproximaciones del tiempo y posición de encuentro, sus errores, y el número de iteraciones requerido. Discuta lo observado."
   ]
  },
  {
   "cell_type": "code",
   "execution_count": 3,
   "metadata": {},
   "outputs": [
    {
     "data": {
      "text/plain": [
       "-12"
      ]
     },
     "execution_count": 3,
     "metadata": {},
     "output_type": "execute_result"
    }
   ],
   "source": [
    "x1_0 = -16 #m\n",
    "v1_0 = 4 #m/s\n",
    "\n",
    "x2_0 = 18 #m\n",
    "v2_0 = -12 #m/s"
   ]
  },
  {
   "cell_type": "code",
   "execution_count": 4,
   "metadata": {},
   "outputs": [
    {
     "data": {
      "text/plain": [
       "x1 (generic function with 1 method)"
      ]
     },
     "execution_count": 4,
     "metadata": {},
     "output_type": "execute_result"
    }
   ],
   "source": [
    "function x1(t;x0=x1_0,v0=v1_0)\n",
    "    return v0*t + x0\n",
    "end"
   ]
  },
  {
   "cell_type": "code",
   "execution_count": 5,
   "metadata": {},
   "outputs": [
    {
     "data": {
      "text/plain": [
       "a2 (generic function with 1 method)"
      ]
     },
     "execution_count": 5,
     "metadata": {},
     "output_type": "execute_result"
    }
   ],
   "source": [
    "function a2(t,c)\n",
    "    return exp(-c*t)\n",
    "end"
   ]
  },
  {
   "cell_type": "code",
   "execution_count": 6,
   "metadata": {},
   "outputs": [
    {
     "data": {
      "text/plain": [
       "v2 (generic function with 1 method)"
      ]
     },
     "execution_count": 6,
     "metadata": {},
     "output_type": "execute_result"
    }
   ],
   "source": [
    "function v2(t,v0;c=0.1)\n",
    "    return -1/c*a2(t,c) + (v0+1/c)\n",
    "end"
   ]
  },
  {
   "cell_type": "code",
   "execution_count": 7,
   "metadata": {},
   "outputs": [
    {
     "data": {
      "text/plain": [
       "x2 (generic function with 1 method)"
      ]
     },
     "execution_count": 7,
     "metadata": {},
     "output_type": "execute_result"
    }
   ],
   "source": [
    "function x2(t;x0=x2_0,v0=v2_0,c=0.1)\n",
    "    return (x0 - c^(-2)) + (v0+1/c)*t + c^(-2)*a2(t,c)\n",
    "end"
   ]
  },
  {
   "cell_type": "code",
   "execution_count": 8,
   "metadata": {},
   "outputs": [
    {
     "data": {
      "text/plain": [
       "0.0:0.1:5.0"
      ]
     },
     "execution_count": 8,
     "metadata": {},
     "output_type": "execute_result"
    }
   ],
   "source": [
    "t = 0:0.1:5"
   ]
  },
  {
   "cell_type": "code",
   "execution_count": 56,
   "metadata": {},
   "outputs": [
    {
     "data": {
      "image/svg+xml": [
       "<?xml version=\"1.0\" encoding=\"utf-8\"?>\n",
       "<svg xmlns=\"http://www.w3.org/2000/svg\" xmlns:xlink=\"http://www.w3.org/1999/xlink\" width=\"600\" height=\"400\" viewBox=\"0 0 2400 1600\">\n",
       "<defs>\n",
       "  <clipPath id=\"clip620\">\n",
       "    <rect x=\"0\" y=\"0\" width=\"2400\" height=\"1600\"/>\n",
       "  </clipPath>\n",
       "</defs>\n",
       "<path clip-path=\"url(#clip620)\" d=\"M0 1600 L2400 1600 L2400 0 L0 0  Z\" fill=\"#ffffff\" fill-rule=\"evenodd\" fill-opacity=\"1\"/>\n",
       "<defs>\n",
       "  <clipPath id=\"clip621\">\n",
       "    <rect x=\"480\" y=\"0\" width=\"1681\" height=\"1600\"/>\n",
       "  </clipPath>\n",
       "</defs>\n",
       "<defs>\n",
       "  <clipPath id=\"clip622\">\n",
       "    <rect x=\"242\" y=\"47\" width=\"2112\" height=\"1377\"/>\n",
       "  </clipPath>\n",
       "</defs>\n",
       "<path clip-path=\"url(#clip620)\" d=\"M242.135 1423.18 L2352.76 1423.18 L2352.76 47.2441 L242.135 47.2441  Z\" fill=\"#ffffff\" fill-rule=\"evenodd\" fill-opacity=\"1\"/>\n",
       "<polyline clip-path=\"url(#clip622)\" style=\"stroke:#000000; stroke-linecap:round; stroke-linejoin:round; stroke-width:2; stroke-opacity:0.1; fill:none\" points=\"301.869,1423.18 301.869,47.2441 \"/>\n",
       "<polyline clip-path=\"url(#clip622)\" style=\"stroke:#000000; stroke-linecap:round; stroke-linejoin:round; stroke-width:2; stroke-opacity:0.1; fill:none\" points=\"700.1,1423.18 700.1,47.2441 \"/>\n",
       "<polyline clip-path=\"url(#clip622)\" style=\"stroke:#000000; stroke-linecap:round; stroke-linejoin:round; stroke-width:2; stroke-opacity:0.1; fill:none\" points=\"1098.33,1423.18 1098.33,47.2441 \"/>\n",
       "<polyline clip-path=\"url(#clip622)\" style=\"stroke:#000000; stroke-linecap:round; stroke-linejoin:round; stroke-width:2; stroke-opacity:0.1; fill:none\" points=\"1496.56,1423.18 1496.56,47.2441 \"/>\n",
       "<polyline clip-path=\"url(#clip622)\" style=\"stroke:#000000; stroke-linecap:round; stroke-linejoin:round; stroke-width:2; stroke-opacity:0.1; fill:none\" points=\"1894.79,1423.18 1894.79,47.2441 \"/>\n",
       "<polyline clip-path=\"url(#clip622)\" style=\"stroke:#000000; stroke-linecap:round; stroke-linejoin:round; stroke-width:2; stroke-opacity:0.1; fill:none\" points=\"2293.02,1423.18 2293.02,47.2441 \"/>\n",
       "<polyline clip-path=\"url(#clip620)\" style=\"stroke:#000000; stroke-linecap:round; stroke-linejoin:round; stroke-width:4; stroke-opacity:1; fill:none\" points=\"242.135,1423.18 2352.76,1423.18 \"/>\n",
       "<polyline clip-path=\"url(#clip620)\" style=\"stroke:#000000; stroke-linecap:round; stroke-linejoin:round; stroke-width:4; stroke-opacity:1; fill:none\" points=\"301.869,1423.18 301.869,1404.28 \"/>\n",
       "<polyline clip-path=\"url(#clip620)\" style=\"stroke:#000000; stroke-linecap:round; stroke-linejoin:round; stroke-width:4; stroke-opacity:1; fill:none\" points=\"700.1,1423.18 700.1,1404.28 \"/>\n",
       "<polyline clip-path=\"url(#clip620)\" style=\"stroke:#000000; stroke-linecap:round; stroke-linejoin:round; stroke-width:4; stroke-opacity:1; fill:none\" points=\"1098.33,1423.18 1098.33,1404.28 \"/>\n",
       "<polyline clip-path=\"url(#clip620)\" style=\"stroke:#000000; stroke-linecap:round; stroke-linejoin:round; stroke-width:4; stroke-opacity:1; fill:none\" points=\"1496.56,1423.18 1496.56,1404.28 \"/>\n",
       "<polyline clip-path=\"url(#clip620)\" style=\"stroke:#000000; stroke-linecap:round; stroke-linejoin:round; stroke-width:4; stroke-opacity:1; fill:none\" points=\"1894.79,1423.18 1894.79,1404.28 \"/>\n",
       "<polyline clip-path=\"url(#clip620)\" style=\"stroke:#000000; stroke-linecap:round; stroke-linejoin:round; stroke-width:4; stroke-opacity:1; fill:none\" points=\"2293.02,1423.18 2293.02,1404.28 \"/>\n",
       "<path clip-path=\"url(#clip620)\" d=\"M301.869 1454.1 Q298.258 1454.1 296.429 1457.66 Q294.624 1461.2 294.624 1468.33 Q294.624 1475.44 296.429 1479.01 Q298.258 1482.55 301.869 1482.55 Q305.503 1482.55 307.309 1479.01 Q309.138 1475.44 309.138 1468.33 Q309.138 1461.2 307.309 1457.66 Q305.503 1454.1 301.869 1454.1 M301.869 1450.39 Q307.679 1450.39 310.735 1455 Q313.814 1459.58 313.814 1468.33 Q313.814 1477.06 310.735 1481.67 Q307.679 1486.25 301.869 1486.25 Q296.059 1486.25 292.98 1481.67 Q289.925 1477.06 289.925 1468.33 Q289.925 1459.58 292.98 1455 Q296.059 1450.39 301.869 1450.39 Z\" fill=\"#000000\" fill-rule=\"evenodd\" fill-opacity=\"1\" /><path clip-path=\"url(#clip620)\" d=\"M690.482 1481.64 L698.12 1481.64 L698.12 1455.28 L689.81 1456.95 L689.81 1452.69 L698.074 1451.02 L702.75 1451.02 L702.75 1481.64 L710.389 1481.64 L710.389 1485.58 L690.482 1485.58 L690.482 1481.64 Z\" fill=\"#000000\" fill-rule=\"evenodd\" fill-opacity=\"1\" /><path clip-path=\"url(#clip620)\" d=\"M1092.98 1481.64 L1109.3 1481.64 L1109.3 1485.58 L1087.36 1485.58 L1087.36 1481.64 Q1090.02 1478.89 1094.6 1474.26 Q1099.21 1469.61 1100.39 1468.27 Q1102.64 1465.74 1103.52 1464.01 Q1104.42 1462.25 1104.42 1460.56 Q1104.42 1457.8 1102.47 1456.07 Q1100.55 1454.33 1097.45 1454.33 Q1095.25 1454.33 1092.8 1455.09 Q1090.37 1455.86 1087.59 1457.41 L1087.59 1452.69 Q1090.41 1451.55 1092.87 1450.97 Q1095.32 1450.39 1097.36 1450.39 Q1102.73 1450.39 1105.92 1453.08 Q1109.12 1455.77 1109.12 1460.26 Q1109.12 1462.39 1108.31 1464.31 Q1107.52 1466.2 1105.41 1468.8 Q1104.83 1469.47 1101.73 1472.69 Q1098.63 1475.88 1092.98 1481.64 Z\" fill=\"#000000\" fill-rule=\"evenodd\" fill-opacity=\"1\" /><path clip-path=\"url(#clip620)\" d=\"M1500.81 1466.95 Q1504.16 1467.66 1506.04 1469.93 Q1507.94 1472.2 1507.94 1475.53 Q1507.94 1480.65 1504.42 1483.45 Q1500.9 1486.25 1494.42 1486.25 Q1492.24 1486.25 1489.93 1485.81 Q1487.64 1485.39 1485.18 1484.54 L1485.18 1480.02 Q1487.13 1481.16 1489.44 1481.74 Q1491.76 1482.32 1494.28 1482.32 Q1498.68 1482.32 1500.97 1480.58 Q1503.28 1478.84 1503.28 1475.53 Q1503.28 1472.48 1501.13 1470.77 Q1499 1469.03 1495.18 1469.03 L1491.16 1469.03 L1491.16 1465.19 L1495.37 1465.19 Q1498.82 1465.19 1500.65 1463.82 Q1502.47 1462.43 1502.47 1459.84 Q1502.47 1457.18 1500.58 1455.77 Q1498.7 1454.33 1495.18 1454.33 Q1493.26 1454.33 1491.06 1454.75 Q1488.86 1455.16 1486.22 1456.04 L1486.22 1451.88 Q1488.89 1451.14 1491.2 1450.77 Q1493.54 1450.39 1495.6 1450.39 Q1500.92 1450.39 1504.03 1452.83 Q1507.13 1455.23 1507.13 1459.35 Q1507.13 1462.22 1505.48 1464.21 Q1503.84 1466.18 1500.81 1466.95 Z\" fill=\"#000000\" fill-rule=\"evenodd\" fill-opacity=\"1\" /><path clip-path=\"url(#clip620)\" d=\"M1897.8 1455.09 L1885.99 1473.54 L1897.8 1473.54 L1897.8 1455.09 M1896.57 1451.02 L1902.45 1451.02 L1902.45 1473.54 L1907.38 1473.54 L1907.38 1477.43 L1902.45 1477.43 L1902.45 1485.58 L1897.8 1485.58 L1897.8 1477.43 L1882.2 1477.43 L1882.2 1472.92 L1896.57 1451.02 Z\" fill=\"#000000\" fill-rule=\"evenodd\" fill-opacity=\"1\" /><path clip-path=\"url(#clip620)\" d=\"M2283.3 1451.02 L2301.66 1451.02 L2301.66 1454.96 L2287.58 1454.96 L2287.58 1463.43 Q2288.6 1463.08 2289.62 1462.92 Q2290.64 1462.73 2291.66 1462.73 Q2297.44 1462.73 2300.82 1465.9 Q2304.2 1469.08 2304.2 1474.49 Q2304.2 1480.07 2300.73 1483.17 Q2297.26 1486.25 2290.94 1486.25 Q2288.76 1486.25 2286.49 1485.88 Q2284.25 1485.51 2281.84 1484.77 L2281.84 1480.07 Q2283.92 1481.2 2286.15 1481.76 Q2288.37 1482.32 2290.85 1482.32 Q2294.85 1482.32 2297.19 1480.21 Q2299.53 1478.1 2299.53 1474.49 Q2299.53 1470.88 2297.19 1468.77 Q2294.85 1466.67 2290.85 1466.67 Q2288.97 1466.67 2287.1 1467.08 Q2285.24 1467.5 2283.3 1468.38 L2283.3 1451.02 Z\" fill=\"#000000\" fill-rule=\"evenodd\" fill-opacity=\"1\" /><path clip-path=\"url(#clip620)\" d=\"M1126.99 1520.52 L1167.19 1520.52 L1167.19 1525.93 L1150.32 1525.93 L1150.32 1568.04 L1143.86 1568.04 L1143.86 1525.93 L1126.99 1525.93 L1126.99 1520.52 Z\" fill=\"#000000\" fill-rule=\"evenodd\" fill-opacity=\"1\" /><path clip-path=\"url(#clip620)\" d=\"M1171.13 1532.4 L1176.99 1532.4 L1176.99 1568.04 L1171.13 1568.04 L1171.13 1532.4 M1171.13 1518.52 L1176.99 1518.52 L1176.99 1525.93 L1171.13 1525.93 L1171.13 1518.52 Z\" fill=\"#000000\" fill-rule=\"evenodd\" fill-opacity=\"1\" /><path clip-path=\"url(#clip620)\" d=\"M1219.74 1548.76 L1219.74 1551.62 L1192.81 1551.62 Q1193.19 1557.67 1196.44 1560.85 Q1199.72 1564 1205.54 1564 Q1208.91 1564 1212.07 1563.17 Q1215.25 1562.35 1218.37 1560.69 L1218.37 1566.23 Q1215.22 1567.57 1211.91 1568.27 Q1208.6 1568.97 1205.19 1568.97 Q1196.66 1568.97 1191.66 1564 Q1186.7 1559.04 1186.7 1550.57 Q1186.7 1541.82 1191.41 1536.69 Q1196.15 1531.54 1204.17 1531.54 Q1211.37 1531.54 1215.53 1536.18 Q1219.74 1540.8 1219.74 1548.76 M1213.88 1547.04 Q1213.82 1542.23 1211.17 1539.37 Q1208.56 1536.5 1204.24 1536.5 Q1199.33 1536.5 1196.37 1539.27 Q1193.45 1542.04 1193 1547.07 L1213.88 1547.04 Z\" fill=\"#000000\" fill-rule=\"evenodd\" fill-opacity=\"1\" /><path clip-path=\"url(#clip620)\" d=\"M1257.1 1539.24 Q1259.3 1535.29 1262.35 1533.41 Q1265.41 1531.54 1269.55 1531.54 Q1275.12 1531.54 1278.14 1535.45 Q1281.16 1539.33 1281.16 1546.53 L1281.16 1568.04 L1275.28 1568.04 L1275.28 1546.72 Q1275.28 1541.59 1273.46 1539.11 Q1271.65 1536.63 1267.92 1536.63 Q1263.37 1536.63 1260.73 1539.65 Q1258.09 1542.68 1258.09 1547.9 L1258.09 1568.04 L1252.2 1568.04 L1252.2 1546.72 Q1252.2 1541.56 1250.39 1539.11 Q1248.57 1536.63 1244.78 1536.63 Q1240.3 1536.63 1237.66 1539.68 Q1235.01 1542.71 1235.01 1547.9 L1235.01 1568.04 L1229.13 1568.04 L1229.13 1532.4 L1235.01 1532.4 L1235.01 1537.93 Q1237.02 1534.66 1239.82 1533.1 Q1242.62 1531.54 1246.47 1531.54 Q1250.35 1531.54 1253.06 1533.51 Q1255.8 1535.48 1257.1 1539.24 Z\" fill=\"#000000\" fill-rule=\"evenodd\" fill-opacity=\"1\" /><path clip-path=\"url(#clip620)\" d=\"M1298.51 1562.7 L1298.51 1581.6 L1292.62 1581.6 L1292.62 1532.4 L1298.51 1532.4 L1298.51 1537.81 Q1300.36 1534.62 1303.16 1533.1 Q1305.99 1531.54 1309.91 1531.54 Q1316.4 1531.54 1320.44 1536.69 Q1324.52 1541.85 1324.52 1550.25 Q1324.52 1558.65 1320.44 1563.81 Q1316.4 1568.97 1309.91 1568.97 Q1305.99 1568.97 1303.16 1567.44 Q1300.36 1565.88 1298.51 1562.7 M1318.44 1550.25 Q1318.44 1543.79 1315.76 1540.13 Q1313.12 1536.44 1308.47 1536.44 Q1303.83 1536.44 1301.15 1540.13 Q1298.51 1543.79 1298.51 1550.25 Q1298.51 1556.71 1301.15 1560.4 Q1303.83 1564.07 1308.47 1564.07 Q1313.12 1564.07 1315.76 1560.4 Q1318.44 1556.71 1318.44 1550.25 Z\" fill=\"#000000\" fill-rule=\"evenodd\" fill-opacity=\"1\" /><path clip-path=\"url(#clip620)\" d=\"M1348.04 1536.5 Q1343.33 1536.5 1340.59 1540.19 Q1337.85 1543.85 1337.85 1550.25 Q1337.85 1556.65 1340.56 1560.34 Q1343.29 1564 1348.04 1564 Q1352.72 1564 1355.45 1560.31 Q1358.19 1556.62 1358.19 1550.25 Q1358.19 1543.92 1355.45 1540.23 Q1352.72 1536.5 1348.04 1536.5 M1348.04 1531.54 Q1355.68 1531.54 1360.04 1536.5 Q1364.4 1541.47 1364.4 1550.25 Q1364.4 1559 1360.04 1564 Q1355.68 1568.97 1348.04 1568.97 Q1340.37 1568.97 1336.01 1564 Q1331.68 1559 1331.68 1550.25 Q1331.68 1541.47 1336.01 1536.5 Q1340.37 1531.54 1348.04 1531.54 Z\" fill=\"#000000\" fill-rule=\"evenodd\" fill-opacity=\"1\" /><path clip-path=\"url(#clip620)\" d=\"M1394.28 1518.52 L1407.78 1518.52 L1407.78 1523.07 L1400.14 1523.07 L1400.14 1572.09 L1407.78 1572.09 L1407.78 1576.64 L1394.28 1576.64 L1394.28 1518.52 Z\" fill=\"#000000\" fill-rule=\"evenodd\" fill-opacity=\"1\" /><path clip-path=\"url(#clip620)\" d=\"M1442.98 1533.45 L1442.98 1538.98 Q1440.5 1537.71 1437.83 1537.07 Q1435.15 1536.44 1432.29 1536.44 Q1427.93 1536.44 1425.73 1537.77 Q1423.57 1539.11 1423.57 1541.79 Q1423.57 1543.82 1425.13 1545 Q1426.69 1546.15 1431.4 1547.2 L1433.4 1547.64 Q1439.64 1548.98 1442.25 1551.43 Q1444.89 1553.85 1444.89 1558.21 Q1444.89 1563.17 1440.94 1566.07 Q1437.03 1568.97 1430.15 1568.97 Q1427.29 1568.97 1424.17 1568.39 Q1421.08 1567.85 1417.65 1566.74 L1417.65 1560.69 Q1420.89 1562.38 1424.04 1563.24 Q1427.19 1564.07 1430.28 1564.07 Q1434.42 1564.07 1436.65 1562.66 Q1438.88 1561.23 1438.88 1558.65 Q1438.88 1556.27 1437.25 1554.99 Q1435.66 1553.72 1430.22 1552.54 L1428.18 1552.07 Q1422.74 1550.92 1420.32 1548.56 Q1417.9 1546.18 1417.9 1542.04 Q1417.9 1537.01 1421.47 1534.27 Q1425.03 1531.54 1431.59 1531.54 Q1434.83 1531.54 1437.7 1532.01 Q1440.56 1532.49 1442.98 1533.45 Z\" fill=\"#000000\" fill-rule=\"evenodd\" fill-opacity=\"1\" /><path clip-path=\"url(#clip620)\" d=\"M1467.9 1518.52 L1467.9 1576.64 L1454.41 1576.64 L1454.41 1572.09 L1462.01 1572.09 L1462.01 1523.07 L1454.41 1523.07 L1454.41 1518.52 L1467.9 1518.52 Z\" fill=\"#000000\" fill-rule=\"evenodd\" fill-opacity=\"1\" /><polyline clip-path=\"url(#clip622)\" style=\"stroke:#000000; stroke-linecap:round; stroke-linejoin:round; stroke-width:2; stroke-opacity:0.1; fill:none\" points=\"242.135,1348.81 2352.76,1348.81 \"/>\n",
       "<polyline clip-path=\"url(#clip622)\" style=\"stroke:#000000; stroke-linecap:round; stroke-linejoin:round; stroke-width:2; stroke-opacity:0.1; fill:none\" points=\"242.135,1085.76 2352.76,1085.76 \"/>\n",
       "<polyline clip-path=\"url(#clip622)\" style=\"stroke:#000000; stroke-linecap:round; stroke-linejoin:round; stroke-width:2; stroke-opacity:0.1; fill:none\" points=\"242.135,822.715 2352.76,822.715 \"/>\n",
       "<polyline clip-path=\"url(#clip622)\" style=\"stroke:#000000; stroke-linecap:round; stroke-linejoin:round; stroke-width:2; stroke-opacity:0.1; fill:none\" points=\"242.135,559.669 2352.76,559.669 \"/>\n",
       "<polyline clip-path=\"url(#clip622)\" style=\"stroke:#000000; stroke-linecap:round; stroke-linejoin:round; stroke-width:2; stroke-opacity:0.1; fill:none\" points=\"242.135,296.623 2352.76,296.623 \"/>\n",
       "<polyline clip-path=\"url(#clip620)\" style=\"stroke:#000000; stroke-linecap:round; stroke-linejoin:round; stroke-width:4; stroke-opacity:1; fill:none\" points=\"242.135,1423.18 242.135,47.2441 \"/>\n",
       "<polyline clip-path=\"url(#clip620)\" style=\"stroke:#000000; stroke-linecap:round; stroke-linejoin:round; stroke-width:4; stroke-opacity:1; fill:none\" points=\"242.135,1348.81 261.032,1348.81 \"/>\n",
       "<polyline clip-path=\"url(#clip620)\" style=\"stroke:#000000; stroke-linecap:round; stroke-linejoin:round; stroke-width:4; stroke-opacity:1; fill:none\" points=\"242.135,1085.76 261.032,1085.76 \"/>\n",
       "<polyline clip-path=\"url(#clip620)\" style=\"stroke:#000000; stroke-linecap:round; stroke-linejoin:round; stroke-width:4; stroke-opacity:1; fill:none\" points=\"242.135,822.715 261.032,822.715 \"/>\n",
       "<polyline clip-path=\"url(#clip620)\" style=\"stroke:#000000; stroke-linecap:round; stroke-linejoin:round; stroke-width:4; stroke-opacity:1; fill:none\" points=\"242.135,559.669 261.032,559.669 \"/>\n",
       "<polyline clip-path=\"url(#clip620)\" style=\"stroke:#000000; stroke-linecap:round; stroke-linejoin:round; stroke-width:4; stroke-opacity:1; fill:none\" points=\"242.135,296.623 261.032,296.623 \"/>\n",
       "<path clip-path=\"url(#clip620)\" d=\"M114.26 1349.26 L143.936 1349.26 L143.936 1353.19 L114.26 1353.19 L114.26 1349.26 Z\" fill=\"#000000\" fill-rule=\"evenodd\" fill-opacity=\"1\" /><path clip-path=\"url(#clip620)\" d=\"M168.195 1347.45 Q171.552 1348.17 173.427 1350.44 Q175.325 1352.71 175.325 1356.04 Q175.325 1361.16 171.806 1363.96 Q168.288 1366.76 161.806 1366.76 Q159.63 1366.76 157.315 1366.32 Q155.024 1365.9 152.57 1365.05 L152.57 1360.53 Q154.515 1361.67 156.829 1362.25 Q159.144 1362.82 161.667 1362.82 Q166.065 1362.82 168.357 1361.09 Q170.672 1359.35 170.672 1356.04 Q170.672 1352.99 168.519 1351.27 Q166.39 1349.54 162.57 1349.54 L158.542 1349.54 L158.542 1345.69 L162.755 1345.69 Q166.204 1345.69 168.033 1344.33 Q169.862 1342.94 169.862 1340.35 Q169.862 1337.69 167.964 1336.27 Q166.089 1334.84 162.57 1334.84 Q160.649 1334.84 158.45 1335.25 Q156.251 1335.67 153.612 1336.55 L153.612 1332.38 Q156.274 1331.64 158.589 1331.27 Q160.927 1330.9 162.987 1330.9 Q168.311 1330.9 171.413 1333.33 Q174.514 1335.74 174.514 1339.86 Q174.514 1342.73 172.871 1344.72 Q171.227 1346.69 168.195 1347.45 Z\" fill=\"#000000\" fill-rule=\"evenodd\" fill-opacity=\"1\" /><path clip-path=\"url(#clip620)\" d=\"M194.19 1334.61 Q190.579 1334.61 188.75 1338.17 Q186.945 1341.71 186.945 1348.84 Q186.945 1355.95 188.75 1359.51 Q190.579 1363.06 194.19 1363.06 Q197.825 1363.06 199.63 1359.51 Q201.459 1355.95 201.459 1348.84 Q201.459 1341.71 199.63 1338.17 Q197.825 1334.61 194.19 1334.61 M194.19 1330.9 Q200 1330.9 203.056 1335.51 Q206.135 1340.09 206.135 1348.84 Q206.135 1357.57 203.056 1362.18 Q200 1366.76 194.19 1366.76 Q188.38 1366.76 185.301 1362.18 Q182.246 1357.57 182.246 1348.84 Q182.246 1340.09 185.301 1335.51 Q188.38 1330.9 194.19 1330.9 Z\" fill=\"#000000\" fill-rule=\"evenodd\" fill-opacity=\"1\" /><path clip-path=\"url(#clip620)\" d=\"M114.26 1086.21 L143.936 1086.21 L143.936 1090.15 L114.26 1090.15 L114.26 1086.21 Z\" fill=\"#000000\" fill-rule=\"evenodd\" fill-opacity=\"1\" /><path clip-path=\"url(#clip620)\" d=\"M158.056 1099.11 L174.376 1099.11 L174.376 1103.04 L152.431 1103.04 L152.431 1099.11 Q155.093 1096.35 159.677 1091.72 Q164.283 1087.07 165.464 1085.73 Q167.709 1083.2 168.589 1081.47 Q169.491 1079.71 169.491 1078.02 Q169.491 1075.26 167.547 1073.53 Q165.626 1071.79 162.524 1071.79 Q160.325 1071.79 157.871 1072.56 Q155.44 1073.32 152.663 1074.87 L152.663 1070.15 Q155.487 1069.01 157.94 1068.44 Q160.394 1067.86 162.431 1067.86 Q167.802 1067.86 170.996 1070.54 Q174.19 1073.23 174.19 1077.72 Q174.19 1079.85 173.38 1081.77 Q172.593 1083.67 170.487 1086.26 Q169.908 1086.93 166.806 1090.15 Q163.704 1093.34 158.056 1099.11 Z\" fill=\"#000000\" fill-rule=\"evenodd\" fill-opacity=\"1\" /><path clip-path=\"url(#clip620)\" d=\"M194.19 1071.56 Q190.579 1071.56 188.75 1075.12 Q186.945 1078.67 186.945 1085.8 Q186.945 1092.9 188.75 1096.47 Q190.579 1100.01 194.19 1100.01 Q197.825 1100.01 199.63 1096.47 Q201.459 1092.9 201.459 1085.8 Q201.459 1078.67 199.63 1075.12 Q197.825 1071.56 194.19 1071.56 M194.19 1067.86 Q200 1067.86 203.056 1072.46 Q206.135 1077.05 206.135 1085.8 Q206.135 1094.52 203.056 1099.13 Q200 1103.71 194.19 1103.71 Q188.38 1103.71 185.301 1099.13 Q182.246 1094.52 182.246 1085.8 Q182.246 1077.05 185.301 1072.46 Q188.38 1067.86 194.19 1067.86 Z\" fill=\"#000000\" fill-rule=\"evenodd\" fill-opacity=\"1\" /><path clip-path=\"url(#clip620)\" d=\"M114.26 823.167 L143.936 823.167 L143.936 827.102 L114.26 827.102 L114.26 823.167 Z\" fill=\"#000000\" fill-rule=\"evenodd\" fill-opacity=\"1\" /><path clip-path=\"url(#clip620)\" d=\"M154.839 836.06 L162.477 836.06 L162.477 809.694 L154.167 811.361 L154.167 807.102 L162.431 805.435 L167.107 805.435 L167.107 836.06 L174.746 836.06 L174.746 839.995 L154.839 839.995 L154.839 836.06 Z\" fill=\"#000000\" fill-rule=\"evenodd\" fill-opacity=\"1\" /><path clip-path=\"url(#clip620)\" d=\"M194.19 808.514 Q190.579 808.514 188.75 812.079 Q186.945 815.62 186.945 822.75 Q186.945 829.856 188.75 833.421 Q190.579 836.963 194.19 836.963 Q197.825 836.963 199.63 833.421 Q201.459 829.856 201.459 822.75 Q201.459 815.62 199.63 812.079 Q197.825 808.514 194.19 808.514 M194.19 804.81 Q200 804.81 203.056 809.417 Q206.135 814 206.135 822.75 Q206.135 831.477 203.056 836.083 Q200 840.666 194.19 840.666 Q188.38 840.666 185.301 836.083 Q182.246 831.477 182.246 822.75 Q182.246 814 185.301 809.417 Q188.38 804.81 194.19 804.81 Z\" fill=\"#000000\" fill-rule=\"evenodd\" fill-opacity=\"1\" /><path clip-path=\"url(#clip620)\" d=\"M194.19 545.468 Q190.579 545.468 188.75 549.032 Q186.945 552.574 186.945 559.704 Q186.945 566.81 188.75 570.375 Q190.579 573.917 194.19 573.917 Q197.825 573.917 199.63 570.375 Q201.459 566.81 201.459 559.704 Q201.459 552.574 199.63 549.032 Q197.825 545.468 194.19 545.468 M194.19 541.764 Q200 541.764 203.056 546.37 Q206.135 550.954 206.135 559.704 Q206.135 568.43 203.056 573.037 Q200 577.62 194.19 577.62 Q188.38 577.62 185.301 573.037 Q182.246 568.43 182.246 559.704 Q182.246 550.954 185.301 546.37 Q188.38 541.764 194.19 541.764 Z\" fill=\"#000000\" fill-rule=\"evenodd\" fill-opacity=\"1\" /><path clip-path=\"url(#clip620)\" d=\"M154.839 309.968 L162.477 309.968 L162.477 283.602 L154.167 285.269 L154.167 281.009 L162.431 279.343 L167.107 279.343 L167.107 309.968 L174.746 309.968 L174.746 313.903 L154.839 313.903 L154.839 309.968 Z\" fill=\"#000000\" fill-rule=\"evenodd\" fill-opacity=\"1\" /><path clip-path=\"url(#clip620)\" d=\"M194.19 282.421 Q190.579 282.421 188.75 285.986 Q186.945 289.528 186.945 296.657 Q186.945 303.764 188.75 307.329 Q190.579 310.87 194.19 310.87 Q197.825 310.87 199.63 307.329 Q201.459 303.764 201.459 296.657 Q201.459 289.528 199.63 285.986 Q197.825 282.421 194.19 282.421 M194.19 278.718 Q200 278.718 203.056 283.324 Q206.135 287.907 206.135 296.657 Q206.135 305.384 203.056 309.991 Q200 314.574 194.19 314.574 Q188.38 314.574 185.301 309.991 Q182.246 305.384 182.246 296.657 Q182.246 287.907 185.301 283.324 Q188.38 278.718 194.19 278.718 Z\" fill=\"#000000\" fill-rule=\"evenodd\" fill-opacity=\"1\" /><path clip-path=\"url(#clip620)\" d=\"M21.7677 922.364 L39.6235 922.364 L39.6235 914.279 Q39.6235 909.791 37.3 907.341 Q34.9765 904.89 30.6797 904.89 Q26.4147 904.89 24.0912 907.341 Q21.7677 909.791 21.7677 914.279 L21.7677 922.364 M16.4842 928.793 L16.4842 914.279 Q16.4842 906.29 20.1126 902.216 Q23.7092 898.11 30.6797 898.11 Q37.7138 898.11 41.3104 902.216 Q44.907 906.29 44.907 914.279 L44.907 922.364 L64.0042 922.364 L64.0042 928.793 L16.4842 928.793 Z\" fill=\"#000000\" fill-rule=\"evenodd\" fill-opacity=\"1\" /><path clip-path=\"url(#clip620)\" d=\"M32.4621 878.249 Q32.4621 882.96 36.1542 885.697 Q39.8145 888.435 46.212 888.435 Q52.6095 888.435 56.3017 885.729 Q59.9619 882.992 59.9619 878.249 Q59.9619 873.571 56.2698 870.833 Q52.5777 868.096 46.212 868.096 Q39.8781 868.096 36.186 870.833 Q32.4621 873.571 32.4621 878.249 M27.4968 878.249 Q27.4968 870.611 32.4621 866.25 Q37.4273 861.89 46.212 861.89 Q54.9649 861.89 59.9619 866.25 Q64.9272 870.611 64.9272 878.249 Q64.9272 885.92 59.9619 890.281 Q54.9649 894.609 46.212 894.609 Q37.4273 894.609 32.4621 890.281 Q27.4968 885.92 27.4968 878.249 Z\" fill=\"#000000\" fill-rule=\"evenodd\" fill-opacity=\"1\" /><path clip-path=\"url(#clip620)\" d=\"M29.4065 829.456 L34.9447 829.456 Q33.6716 831.939 33.035 834.612 Q32.3984 837.286 32.3984 840.151 Q32.3984 844.511 33.7352 846.707 Q35.072 848.872 37.7456 848.872 Q39.7826 848.872 40.9603 847.312 Q42.1061 845.752 43.1565 841.042 L43.6021 839.037 Q44.9389 832.798 47.3897 830.188 Q49.8086 827.547 54.1691 827.547 Q59.1344 827.547 62.0308 831.493 Q64.9272 835.408 64.9272 842.283 Q64.9272 845.148 64.3543 848.267 Q63.8132 851.354 62.6992 854.792 L56.6518 854.792 Q58.3387 851.545 59.198 848.394 Q60.0256 845.243 60.0256 842.156 Q60.0256 838.018 58.6251 835.79 Q57.1929 833.562 54.6147 833.562 Q52.2276 833.562 50.9545 835.185 Q49.6813 836.777 48.5037 842.219 L48.0262 844.257 Q46.8804 849.699 44.5251 852.118 Q42.138 854.537 38.0002 854.537 Q32.9713 854.537 30.2341 850.972 Q27.4968 847.408 27.4968 840.851 Q27.4968 837.604 27.9743 834.74 Q28.4517 831.875 29.4065 829.456 Z\" fill=\"#000000\" fill-rule=\"evenodd\" fill-opacity=\"1\" /><path clip-path=\"url(#clip620)\" d=\"M28.3562 818.221 L28.3562 812.364 L64.0042 812.364 L64.0042 818.221 L28.3562 818.221 M14.479 818.221 L14.479 812.364 L21.895 812.364 L21.895 818.221 L14.479 818.221 Z\" fill=\"#000000\" fill-rule=\"evenodd\" fill-opacity=\"1\" /><path clip-path=\"url(#clip620)\" d=\"M29.7248 774.457 L35.1993 774.457 Q33.8307 776.939 33.1623 779.454 Q32.4621 781.936 32.4621 784.483 Q32.4621 790.18 36.0905 793.331 Q39.6872 796.482 46.212 796.482 Q52.7369 796.482 56.3653 793.331 Q59.9619 790.18 59.9619 784.483 Q59.9619 781.936 59.2935 779.454 Q58.5933 776.939 57.2247 774.457 L62.6355 774.457 Q63.7814 776.907 64.3543 779.549 Q64.9272 782.159 64.9272 785.119 Q64.9272 793.172 59.8664 797.914 Q54.8057 802.657 46.212 802.657 Q37.491 802.657 32.4939 797.882 Q27.4968 793.076 27.4968 784.737 Q27.4968 782.032 28.0697 779.454 Q28.6108 776.876 29.7248 774.457 Z\" fill=\"#000000\" fill-rule=\"evenodd\" fill-opacity=\"1\" /><path clip-path=\"url(#clip620)\" d=\"M28.3562 764.271 L28.3562 758.415 L64.0042 758.415 L64.0042 764.271 L28.3562 764.271 M14.479 764.271 L14.479 758.415 L21.895 758.415 L21.895 764.271 L14.479 764.271 Z\" fill=\"#000000\" fill-rule=\"evenodd\" fill-opacity=\"1\" /><path clip-path=\"url(#clip620)\" d=\"M32.4621 732.347 Q32.4621 737.058 36.1542 739.795 Q39.8145 742.533 46.212 742.533 Q52.6095 742.533 56.3017 739.827 Q59.9619 737.09 59.9619 732.347 Q59.9619 727.669 56.2698 724.931 Q52.5777 722.194 46.212 722.194 Q39.8781 722.194 36.186 724.931 Q32.4621 727.669 32.4621 732.347 M27.4968 732.347 Q27.4968 724.709 32.4621 720.348 Q37.4273 715.988 46.212 715.988 Q54.9649 715.988 59.9619 720.348 Q64.9272 724.709 64.9272 732.347 Q64.9272 740.018 59.9619 744.379 Q54.9649 748.707 46.212 748.707 Q37.4273 748.707 32.4621 744.379 Q27.4968 740.018 27.4968 732.347 M11.869 727.923 L11.869 721.589 L23.8365 731.965 L23.8365 736.835 L11.869 727.923 Z\" fill=\"#000000\" fill-rule=\"evenodd\" fill-opacity=\"1\" /><path clip-path=\"url(#clip620)\" d=\"M42.4881 676.647 L64.0042 676.647 L64.0042 682.504 L42.679 682.504 Q37.6183 682.504 35.1038 684.477 Q32.5894 686.451 32.5894 690.397 Q32.5894 695.14 35.6131 697.877 Q38.6368 700.614 43.8567 700.614 L64.0042 700.614 L64.0042 706.503 L28.3562 706.503 L28.3562 700.614 L33.8944 700.614 Q30.6797 698.514 29.0883 695.681 Q27.4968 692.816 27.4968 689.092 Q27.4968 682.95 31.3163 679.798 Q35.1038 676.647 42.4881 676.647 Z\" fill=\"#000000\" fill-rule=\"evenodd\" fill-opacity=\"1\" /><path clip-path=\"url(#clip620)\" d=\"M14.479 644.787 L14.479 631.292 L19.0304 631.292 L19.0304 638.931 L68.0464 638.931 L68.0464 631.292 L72.5979 631.292 L72.5979 644.787 L14.479 644.787 Z\" fill=\"#000000\" fill-rule=\"evenodd\" fill-opacity=\"1\" /><path clip-path=\"url(#clip620)\" d=\"M35.1993 591.061 Q31.2526 588.864 29.3747 585.809 Q27.4968 582.753 27.4968 578.616 Q27.4968 573.046 31.4117 570.022 Q35.2948 566.998 42.4881 566.998 L64.0042 566.998 L64.0042 572.886 L42.679 572.886 Q37.5546 572.886 35.072 574.701 Q32.5894 576.515 32.5894 580.239 Q32.5894 584.79 35.6131 587.432 Q38.6368 590.074 43.8567 590.074 L64.0042 590.074 L64.0042 595.962 L42.679 595.962 Q37.5228 595.962 35.072 597.776 Q32.5894 599.591 32.5894 603.378 Q32.5894 607.866 35.6449 610.508 Q38.6686 613.15 43.8567 613.15 L64.0042 613.15 L64.0042 619.038 L28.3562 619.038 L28.3562 613.15 L33.8944 613.15 Q30.616 611.144 29.0564 608.343 Q27.4968 605.543 27.4968 601.691 Q27.4968 597.808 29.4702 595.103 Q31.4436 592.366 35.1993 591.061 Z\" fill=\"#000000\" fill-rule=\"evenodd\" fill-opacity=\"1\" /><path clip-path=\"url(#clip620)\" d=\"M14.479 541.631 L72.5979 541.631 L72.5979 555.126 L68.0464 555.126 L68.0464 547.519 L19.0304 547.519 L19.0304 555.126 L14.479 555.126 L14.479 541.631 Z\" fill=\"#000000\" fill-rule=\"evenodd\" fill-opacity=\"1\" /><polyline clip-path=\"url(#clip622)\" style=\"stroke:#009af9; stroke-linecap:round; stroke-linejoin:round; stroke-width:4; stroke-opacity:1; fill:none\" points=\"301.869,980.543 341.692,970.021 381.515,959.499 421.338,948.977 461.161,938.456 500.984,927.934 540.807,917.412 580.631,906.89 620.454,896.368 660.277,885.846 700.1,875.324 739.923,864.803 779.746,854.281 819.569,843.759 859.392,833.237 899.215,822.715 939.038,812.193 978.861,801.671 1018.68,791.15 1058.51,780.628 1098.33,770.106 1138.15,759.584 1177.98,749.062 1217.8,738.54 1257.62,728.019 1297.45,717.497 1337.27,706.975 1377.09,696.453 1416.91,685.931 1456.74,675.409 1496.56,664.887 1536.38,654.366 1576.21,643.844 1616.03,633.322 1655.85,622.8 1695.68,612.278 1735.5,601.756 1775.32,591.234 1815.14,580.713 1854.97,570.191 1894.79,559.669 1934.61,549.147 1974.44,538.625 2014.26,528.103 2054.08,517.582 2093.91,507.06 2133.73,496.538 2173.55,486.016 2213.38,475.494 2253.2,464.972 2293.02,454.45 \"/>\n",
       "<polyline clip-path=\"url(#clip622)\" style=\"stroke:#e26f46; stroke-linecap:round; stroke-linejoin:round; stroke-width:4; stroke-opacity:1; fill:none\" points=\"301.869,86.1857 341.692,117.62 381.515,148.794 421.338,179.71 461.161,210.371 500.984,240.779 540.807,270.937 580.631,300.848 620.454,330.513 660.277,359.935 700.1,389.117 739.923,418.06 779.746,446.768 819.569,475.243 859.392,503.487 899.215,531.502 939.038,559.291 978.861,586.855 1018.68,614.198 1058.51,641.321 1098.33,668.226 1138.15,694.916 1177.98,721.393 1217.8,747.659 1257.62,773.715 1297.45,799.565 1337.27,825.21 1377.09,850.652 1416.91,875.893 1456.74,900.936 1496.56,925.781 1536.38,950.432 1576.21,974.89 1616.03,999.157 1655.85,1023.23 1695.68,1047.12 1735.5,1070.83 1775.32,1094.35 1815.14,1117.69 1854.97,1140.85 1894.79,1163.83 1934.61,1186.64 1974.44,1209.27 2014.26,1231.73 2054.08,1254.02 2093.91,1276.13 2133.73,1298.08 2173.55,1319.87 2213.38,1341.49 2253.2,1362.94 2293.02,1384.24 \"/>\n",
       "<path clip-path=\"url(#clip620)\" d=\"M2026.47 248.629 L2282.4 248.629 L2282.4 93.1086 L2026.47 93.1086  Z\" fill=\"#ffffff\" fill-rule=\"evenodd\" fill-opacity=\"1\"/>\n",
       "<polyline clip-path=\"url(#clip620)\" style=\"stroke:#000000; stroke-linecap:round; stroke-linejoin:round; stroke-width:4; stroke-opacity:1; fill:none\" points=\"2026.47,248.629 2282.4,248.629 2282.4,93.1086 2026.47,93.1086 2026.47,248.629 \"/>\n",
       "<polyline clip-path=\"url(#clip620)\" style=\"stroke:#009af9; stroke-linecap:round; stroke-linejoin:round; stroke-width:4; stroke-opacity:1; fill:none\" points=\"2049.92,144.949 2190.63,144.949 \"/>\n",
       "<path clip-path=\"url(#clip620)\" d=\"M2237.97 130.495 Q2237.97 131.807 2237.16 132.557 Q2236.34 133.283 2235.4 133.283 Q2234.51 133.283 2234.04 132.767 Q2233.57 132.252 2233.57 131.596 Q2233.57 130.706 2234.23 129.933 Q2234.88 129.16 2235.87 128.996 Q2234.91 128.387 2233.48 128.387 Q2232.54 128.387 2231.72 128.879 Q2230.92 129.371 2230.43 130.003 Q2229.96 130.636 2229.54 131.549 Q2229.14 132.439 2228.98 132.978 Q2228.84 133.493 2228.72 134.056 L2227.08 140.614 Q2226.29 143.729 2226.29 144.83 Q2226.29 146.188 2226.94 147.102 Q2227.6 147.992 2228.91 147.992 Q2229.43 147.992 2230.01 147.851 Q2230.6 147.687 2231.35 147.266 Q2232.12 146.821 2232.8 146.165 Q2233.5 145.486 2234.18 144.338 Q2234.86 143.19 2235.3 141.715 Q2235.45 141.199 2235.91 141.199 Q2236.5 141.199 2236.5 141.668 Q2236.5 142.066 2236.17 142.909 Q2235.87 143.729 2235.19 144.806 Q2234.53 145.86 2233.67 146.821 Q2232.8 147.758 2231.51 148.414 Q2230.22 149.069 2228.82 149.069 Q2226.8 149.069 2225.47 147.992 Q2224.13 146.915 2223.64 145.415 Q2223.52 145.626 2223.36 145.907 Q2223.2 146.188 2222.7 146.821 Q2222.23 147.43 2221.7 147.898 Q2221.16 148.343 2220.31 148.695 Q2219.49 149.069 2218.6 149.069 Q2217.48 149.069 2216.47 148.741 Q2215.49 148.414 2214.79 147.664 Q2214.08 146.915 2214.08 145.884 Q2214.08 144.736 2214.86 143.94 Q2215.65 143.12 2216.73 143.12 Q2217.41 143.12 2217.95 143.518 Q2218.51 143.916 2218.51 144.783 Q2218.51 145.743 2217.85 146.469 Q2217.2 147.196 2216.26 147.383 Q2217.22 147.992 2218.65 147.992 Q2220.2 147.992 2221.42 146.633 Q2222.63 145.275 2223.22 143.003 Q2224.67 137.546 2225.23 135.11 Q2225.8 132.65 2225.8 131.596 Q2225.8 130.612 2225.54 129.933 Q2225.28 129.254 2224.83 128.949 Q2224.41 128.622 2224.02 128.504 Q2223.64 128.387 2223.22 128.387 Q2222.52 128.387 2221.72 128.668 Q2220.95 128.949 2220.01 129.605 Q2219.1 130.238 2218.23 131.549 Q2217.36 132.861 2216.78 134.665 Q2216.66 135.203 2216.15 135.203 Q2215.58 135.18 2215.58 134.711 Q2215.58 134.313 2215.89 133.493 Q2216.22 132.65 2216.87 131.596 Q2217.55 130.542 2218.42 129.605 Q2219.31 128.645 2220.6 127.989 Q2221.91 127.333 2223.31 127.333 Q2223.94 127.333 2224.55 127.474 Q2225.19 127.591 2225.94 127.942 Q2226.71 128.294 2227.39 129.067 Q2228.07 129.84 2228.49 130.964 Q2228.77 130.425 2229.14 129.91 Q2229.54 129.395 2230.15 128.762 Q2230.78 128.106 2231.65 127.732 Q2232.54 127.333 2233.52 127.333 Q2234.48 127.333 2235.42 127.591 Q2236.36 127.825 2237.16 128.598 Q2237.97 129.348 2237.97 130.495 Z\" fill=\"#000000\" fill-rule=\"evenodd\" fill-opacity=\"1\" /><path clip-path=\"url(#clip620)\" d=\"M2242.86 143.184 L2242.86 142.135 Q2246.89 142.135 2248.98 139.987 Q2249.55 139.987 2249.65 140.118 Q2249.75 140.25 2249.75 140.856 L2249.75 159.695 Q2249.75 160.695 2250.24 161.007 Q2250.73 161.318 2252.88 161.318 L2253.94 161.318 L2253.94 162.351 Q2252.76 162.253 2248.5 162.253 Q2244.24 162.253 2243.07 162.351 L2243.07 161.318 L2244.14 161.318 Q2246.25 161.318 2246.76 161.023 Q2247.27 160.711 2247.27 159.695 L2247.27 142.299 Q2245.52 143.184 2242.86 143.184 Z\" fill=\"#000000\" fill-rule=\"evenodd\" fill-opacity=\"1\" /><polyline clip-path=\"url(#clip620)\" style=\"stroke:#e26f46; stroke-linecap:round; stroke-linejoin:round; stroke-width:4; stroke-opacity:1; fill:none\" points=\"2049.92,196.789 2190.63,196.789 \"/>\n",
       "<path clip-path=\"url(#clip620)\" d=\"M2237.97 182.335 Q2237.97 183.647 2237.16 184.397 Q2236.34 185.123 2235.4 185.123 Q2234.51 185.123 2234.04 184.607 Q2233.57 184.092 2233.57 183.436 Q2233.57 182.546 2234.23 181.773 Q2234.88 181 2235.87 180.836 Q2234.91 180.227 2233.48 180.227 Q2232.54 180.227 2231.72 180.719 Q2230.92 181.211 2230.43 181.843 Q2229.96 182.476 2229.54 183.389 Q2229.14 184.279 2228.98 184.818 Q2228.84 185.333 2228.72 185.896 L2227.08 192.454 Q2226.29 195.569 2226.29 196.67 Q2226.29 198.028 2226.94 198.942 Q2227.6 199.832 2228.91 199.832 Q2229.43 199.832 2230.01 199.691 Q2230.6 199.527 2231.35 199.106 Q2232.12 198.661 2232.8 198.005 Q2233.5 197.326 2234.18 196.178 Q2234.86 195.03 2235.3 193.555 Q2235.45 193.039 2235.91 193.039 Q2236.5 193.039 2236.5 193.508 Q2236.5 193.906 2236.17 194.749 Q2235.87 195.569 2235.19 196.646 Q2234.53 197.7 2233.67 198.661 Q2232.8 199.598 2231.51 200.254 Q2230.22 200.909 2228.82 200.909 Q2226.8 200.909 2225.47 199.832 Q2224.13 198.755 2223.64 197.255 Q2223.52 197.466 2223.36 197.747 Q2223.2 198.028 2222.7 198.661 Q2222.23 199.27 2221.7 199.738 Q2221.16 200.183 2220.31 200.535 Q2219.49 200.909 2218.6 200.909 Q2217.48 200.909 2216.47 200.581 Q2215.49 200.254 2214.79 199.504 Q2214.08 198.755 2214.08 197.724 Q2214.08 196.576 2214.86 195.78 Q2215.65 194.96 2216.73 194.96 Q2217.41 194.96 2217.95 195.358 Q2218.51 195.756 2218.51 196.623 Q2218.51 197.583 2217.85 198.309 Q2217.2 199.036 2216.26 199.223 Q2217.22 199.832 2218.65 199.832 Q2220.2 199.832 2221.42 198.473 Q2222.63 197.115 2223.22 194.843 Q2224.67 189.386 2225.23 186.95 Q2225.8 184.49 2225.8 183.436 Q2225.8 182.452 2225.54 181.773 Q2225.28 181.094 2224.83 180.789 Q2224.41 180.462 2224.02 180.344 Q2223.64 180.227 2223.22 180.227 Q2222.52 180.227 2221.72 180.508 Q2220.95 180.789 2220.01 181.445 Q2219.1 182.078 2218.23 183.389 Q2217.36 184.701 2216.78 186.505 Q2216.66 187.043 2216.15 187.043 Q2215.58 187.02 2215.58 186.551 Q2215.58 186.153 2215.89 185.333 Q2216.22 184.49 2216.87 183.436 Q2217.55 182.382 2218.42 181.445 Q2219.31 180.485 2220.6 179.829 Q2221.91 179.173 2223.31 179.173 Q2223.94 179.173 2224.55 179.314 Q2225.19 179.431 2225.94 179.782 Q2226.71 180.134 2227.39 180.907 Q2228.07 181.68 2228.49 182.804 Q2228.77 182.265 2229.14 181.75 Q2229.54 181.235 2230.15 180.602 Q2230.78 179.946 2231.65 179.572 Q2232.54 179.173 2233.52 179.173 Q2234.48 179.173 2235.42 179.431 Q2236.36 179.665 2237.16 180.438 Q2237.97 181.188 2237.97 182.335 Z\" fill=\"#000000\" fill-rule=\"evenodd\" fill-opacity=\"1\" /><path clip-path=\"url(#clip620)\" d=\"M2242.86 195.024 L2242.86 193.975 Q2246.89 193.975 2248.98 191.827 Q2249.55 191.827 2249.65 191.958 Q2249.75 192.09 2249.75 192.696 L2249.75 211.535 Q2249.75 212.535 2250.24 212.847 Q2250.73 213.158 2252.88 213.158 L2253.94 213.158 L2253.94 214.191 Q2252.76 214.093 2248.5 214.093 Q2244.24 214.093 2243.07 214.191 L2243.07 213.158 L2244.14 213.158 Q2246.25 213.158 2246.76 212.863 Q2247.27 212.551 2247.27 211.535 L2247.27 194.139 Q2245.52 195.024 2242.86 195.024 Z\" fill=\"#000000\" fill-rule=\"evenodd\" fill-opacity=\"1\" /></svg>\n"
      ]
     },
     "execution_count": 56,
     "metadata": {},
     "output_type": "execute_result"
    }
   ],
   "source": [
    "plot(t,x1.(t), label=L\"x_1\")\n",
    "plot!(t,x2.(t), label=L\"x_1\")\n",
    "\n",
    "plot!(xlabel=\"Tiempo [s]\")\n",
    "plot!(ylabel=\"Posición [m]\")"
   ]
  },
  {
   "cell_type": "code",
   "execution_count": 10,
   "metadata": {},
   "outputs": [
    {
     "data": {
      "text/plain": [
       "f (generic function with 1 method)"
      ]
     },
     "execution_count": 10,
     "metadata": {},
     "output_type": "execute_result"
    }
   ],
   "source": [
    "function f(t)\n",
    "    return x1(t) - x2(t)\n",
    "end"
   ]
  },
  {
   "cell_type": "code",
   "execution_count": 11,
   "metadata": {},
   "outputs": [
    {
     "data": {
      "text/plain": [
       "df (generic function with 1 method)"
      ]
     },
     "execution_count": 11,
     "metadata": {},
     "output_type": "execute_result"
    }
   ],
   "source": [
    "function df(t;v10=v1_0,v20=v2_0)\n",
    "    return v1_0 - v2(t,v2_0)\n",
    "end"
   ]
  },
  {
   "cell_type": "code",
   "execution_count": 54,
   "metadata": {},
   "outputs": [
    {
     "data": {
      "image/svg+xml": [
       "<?xml version=\"1.0\" encoding=\"utf-8\"?>\n",
       "<svg xmlns=\"http://www.w3.org/2000/svg\" xmlns:xlink=\"http://www.w3.org/1999/xlink\" width=\"600\" height=\"400\" viewBox=\"0 0 2400 1600\">\n",
       "<defs>\n",
       "  <clipPath id=\"clip540\">\n",
       "    <rect x=\"0\" y=\"0\" width=\"2400\" height=\"1600\"/>\n",
       "  </clipPath>\n",
       "</defs>\n",
       "<path clip-path=\"url(#clip540)\" d=\"M0 1600 L2400 1600 L2400 0 L0 0  Z\" fill=\"#ffffff\" fill-rule=\"evenodd\" fill-opacity=\"1\"/>\n",
       "<defs>\n",
       "  <clipPath id=\"clip541\">\n",
       "    <rect x=\"480\" y=\"0\" width=\"1681\" height=\"1600\"/>\n",
       "  </clipPath>\n",
       "</defs>\n",
       "<defs>\n",
       "  <clipPath id=\"clip542\">\n",
       "    <rect x=\"242\" y=\"47\" width=\"2112\" height=\"1377\"/>\n",
       "  </clipPath>\n",
       "</defs>\n",
       "<path clip-path=\"url(#clip540)\" d=\"M242.135 1423.18 L2352.76 1423.18 L2352.76 47.2441 L242.135 47.2441  Z\" fill=\"#ffffff\" fill-rule=\"evenodd\" fill-opacity=\"1\"/>\n",
       "<polyline clip-path=\"url(#clip542)\" style=\"stroke:#000000; stroke-linecap:round; stroke-linejoin:round; stroke-width:2; stroke-opacity:0.1; fill:none\" points=\"301.869,1423.18 301.869,47.2441 \"/>\n",
       "<polyline clip-path=\"url(#clip542)\" style=\"stroke:#000000; stroke-linecap:round; stroke-linejoin:round; stroke-width:2; stroke-opacity:0.1; fill:none\" points=\"700.1,1423.18 700.1,47.2441 \"/>\n",
       "<polyline clip-path=\"url(#clip542)\" style=\"stroke:#000000; stroke-linecap:round; stroke-linejoin:round; stroke-width:2; stroke-opacity:0.1; fill:none\" points=\"1098.33,1423.18 1098.33,47.2441 \"/>\n",
       "<polyline clip-path=\"url(#clip542)\" style=\"stroke:#000000; stroke-linecap:round; stroke-linejoin:round; stroke-width:2; stroke-opacity:0.1; fill:none\" points=\"1496.56,1423.18 1496.56,47.2441 \"/>\n",
       "<polyline clip-path=\"url(#clip542)\" style=\"stroke:#000000; stroke-linecap:round; stroke-linejoin:round; stroke-width:2; stroke-opacity:0.1; fill:none\" points=\"1894.79,1423.18 1894.79,47.2441 \"/>\n",
       "<polyline clip-path=\"url(#clip542)\" style=\"stroke:#000000; stroke-linecap:round; stroke-linejoin:round; stroke-width:2; stroke-opacity:0.1; fill:none\" points=\"2293.02,1423.18 2293.02,47.2441 \"/>\n",
       "<polyline clip-path=\"url(#clip540)\" style=\"stroke:#000000; stroke-linecap:round; stroke-linejoin:round; stroke-width:4; stroke-opacity:1; fill:none\" points=\"242.135,1423.18 2352.76,1423.18 \"/>\n",
       "<polyline clip-path=\"url(#clip540)\" style=\"stroke:#000000; stroke-linecap:round; stroke-linejoin:round; stroke-width:4; stroke-opacity:1; fill:none\" points=\"301.869,1423.18 301.869,1404.28 \"/>\n",
       "<polyline clip-path=\"url(#clip540)\" style=\"stroke:#000000; stroke-linecap:round; stroke-linejoin:round; stroke-width:4; stroke-opacity:1; fill:none\" points=\"700.1,1423.18 700.1,1404.28 \"/>\n",
       "<polyline clip-path=\"url(#clip540)\" style=\"stroke:#000000; stroke-linecap:round; stroke-linejoin:round; stroke-width:4; stroke-opacity:1; fill:none\" points=\"1098.33,1423.18 1098.33,1404.28 \"/>\n",
       "<polyline clip-path=\"url(#clip540)\" style=\"stroke:#000000; stroke-linecap:round; stroke-linejoin:round; stroke-width:4; stroke-opacity:1; fill:none\" points=\"1496.56,1423.18 1496.56,1404.28 \"/>\n",
       "<polyline clip-path=\"url(#clip540)\" style=\"stroke:#000000; stroke-linecap:round; stroke-linejoin:round; stroke-width:4; stroke-opacity:1; fill:none\" points=\"1894.79,1423.18 1894.79,1404.28 \"/>\n",
       "<polyline clip-path=\"url(#clip540)\" style=\"stroke:#000000; stroke-linecap:round; stroke-linejoin:round; stroke-width:4; stroke-opacity:1; fill:none\" points=\"2293.02,1423.18 2293.02,1404.28 \"/>\n",
       "<path clip-path=\"url(#clip540)\" d=\"M301.869 1454.1 Q298.258 1454.1 296.429 1457.66 Q294.624 1461.2 294.624 1468.33 Q294.624 1475.44 296.429 1479.01 Q298.258 1482.55 301.869 1482.55 Q305.503 1482.55 307.309 1479.01 Q309.138 1475.44 309.138 1468.33 Q309.138 1461.2 307.309 1457.66 Q305.503 1454.1 301.869 1454.1 M301.869 1450.39 Q307.679 1450.39 310.735 1455 Q313.814 1459.58 313.814 1468.33 Q313.814 1477.06 310.735 1481.67 Q307.679 1486.25 301.869 1486.25 Q296.059 1486.25 292.98 1481.67 Q289.925 1477.06 289.925 1468.33 Q289.925 1459.58 292.98 1455 Q296.059 1450.39 301.869 1450.39 Z\" fill=\"#000000\" fill-rule=\"evenodd\" fill-opacity=\"1\" /><path clip-path=\"url(#clip540)\" d=\"M690.482 1481.64 L698.12 1481.64 L698.12 1455.28 L689.81 1456.95 L689.81 1452.69 L698.074 1451.02 L702.75 1451.02 L702.75 1481.64 L710.389 1481.64 L710.389 1485.58 L690.482 1485.58 L690.482 1481.64 Z\" fill=\"#000000\" fill-rule=\"evenodd\" fill-opacity=\"1\" /><path clip-path=\"url(#clip540)\" d=\"M1092.98 1481.64 L1109.3 1481.64 L1109.3 1485.58 L1087.36 1485.58 L1087.36 1481.64 Q1090.02 1478.89 1094.6 1474.26 Q1099.21 1469.61 1100.39 1468.27 Q1102.64 1465.74 1103.52 1464.01 Q1104.42 1462.25 1104.42 1460.56 Q1104.42 1457.8 1102.47 1456.07 Q1100.55 1454.33 1097.45 1454.33 Q1095.25 1454.33 1092.8 1455.09 Q1090.37 1455.86 1087.59 1457.41 L1087.59 1452.69 Q1090.41 1451.55 1092.87 1450.97 Q1095.32 1450.39 1097.36 1450.39 Q1102.73 1450.39 1105.92 1453.08 Q1109.12 1455.77 1109.12 1460.26 Q1109.12 1462.39 1108.31 1464.31 Q1107.52 1466.2 1105.41 1468.8 Q1104.83 1469.47 1101.73 1472.69 Q1098.63 1475.88 1092.98 1481.64 Z\" fill=\"#000000\" fill-rule=\"evenodd\" fill-opacity=\"1\" /><path clip-path=\"url(#clip540)\" d=\"M1500.81 1466.95 Q1504.16 1467.66 1506.04 1469.93 Q1507.94 1472.2 1507.94 1475.53 Q1507.94 1480.65 1504.42 1483.45 Q1500.9 1486.25 1494.42 1486.25 Q1492.24 1486.25 1489.93 1485.81 Q1487.64 1485.39 1485.18 1484.54 L1485.18 1480.02 Q1487.13 1481.16 1489.44 1481.74 Q1491.76 1482.32 1494.28 1482.32 Q1498.68 1482.32 1500.97 1480.58 Q1503.28 1478.84 1503.28 1475.53 Q1503.28 1472.48 1501.13 1470.77 Q1499 1469.03 1495.18 1469.03 L1491.16 1469.03 L1491.16 1465.19 L1495.37 1465.19 Q1498.82 1465.19 1500.65 1463.82 Q1502.47 1462.43 1502.47 1459.84 Q1502.47 1457.18 1500.58 1455.77 Q1498.7 1454.33 1495.18 1454.33 Q1493.26 1454.33 1491.06 1454.75 Q1488.86 1455.16 1486.22 1456.04 L1486.22 1451.88 Q1488.89 1451.14 1491.2 1450.77 Q1493.54 1450.39 1495.6 1450.39 Q1500.92 1450.39 1504.03 1452.83 Q1507.13 1455.23 1507.13 1459.35 Q1507.13 1462.22 1505.48 1464.21 Q1503.84 1466.18 1500.81 1466.95 Z\" fill=\"#000000\" fill-rule=\"evenodd\" fill-opacity=\"1\" /><path clip-path=\"url(#clip540)\" d=\"M1897.8 1455.09 L1885.99 1473.54 L1897.8 1473.54 L1897.8 1455.09 M1896.57 1451.02 L1902.45 1451.02 L1902.45 1473.54 L1907.38 1473.54 L1907.38 1477.43 L1902.45 1477.43 L1902.45 1485.58 L1897.8 1485.58 L1897.8 1477.43 L1882.2 1477.43 L1882.2 1472.92 L1896.57 1451.02 Z\" fill=\"#000000\" fill-rule=\"evenodd\" fill-opacity=\"1\" /><path clip-path=\"url(#clip540)\" d=\"M2283.3 1451.02 L2301.66 1451.02 L2301.66 1454.96 L2287.58 1454.96 L2287.58 1463.43 Q2288.6 1463.08 2289.62 1462.92 Q2290.64 1462.73 2291.66 1462.73 Q2297.44 1462.73 2300.82 1465.9 Q2304.2 1469.08 2304.2 1474.49 Q2304.2 1480.07 2300.73 1483.17 Q2297.26 1486.25 2290.94 1486.25 Q2288.76 1486.25 2286.49 1485.88 Q2284.25 1485.51 2281.84 1484.77 L2281.84 1480.07 Q2283.92 1481.2 2286.15 1481.76 Q2288.37 1482.32 2290.85 1482.32 Q2294.85 1482.32 2297.19 1480.21 Q2299.53 1478.1 2299.53 1474.49 Q2299.53 1470.88 2297.19 1468.77 Q2294.85 1466.67 2290.85 1466.67 Q2288.97 1466.67 2287.1 1467.08 Q2285.24 1467.5 2283.3 1468.38 L2283.3 1451.02 Z\" fill=\"#000000\" fill-rule=\"evenodd\" fill-opacity=\"1\" /><path clip-path=\"url(#clip540)\" d=\"M1126.99 1520.52 L1167.19 1520.52 L1167.19 1525.93 L1150.32 1525.93 L1150.32 1568.04 L1143.86 1568.04 L1143.86 1525.93 L1126.99 1525.93 L1126.99 1520.52 Z\" fill=\"#000000\" fill-rule=\"evenodd\" fill-opacity=\"1\" /><path clip-path=\"url(#clip540)\" d=\"M1171.13 1532.4 L1176.99 1532.4 L1176.99 1568.04 L1171.13 1568.04 L1171.13 1532.4 M1171.13 1518.52 L1176.99 1518.52 L1176.99 1525.93 L1171.13 1525.93 L1171.13 1518.52 Z\" fill=\"#000000\" fill-rule=\"evenodd\" fill-opacity=\"1\" /><path clip-path=\"url(#clip540)\" d=\"M1219.74 1548.76 L1219.74 1551.62 L1192.81 1551.62 Q1193.19 1557.67 1196.44 1560.85 Q1199.72 1564 1205.54 1564 Q1208.91 1564 1212.07 1563.17 Q1215.25 1562.35 1218.37 1560.69 L1218.37 1566.23 Q1215.22 1567.57 1211.91 1568.27 Q1208.6 1568.97 1205.19 1568.97 Q1196.66 1568.97 1191.66 1564 Q1186.7 1559.04 1186.7 1550.57 Q1186.7 1541.82 1191.41 1536.69 Q1196.15 1531.54 1204.17 1531.54 Q1211.37 1531.54 1215.53 1536.18 Q1219.74 1540.8 1219.74 1548.76 M1213.88 1547.04 Q1213.82 1542.23 1211.17 1539.37 Q1208.56 1536.5 1204.24 1536.5 Q1199.33 1536.5 1196.37 1539.27 Q1193.45 1542.04 1193 1547.07 L1213.88 1547.04 Z\" fill=\"#000000\" fill-rule=\"evenodd\" fill-opacity=\"1\" /><path clip-path=\"url(#clip540)\" d=\"M1257.1 1539.24 Q1259.3 1535.29 1262.35 1533.41 Q1265.41 1531.54 1269.55 1531.54 Q1275.12 1531.54 1278.14 1535.45 Q1281.16 1539.33 1281.16 1546.53 L1281.16 1568.04 L1275.28 1568.04 L1275.28 1546.72 Q1275.28 1541.59 1273.46 1539.11 Q1271.65 1536.63 1267.92 1536.63 Q1263.37 1536.63 1260.73 1539.65 Q1258.09 1542.68 1258.09 1547.9 L1258.09 1568.04 L1252.2 1568.04 L1252.2 1546.72 Q1252.2 1541.56 1250.39 1539.11 Q1248.57 1536.63 1244.78 1536.63 Q1240.3 1536.63 1237.66 1539.68 Q1235.01 1542.71 1235.01 1547.9 L1235.01 1568.04 L1229.13 1568.04 L1229.13 1532.4 L1235.01 1532.4 L1235.01 1537.93 Q1237.02 1534.66 1239.82 1533.1 Q1242.62 1531.54 1246.47 1531.54 Q1250.35 1531.54 1253.06 1533.51 Q1255.8 1535.48 1257.1 1539.24 Z\" fill=\"#000000\" fill-rule=\"evenodd\" fill-opacity=\"1\" /><path clip-path=\"url(#clip540)\" d=\"M1298.51 1562.7 L1298.51 1581.6 L1292.62 1581.6 L1292.62 1532.4 L1298.51 1532.4 L1298.51 1537.81 Q1300.36 1534.62 1303.16 1533.1 Q1305.99 1531.54 1309.91 1531.54 Q1316.4 1531.54 1320.44 1536.69 Q1324.52 1541.85 1324.52 1550.25 Q1324.52 1558.65 1320.44 1563.81 Q1316.4 1568.97 1309.91 1568.97 Q1305.99 1568.97 1303.16 1567.44 Q1300.36 1565.88 1298.51 1562.7 M1318.44 1550.25 Q1318.44 1543.79 1315.76 1540.13 Q1313.12 1536.44 1308.47 1536.44 Q1303.83 1536.44 1301.15 1540.13 Q1298.51 1543.79 1298.51 1550.25 Q1298.51 1556.71 1301.15 1560.4 Q1303.83 1564.07 1308.47 1564.07 Q1313.12 1564.07 1315.76 1560.4 Q1318.44 1556.71 1318.44 1550.25 Z\" fill=\"#000000\" fill-rule=\"evenodd\" fill-opacity=\"1\" /><path clip-path=\"url(#clip540)\" d=\"M1348.04 1536.5 Q1343.33 1536.5 1340.59 1540.19 Q1337.85 1543.85 1337.85 1550.25 Q1337.85 1556.65 1340.56 1560.34 Q1343.29 1564 1348.04 1564 Q1352.72 1564 1355.45 1560.31 Q1358.19 1556.62 1358.19 1550.25 Q1358.19 1543.92 1355.45 1540.23 Q1352.72 1536.5 1348.04 1536.5 M1348.04 1531.54 Q1355.68 1531.54 1360.04 1536.5 Q1364.4 1541.47 1364.4 1550.25 Q1364.4 1559 1360.04 1564 Q1355.68 1568.97 1348.04 1568.97 Q1340.37 1568.97 1336.01 1564 Q1331.68 1559 1331.68 1550.25 Q1331.68 1541.47 1336.01 1536.5 Q1340.37 1531.54 1348.04 1531.54 Z\" fill=\"#000000\" fill-rule=\"evenodd\" fill-opacity=\"1\" /><path clip-path=\"url(#clip540)\" d=\"M1394.28 1518.52 L1407.78 1518.52 L1407.78 1523.07 L1400.14 1523.07 L1400.14 1572.09 L1407.78 1572.09 L1407.78 1576.64 L1394.28 1576.64 L1394.28 1518.52 Z\" fill=\"#000000\" fill-rule=\"evenodd\" fill-opacity=\"1\" /><path clip-path=\"url(#clip540)\" d=\"M1442.98 1533.45 L1442.98 1538.98 Q1440.5 1537.71 1437.83 1537.07 Q1435.15 1536.44 1432.29 1536.44 Q1427.93 1536.44 1425.73 1537.77 Q1423.57 1539.11 1423.57 1541.79 Q1423.57 1543.82 1425.13 1545 Q1426.69 1546.15 1431.4 1547.2 L1433.4 1547.64 Q1439.64 1548.98 1442.25 1551.43 Q1444.89 1553.85 1444.89 1558.21 Q1444.89 1563.17 1440.94 1566.07 Q1437.03 1568.97 1430.15 1568.97 Q1427.29 1568.97 1424.17 1568.39 Q1421.08 1567.85 1417.65 1566.74 L1417.65 1560.69 Q1420.89 1562.38 1424.04 1563.24 Q1427.19 1564.07 1430.28 1564.07 Q1434.42 1564.07 1436.65 1562.66 Q1438.88 1561.23 1438.88 1558.65 Q1438.88 1556.27 1437.25 1554.99 Q1435.66 1553.72 1430.22 1552.54 L1428.18 1552.07 Q1422.74 1550.92 1420.32 1548.56 Q1417.9 1546.18 1417.9 1542.04 Q1417.9 1537.01 1421.47 1534.27 Q1425.03 1531.54 1431.59 1531.54 Q1434.83 1531.54 1437.7 1532.01 Q1440.56 1532.49 1442.98 1533.45 Z\" fill=\"#000000\" fill-rule=\"evenodd\" fill-opacity=\"1\" /><path clip-path=\"url(#clip540)\" d=\"M1467.9 1518.52 L1467.9 1576.64 L1454.41 1576.64 L1454.41 1572.09 L1462.01 1572.09 L1462.01 1523.07 L1454.41 1523.07 L1454.41 1518.52 L1467.9 1518.52 Z\" fill=\"#000000\" fill-rule=\"evenodd\" fill-opacity=\"1\" /><polyline clip-path=\"url(#clip542)\" style=\"stroke:#000000; stroke-linecap:round; stroke-linejoin:round; stroke-width:2; stroke-opacity:0.1; fill:none\" points=\"242.135,1309.37 2352.76,1309.37 \"/>\n",
       "<polyline clip-path=\"url(#clip542)\" style=\"stroke:#000000; stroke-linecap:round; stroke-linejoin:round; stroke-width:2; stroke-opacity:0.1; fill:none\" points=\"242.135,1122.18 2352.76,1122.18 \"/>\n",
       "<polyline clip-path=\"url(#clip542)\" style=\"stroke:#000000; stroke-linecap:round; stroke-linejoin:round; stroke-width:2; stroke-opacity:0.1; fill:none\" points=\"242.135,935 2352.76,935 \"/>\n",
       "<polyline clip-path=\"url(#clip542)\" style=\"stroke:#000000; stroke-linecap:round; stroke-linejoin:round; stroke-width:2; stroke-opacity:0.1; fill:none\" points=\"242.135,747.818 2352.76,747.818 \"/>\n",
       "<polyline clip-path=\"url(#clip542)\" style=\"stroke:#000000; stroke-linecap:round; stroke-linejoin:round; stroke-width:2; stroke-opacity:0.1; fill:none\" points=\"242.135,560.636 2352.76,560.636 \"/>\n",
       "<polyline clip-path=\"url(#clip542)\" style=\"stroke:#000000; stroke-linecap:round; stroke-linejoin:round; stroke-width:2; stroke-opacity:0.1; fill:none\" points=\"242.135,373.453 2352.76,373.453 \"/>\n",
       "<polyline clip-path=\"url(#clip542)\" style=\"stroke:#000000; stroke-linecap:round; stroke-linejoin:round; stroke-width:2; stroke-opacity:0.1; fill:none\" points=\"242.135,186.271 2352.76,186.271 \"/>\n",
       "<polyline clip-path=\"url(#clip540)\" style=\"stroke:#000000; stroke-linecap:round; stroke-linejoin:round; stroke-width:4; stroke-opacity:1; fill:none\" points=\"242.135,1423.18 242.135,47.2441 \"/>\n",
       "<polyline clip-path=\"url(#clip540)\" style=\"stroke:#000000; stroke-linecap:round; stroke-linejoin:round; stroke-width:4; stroke-opacity:1; fill:none\" points=\"242.135,1309.37 261.032,1309.37 \"/>\n",
       "<polyline clip-path=\"url(#clip540)\" style=\"stroke:#000000; stroke-linecap:round; stroke-linejoin:round; stroke-width:4; stroke-opacity:1; fill:none\" points=\"242.135,1122.18 261.032,1122.18 \"/>\n",
       "<polyline clip-path=\"url(#clip540)\" style=\"stroke:#000000; stroke-linecap:round; stroke-linejoin:round; stroke-width:4; stroke-opacity:1; fill:none\" points=\"242.135,935 261.032,935 \"/>\n",
       "<polyline clip-path=\"url(#clip540)\" style=\"stroke:#000000; stroke-linecap:round; stroke-linejoin:round; stroke-width:4; stroke-opacity:1; fill:none\" points=\"242.135,747.818 261.032,747.818 \"/>\n",
       "<polyline clip-path=\"url(#clip540)\" style=\"stroke:#000000; stroke-linecap:round; stroke-linejoin:round; stroke-width:4; stroke-opacity:1; fill:none\" points=\"242.135,560.636 261.032,560.636 \"/>\n",
       "<polyline clip-path=\"url(#clip540)\" style=\"stroke:#000000; stroke-linecap:round; stroke-linejoin:round; stroke-width:4; stroke-opacity:1; fill:none\" points=\"242.135,373.453 261.032,373.453 \"/>\n",
       "<polyline clip-path=\"url(#clip540)\" style=\"stroke:#000000; stroke-linecap:round; stroke-linejoin:round; stroke-width:4; stroke-opacity:1; fill:none\" points=\"242.135,186.271 261.032,186.271 \"/>\n",
       "<path clip-path=\"url(#clip540)\" d=\"M114.26 1309.82 L143.936 1309.82 L143.936 1313.75 L114.26 1313.75 L114.26 1309.82 Z\" fill=\"#000000\" fill-rule=\"evenodd\" fill-opacity=\"1\" /><path clip-path=\"url(#clip540)\" d=\"M168.195 1308.01 Q171.552 1308.73 173.427 1311 Q175.325 1313.27 175.325 1316.6 Q175.325 1321.71 171.806 1324.52 Q168.288 1327.32 161.806 1327.32 Q159.63 1327.32 157.315 1326.88 Q155.024 1326.46 152.57 1325.6 L152.57 1321.09 Q154.515 1322.22 156.829 1322.8 Q159.144 1323.38 161.667 1323.38 Q166.065 1323.38 168.357 1321.65 Q170.672 1319.91 170.672 1316.6 Q170.672 1313.54 168.519 1311.83 Q166.39 1310.09 162.57 1310.09 L158.542 1310.09 L158.542 1306.25 L162.755 1306.25 Q166.204 1306.25 168.033 1304.89 Q169.862 1303.5 169.862 1300.9 Q169.862 1298.24 167.964 1296.83 Q166.089 1295.4 162.57 1295.4 Q160.649 1295.4 158.45 1295.81 Q156.251 1296.23 153.612 1297.11 L153.612 1292.94 Q156.274 1292.2 158.589 1291.83 Q160.927 1291.46 162.987 1291.46 Q168.311 1291.46 171.413 1293.89 Q174.514 1296.3 174.514 1300.42 Q174.514 1303.29 172.871 1305.28 Q171.227 1307.25 168.195 1308.01 Z\" fill=\"#000000\" fill-rule=\"evenodd\" fill-opacity=\"1\" /><path clip-path=\"url(#clip540)\" d=\"M194.19 1295.16 Q190.579 1295.16 188.75 1298.73 Q186.945 1302.27 186.945 1309.4 Q186.945 1316.51 188.75 1320.07 Q190.579 1323.61 194.19 1323.61 Q197.825 1323.61 199.63 1320.07 Q201.459 1316.51 201.459 1309.4 Q201.459 1302.27 199.63 1298.73 Q197.825 1295.16 194.19 1295.16 M194.19 1291.46 Q200 1291.46 203.056 1296.07 Q206.135 1300.65 206.135 1309.4 Q206.135 1318.13 203.056 1322.73 Q200 1327.32 194.19 1327.32 Q188.38 1327.32 185.301 1322.73 Q182.246 1318.13 182.246 1309.4 Q182.246 1300.65 185.301 1296.07 Q188.38 1291.46 194.19 1291.46 Z\" fill=\"#000000\" fill-rule=\"evenodd\" fill-opacity=\"1\" /><path clip-path=\"url(#clip540)\" d=\"M114.26 1122.63 L143.936 1122.63 L143.936 1126.57 L114.26 1126.57 L114.26 1122.63 Z\" fill=\"#000000\" fill-rule=\"evenodd\" fill-opacity=\"1\" /><path clip-path=\"url(#clip540)\" d=\"M158.056 1135.53 L174.376 1135.53 L174.376 1139.46 L152.431 1139.46 L152.431 1135.53 Q155.093 1132.77 159.677 1128.14 Q164.283 1123.49 165.464 1122.15 Q167.709 1119.63 168.589 1117.89 Q169.491 1116.13 169.491 1114.44 Q169.491 1111.69 167.547 1109.95 Q165.626 1108.21 162.524 1108.21 Q160.325 1108.21 157.871 1108.98 Q155.44 1109.74 152.663 1111.29 L152.663 1106.57 Q155.487 1105.44 157.94 1104.86 Q160.394 1104.28 162.431 1104.28 Q167.802 1104.28 170.996 1106.96 Q174.19 1109.65 174.19 1114.14 Q174.19 1116.27 173.38 1118.19 Q172.593 1120.09 170.487 1122.68 Q169.908 1123.35 166.806 1126.57 Q163.704 1129.76 158.056 1135.53 Z\" fill=\"#000000\" fill-rule=\"evenodd\" fill-opacity=\"1\" /><path clip-path=\"url(#clip540)\" d=\"M194.19 1107.98 Q190.579 1107.98 188.75 1111.55 Q186.945 1115.09 186.945 1122.22 Q186.945 1129.32 188.75 1132.89 Q190.579 1136.43 194.19 1136.43 Q197.825 1136.43 199.63 1132.89 Q201.459 1129.32 201.459 1122.22 Q201.459 1115.09 199.63 1111.55 Q197.825 1107.98 194.19 1107.98 M194.19 1104.28 Q200 1104.28 203.056 1108.88 Q206.135 1113.47 206.135 1122.22 Q206.135 1130.94 203.056 1135.55 Q200 1140.13 194.19 1140.13 Q188.38 1140.13 185.301 1135.55 Q182.246 1130.94 182.246 1122.22 Q182.246 1113.47 185.301 1108.88 Q188.38 1104.28 194.19 1104.28 Z\" fill=\"#000000\" fill-rule=\"evenodd\" fill-opacity=\"1\" /><path clip-path=\"url(#clip540)\" d=\"M114.26 935.452 L143.936 935.452 L143.936 939.387 L114.26 939.387 L114.26 935.452 Z\" fill=\"#000000\" fill-rule=\"evenodd\" fill-opacity=\"1\" /><path clip-path=\"url(#clip540)\" d=\"M154.839 948.345 L162.477 948.345 L162.477 921.98 L154.167 923.646 L154.167 919.387 L162.431 917.72 L167.107 917.72 L167.107 948.345 L174.746 948.345 L174.746 952.28 L154.839 952.28 L154.839 948.345 Z\" fill=\"#000000\" fill-rule=\"evenodd\" fill-opacity=\"1\" /><path clip-path=\"url(#clip540)\" d=\"M194.19 920.799 Q190.579 920.799 188.75 924.364 Q186.945 927.906 186.945 935.035 Q186.945 942.142 188.75 945.706 Q190.579 949.248 194.19 949.248 Q197.825 949.248 199.63 945.706 Q201.459 942.142 201.459 935.035 Q201.459 927.906 199.63 924.364 Q197.825 920.799 194.19 920.799 M194.19 917.095 Q200 917.095 203.056 921.702 Q206.135 926.285 206.135 935.035 Q206.135 943.762 203.056 948.368 Q200 952.952 194.19 952.952 Q188.38 952.952 185.301 948.368 Q182.246 943.762 182.246 935.035 Q182.246 926.285 185.301 921.702 Q188.38 917.095 194.19 917.095 Z\" fill=\"#000000\" fill-rule=\"evenodd\" fill-opacity=\"1\" /><path clip-path=\"url(#clip540)\" d=\"M194.19 733.617 Q190.579 733.617 188.75 737.182 Q186.945 740.723 186.945 747.853 Q186.945 754.959 188.75 758.524 Q190.579 762.066 194.19 762.066 Q197.825 762.066 199.63 758.524 Q201.459 754.959 201.459 747.853 Q201.459 740.723 199.63 737.182 Q197.825 733.617 194.19 733.617 M194.19 729.913 Q200 729.913 203.056 734.52 Q206.135 739.103 206.135 747.853 Q206.135 756.58 203.056 761.186 Q200 765.769 194.19 765.769 Q188.38 765.769 185.301 761.186 Q182.246 756.58 182.246 747.853 Q182.246 739.103 185.301 734.52 Q188.38 729.913 194.19 729.913 Z\" fill=\"#000000\" fill-rule=\"evenodd\" fill-opacity=\"1\" /><path clip-path=\"url(#clip540)\" d=\"M154.839 573.981 L162.477 573.981 L162.477 547.615 L154.167 549.282 L154.167 545.022 L162.431 543.356 L167.107 543.356 L167.107 573.981 L174.746 573.981 L174.746 577.916 L154.839 577.916 L154.839 573.981 Z\" fill=\"#000000\" fill-rule=\"evenodd\" fill-opacity=\"1\" /><path clip-path=\"url(#clip540)\" d=\"M194.19 546.434 Q190.579 546.434 188.75 549.999 Q186.945 553.541 186.945 560.67 Q186.945 567.777 188.75 571.342 Q190.579 574.883 194.19 574.883 Q197.825 574.883 199.63 571.342 Q201.459 567.777 201.459 560.67 Q201.459 553.541 199.63 549.999 Q197.825 546.434 194.19 546.434 M194.19 542.731 Q200 542.731 203.056 547.337 Q206.135 551.92 206.135 560.67 Q206.135 569.397 203.056 574.004 Q200 578.587 194.19 578.587 Q188.38 578.587 185.301 574.004 Q182.246 569.397 182.246 560.67 Q182.246 551.92 185.301 547.337 Q188.38 542.731 194.19 542.731 Z\" fill=\"#000000\" fill-rule=\"evenodd\" fill-opacity=\"1\" /><path clip-path=\"url(#clip540)\" d=\"M158.056 386.798 L174.376 386.798 L174.376 390.733 L152.431 390.733 L152.431 386.798 Q155.093 384.043 159.677 379.414 Q164.283 374.761 165.464 373.419 Q167.709 370.895 168.589 369.159 Q169.491 367.4 169.491 365.71 Q169.491 362.956 167.547 361.22 Q165.626 359.483 162.524 359.483 Q160.325 359.483 157.871 360.247 Q155.44 361.011 152.663 362.562 L152.663 357.84 Q155.487 356.706 157.94 356.127 Q160.394 355.548 162.431 355.548 Q167.802 355.548 170.996 358.233 Q174.19 360.919 174.19 365.409 Q174.19 367.539 173.38 369.46 Q172.593 371.358 170.487 373.951 Q169.908 374.622 166.806 377.84 Q163.704 381.034 158.056 386.798 Z\" fill=\"#000000\" fill-rule=\"evenodd\" fill-opacity=\"1\" /><path clip-path=\"url(#clip540)\" d=\"M194.19 359.252 Q190.579 359.252 188.75 362.817 Q186.945 366.358 186.945 373.488 Q186.945 380.594 188.75 384.159 Q190.579 387.701 194.19 387.701 Q197.825 387.701 199.63 384.159 Q201.459 380.594 201.459 373.488 Q201.459 366.358 199.63 362.817 Q197.825 359.252 194.19 359.252 M194.19 355.548 Q200 355.548 203.056 360.155 Q206.135 364.738 206.135 373.488 Q206.135 382.215 203.056 386.821 Q200 391.405 194.19 391.405 Q188.38 391.405 185.301 386.821 Q182.246 382.215 182.246 373.488 Q182.246 364.738 185.301 360.155 Q188.38 355.548 194.19 355.548 Z\" fill=\"#000000\" fill-rule=\"evenodd\" fill-opacity=\"1\" /><path clip-path=\"url(#clip540)\" d=\"M168.195 184.917 Q171.552 185.634 173.427 187.903 Q175.325 190.171 175.325 193.505 Q175.325 198.62 171.806 201.421 Q168.288 204.222 161.806 204.222 Q159.63 204.222 157.315 203.782 Q155.024 203.366 152.57 202.509 L152.57 197.995 Q154.515 199.13 156.829 199.708 Q159.144 200.287 161.667 200.287 Q166.065 200.287 168.357 198.551 Q170.672 196.815 170.672 193.505 Q170.672 190.449 168.519 188.736 Q166.39 187 162.57 187 L158.542 187 L158.542 183.157 L162.755 183.157 Q166.204 183.157 168.033 181.792 Q169.862 180.403 169.862 177.81 Q169.862 175.148 167.964 173.736 Q166.089 172.301 162.57 172.301 Q160.649 172.301 158.45 172.718 Q156.251 173.134 153.612 174.014 L153.612 169.847 Q156.274 169.107 158.589 168.736 Q160.927 168.366 162.987 168.366 Q168.311 168.366 171.413 170.796 Q174.514 173.204 174.514 177.324 Q174.514 180.195 172.871 182.185 Q171.227 184.153 168.195 184.917 Z\" fill=\"#000000\" fill-rule=\"evenodd\" fill-opacity=\"1\" /><path clip-path=\"url(#clip540)\" d=\"M194.19 172.07 Q190.579 172.07 188.75 175.634 Q186.945 179.176 186.945 186.306 Q186.945 193.412 188.75 196.977 Q190.579 200.518 194.19 200.518 Q197.825 200.518 199.63 196.977 Q201.459 193.412 201.459 186.306 Q201.459 179.176 199.63 175.634 Q197.825 172.07 194.19 172.07 M194.19 168.366 Q200 168.366 203.056 172.972 Q206.135 177.556 206.135 186.306 Q206.135 195.032 203.056 199.639 Q200 204.222 194.19 204.222 Q188.38 204.222 185.301 199.639 Q182.246 195.032 182.246 186.306 Q182.246 177.556 185.301 172.972 Q188.38 168.366 194.19 168.366 Z\" fill=\"#000000\" fill-rule=\"evenodd\" fill-opacity=\"1\" /><path clip-path=\"url(#clip540)\" d=\"M21.7677 1152.04 L58.7206 1152.04 L58.7206 1144.27 Q58.7206 1134.44 54.2646 1129.89 Q49.8086 1125.3 40.1964 1125.3 Q30.6479 1125.3 26.2237 1129.89 Q21.7677 1134.44 21.7677 1144.27 L21.7677 1152.04 M16.4842 1158.47 L16.4842 1145.26 Q16.4842 1131.45 22.2451 1124.98 Q27.9743 1118.52 40.1964 1118.52 Q52.4822 1118.52 58.2432 1125.02 Q64.0042 1131.51 64.0042 1145.26 L64.0042 1158.47 L16.4842 1158.47 Z\" fill=\"#000000\" fill-rule=\"evenodd\" fill-opacity=\"1\" /><path clip-path=\"url(#clip540)\" d=\"M28.3562 1108.53 L28.3562 1102.67 L64.0042 1102.67 L64.0042 1108.53 L28.3562 1108.53 M14.479 1108.53 L14.479 1102.67 L21.895 1102.67 L21.895 1108.53 L14.479 1108.53 Z\" fill=\"#000000\" fill-rule=\"evenodd\" fill-opacity=\"1\" /><path clip-path=\"url(#clip540)\" d=\"M14.479 1072.37 L19.3487 1072.37 L19.3487 1077.97 Q19.3487 1081.12 20.6219 1082.37 Q21.895 1083.58 25.2052 1083.58 L28.3562 1083.58 L28.3562 1073.93 L32.9077 1073.93 L32.9077 1083.58 L64.0042 1083.58 L64.0042 1089.46 L32.9077 1089.46 L32.9077 1095.07 L28.3562 1095.07 L28.3562 1089.46 L25.8736 1089.46 Q19.9216 1089.46 17.2162 1086.69 Q14.479 1083.93 14.479 1077.91 L14.479 1072.37 Z\" fill=\"#000000\" fill-rule=\"evenodd\" fill-opacity=\"1\" /><path clip-path=\"url(#clip540)\" d=\"M44.7161 1036.98 L47.5806 1036.98 L47.5806 1063.91 Q53.6281 1063.52 56.8109 1060.28 Q59.9619 1057 59.9619 1051.17 Q59.9619 1047.8 59.1344 1044.65 Q58.3069 1041.47 56.6518 1038.35 L62.1899 1038.35 Q63.5267 1041.5 64.227 1044.81 Q64.9272 1048.12 64.9272 1051.52 Q64.9272 1060.05 59.9619 1065.05 Q54.9967 1070.02 46.5303 1070.02 Q37.7774 1070.02 32.6531 1065.31 Q27.4968 1060.56 27.4968 1052.54 Q27.4968 1045.35 32.1438 1041.18 Q36.7589 1036.98 44.7161 1036.98 M42.9973 1042.83 Q38.1912 1042.9 35.3266 1045.54 Q32.4621 1048.15 32.4621 1052.48 Q32.4621 1057.38 35.2312 1060.34 Q38.0002 1063.27 43.0292 1063.71 L42.9973 1042.83 Z\" fill=\"#000000\" fill-rule=\"evenodd\" fill-opacity=\"1\" /><path clip-path=\"url(#clip540)\" d=\"M33.8307 1006.71 Q33.2578 1007.7 33.0032 1008.87 Q32.7167 1010.02 32.7167 1011.42 Q32.7167 1016.39 35.9632 1019.06 Q39.1779 1021.7 45.2253 1021.7 L64.0042 1021.7 L64.0042 1027.59 L28.3562 1027.59 L28.3562 1021.7 L33.8944 1021.7 Q30.6479 1019.85 29.0883 1016.89 Q27.4968 1013.93 27.4968 1009.7 Q27.4968 1009.1 27.5923 1008.36 Q27.656 1007.63 27.8151 1006.74 L33.8307 1006.71 Z\" fill=\"#000000\" fill-rule=\"evenodd\" fill-opacity=\"1\" /><path clip-path=\"url(#clip540)\" d=\"M44.7161 971.507 L47.5806 971.507 L47.5806 998.434 Q53.6281 998.052 56.8109 994.805 Q59.9619 991.527 59.9619 985.703 Q59.9619 982.329 59.1344 979.178 Q58.3069 975.995 56.6518 972.876 L62.1899 972.876 Q63.5267 976.027 64.227 979.337 Q64.9272 982.647 64.9272 986.053 Q64.9272 994.583 59.9619 999.58 Q54.9967 1004.55 46.5303 1004.55 Q37.7774 1004.55 32.6531 999.834 Q27.4968 995.092 27.4968 987.071 Q27.4968 979.878 32.1438 975.708 Q36.7589 971.507 44.7161 971.507 M42.9973 977.363 Q38.1912 977.427 35.3266 980.069 Q32.4621 982.679 32.4621 987.007 Q32.4621 991.909 35.2312 994.869 Q38.0002 997.797 43.0292 998.243 L42.9973 977.363 Z\" fill=\"#000000\" fill-rule=\"evenodd\" fill-opacity=\"1\" /><path clip-path=\"url(#clip540)\" d=\"M42.4881 932.262 L64.0042 932.262 L64.0042 938.119 L42.679 938.119 Q37.6183 938.119 35.1038 940.092 Q32.5894 942.066 32.5894 946.012 Q32.5894 950.755 35.6131 953.492 Q38.6368 956.229 43.8567 956.229 L64.0042 956.229 L64.0042 962.118 L28.3562 962.118 L28.3562 956.229 L33.8944 956.229 Q30.6797 954.129 29.0883 951.296 Q27.4968 948.431 27.4968 944.707 Q27.4968 938.564 31.3163 935.413 Q35.1038 932.262 42.4881 932.262 Z\" fill=\"#000000\" fill-rule=\"evenodd\" fill-opacity=\"1\" /><path clip-path=\"url(#clip540)\" d=\"M29.7248 894.928 L35.1993 894.928 Q33.8307 897.41 33.1623 899.925 Q32.4621 902.407 32.4621 904.954 Q32.4621 910.651 36.0905 913.802 Q39.6872 916.953 46.212 916.953 Q52.7369 916.953 56.3653 913.802 Q59.9619 910.651 59.9619 904.954 Q59.9619 902.407 59.2935 899.925 Q58.5933 897.41 57.2247 894.928 L62.6355 894.928 Q63.7814 897.378 64.3543 900.02 Q64.9272 902.63 64.9272 905.59 Q64.9272 913.643 59.8664 918.385 Q54.8057 923.128 46.212 923.128 Q37.491 923.128 32.4939 918.353 Q27.4968 913.547 27.4968 905.208 Q27.4968 902.503 28.0697 899.925 Q28.6108 897.347 29.7248 894.928 Z\" fill=\"#000000\" fill-rule=\"evenodd\" fill-opacity=\"1\" /><path clip-path=\"url(#clip540)\" d=\"M28.3562 884.742 L28.3562 878.886 L64.0042 878.886 L64.0042 884.742 L28.3562 884.742 M14.479 884.742 L14.479 878.886 L21.895 878.886 L21.895 884.742 L14.479 884.742 Z\" fill=\"#000000\" fill-rule=\"evenodd\" fill-opacity=\"1\" /><path clip-path=\"url(#clip540)\" d=\"M46.0847 850.431 Q46.0847 857.529 47.7079 860.266 Q49.3312 863.004 53.2461 863.004 Q56.3653 863.004 58.2114 860.967 Q60.0256 858.898 60.0256 855.365 Q60.0256 850.495 56.5881 847.567 Q53.1188 844.607 47.3897 844.607 L46.0847 844.607 L46.0847 850.431 M43.6657 838.75 L64.0042 838.75 L64.0042 844.607 L58.5933 844.607 Q61.8398 846.612 63.3994 849.604 Q64.9272 852.596 64.9272 856.924 Q64.9272 862.399 61.8716 865.645 Q58.7843 868.86 53.6281 868.86 Q47.6125 868.86 44.5569 864.85 Q41.5014 860.807 41.5014 852.818 L41.5014 844.607 L40.9285 844.607 Q36.8862 844.607 34.6901 847.28 Q32.4621 849.922 32.4621 854.728 Q32.4621 857.784 33.1941 860.68 Q33.9262 863.576 35.3903 866.25 L29.9795 866.25 Q28.7381 863.035 28.1334 860.012 Q27.4968 856.988 27.4968 854.123 Q27.4968 846.389 31.5072 842.57 Q35.5176 838.75 43.6657 838.75 Z\" fill=\"#000000\" fill-rule=\"evenodd\" fill-opacity=\"1\" /><path clip-path=\"url(#clip540)\" d=\"M33.7671 782.509 L14.479 782.509 L14.479 776.653 L64.0042 776.653 L64.0042 782.509 L58.657 782.509 Q61.8398 784.355 63.3994 787.188 Q64.9272 789.989 64.9272 793.936 Q64.9272 800.397 59.771 804.471 Q54.6147 808.513 46.212 808.513 Q37.8093 808.513 32.6531 804.471 Q27.4968 800.397 27.4968 793.936 Q27.4968 789.989 29.0564 787.188 Q30.5842 784.355 33.7671 782.509 M46.212 802.466 Q52.6732 802.466 56.3653 799.824 Q60.0256 797.15 60.0256 792.503 Q60.0256 787.856 56.3653 785.183 Q52.6732 782.509 46.212 782.509 Q39.7508 782.509 36.0905 785.183 Q32.3984 787.856 32.3984 792.503 Q32.3984 797.15 36.0905 799.824 Q39.7508 802.466 46.212 802.466 Z\" fill=\"#000000\" fill-rule=\"evenodd\" fill-opacity=\"1\" /><path clip-path=\"url(#clip540)\" d=\"M44.7161 734.098 L47.5806 734.098 L47.5806 761.025 Q53.6281 760.643 56.8109 757.396 Q59.9619 754.118 59.9619 748.293 Q59.9619 744.92 59.1344 741.769 Q58.3069 738.586 56.6518 735.467 L62.1899 735.467 Q63.5267 738.618 64.227 741.928 Q64.9272 745.238 64.9272 748.644 Q64.9272 757.174 59.9619 762.171 Q54.9967 767.136 46.5303 767.136 Q37.7774 767.136 32.6531 762.425 Q27.4968 757.683 27.4968 749.662 Q27.4968 742.469 32.1438 738.299 Q36.7589 734.098 44.7161 734.098 M42.9973 739.954 Q38.1912 740.018 35.3266 742.66 Q32.4621 745.27 32.4621 749.598 Q32.4621 754.5 35.2312 757.46 Q38.0002 760.388 43.0292 760.834 L42.9973 739.954 Z\" fill=\"#000000\" fill-rule=\"evenodd\" fill-opacity=\"1\" /><path clip-path=\"url(#clip540)\" d=\"M58.657 698.1 L77.5631 698.1 L77.5631 703.988 L28.3562 703.988 L28.3562 698.1 L33.7671 698.1 Q30.5842 696.254 29.0564 693.453 Q27.4968 690.62 27.4968 686.705 Q27.4968 680.212 32.6531 676.17 Q37.8093 672.096 46.212 672.096 Q54.6147 672.096 59.771 676.17 Q64.9272 680.212 64.9272 686.705 Q64.9272 690.62 63.3994 693.453 Q61.8398 696.254 58.657 698.1 M46.212 678.175 Q39.7508 678.175 36.0905 680.849 Q32.3984 683.491 32.3984 688.138 Q32.3984 692.785 36.0905 695.458 Q39.7508 698.1 46.212 698.1 Q52.6732 698.1 56.3653 695.458 Q60.0256 692.785 60.0256 688.138 Q60.0256 683.491 56.3653 680.849 Q52.6732 678.175 46.212 678.175 Z\" fill=\"#000000\" fill-rule=\"evenodd\" fill-opacity=\"1\" /><path clip-path=\"url(#clip540)\" d=\"M32.4621 648.575 Q32.4621 653.285 36.1542 656.023 Q39.8145 658.76 46.212 658.76 Q52.6095 658.76 56.3017 656.054 Q59.9619 653.317 59.9619 648.575 Q59.9619 643.896 56.2698 641.159 Q52.5777 638.421 46.212 638.421 Q39.8781 638.421 36.186 641.159 Q32.4621 643.896 32.4621 648.575 M27.4968 648.575 Q27.4968 640.936 32.4621 636.575 Q37.4273 632.215 46.212 632.215 Q54.9649 632.215 59.9619 636.575 Q64.9272 640.936 64.9272 648.575 Q64.9272 656.245 59.9619 660.606 Q54.9649 664.935 46.212 664.935 Q37.4273 664.935 32.4621 660.606 Q27.4968 656.245 27.4968 648.575 Z\" fill=\"#000000\" fill-rule=\"evenodd\" fill-opacity=\"1\" /><path clip-path=\"url(#clip540)\" d=\"M29.4065 599.782 L34.9447 599.782 Q33.6716 602.264 33.035 604.938 Q32.3984 607.611 32.3984 610.476 Q32.3984 614.836 33.7352 617.033 Q35.072 619.197 37.7456 619.197 Q39.7826 619.197 40.9603 617.637 Q42.1061 616.078 43.1565 611.367 L43.6021 609.362 Q44.9389 603.124 47.3897 600.514 Q49.8086 597.872 54.1691 597.872 Q59.1344 597.872 62.0308 601.819 Q64.9272 605.733 64.9272 612.608 Q64.9272 615.473 64.3543 618.592 Q63.8132 621.68 62.6992 625.117 L56.6518 625.117 Q58.3387 621.871 59.198 618.72 Q60.0256 615.569 60.0256 612.481 Q60.0256 608.343 58.6251 606.115 Q57.1929 603.887 54.6147 603.887 Q52.2276 603.887 50.9545 605.511 Q49.6813 607.102 48.5037 612.545 L48.0262 614.582 Q46.8804 620.025 44.5251 622.443 Q42.138 624.862 38.0002 624.862 Q32.9713 624.862 30.2341 621.298 Q27.4968 617.733 27.4968 611.176 Q27.4968 607.93 27.9743 605.065 Q28.4517 602.201 29.4065 599.782 Z\" fill=\"#000000\" fill-rule=\"evenodd\" fill-opacity=\"1\" /><path clip-path=\"url(#clip540)\" d=\"M28.3562 588.546 L28.3562 582.69 L64.0042 582.69 L64.0042 588.546 L28.3562 588.546 M14.479 588.546 L14.479 582.69 L21.895 582.69 L21.895 588.546 L14.479 588.546 Z\" fill=\"#000000\" fill-rule=\"evenodd\" fill-opacity=\"1\" /><path clip-path=\"url(#clip540)\" d=\"M29.7248 544.782 L35.1993 544.782 Q33.8307 547.264 33.1623 549.779 Q32.4621 552.262 32.4621 554.808 Q32.4621 560.505 36.0905 563.656 Q39.6872 566.807 46.212 566.807 Q52.7369 566.807 56.3653 563.656 Q59.9619 560.505 59.9619 554.808 Q59.9619 552.262 59.2935 549.779 Q58.5933 547.264 57.2247 544.782 L62.6355 544.782 Q63.7814 547.233 64.3543 549.874 Q64.9272 552.484 64.9272 555.444 Q64.9272 563.497 59.8664 568.239 Q54.8057 572.982 46.212 572.982 Q37.491 572.982 32.4939 568.208 Q27.4968 563.402 27.4968 555.062 Q27.4968 552.357 28.0697 549.779 Q28.6108 547.201 29.7248 544.782 Z\" fill=\"#000000\" fill-rule=\"evenodd\" fill-opacity=\"1\" /><path clip-path=\"url(#clip540)\" d=\"M28.3562 534.597 L28.3562 528.74 L64.0042 528.74 L64.0042 534.597 L28.3562 534.597 M14.479 534.597 L14.479 528.74 L21.895 528.74 L21.895 534.597 L14.479 534.597 Z\" fill=\"#000000\" fill-rule=\"evenodd\" fill-opacity=\"1\" /><path clip-path=\"url(#clip540)\" d=\"M32.4621 502.673 Q32.4621 507.383 36.1542 510.121 Q39.8145 512.858 46.212 512.858 Q52.6095 512.858 56.3017 510.152 Q59.9619 507.415 59.9619 502.673 Q59.9619 497.994 56.2698 495.257 Q52.5777 492.519 46.212 492.519 Q39.8781 492.519 36.186 495.257 Q32.4621 497.994 32.4621 502.673 M27.4968 502.673 Q27.4968 495.034 32.4621 490.673 Q37.4273 486.313 46.212 486.313 Q54.9649 486.313 59.9619 490.673 Q64.9272 495.034 64.9272 502.673 Q64.9272 510.343 59.9619 514.704 Q54.9649 519.033 46.212 519.033 Q37.4273 519.033 32.4621 514.704 Q27.4968 510.343 27.4968 502.673 M11.869 498.249 L11.869 491.915 L23.8365 502.291 L23.8365 507.161 L11.869 498.249 Z\" fill=\"#000000\" fill-rule=\"evenodd\" fill-opacity=\"1\" /><path clip-path=\"url(#clip540)\" d=\"M42.4881 446.973 L64.0042 446.973 L64.0042 452.829 L42.679 452.829 Q37.6183 452.829 35.1038 454.803 Q32.5894 456.776 32.5894 460.723 Q32.5894 465.465 35.6131 468.202 Q38.6368 470.94 43.8567 470.94 L64.0042 470.94 L64.0042 476.828 L28.3562 476.828 L28.3562 470.94 L33.8944 470.94 Q30.6797 468.839 29.0883 466.006 Q27.4968 463.142 27.4968 459.418 Q27.4968 453.275 31.3163 450.124 Q35.1038 446.973 42.4881 446.973 Z\" fill=\"#000000\" fill-rule=\"evenodd\" fill-opacity=\"1\" /><path clip-path=\"url(#clip540)\" d=\"M14.479 415.112 L14.479 401.617 L19.0304 401.617 L19.0304 409.256 L68.0464 409.256 L68.0464 401.617 L72.5979 401.617 L72.5979 415.112 L14.479 415.112 Z\" fill=\"#000000\" fill-rule=\"evenodd\" fill-opacity=\"1\" /><path clip-path=\"url(#clip540)\" d=\"M35.1993 361.386 Q31.2526 359.19 29.3747 356.134 Q27.4968 353.079 27.4968 348.941 Q27.4968 343.371 31.4117 340.347 Q35.2948 337.323 42.4881 337.323 L64.0042 337.323 L64.0042 343.212 L42.679 343.212 Q37.5546 343.212 35.072 345.026 Q32.5894 346.84 32.5894 350.564 Q32.5894 355.116 35.6131 357.757 Q38.6368 360.399 43.8567 360.399 L64.0042 360.399 L64.0042 366.287 L42.679 366.287 Q37.5228 366.287 35.072 368.102 Q32.5894 369.916 32.5894 373.703 Q32.5894 378.191 35.6449 380.833 Q38.6686 383.475 43.8567 383.475 L64.0042 383.475 L64.0042 389.363 L28.3562 389.363 L28.3562 383.475 L33.8944 383.475 Q30.616 381.47 29.0564 378.669 Q27.4968 375.868 27.4968 372.017 Q27.4968 368.133 29.4702 365.428 Q31.4436 362.691 35.1993 361.386 Z\" fill=\"#000000\" fill-rule=\"evenodd\" fill-opacity=\"1\" /><path clip-path=\"url(#clip540)\" d=\"M14.479 311.956 L72.5979 311.956 L72.5979 325.451 L68.0464 325.451 L68.0464 317.844 L19.0304 317.844 L19.0304 325.451 L14.479 325.451 L14.479 311.956 Z\" fill=\"#000000\" fill-rule=\"evenodd\" fill-opacity=\"1\" /><polyline clip-path=\"url(#clip542)\" style=\"stroke:#009af9; stroke-linecap:round; stroke-linejoin:round; stroke-width:4; stroke-opacity:1; fill:none\" points=\"301.869,1384.24 341.692,1354.38 381.515,1324.71 421.338,1295.22 461.161,1265.92 500.984,1236.79 540.807,1207.85 580.631,1179.07 620.454,1150.48 660.277,1122.05 700.1,1093.8 739.923,1065.72 779.746,1037.8 819.569,1010.05 859.392,982.467 899.215,955.044 939.038,927.782 978.861,900.68 1018.68,873.736 1058.51,846.948 1098.33,820.315 1138.15,793.835 1177.98,767.507 1217.8,741.33 1257.62,715.3 1297.45,689.419 1337.27,663.683 1377.09,638.091 1416.91,612.642 1456.74,587.335 1496.56,562.167 1536.38,537.139 1576.21,512.247 1616.03,487.492 1655.85,462.871 1695.68,438.383 1735.5,414.028 1775.32,389.802 1815.14,365.707 1854.97,341.739 1894.79,317.898 1934.61,294.182 1974.44,270.591 2014.26,247.122 2054.08,223.776 2093.91,200.549 2133.73,177.443 2173.55,154.454 2213.38,131.583 2253.2,108.827 2293.02,86.1857 \"/>\n",
       "<polyline clip-path=\"url(#clip542)\" style=\"stroke:#e26f46; stroke-linecap:round; stroke-linejoin:round; stroke-width:4; stroke-opacity:1; fill:none\" points=\"301.869,448.326 341.692,450.189 381.515,452.033 421.338,453.858 461.161,455.666 500.984,457.455 540.807,459.227 580.631,460.981 620.454,462.718 660.277,464.437 700.1,466.139 739.923,467.824 779.746,469.493 819.569,471.145 859.392,472.78 899.215,474.399 939.038,476.002 978.861,477.589 1018.68,479.161 1058.51,480.716 1098.33,482.257 1138.15,483.782 1177.98,485.291 1217.8,486.786 1257.62,488.266 1297.45,489.731 1337.27,491.181 1377.09,492.617 1416.91,494.039 1456.74,495.447 1496.56,496.841 1536.38,498.22 1576.21,499.586 1616.03,500.939 1655.85,502.278 1695.68,503.603 1735.5,504.916 1775.32,506.215 1815.14,507.502 1854.97,508.776 1894.79,510.037 1934.61,511.285 1974.44,512.521 2014.26,513.745 2054.08,514.956 2093.91,516.156 2133.73,517.343 2173.55,518.519 2213.38,519.683 2253.2,520.836 2293.02,521.977 \"/>\n",
       "<path clip-path=\"url(#clip540)\" d=\"M312.489 248.629 L563.812 248.629 L563.812 93.1086 L312.489 93.1086  Z\" fill=\"#ffffff\" fill-rule=\"evenodd\" fill-opacity=\"1\"/>\n",
       "<polyline clip-path=\"url(#clip540)\" style=\"stroke:#000000; stroke-linecap:round; stroke-linejoin:round; stroke-width:4; stroke-opacity:1; fill:none\" points=\"312.489,248.629 563.812,248.629 563.812,93.1086 312.489,93.1086 312.489,248.629 \"/>\n",
       "<polyline clip-path=\"url(#clip540)\" style=\"stroke:#009af9; stroke-linecap:round; stroke-linejoin:round; stroke-width:4; stroke-opacity:1; fill:none\" points=\"335.94,144.949 476.648,144.949 \"/>\n",
       "<path clip-path=\"url(#clip540)\" d=\"M524.014 126.304 Q524.014 127.592 523.194 128.389 Q522.398 129.185 521.39 129.185 Q520.664 129.185 520.126 128.74 Q519.61 128.295 519.61 127.522 Q519.61 126.726 520.219 125.883 Q520.828 125.039 522.21 124.922 Q521.297 124.056 519.845 124.056 Q519.119 124.056 518.51 124.524 Q517.924 124.969 517.596 125.695 Q517.245 126.445 516.448 130.684 Q516.191 132.066 515.956 133.401 Q515.722 134.736 515.441 136.142 L519.423 136.142 Q519.938 136.142 520.149 136.165 Q520.36 136.188 520.524 136.306 Q520.711 136.423 520.711 136.68 Q520.711 137.336 520.407 137.5 Q520.126 137.641 519.282 137.641 L515.16 137.641 L512.279 152.842 Q512.209 153.287 511.904 154.692 Q511.623 156.074 510.944 158.346 Q510.265 160.641 509.586 162 Q509.211 162.773 508.719 163.499 Q508.25 164.249 507.571 164.998 Q506.892 165.748 506.002 166.193 Q505.112 166.661 504.175 166.661 Q502.582 166.661 501.341 165.771 Q500.099 164.881 500.099 163.358 Q500.099 162.07 500.896 161.274 Q501.716 160.478 502.723 160.478 Q503.449 160.478 503.964 160.923 Q504.503 161.368 504.503 162.141 Q504.503 162.468 504.386 162.843 Q504.269 163.218 504.011 163.64 Q503.753 164.085 503.191 164.389 Q502.629 164.694 501.856 164.74 Q502.77 165.607 504.175 165.607 Q504.62 165.607 505.018 165.42 Q505.416 165.256 505.744 164.834 Q506.096 164.412 506.353 163.991 Q506.611 163.593 506.869 162.82 Q507.126 162.07 507.29 161.508 Q507.454 160.946 507.665 159.939 Q507.899 158.932 508.016 158.323 Q508.133 157.737 508.344 156.589 L511.928 137.641 L508.766 137.641 Q508.204 137.641 507.969 137.617 Q507.759 137.594 507.595 137.477 Q507.431 137.336 507.431 137.055 Q507.431 136.61 507.618 136.423 Q507.829 136.212 508.063 136.188 Q508.297 136.142 508.859 136.142 L512.185 136.142 Q513.31 130.216 513.755 128.623 Q514.27 126.937 515.066 125.765 Q515.863 124.571 516.753 124.009 Q517.643 123.447 518.369 123.236 Q519.119 123.002 519.845 123.002 Q521.484 123.002 522.749 123.892 Q524.014 124.758 524.014 126.304 Z\" fill=\"#000000\" fill-rule=\"evenodd\" fill-opacity=\"1\" /><polyline clip-path=\"url(#clip540)\" style=\"stroke:#e26f46; stroke-linecap:round; stroke-linejoin:round; stroke-width:4; stroke-opacity:1; fill:none\" points=\"335.94,196.789 476.648,196.789 \"/>\n",
       "<path clip-path=\"url(#clip540)\" d=\"M524.014 178.261 Q524.014 179.55 523.194 180.346 Q522.398 181.142 521.39 181.142 Q520.664 181.142 520.126 180.697 Q519.61 180.252 519.61 179.479 Q519.61 178.683 520.219 177.84 Q520.828 176.997 522.21 176.879 Q521.297 176.013 519.845 176.013 Q519.119 176.013 518.51 176.481 Q517.924 176.926 517.596 177.652 Q517.245 178.402 516.448 182.641 Q516.191 184.023 515.956 185.358 Q515.722 186.693 515.441 188.099 L519.423 188.099 Q519.938 188.099 520.149 188.122 Q520.36 188.146 520.524 188.263 Q520.711 188.38 520.711 188.638 Q520.711 189.293 520.407 189.457 Q520.126 189.598 519.282 189.598 L515.16 189.598 L512.279 204.799 Q512.209 205.244 511.904 206.649 Q511.623 208.031 510.944 210.303 Q510.265 212.599 509.586 213.957 Q509.211 214.73 508.719 215.456 Q508.25 216.206 507.571 216.955 Q506.892 217.705 506.002 218.15 Q505.112 218.618 504.175 218.618 Q502.582 218.618 501.341 217.728 Q500.099 216.838 500.099 215.316 Q500.099 214.027 500.896 213.231 Q501.716 212.435 502.723 212.435 Q503.449 212.435 503.964 212.88 Q504.503 213.325 504.503 214.098 Q504.503 214.426 504.386 214.8 Q504.269 215.175 504.011 215.597 Q503.753 216.042 503.191 216.346 Q502.629 216.651 501.856 216.698 Q502.77 217.564 504.175 217.564 Q504.62 217.564 505.018 217.377 Q505.416 217.213 505.744 216.791 Q506.096 216.37 506.353 215.948 Q506.611 215.55 506.869 214.777 Q507.126 214.027 507.29 213.465 Q507.454 212.903 507.665 211.896 Q507.899 210.889 508.016 210.28 Q508.133 209.694 508.344 208.547 L511.928 189.598 L508.766 189.598 Q508.204 189.598 507.969 189.574 Q507.759 189.551 507.595 189.434 Q507.431 189.293 507.431 189.012 Q507.431 188.567 507.618 188.38 Q507.829 188.169 508.063 188.146 Q508.297 188.099 508.859 188.099 L512.185 188.099 Q513.31 182.173 513.755 180.58 Q514.27 178.894 515.066 177.723 Q515.863 176.528 516.753 175.966 Q517.643 175.404 518.369 175.193 Q519.119 174.959 519.845 174.959 Q521.484 174.959 522.749 175.849 Q524.014 176.715 524.014 178.261 Z\" fill=\"#000000\" fill-rule=\"evenodd\" fill-opacity=\"1\" /><path clip-path=\"url(#clip540)\" d=\"M527.164 176.926 Q527.164 175.732 527.89 175.24 Q528.616 174.725 529.389 174.725 Q530.349 174.725 530.958 175.31 Q531.591 175.872 531.591 176.926 Q531.591 177.395 531.544 177.652 L529.951 192.127 L528.85 192.127 L527.211 177.652 Q527.164 177.395 527.164 176.926 Z\" fill=\"#000000\" fill-rule=\"evenodd\" fill-opacity=\"1\" /></svg>\n"
      ]
     },
     "execution_count": 54,
     "metadata": {},
     "output_type": "execute_result"
    }
   ],
   "source": [
    "plot(t,f.(t), label=L\"f\")\n",
    "plot!(t,df.(t), label=L\"f'\")\n",
    "\n",
    "plot!(xlabel=\"Tiempo [s]\")\n",
    "plot!(ylabel=\"Diferencia de posición [m]\")"
   ]
  },
  {
   "cell_type": "code",
   "execution_count": 26,
   "metadata": {},
   "outputs": [
    {
     "data": {
      "text/plain": [
       "bisection (generic function with 1 method)"
      ]
     },
     "execution_count": 26,
     "metadata": {},
     "output_type": "execute_result"
    }
   ],
   "source": [
    "#Biseccion\n",
    "\n",
    "function bisection(f, a, b; nmax=100,TOLx=10e-8, TOLf=10e-8)\n",
    "    \n",
    "    i = 1 # iteracion inicial\n",
    "    list_p   = zeros(nmax)\n",
    "    list_f   = zeros(nmax)\n",
    "    c        = zeros(nmax)\n",
    "    list_e   = zeros(nmax)\n",
    "    converge = true\n",
    "    \n",
    "    while i <= nmax\n",
    "        FA        = f(a)          # funcion evaluada en a\n",
    "        list_p[i] = a + (b-a) / 2 # aprox de la raiz\n",
    "        list_f[i] = f(list_p[i])         # funcion evaluada en p\n",
    "        c[i]      = abs(b-a) / 2  # error absoluto en x\n",
    "        list_e[i] = c[i] / (abs(list_p[i]))  # error relativo en x\n",
    "        \n",
    "        if list_e[i] < TOLx && abs(list_f[i]) < TOLf\n",
    "            return list_p[1:i], list_e[1:i], list_f[1:i]\n",
    "        elseif sign(FA)*sign(list_f[i])>0\n",
    "            a = list_p[i]\n",
    "        else\n",
    "            b = list_p[i]\n",
    "        end\n",
    "            \n",
    "        if i == nmax\n",
    "            converge = false\n",
    "            println(\"No converge luego de $nmax iteraciones\")\n",
    "            return list_p, list_e, list_f\n",
    "        end\n",
    "    \n",
    "        i +=1\n",
    "        \n",
    "    end\n",
    "end"
   ]
  },
  {
   "cell_type": "code",
   "execution_count": 27,
   "metadata": {},
   "outputs": [
    {
     "data": {
      "text/plain": [
       "newton_rapson (generic function with 1 method)"
      ]
     },
     "execution_count": 27,
     "metadata": {},
     "output_type": "execute_result"
    }
   ],
   "source": [
    "#Newton Rapson\n",
    "\n",
    "function newton_rapson(f, df, p_0; nmax=100, TOLx=10e-8, TOLf=10e-8)\n",
    "    i  = 1 # iteracion inicial\n",
    "    \n",
    "    list_p   = zeros(nmax)\n",
    "    list_f   = zeros(nmax)\n",
    "    c        = zeros(nmax)\n",
    "    list_e   = zeros(nmax)\n",
    "    converge = true\n",
    "    \n",
    "    while i <= nmax\n",
    "        F0    = f(p_0)       #funcion evaluada en p₀\n",
    "        dF0   = df(p_0)     # derivada evaluada en p₀\n",
    "        list_p[i]  = p_0 - F0/dF0  # aprox de la raiz\n",
    "        list_f[i] = f(list_p[i])        # funcion evaluada en p\n",
    "        c[i]  = abs(list_p[i]-p_0)    # error absoluto en x\n",
    "        list_e[i]  = c[i] / (abs(list_p[i]))  # error relativo en x\n",
    "\n",
    "        if list_e[i] < TOLx && abs(list_f[i]) < TOLf\n",
    "            return  list_p[1:i], list_e[1:i], list_f[1:i]\n",
    "        else\n",
    "            p_0 = list_p[i]\n",
    "        end\n",
    "\n",
    "        if i == nmax\n",
    "            converge = false\n",
    "            println(\"No converge luego de $nmax iteraciones\")\n",
    "            return list_p, list_e, list_f\n",
    "        end\n",
    "        \n",
    "        i +=1\n",
    "    end\n",
    "end"
   ]
  },
  {
   "cell_type": "code",
   "execution_count": 15,
   "metadata": {},
   "outputs": [
    {
     "data": {
      "text/plain": [
       "regula_falsi (generic function with 1 method)"
      ]
     },
     "execution_count": 15,
     "metadata": {},
     "output_type": "execute_result"
    }
   ],
   "source": [
    "# Regula Falsi (SANTI)\n",
    "\n",
    "# Regula Falsi\n",
    "function regula_falsi(f::Function,\n",
    "    a::Float64,\n",
    "    b::Float64;\n",
    "    tol_x::Float64 = 10e-10,\n",
    "    tol_y::Float64 = 10e-10,\n",
    "    max_iter::Int64 = 100)\n",
    "    \n",
    "    #\n",
    "    p0 = a\n",
    "    p1 = b \n",
    "    fp0 = f(p0)\n",
    "    fp1 = f(p1)\n",
    "    error_abs = abs(p1-p0) \n",
    "    error_rel = abs(p1-p0)/abs(p1)\n",
    "    # comprobar que satisfacen la condicion fp0*fp1 < 0\n",
    "    if fp0*fp1 > 0 \n",
    "        error(\"Los puntos iniciales tienen el mismo signo\")\n",
    "    end\n",
    "    \n",
    "    # iteracion\n",
    "    for j in 1:max_iter\n",
    "        # verificar que los errores cumplen la desigualdad\n",
    "        if tol_x > error_rel || tol_y > abs(fp1)\n",
    "            #break\n",
    "            absoluto_raiz = abs(fp1)\n",
    "            return[\"la raiz es: $p1\",\n",
    "            \"iteraciones: $j\",\n",
    "            \"valor de la función: $fp1\",\n",
    "            \"error absoluto: $error_abs\",\n",
    "            \"error relativo: $error_rel\",\n",
    "            \"valor absoluto de la raiz: $absoluto_raiz\"]\n",
    "        end\n",
    "        \n",
    "        #reasignacion de valores\n",
    "        p2 = p1 - fp1 * (p1-p0)/(fp1-fp0)\n",
    "        \n",
    "        if p1*p0 > 0\n",
    "            p0 = p1\n",
    "        end\n",
    "        \n",
    "        #reasignacion de valores\n",
    "        p1 = p2\n",
    "        error_abs = abs(p1-p0)\n",
    "        error_rel = abs(p1-p0)/abs(p1)\n",
    "        fp0 = f(p0)\n",
    "        fp1 = f(p1)\n",
    "        \n",
    "    end\n",
    "    println(\"no converge\")    \n",
    "end\n"
   ]
  },
  {
   "cell_type": "code",
   "execution_count": 77,
   "metadata": {},
   "outputs": [
    {
     "data": {
      "text/plain": [
       "reg_falsi (generic function with 1 method)"
      ]
     },
     "execution_count": 77,
     "metadata": {},
     "output_type": "execute_result"
    }
   ],
   "source": [
    "# Regula Falsi (FRANCO)\n",
    "\n",
    "function reg_falsi(f, p0, p1; nmax=100, TOLx=10e-8, TOLf=10e-8)\n",
    "    i = 1 # iteracion inicial\n",
    "    list_p   = zeros(nmax)\n",
    "    list_f   = zeros(nmax)\n",
    "    c        = zeros(nmax)\n",
    "    list_e   = zeros(nmax)\n",
    "    converge = true\n",
    "    \n",
    "    if f(p0)*f(p1)>0\n",
    "        error(\"No hay raíz en el intervalo\")\n",
    "    else\n",
    "        while i <= nmax\n",
    "            F0 = f(p0)                                 # funcion evaluada en p₀\n",
    "            F1 = f(p1)                                 # funcion evaluada en p₁\n",
    "            \n",
    "            list_p[i] = p1 - F1 * (p1 - p0)/(F1 - F0)  # aprox de la raiz\n",
    "            list_f[i] = f(list_p[i])                   # funcion evaluada en p\n",
    "            c         = abs(list_p[i] - p1)            # error absoluto en x\n",
    "            list_e[i] = c / abs(list_p[i])             # error relativo en x\n",
    "\n",
    "            if list_e[i] < TOLx && abs(list_f[i]) < TOLf\n",
    "                return list_p[1:i], list_e[1:i], list_f[1:i]\n",
    "            \n",
    "            elseif F0*list_f[i] > 0\n",
    "                p0 = p1\n",
    "                p1 = list_p[i]\n",
    "            \n",
    "            else\n",
    "                p1 = list_p[i]\n",
    "            end\n",
    "\n",
    "            if i == nmax\n",
    "                converge = false\n",
    "                println(\"No converge luego de $nmax iteraciones\")\n",
    "                return list_p, list_e, list_f\n",
    "            end\n",
    "            \n",
    "            i +=1\n",
    "        end\n",
    "    end\n",
    "end"
   ]
  },
  {
   "cell_type": "code",
   "execution_count": 38,
   "metadata": {},
   "outputs": [
    {
     "data": {
      "text/plain": [
       "secante (generic function with 1 method)"
      ]
     },
     "execution_count": 38,
     "metadata": {},
     "output_type": "execute_result"
    }
   ],
   "source": [
    "# Secante (SANTI)\n",
    "\n",
    "function secante(f, a, b; \n",
    "        nmax=100,\n",
    "        TOLx=10.0^-8,\n",
    "        TOLf=10.0^-8)\n",
    "    \n",
    "    i = 1 #iteracion inicial\n",
    "    list_p   = zeros(nmax)\n",
    "    list_f   = zeros(nmax)\n",
    "    c        = zeros(nmax)\n",
    "    list_e   = zeros(nmax)\n",
    "    converge = true\n",
    "    \n",
    "    \n",
    "    while i <= nmax\n",
    "        FA        = f(a)          # funcion evaluada en a\n",
    "        list_p[i] = a + (b-a) / 2 # aprox de la raiz\n",
    "        list_f[i] = f(list_p[i])         # funcion evaluada en p\n",
    "        c[i]      = abs(b-a) / 2  # error absoluto en x\n",
    "        list_e[i] = c[i] / (abs(list_p[i]))  # error relativo en x\n",
    "    \n",
    "        \n",
    "        \n",
    "    end\n",
    "    \n",
    "    p0 = a\n",
    "    p1 = b\n",
    "    fp0 = f(p0)\n",
    "    fp1 = f(p1)\n",
    "    error_abs = abs(p1-p0)\n",
    "    error_rel = abs(p1-p0)/abs(p1)\n",
    "    i = 1\n",
    "    \n",
    "    \n",
    "    for i ∈ 1:maxiter\n",
    "        \n",
    "        \n",
    "        if x_tol > error_rel || y_tol > abs(fp1)\n",
    "            break\n",
    "        end        \n",
    "        \n",
    "        p2 = p1 - fp1 * (p1-p0)/(fp1-fp0)  # Paso n-ésimo del algoritmo, aca p2 es nuestra aproximación.\n",
    "        \n",
    "        p0 = p1  # Valuo nuevamente las variables.\n",
    "        p1 = p2\n",
    "        \n",
    "        error_abs = abs(p1-p0) # Vuelvo a calcular los errores y los valores de las funciones.\n",
    "        error_rel = abs(p1-p0)/abs(p1)\n",
    "        fp0 = f(p0)\n",
    "        fp1 = f(p1)\n",
    "        i += 1\n",
    "    end\n",
    "    absoluto_raiz = abs(fp1)\n",
    "    return[\"la raiz es: $p1\",\n",
    "        \"iteraciones $i\",\n",
    "        \"valor de la función: $fp1\",\n",
    "        \"error absoluto $error_abs\",\n",
    "        \"error relativo $error_rel\",\n",
    "        \"valor absoluto de la raiz $absoluto_raiz\"]\n",
    "    \n",
    "end"
   ]
  },
  {
   "cell_type": "code",
   "execution_count": 75,
   "metadata": {},
   "outputs": [
    {
     "data": {
      "text/plain": [
       "secant (generic function with 1 method)"
      ]
     },
     "execution_count": 75,
     "metadata": {},
     "output_type": "execute_result"
    }
   ],
   "source": [
    "#secante (FRANCO)\n",
    "\n",
    "function secant(f, p0, p1; nmax=100, TOLx=10e-8, TOLf=10e-8)\n",
    "    i = 1 # iteracion inicial\n",
    "    list_p   = zeros(nmax)\n",
    "    list_f   = zeros(nmax)\n",
    "    c        = zeros(nmax)\n",
    "    list_e   = zeros(nmax)\n",
    "    converge = true\n",
    "    \n",
    "    while i <= nmax\n",
    "        F0 = f(p0)                                #funcion evaluada en p₀\n",
    "        F1 = f(p1)                                #funcion evaluada en p₁\n",
    "        list_p[i] = p1 - F1 * (p1 - p0)/(F1 - F0) # aprox de la raiz\n",
    "        list_f[i] = f(list_p[i])                  # funcion evaluada en p\n",
    "        c = abs(list_p[i] - p1)                   # error absoluto en x\n",
    "        list_e[i] = c / (abs(list_p[i]))          # error relativo en x\n",
    "\n",
    "        if list_e[i] < TOLx && abs(list_f[i]) < TOLf\n",
    "            return list_p[1:i], list_e[1:i], list_f[1:i]\n",
    "        else\n",
    "            p0 = p1\n",
    "            p1 = list_p[i]\n",
    "        end\n",
    "\n",
    "        if i == nmax\n",
    "            println(\"No converge luego de $nmax iteraciones\")\n",
    "            return list_p, list_e, list_f\n",
    "        end\n",
    "        \n",
    "        i +=1\n",
    "    end\n",
    "end"
   ]
  },
  {
   "cell_type": "code",
   "execution_count": 74,
   "metadata": {},
   "outputs": [
    {
     "data": {
      "text/plain": [
       "([2.451442192520779, 2.2866998212373244, 2.275916396674078, 2.275210064345758, 2.2751637963227105, 2.2751607655450496, 2.275160567014522, 2.275160554009817], [1.0396157067275487, 0.07204372421488761, 0.004738058295552831, 0.00031044708327763884, 2.033612837999011e-5, 1.3321158252803821e-6, 8.726000725023079e-8, 5.715950395507534e-9], [2.449486623306182, 0.16109398204879888, 0.010555200831436906, 0.0006914283649219755, 4.529193805957732e-5, 2.9668402437010855e-6, 1.9434231290915704e-7, 1.2730360765544901e-8])"
      ]
     },
     "execution_count": 74,
     "metadata": {},
     "output_type": "execute_result"
    }
   ],
   "source": [
    "enc_bis       = bisection(f,0,5)\n",
    "enc_nr        = newton_rapson(f,df,0)\n",
    "enc_sec       = secant(f,0.,5.)\n",
    "enc_rf_franco = reg_falsi(f,0,5)"
   ]
  },
  {
   "cell_type": "code",
   "execution_count": 34,
   "metadata": {},
   "outputs": [
    {
     "data": {
      "text/plain": [
       "6-element Vector{String}:\n",
       " \"la raiz es: 2.275160553157946\"\n",
       " \"iteraciones: 10\"\n",
       " \"valor de la función: 8.33894731044893e-10\"\n",
       " \"error absoluto: 2.275160553157946\"\n",
       " \"error relativo: 1.0\"\n",
       " \"valor absoluto de la raiz: 8.33894731044893e-10\""
      ]
     },
     "execution_count": 34,
     "metadata": {},
     "output_type": "execute_result"
    }
   ],
   "source": [
    "enc_rf_santi = regula_falsi(f,0.,5.)"
   ]
  },
  {
   "cell_type": "code",
   "execution_count": 49,
   "metadata": {},
   "outputs": [
    {
     "data": {
      "image/svg+xml": [
       "<?xml version=\"1.0\" encoding=\"utf-8\"?>\n",
       "<svg xmlns=\"http://www.w3.org/2000/svg\" xmlns:xlink=\"http://www.w3.org/1999/xlink\" width=\"600\" height=\"400\" viewBox=\"0 0 2400 1600\">\n",
       "<defs>\n",
       "  <clipPath id=\"clip340\">\n",
       "    <rect x=\"0\" y=\"0\" width=\"2400\" height=\"1600\"/>\n",
       "  </clipPath>\n",
       "</defs>\n",
       "<path clip-path=\"url(#clip340)\" d=\"M0 1600 L2400 1600 L2400 0 L0 0  Z\" fill=\"#ffffff\" fill-rule=\"evenodd\" fill-opacity=\"1\"/>\n",
       "<defs>\n",
       "  <clipPath id=\"clip341\">\n",
       "    <rect x=\"480\" y=\"0\" width=\"1681\" height=\"1600\"/>\n",
       "  </clipPath>\n",
       "</defs>\n",
       "<path clip-path=\"url(#clip340)\" d=\"M251.56 1410.9 L2352.76 1410.9 L2352.76 47.2441 L251.56 47.2441  Z\" fill=\"#ffffff\" fill-rule=\"evenodd\" fill-opacity=\"1\"/>\n",
       "<defs>\n",
       "  <clipPath id=\"clip342\">\n",
       "    <rect x=\"251\" y=\"47\" width=\"2102\" height=\"1365\"/>\n",
       "  </clipPath>\n",
       "</defs>\n",
       "<polyline clip-path=\"url(#clip342)\" style=\"stroke:#000000; stroke-linecap:round; stroke-linejoin:round; stroke-width:2; stroke-opacity:0.1; fill:none\" points=\"311.028,1410.9 311.028,47.2441 \"/>\n",
       "<polyline clip-path=\"url(#clip342)\" style=\"stroke:#000000; stroke-linecap:round; stroke-linejoin:round; stroke-width:2; stroke-opacity:0.1; fill:none\" points=\"1653,1410.9 1653,47.2441 \"/>\n",
       "<polyline clip-path=\"url(#clip340)\" style=\"stroke:#000000; stroke-linecap:round; stroke-linejoin:round; stroke-width:4; stroke-opacity:1; fill:none\" points=\"251.56,1410.9 2352.76,1410.9 \"/>\n",
       "<polyline clip-path=\"url(#clip340)\" style=\"stroke:#000000; stroke-linecap:round; stroke-linejoin:round; stroke-width:4; stroke-opacity:1; fill:none\" points=\"311.028,1410.9 311.028,1392 \"/>\n",
       "<polyline clip-path=\"url(#clip340)\" style=\"stroke:#000000; stroke-linecap:round; stroke-linejoin:round; stroke-width:4; stroke-opacity:1; fill:none\" points=\"1653,1410.9 1653,1392 \"/>\n",
       "<path clip-path=\"url(#clip340)\" d=\"M276.011 1485.02 L283.65 1485.02 L283.65 1458.66 L275.34 1460.32 L275.34 1456.06 L283.603 1454.4 L288.279 1454.4 L288.279 1485.02 L295.918 1485.02 L295.918 1488.96 L276.011 1488.96 L276.011 1485.02 Z\" fill=\"#000000\" fill-rule=\"evenodd\" fill-opacity=\"1\" /><path clip-path=\"url(#clip340)\" d=\"M315.363 1457.48 Q311.751 1457.48 309.923 1461.04 Q308.117 1464.58 308.117 1471.71 Q308.117 1478.82 309.923 1482.38 Q311.751 1485.92 315.363 1485.92 Q318.997 1485.92 320.802 1482.38 Q322.631 1478.82 322.631 1471.71 Q322.631 1464.58 320.802 1461.04 Q318.997 1457.48 315.363 1457.48 M315.363 1453.77 Q321.173 1453.77 324.228 1458.38 Q327.307 1462.96 327.307 1471.71 Q327.307 1480.44 324.228 1485.04 Q321.173 1489.63 315.363 1489.63 Q309.552 1489.63 306.474 1485.04 Q303.418 1480.44 303.418 1471.71 Q303.418 1462.96 306.474 1458.38 Q309.552 1453.77 315.363 1453.77 Z\" fill=\"#000000\" fill-rule=\"evenodd\" fill-opacity=\"1\" /><path clip-path=\"url(#clip340)\" d=\"M337.012 1435.97 Q334.078 1435.97 332.592 1438.86 Q331.125 1441.74 331.125 1447.53 Q331.125 1453.31 332.592 1456.2 Q334.078 1459.08 337.012 1459.08 Q339.965 1459.08 341.432 1456.2 Q342.917 1453.31 342.917 1447.53 Q342.917 1441.74 341.432 1438.86 Q339.965 1435.97 337.012 1435.97 M337.012 1432.96 Q341.732 1432.96 344.215 1436.7 Q346.717 1440.43 346.717 1447.53 Q346.717 1454.62 344.215 1458.37 Q341.732 1462.09 337.012 1462.09 Q332.291 1462.09 329.79 1458.37 Q327.307 1454.62 327.307 1447.53 Q327.307 1440.43 329.79 1436.7 Q332.291 1432.96 337.012 1432.96 Z\" fill=\"#000000\" fill-rule=\"evenodd\" fill-opacity=\"1\" /><path clip-path=\"url(#clip340)\" d=\"M1619.33 1485.02 L1626.97 1485.02 L1626.97 1458.66 L1618.66 1460.32 L1618.66 1456.06 L1626.92 1454.4 L1631.6 1454.4 L1631.6 1485.02 L1639.24 1485.02 L1639.24 1488.96 L1619.33 1488.96 L1619.33 1485.02 Z\" fill=\"#000000\" fill-rule=\"evenodd\" fill-opacity=\"1\" /><path clip-path=\"url(#clip340)\" d=\"M1658.68 1457.48 Q1655.07 1457.48 1653.24 1461.04 Q1651.44 1464.58 1651.44 1471.71 Q1651.44 1478.82 1653.24 1482.38 Q1655.07 1485.92 1658.68 1485.92 Q1662.32 1485.92 1664.12 1482.38 Q1665.95 1478.82 1665.95 1471.71 Q1665.95 1464.58 1664.12 1461.04 Q1662.32 1457.48 1658.68 1457.48 M1658.68 1453.77 Q1664.49 1453.77 1667.55 1458.38 Q1670.63 1462.96 1670.63 1471.71 Q1670.63 1480.44 1667.55 1485.04 Q1664.49 1489.63 1658.68 1489.63 Q1652.87 1489.63 1649.79 1485.04 Q1646.74 1480.44 1646.74 1471.71 Q1646.74 1462.96 1649.79 1458.38 Q1652.87 1453.77 1658.68 1453.77 Z\" fill=\"#000000\" fill-rule=\"evenodd\" fill-opacity=\"1\" /><path clip-path=\"url(#clip340)\" d=\"M1671.17 1458.35 L1677.38 1458.35 L1677.38 1436.93 L1670.63 1438.28 L1670.63 1434.82 L1677.34 1433.47 L1681.14 1433.47 L1681.14 1458.35 L1687.35 1458.35 L1687.35 1461.55 L1671.17 1461.55 L1671.17 1458.35 Z\" fill=\"#000000\" fill-rule=\"evenodd\" fill-opacity=\"1\" /><path clip-path=\"url(#clip340)\" d=\"M1126.53 1526.67 L1132.96 1526.67 L1132.96 1574.19 L1126.53 1574.19 L1126.53 1526.67 Z\" fill=\"#000000\" fill-rule=\"evenodd\" fill-opacity=\"1\" /><path clip-path=\"url(#clip340)\" d=\"M1151.29 1528.42 L1151.29 1538.54 L1163.35 1538.54 L1163.35 1543.09 L1151.29 1543.09 L1151.29 1562.44 Q1151.29 1566.8 1152.47 1568.04 Q1153.68 1569.28 1157.34 1569.28 L1163.35 1569.28 L1163.35 1574.19 L1157.34 1574.19 Q1150.56 1574.19 1147.98 1571.67 Q1145.4 1569.12 1145.4 1562.44 L1145.4 1543.09 L1141.11 1543.09 L1141.11 1538.54 L1145.4 1538.54 L1145.4 1528.42 L1151.29 1528.42 Z\" fill=\"#000000\" fill-rule=\"evenodd\" fill-opacity=\"1\" /><path clip-path=\"url(#clip340)\" d=\"M1201.55 1554.9 L1201.55 1557.76 L1174.62 1557.76 Q1175 1563.81 1178.25 1566.99 Q1181.53 1570.14 1187.35 1570.14 Q1190.73 1570.14 1193.88 1569.32 Q1197.06 1568.49 1200.18 1566.83 L1200.18 1572.37 Q1197.03 1573.71 1193.72 1574.41 Q1190.41 1575.11 1187 1575.11 Q1178.47 1575.11 1173.48 1570.14 Q1168.51 1565.18 1168.51 1556.71 Q1168.51 1547.96 1173.22 1542.83 Q1177.96 1537.68 1185.98 1537.68 Q1193.18 1537.68 1197.35 1542.33 Q1201.55 1546.94 1201.55 1554.9 M1195.69 1553.18 Q1195.63 1548.37 1192.99 1545.51 Q1190.38 1542.64 1186.05 1542.64 Q1181.15 1542.64 1178.19 1545.41 Q1175.26 1548.18 1174.81 1553.21 L1195.69 1553.18 Z\" fill=\"#000000\" fill-rule=\"evenodd\" fill-opacity=\"1\" /><path clip-path=\"url(#clip340)\" d=\"M1231.82 1544.01 Q1230.83 1543.44 1229.65 1543.18 Q1228.51 1542.9 1227.11 1542.9 Q1222.14 1542.9 1219.47 1546.14 Q1216.83 1549.36 1216.83 1555.41 L1216.83 1574.19 L1210.94 1574.19 L1210.94 1538.54 L1216.83 1538.54 L1216.83 1544.08 Q1218.67 1540.83 1221.63 1539.27 Q1224.59 1537.68 1228.83 1537.68 Q1229.43 1537.68 1230.16 1537.77 Q1230.89 1537.84 1231.79 1538 L1231.82 1544.01 Z\" fill=\"#000000\" fill-rule=\"evenodd\" fill-opacity=\"1\" /><path clip-path=\"url(#clip340)\" d=\"M1254.16 1556.27 Q1247.06 1556.27 1244.33 1557.89 Q1241.59 1559.51 1241.59 1563.43 Q1241.59 1566.55 1243.63 1568.39 Q1245.69 1570.21 1249.23 1570.21 Q1254.1 1570.21 1257.03 1566.77 Q1259.99 1563.3 1259.99 1557.57 L1259.99 1556.27 L1254.16 1556.27 M1265.84 1553.85 L1265.84 1574.19 L1259.99 1574.19 L1259.99 1568.77 Q1257.98 1572.02 1254.99 1573.58 Q1252 1575.11 1247.67 1575.11 Q1242.19 1575.11 1238.95 1572.05 Q1235.73 1568.97 1235.73 1563.81 Q1235.73 1557.79 1239.74 1554.74 Q1243.78 1551.68 1251.77 1551.68 L1259.99 1551.68 L1259.99 1551.11 Q1259.99 1547.07 1257.31 1544.87 Q1254.67 1542.64 1249.86 1542.64 Q1246.81 1542.64 1243.91 1543.38 Q1241.02 1544.11 1238.34 1545.57 L1238.34 1540.16 Q1241.56 1538.92 1244.58 1538.31 Q1247.6 1537.68 1250.47 1537.68 Q1258.2 1537.68 1262.02 1541.69 Q1265.84 1545.7 1265.84 1553.85 Z\" fill=\"#000000\" fill-rule=\"evenodd\" fill-opacity=\"1\" /><path clip-path=\"url(#clip340)\" d=\"M1303.56 1539.91 L1303.56 1545.38 Q1301.08 1544.01 1298.56 1543.34 Q1296.08 1542.64 1293.53 1542.64 Q1287.84 1542.64 1284.68 1546.27 Q1281.53 1549.87 1281.53 1556.39 Q1281.53 1562.92 1284.68 1566.55 Q1287.84 1570.14 1293.53 1570.14 Q1296.08 1570.14 1298.56 1569.47 Q1301.08 1568.77 1303.56 1567.41 L1303.56 1572.82 Q1301.11 1573.96 1298.47 1574.54 Q1295.86 1575.11 1292.9 1575.11 Q1284.84 1575.11 1280.1 1570.05 Q1275.36 1564.99 1275.36 1556.39 Q1275.36 1547.67 1280.13 1542.68 Q1284.94 1537.68 1293.28 1537.68 Q1295.98 1537.68 1298.56 1538.25 Q1301.14 1538.79 1303.56 1539.91 Z\" fill=\"#000000\" fill-rule=\"evenodd\" fill-opacity=\"1\" /><path clip-path=\"url(#clip340)\" d=\"M1313.74 1538.54 L1319.6 1538.54 L1319.6 1574.19 L1313.74 1574.19 L1313.74 1538.54 M1313.74 1524.66 L1319.6 1524.66 L1319.6 1532.08 L1313.74 1532.08 L1313.74 1524.66 Z\" fill=\"#000000\" fill-rule=\"evenodd\" fill-opacity=\"1\" /><path clip-path=\"url(#clip340)\" d=\"M1345.67 1542.64 Q1340.96 1542.64 1338.22 1546.34 Q1335.48 1550 1335.48 1556.39 Q1335.48 1562.79 1338.19 1566.48 Q1340.93 1570.14 1345.67 1570.14 Q1350.35 1570.14 1353.08 1566.45 Q1355.82 1562.76 1355.82 1556.39 Q1355.82 1550.06 1353.08 1546.37 Q1350.35 1542.64 1345.67 1542.64 M1345.67 1537.68 Q1353.31 1537.68 1357.67 1542.64 Q1362.03 1547.61 1362.03 1556.39 Q1362.03 1565.15 1357.67 1570.14 Q1353.31 1575.11 1345.67 1575.11 Q1338 1575.11 1333.64 1570.14 Q1329.31 1565.15 1329.31 1556.39 Q1329.31 1547.61 1333.64 1542.64 Q1338 1537.68 1345.67 1537.68 Z\" fill=\"#000000\" fill-rule=\"evenodd\" fill-opacity=\"1\" /><path clip-path=\"url(#clip340)\" d=\"M1401.37 1552.67 L1401.37 1574.19 L1395.51 1574.19 L1395.51 1552.86 Q1395.51 1547.8 1393.54 1545.29 Q1391.56 1542.77 1387.62 1542.77 Q1382.88 1542.77 1380.14 1545.79 Q1377.4 1548.82 1377.4 1554.04 L1377.4 1574.19 L1371.51 1574.19 L1371.51 1538.54 L1377.4 1538.54 L1377.4 1544.08 Q1379.5 1540.86 1382.33 1539.27 Q1385.2 1537.68 1388.92 1537.68 Q1395.07 1537.68 1398.22 1541.5 Q1401.37 1545.29 1401.37 1552.67 Z\" fill=\"#000000\" fill-rule=\"evenodd\" fill-opacity=\"1\" /><path clip-path=\"url(#clip340)\" d=\"M1443.54 1554.9 L1443.54 1557.76 L1416.61 1557.76 Q1417 1563.81 1420.24 1566.99 Q1423.52 1570.14 1429.34 1570.14 Q1432.72 1570.14 1435.87 1569.32 Q1439.05 1568.49 1442.17 1566.83 L1442.17 1572.37 Q1439.02 1573.71 1435.71 1574.41 Q1432.4 1575.11 1428.99 1575.11 Q1420.46 1575.11 1415.47 1570.14 Q1410.5 1565.18 1410.5 1556.71 Q1410.5 1547.96 1415.21 1542.83 Q1419.96 1537.68 1427.98 1537.68 Q1435.17 1537.68 1439.34 1542.33 Q1443.54 1546.94 1443.54 1554.9 M1437.68 1553.18 Q1437.62 1548.37 1434.98 1545.51 Q1432.37 1542.64 1428.04 1542.64 Q1423.14 1542.64 1420.18 1545.41 Q1417.25 1548.18 1416.8 1553.21 L1437.68 1553.18 Z\" fill=\"#000000\" fill-rule=\"evenodd\" fill-opacity=\"1\" /><path clip-path=\"url(#clip340)\" d=\"M1475.88 1539.59 L1475.88 1545.13 Q1473.4 1543.85 1470.72 1543.22 Q1468.05 1542.58 1465.18 1542.58 Q1460.82 1542.58 1458.63 1543.92 Q1456.46 1545.25 1456.46 1547.93 Q1456.46 1549.96 1458.02 1551.14 Q1459.58 1552.29 1464.29 1553.34 L1466.3 1553.78 Q1472.54 1555.12 1475.15 1557.57 Q1477.79 1559.99 1477.79 1564.35 Q1477.79 1569.32 1473.84 1572.21 Q1469.93 1575.11 1463.05 1575.11 Q1460.19 1575.11 1457.07 1574.54 Q1453.98 1573.99 1450.54 1572.88 L1450.54 1566.83 Q1453.79 1568.52 1456.94 1569.38 Q1460.09 1570.21 1463.18 1570.21 Q1467.32 1570.21 1469.54 1568.81 Q1471.77 1567.37 1471.77 1564.8 Q1471.77 1562.41 1470.15 1561.14 Q1468.56 1559.86 1463.11 1558.68 L1461.08 1558.21 Q1455.64 1557.06 1453.22 1554.71 Q1450.8 1552.32 1450.8 1548.18 Q1450.8 1543.15 1454.36 1540.42 Q1457.93 1537.68 1464.48 1537.68 Q1467.73 1537.68 1470.59 1538.16 Q1473.46 1538.63 1475.88 1539.59 Z\" fill=\"#000000\" fill-rule=\"evenodd\" fill-opacity=\"1\" /><polyline clip-path=\"url(#clip342)\" style=\"stroke:#000000; stroke-linecap:round; stroke-linejoin:round; stroke-width:2; stroke-opacity:0.1; fill:none\" points=\"251.56,827.185 2352.76,827.185 \"/>\n",
       "<polyline clip-path=\"url(#clip342)\" style=\"stroke:#000000; stroke-linecap:round; stroke-linejoin:round; stroke-width:2; stroke-opacity:0.1; fill:none\" points=\"251.56,88.3313 2352.76,88.3313 \"/>\n",
       "<polyline clip-path=\"url(#clip340)\" style=\"stroke:#000000; stroke-linecap:round; stroke-linejoin:round; stroke-width:4; stroke-opacity:1; fill:none\" points=\"251.56,1410.9 251.56,47.2441 \"/>\n",
       "<polyline clip-path=\"url(#clip340)\" style=\"stroke:#000000; stroke-linecap:round; stroke-linejoin:round; stroke-width:4; stroke-opacity:1; fill:none\" points=\"251.56,827.185 270.458,827.185 \"/>\n",
       "<polyline clip-path=\"url(#clip340)\" style=\"stroke:#000000; stroke-linecap:round; stroke-linejoin:round; stroke-width:4; stroke-opacity:1; fill:none\" points=\"251.56,88.3313 270.458,88.3313 \"/>\n",
       "<path clip-path=\"url(#clip340)\" d=\"M114.931 846.977 L122.57 846.977 L122.57 820.612 L114.26 822.279 L114.26 818.019 L122.524 816.353 L127.2 816.353 L127.2 846.977 L134.839 846.977 L134.839 850.913 L114.931 850.913 L114.931 846.977 Z\" fill=\"#000000\" fill-rule=\"evenodd\" fill-opacity=\"1\" /><path clip-path=\"url(#clip340)\" d=\"M154.283 819.431 Q150.672 819.431 148.843 822.996 Q147.038 826.538 147.038 833.667 Q147.038 840.774 148.843 844.339 Q150.672 847.88 154.283 847.88 Q157.917 847.88 159.723 844.339 Q161.552 840.774 161.552 833.667 Q161.552 826.538 159.723 822.996 Q157.917 819.431 154.283 819.431 M154.283 815.728 Q160.093 815.728 163.149 820.334 Q166.227 824.917 166.227 833.667 Q166.227 842.394 163.149 847.001 Q160.093 851.584 154.283 851.584 Q148.473 851.584 145.394 847.001 Q142.339 842.394 142.339 833.667 Q142.339 824.917 145.394 820.334 Q148.473 815.728 154.283 815.728 Z\" fill=\"#000000\" fill-rule=\"evenodd\" fill-opacity=\"1\" /><path clip-path=\"url(#clip340)\" d=\"M166.227 809.829 L190.339 809.829 L190.339 813.026 L166.227 813.026 L166.227 809.829 Z\" fill=\"#000000\" fill-rule=\"evenodd\" fill-opacity=\"1\" /><path clip-path=\"url(#clip340)\" d=\"M198.577 795.422 L213.491 795.422 L213.491 798.62 L202.056 798.62 L202.056 805.503 Q202.884 805.221 203.711 805.089 Q204.539 804.939 205.366 804.939 Q210.068 804.939 212.814 807.516 Q215.56 810.092 215.56 814.493 Q215.56 819.026 212.739 821.546 Q209.918 824.048 204.783 824.048 Q203.015 824.048 201.172 823.747 Q199.348 823.446 197.392 822.844 L197.392 819.026 Q199.085 819.948 200.89 820.399 Q202.696 820.85 204.708 820.85 Q207.962 820.85 209.861 819.139 Q211.761 817.427 211.761 814.493 Q211.761 811.559 209.861 809.848 Q207.962 808.136 204.708 808.136 Q203.185 808.136 201.661 808.475 Q200.157 808.813 198.577 809.528 L198.577 795.422 Z\" fill=\"#000000\" fill-rule=\"evenodd\" fill-opacity=\"1\" /><path clip-path=\"url(#clip340)\" d=\"M144.855 108.124 L152.493 108.124 L152.493 81.7582 L144.183 83.4248 L144.183 79.1656 L152.447 77.4989 L157.123 77.4989 L157.123 108.124 L164.762 108.124 L164.762 112.059 L144.855 112.059 L144.855 108.124 Z\" fill=\"#000000\" fill-rule=\"evenodd\" fill-opacity=\"1\" /><path clip-path=\"url(#clip340)\" d=\"M184.206 80.5776 Q180.595 80.5776 178.766 84.1424 Q176.961 87.6841 176.961 94.8137 Q176.961 101.92 178.766 105.485 Q180.595 109.027 184.206 109.027 Q187.84 109.027 189.646 105.485 Q191.475 101.92 191.475 94.8137 Q191.475 87.6841 189.646 84.1424 Q187.84 80.5776 184.206 80.5776 M184.206 76.8739 Q190.016 76.8739 193.072 81.4804 Q196.151 86.0637 196.151 94.8137 Q196.151 103.54 193.072 108.147 Q190.016 112.73 184.206 112.73 Q178.396 112.73 175.317 108.147 Q172.262 103.54 172.262 94.8137 Q172.262 86.0637 175.317 81.4804 Q178.396 76.8739 184.206 76.8739 Z\" fill=\"#000000\" fill-rule=\"evenodd\" fill-opacity=\"1\" /><path clip-path=\"url(#clip340)\" d=\"M205.855 59.07 Q202.921 59.07 201.436 61.9664 Q199.969 64.844 199.969 70.6368 Q199.969 76.4107 201.436 79.3071 Q202.921 82.1847 205.855 82.1847 Q208.808 82.1847 210.275 79.3071 Q211.761 76.4107 211.761 70.6368 Q211.761 64.844 210.275 61.9664 Q208.808 59.07 205.855 59.07 M205.855 56.0607 Q210.576 56.0607 213.059 59.8035 Q215.56 63.5274 215.56 70.6368 Q215.56 77.7273 213.059 81.47 Q210.576 85.194 205.855 85.194 Q201.135 85.194 198.633 81.47 Q196.151 77.7273 196.151 70.6368 Q196.151 63.5274 198.633 59.8035 Q201.135 56.0607 205.855 56.0607 Z\" fill=\"#000000\" fill-rule=\"evenodd\" fill-opacity=\"1\" /><path clip-path=\"url(#clip340)\" d=\"M16.4842 936.72 L16.4842 906.674 L21.895 906.674 L21.895 930.29 L35.9632 930.29 L35.9632 907.66 L41.3741 907.66 L41.3741 930.29 L58.5933 930.29 L58.5933 906.101 L64.0042 906.101 L64.0042 936.72 L16.4842 936.72 Z\" fill=\"#000000\" fill-rule=\"evenodd\" fill-opacity=\"1\" /><path clip-path=\"url(#clip340)\" d=\"M33.8307 875.132 Q33.2578 876.118 33.0032 877.296 Q32.7167 878.442 32.7167 879.842 Q32.7167 884.807 35.9632 887.481 Q39.1779 890.123 45.2253 890.123 L64.0042 890.123 L64.0042 896.011 L28.3562 896.011 L28.3562 890.123 L33.8944 890.123 Q30.6479 888.277 29.0883 885.317 Q27.4968 882.357 27.4968 878.123 Q27.4968 877.519 27.5923 876.787 Q27.656 876.055 27.8151 875.163 L33.8307 875.132 Z\" fill=\"#000000\" fill-rule=\"evenodd\" fill-opacity=\"1\" /><path clip-path=\"url(#clip340)\" d=\"M33.8307 849.478 Q33.2578 850.464 33.0032 851.642 Q32.7167 852.788 32.7167 854.188 Q32.7167 859.154 35.9632 861.827 Q39.1779 864.469 45.2253 864.469 L64.0042 864.469 L64.0042 870.357 L28.3562 870.357 L28.3562 864.469 L33.8944 864.469 Q30.6479 862.623 29.0883 859.663 Q27.4968 856.703 27.4968 852.47 Q27.4968 851.865 27.5923 851.133 Q27.656 850.401 27.8151 849.51 L33.8307 849.478 Z\" fill=\"#000000\" fill-rule=\"evenodd\" fill-opacity=\"1\" /><path clip-path=\"url(#clip340)\" d=\"M32.4621 830.954 Q32.4621 835.664 36.1542 838.401 Q39.8145 841.139 46.212 841.139 Q52.6095 841.139 56.3017 838.433 Q59.9619 835.696 59.9619 830.954 Q59.9619 826.275 56.2698 823.537 Q52.5777 820.8 46.212 820.8 Q39.8781 820.8 36.186 823.537 Q32.4621 826.275 32.4621 830.954 M27.4968 830.954 Q27.4968 823.315 32.4621 818.954 Q37.4273 814.594 46.212 814.594 Q54.9649 814.594 59.9619 818.954 Q64.9272 823.315 64.9272 830.954 Q64.9272 838.624 59.9619 842.985 Q54.9649 847.313 46.212 847.313 Q37.4273 847.313 32.4621 842.985 Q27.4968 838.624 27.4968 830.954 Z\" fill=\"#000000\" fill-rule=\"evenodd\" fill-opacity=\"1\" /><path clip-path=\"url(#clip340)\" d=\"M33.8307 784.229 Q33.2578 785.216 33.0032 786.394 Q32.7167 787.539 32.7167 788.94 Q32.7167 793.905 35.9632 796.579 Q39.1779 799.22 45.2253 799.22 L64.0042 799.22 L64.0042 805.109 L28.3562 805.109 L28.3562 799.22 L33.8944 799.22 Q30.6479 797.374 29.0883 794.414 Q27.4968 791.454 27.4968 787.221 Q27.4968 786.616 27.5923 785.884 Q27.656 785.152 27.8151 784.261 L33.8307 784.229 Z\" fill=\"#000000\" fill-rule=\"evenodd\" fill-opacity=\"1\" /><path clip-path=\"url(#clip340)\" d=\"M33.8307 736.709 Q33.2578 737.696 33.0032 738.874 Q32.7167 740.019 32.7167 741.42 Q32.7167 746.385 35.9632 749.059 Q39.1779 751.7 45.2253 751.7 L64.0042 751.7 L64.0042 757.589 L28.3562 757.589 L28.3562 751.7 L33.8944 751.7 Q30.6479 749.854 29.0883 746.894 Q27.4968 743.934 27.4968 739.701 Q27.4968 739.096 27.5923 738.364 Q27.656 737.632 27.8151 736.741 L33.8307 736.709 Z\" fill=\"#000000\" fill-rule=\"evenodd\" fill-opacity=\"1\" /><path clip-path=\"url(#clip340)\" d=\"M44.7161 701.507 L47.5806 701.507 L47.5806 728.434 Q53.6281 728.052 56.8109 724.805 Q59.9619 721.527 59.9619 715.702 Q59.9619 712.329 59.1344 709.178 Q58.3069 705.995 56.6518 702.875 L62.1899 702.875 Q63.5267 706.027 64.227 709.337 Q64.9272 712.647 64.9272 716.052 Q64.9272 724.583 59.9619 729.58 Q54.9967 734.545 46.5303 734.545 Q37.7774 734.545 32.6531 729.834 Q27.4968 725.092 27.4968 717.071 Q27.4968 709.878 32.1438 705.708 Q36.7589 701.507 44.7161 701.507 M42.9973 707.363 Q38.1912 707.427 35.3266 710.069 Q32.4621 712.679 32.4621 717.007 Q32.4621 721.909 35.2312 724.869 Q38.0002 727.797 43.0292 728.243 L42.9973 707.363 Z\" fill=\"#000000\" fill-rule=\"evenodd\" fill-opacity=\"1\" /><path clip-path=\"url(#clip340)\" d=\"M14.479 691.895 L14.479 686.038 L64.0042 686.038 L64.0042 691.895 L14.479 691.895 Z\" fill=\"#000000\" fill-rule=\"evenodd\" fill-opacity=\"1\" /><path clip-path=\"url(#clip340)\" d=\"M46.0847 657.583 Q46.0847 664.681 47.7079 667.418 Q49.3312 670.156 53.2461 670.156 Q56.3653 670.156 58.2114 668.119 Q60.0256 666.05 60.0256 662.517 Q60.0256 657.647 56.5881 654.719 Q53.1188 651.759 47.3897 651.759 L46.0847 651.759 L46.0847 657.583 M43.6657 645.902 L64.0042 645.902 L64.0042 651.759 L58.5933 651.759 Q61.8398 653.764 63.3994 656.756 Q64.9272 659.748 64.9272 664.077 Q64.9272 669.551 61.8716 672.798 Q58.7843 676.012 53.6281 676.012 Q47.6125 676.012 44.5569 672.002 Q41.5014 667.96 41.5014 659.971 L41.5014 651.759 L40.9285 651.759 Q36.8862 651.759 34.6901 654.432 Q32.4621 657.074 32.4621 661.88 Q32.4621 664.936 33.1941 667.832 Q33.9262 670.729 35.3903 673.402 L29.9795 673.402 Q28.7381 670.188 28.1334 667.164 Q27.4968 664.14 27.4968 661.276 Q27.4968 653.541 31.5072 649.722 Q35.5176 645.902 43.6657 645.902 Z\" fill=\"#000000\" fill-rule=\"evenodd\" fill-opacity=\"1\" /><path clip-path=\"url(#clip340)\" d=\"M18.2347 628.047 L28.3562 628.047 L28.3562 615.984 L32.9077 615.984 L32.9077 628.047 L52.2594 628.047 Q56.6199 628.047 57.8613 626.869 Q59.1026 625.659 59.1026 621.999 L59.1026 615.984 L64.0042 615.984 L64.0042 621.999 Q64.0042 628.779 61.4897 631.357 Q58.9434 633.935 52.2594 633.935 L32.9077 633.935 L32.9077 638.232 L28.3562 638.232 L28.3562 633.935 L18.2347 633.935 L18.2347 628.047 Z\" fill=\"#000000\" fill-rule=\"evenodd\" fill-opacity=\"1\" /><path clip-path=\"url(#clip340)\" d=\"M28.3562 608.281 L28.3562 602.425 L64.0042 602.425 L64.0042 608.281 L28.3562 608.281 M14.479 608.281 L14.479 602.425 L21.895 602.425 L21.895 608.281 L14.479 608.281 Z\" fill=\"#000000\" fill-rule=\"evenodd\" fill-opacity=\"1\" /><path clip-path=\"url(#clip340)\" d=\"M28.3562 594.372 L28.3562 588.165 L58.275 577.025 L28.3562 565.885 L28.3562 559.679 L64.0042 573.047 L64.0042 581.004 L28.3562 594.372 Z\" fill=\"#000000\" fill-rule=\"evenodd\" fill-opacity=\"1\" /><path clip-path=\"url(#clip340)\" d=\"M32.4621 537.781 Q32.4621 542.492 36.1542 545.229 Q39.8145 547.966 46.212 547.966 Q52.6095 547.966 56.3017 545.261 Q59.9619 542.523 59.9619 537.781 Q59.9619 533.102 56.2698 530.365 Q52.5777 527.628 46.212 527.628 Q39.8781 527.628 36.186 530.365 Q32.4621 533.102 32.4621 537.781 M27.4968 537.781 Q27.4968 530.142 32.4621 525.782 Q37.4273 521.421 46.212 521.421 Q54.9649 521.421 59.9619 525.782 Q64.9272 530.142 64.9272 537.781 Q64.9272 545.452 59.9619 549.812 Q54.9649 554.141 46.212 554.141 Q37.4273 554.141 32.4621 549.812 Q27.4968 545.452 27.4968 537.781 Z\" fill=\"#000000\" fill-rule=\"evenodd\" fill-opacity=\"1\" /><circle clip-path=\"url(#clip342)\" cx=\"311.028\" cy=\"88.3313\" r=\"14.4\" fill=\"#009af9\" fill-rule=\"evenodd\" fill-opacity=\"1\" stroke=\"#000000\" stroke-opacity=\"1\" stroke-width=\"3.2\"/>\n",
       "<circle clip-path=\"url(#clip342)\" cx=\"715.003\" cy=\"88.3313\" r=\"14.4\" fill=\"#009af9\" fill-rule=\"evenodd\" fill-opacity=\"1\" stroke=\"#000000\" stroke-opacity=\"1\" stroke-width=\"3.2\"/>\n",
       "<circle clip-path=\"url(#clip342)\" cx=\"951.313\" cy=\"158.836\" r=\"14.4\" fill=\"#009af9\" fill-rule=\"evenodd\" fill-opacity=\"1\" stroke=\"#000000\" stroke-opacity=\"1\" stroke-width=\"3.2\"/>\n",
       "<circle clip-path=\"url(#clip342)\" cx=\"1118.98\" cy=\"213.212\" r=\"14.4\" fill=\"#009af9\" fill-rule=\"evenodd\" fill-opacity=\"1\" stroke=\"#000000\" stroke-opacity=\"1\" stroke-width=\"3.2\"/>\n",
       "<circle clip-path=\"url(#clip342)\" cx=\"1249.03\" cy=\"262.123\" r=\"14.4\" fill=\"#009af9\" fill-rule=\"evenodd\" fill-opacity=\"1\" stroke=\"#000000\" stroke-opacity=\"1\" stroke-width=\"3.2\"/>\n",
       "<circle clip-path=\"url(#clip342)\" cx=\"1355.29\" cy=\"304.431\" r=\"14.4\" fill=\"#009af9\" fill-rule=\"evenodd\" fill-opacity=\"1\" stroke=\"#000000\" stroke-opacity=\"1\" stroke-width=\"3.2\"/>\n",
       "<circle clip-path=\"url(#clip342)\" cx=\"1445.13\" cy=\"350.011\" r=\"14.4\" fill=\"#009af9\" fill-rule=\"evenodd\" fill-opacity=\"1\" stroke=\"#000000\" stroke-opacity=\"1\" stroke-width=\"3.2\"/>\n",
       "<circle clip-path=\"url(#clip342)\" cx=\"1522.95\" cy=\"393.949\" r=\"14.4\" fill=\"#009af9\" fill-rule=\"evenodd\" fill-opacity=\"1\" stroke=\"#000000\" stroke-opacity=\"1\" stroke-width=\"3.2\"/>\n",
       "<circle clip-path=\"url(#clip342)\" cx=\"1591.6\" cy=\"438.157\" r=\"14.4\" fill=\"#009af9\" fill-rule=\"evenodd\" fill-opacity=\"1\" stroke=\"#000000\" stroke-opacity=\"1\" stroke-width=\"3.2\"/>\n",
       "<circle clip-path=\"url(#clip342)\" cx=\"1653\" cy=\"482.503\" r=\"14.4\" fill=\"#009af9\" fill-rule=\"evenodd\" fill-opacity=\"1\" stroke=\"#000000\" stroke-opacity=\"1\" stroke-width=\"3.2\"/>\n",
       "<circle clip-path=\"url(#clip342)\" cx=\"1708.55\" cy=\"527.055\" r=\"14.4\" fill=\"#009af9\" fill-rule=\"evenodd\" fill-opacity=\"1\" stroke=\"#000000\" stroke-opacity=\"1\" stroke-width=\"3.2\"/>\n",
       "<circle clip-path=\"url(#clip342)\" cx=\"1759.26\" cy=\"571.573\" r=\"14.4\" fill=\"#009af9\" fill-rule=\"evenodd\" fill-opacity=\"1\" stroke=\"#000000\" stroke-opacity=\"1\" stroke-width=\"3.2\"/>\n",
       "<circle clip-path=\"url(#clip342)\" cx=\"1805.91\" cy=\"616.074\" r=\"14.4\" fill=\"#009af9\" fill-rule=\"evenodd\" fill-opacity=\"1\" stroke=\"#000000\" stroke-opacity=\"1\" stroke-width=\"3.2\"/>\n",
       "<circle clip-path=\"url(#clip342)\" cx=\"1849.1\" cy=\"660.566\" r=\"14.4\" fill=\"#009af9\" fill-rule=\"evenodd\" fill-opacity=\"1\" stroke=\"#000000\" stroke-opacity=\"1\" stroke-width=\"3.2\"/>\n",
       "<circle clip-path=\"url(#clip342)\" cx=\"1889.31\" cy=\"705.054\" r=\"14.4\" fill=\"#009af9\" fill-rule=\"evenodd\" fill-opacity=\"1\" stroke=\"#000000\" stroke-opacity=\"1\" stroke-width=\"3.2\"/>\n",
       "<circle clip-path=\"url(#clip342)\" cx=\"1926.93\" cy=\"749.535\" r=\"14.4\" fill=\"#009af9\" fill-rule=\"evenodd\" fill-opacity=\"1\" stroke=\"#000000\" stroke-opacity=\"1\" stroke-width=\"3.2\"/>\n",
       "<circle clip-path=\"url(#clip342)\" cx=\"1962.26\" cy=\"794.017\" r=\"14.4\" fill=\"#009af9\" fill-rule=\"evenodd\" fill-opacity=\"1\" stroke=\"#000000\" stroke-opacity=\"1\" stroke-width=\"3.2\"/>\n",
       "<circle clip-path=\"url(#clip342)\" cx=\"1995.57\" cy=\"838.501\" r=\"14.4\" fill=\"#009af9\" fill-rule=\"evenodd\" fill-opacity=\"1\" stroke=\"#000000\" stroke-opacity=\"1\" stroke-width=\"3.2\"/>\n",
       "<circle clip-path=\"url(#clip342)\" cx=\"2027.08\" cy=\"882.985\" r=\"14.4\" fill=\"#009af9\" fill-rule=\"evenodd\" fill-opacity=\"1\" stroke=\"#000000\" stroke-opacity=\"1\" stroke-width=\"3.2\"/>\n",
       "<circle clip-path=\"url(#clip342)\" cx=\"2056.98\" cy=\"927.468\" r=\"14.4\" fill=\"#009af9\" fill-rule=\"evenodd\" fill-opacity=\"1\" stroke=\"#000000\" stroke-opacity=\"1\" stroke-width=\"3.2\"/>\n",
       "<circle clip-path=\"url(#clip342)\" cx=\"2085.41\" cy=\"971.952\" r=\"14.4\" fill=\"#009af9\" fill-rule=\"evenodd\" fill-opacity=\"1\" stroke=\"#000000\" stroke-opacity=\"1\" stroke-width=\"3.2\"/>\n",
       "<circle clip-path=\"url(#clip342)\" cx=\"2112.53\" cy=\"1016.44\" r=\"14.4\" fill=\"#009af9\" fill-rule=\"evenodd\" fill-opacity=\"1\" stroke=\"#000000\" stroke-opacity=\"1\" stroke-width=\"3.2\"/>\n",
       "<circle clip-path=\"url(#clip342)\" cx=\"2138.43\" cy=\"1060.92\" r=\"14.4\" fill=\"#009af9\" fill-rule=\"evenodd\" fill-opacity=\"1\" stroke=\"#000000\" stroke-opacity=\"1\" stroke-width=\"3.2\"/>\n",
       "<circle clip-path=\"url(#clip342)\" cx=\"2163.24\" cy=\"1105.4\" r=\"14.4\" fill=\"#009af9\" fill-rule=\"evenodd\" fill-opacity=\"1\" stroke=\"#000000\" stroke-opacity=\"1\" stroke-width=\"3.2\"/>\n",
       "<circle clip-path=\"url(#clip342)\" cx=\"2187.03\" cy=\"1149.89\" r=\"14.4\" fill=\"#009af9\" fill-rule=\"evenodd\" fill-opacity=\"1\" stroke=\"#000000\" stroke-opacity=\"1\" stroke-width=\"3.2\"/>\n",
       "<circle clip-path=\"url(#clip342)\" cx=\"2209.89\" cy=\"1194.37\" r=\"14.4\" fill=\"#009af9\" fill-rule=\"evenodd\" fill-opacity=\"1\" stroke=\"#000000\" stroke-opacity=\"1\" stroke-width=\"3.2\"/>\n",
       "<circle clip-path=\"url(#clip342)\" cx=\"2231.88\" cy=\"1238.85\" r=\"14.4\" fill=\"#009af9\" fill-rule=\"evenodd\" fill-opacity=\"1\" stroke=\"#000000\" stroke-opacity=\"1\" stroke-width=\"3.2\"/>\n",
       "<circle clip-path=\"url(#clip342)\" cx=\"2253.08\" cy=\"1283.34\" r=\"14.4\" fill=\"#009af9\" fill-rule=\"evenodd\" fill-opacity=\"1\" stroke=\"#000000\" stroke-opacity=\"1\" stroke-width=\"3.2\"/>\n",
       "<circle clip-path=\"url(#clip342)\" cx=\"2273.53\" cy=\"1327.82\" r=\"14.4\" fill=\"#009af9\" fill-rule=\"evenodd\" fill-opacity=\"1\" stroke=\"#000000\" stroke-opacity=\"1\" stroke-width=\"3.2\"/>\n",
       "<circle clip-path=\"url(#clip342)\" cx=\"2293.29\" cy=\"1372.3\" r=\"14.4\" fill=\"#009af9\" fill-rule=\"evenodd\" fill-opacity=\"1\" stroke=\"#000000\" stroke-opacity=\"1\" stroke-width=\"3.2\"/>\n",
       "<circle clip-path=\"url(#clip342)\" cx=\"311.028\" cy=\"88.3313\" r=\"14.4\" fill=\"#e26f46\" fill-rule=\"evenodd\" fill-opacity=\"1\" stroke=\"#000000\" stroke-opacity=\"1\" stroke-width=\"3.2\"/>\n",
       "<circle clip-path=\"url(#clip342)\" cx=\"715.003\" cy=\"263.026\" r=\"14.4\" fill=\"#e26f46\" fill-rule=\"evenodd\" fill-opacity=\"1\" stroke=\"#000000\" stroke-opacity=\"1\" stroke-width=\"3.2\"/>\n",
       "<circle clip-path=\"url(#clip342)\" cx=\"951.313\" cy=\"612.647\" r=\"14.4\" fill=\"#e26f46\" fill-rule=\"evenodd\" fill-opacity=\"1\" stroke=\"#000000\" stroke-opacity=\"1\" stroke-width=\"3.2\"/>\n",
       "<circle clip-path=\"url(#clip342)\" cx=\"1118.98\" cy=\"1312.49\" r=\"14.4\" fill=\"#e26f46\" fill-rule=\"evenodd\" fill-opacity=\"1\" stroke=\"#000000\" stroke-opacity=\"1\" stroke-width=\"3.2\"/>\n",
       "<circle clip-path=\"url(#clip342)\" cx=\"311.028\" cy=\"85.838\" r=\"14.4\" fill=\"#3da44d\" fill-rule=\"evenodd\" fill-opacity=\"1\" stroke=\"#000000\" stroke-opacity=\"1\" stroke-width=\"3.2\"/>\n",
       "<circle clip-path=\"url(#clip342)\" cx=\"715.003\" cy=\"257.145\" r=\"14.4\" fill=\"#3da44d\" fill-rule=\"evenodd\" fill-opacity=\"1\" stroke=\"#000000\" stroke-opacity=\"1\" stroke-width=\"3.2\"/>\n",
       "<circle clip-path=\"url(#clip342)\" cx=\"951.313\" cy=\"431.81\" r=\"14.4\" fill=\"#3da44d\" fill-rule=\"evenodd\" fill-opacity=\"1\" stroke=\"#000000\" stroke-opacity=\"1\" stroke-width=\"3.2\"/>\n",
       "<circle clip-path=\"url(#clip342)\" cx=\"1118.98\" cy=\"606.713\" r=\"14.4\" fill=\"#3da44d\" fill-rule=\"evenodd\" fill-opacity=\"1\" stroke=\"#000000\" stroke-opacity=\"1\" stroke-width=\"3.2\"/>\n",
       "<circle clip-path=\"url(#clip342)\" cx=\"1249.03\" cy=\"781.632\" r=\"14.4\" fill=\"#3da44d\" fill-rule=\"evenodd\" fill-opacity=\"1\" stroke=\"#000000\" stroke-opacity=\"1\" stroke-width=\"3.2\"/>\n",
       "<circle clip-path=\"url(#clip342)\" cx=\"1355.29\" cy=\"956.552\" r=\"14.4\" fill=\"#3da44d\" fill-rule=\"evenodd\" fill-opacity=\"1\" stroke=\"#000000\" stroke-opacity=\"1\" stroke-width=\"3.2\"/>\n",
       "<circle clip-path=\"url(#clip342)\" cx=\"1445.13\" cy=\"1131.47\" r=\"14.4\" fill=\"#3da44d\" fill-rule=\"evenodd\" fill-opacity=\"1\" stroke=\"#000000\" stroke-opacity=\"1\" stroke-width=\"3.2\"/>\n",
       "<circle clip-path=\"url(#clip342)\" cx=\"1522.95\" cy=\"1306.39\" r=\"14.4\" fill=\"#3da44d\" fill-rule=\"evenodd\" fill-opacity=\"1\" stroke=\"#000000\" stroke-opacity=\"1\" stroke-width=\"3.2\"/>\n",
       "<circle clip-path=\"url(#clip342)\" cx=\"311.028\" cy=\"85.838\" r=\"14.4\" fill=\"#c271d2\" fill-rule=\"evenodd\" fill-opacity=\"1\" stroke=\"#000000\" stroke-opacity=\"1\" stroke-width=\"3.2\"/>\n",
       "<circle clip-path=\"url(#clip342)\" cx=\"715.003\" cy=\"247.366\" r=\"14.4\" fill=\"#c271d2\" fill-rule=\"evenodd\" fill-opacity=\"1\" stroke=\"#000000\" stroke-opacity=\"1\" stroke-width=\"3.2\"/>\n",
       "<circle clip-path=\"url(#clip342)\" cx=\"951.313\" cy=\"417.147\" r=\"14.4\" fill=\"#c271d2\" fill-rule=\"evenodd\" fill-opacity=\"1\" stroke=\"#000000\" stroke-opacity=\"1\" stroke-width=\"3.2\"/>\n",
       "<circle clip-path=\"url(#clip342)\" cx=\"1118.98\" cy=\"757.219\" r=\"14.4\" fill=\"#c271d2\" fill-rule=\"evenodd\" fill-opacity=\"1\" stroke=\"#000000\" stroke-opacity=\"1\" stroke-width=\"3.2\"/>\n",
       "<circle clip-path=\"url(#clip342)\" cx=\"1249.03\" cy=\"1261.86\" r=\"14.4\" fill=\"#c271d2\" fill-rule=\"evenodd\" fill-opacity=\"1\" stroke=\"#000000\" stroke-opacity=\"1\" stroke-width=\"3.2\"/>\n",
       "<path clip-path=\"url(#clip340)\" d=\"M1710.38 351.899 L2282.72 351.899 L2282.72 92.6992 L1710.38 92.6992  Z\" fill=\"#ffffff\" fill-rule=\"evenodd\" fill-opacity=\"1\"/>\n",
       "<polyline clip-path=\"url(#clip340)\" style=\"stroke:#000000; stroke-linecap:round; stroke-linejoin:round; stroke-width:4; stroke-opacity:1; fill:none\" points=\"1710.38,351.899 2282.72,351.899 2282.72,92.6992 1710.38,92.6992 1710.38,351.899 \"/>\n",
       "<circle clip-path=\"url(#clip340)\" cx=\"1803.76\" cy=\"144.539\" r=\"23.04\" fill=\"#009af9\" fill-rule=\"evenodd\" fill-opacity=\"1\" stroke=\"#000000\" stroke-opacity=\"1\" stroke-width=\"5.12\"/>\n",
       "<path clip-path=\"url(#clip340)\" d=\"M1901.83 145.315 L1901.83 157.977 L1909.33 157.977 Q1913.1 157.977 1914.9 156.426 Q1916.73 154.852 1916.73 151.634 Q1916.73 148.393 1914.9 146.866 Q1913.1 145.315 1909.33 145.315 L1901.83 145.315 M1901.83 131.102 L1901.83 141.518 L1908.75 141.518 Q1912.17 141.518 1913.84 140.245 Q1915.53 138.949 1915.53 136.31 Q1915.53 133.694 1913.84 132.398 Q1912.17 131.102 1908.75 131.102 L1901.83 131.102 M1897.15 127.259 L1909.09 127.259 Q1914.44 127.259 1917.33 129.481 Q1920.23 131.704 1920.23 135.801 Q1920.23 138.972 1918.75 140.847 Q1917.26 142.722 1914.39 143.185 Q1917.84 143.926 1919.74 146.287 Q1921.66 148.625 1921.66 152.143 Q1921.66 156.773 1918.51 159.296 Q1915.37 161.819 1909.56 161.819 L1897.15 161.819 L1897.15 127.259 Z\" fill=\"#000000\" fill-rule=\"evenodd\" fill-opacity=\"1\" /><path clip-path=\"url(#clip340)\" d=\"M1929.49 135.893 L1933.75 135.893 L1933.75 161.819 L1929.49 161.819 L1929.49 135.893 M1929.49 125.801 L1933.75 125.801 L1933.75 131.194 L1929.49 131.194 L1929.49 125.801 Z\" fill=\"#000000\" fill-rule=\"evenodd\" fill-opacity=\"1\" /><path clip-path=\"url(#clip340)\" d=\"M1959.19 136.657 L1959.19 140.685 Q1957.38 139.759 1955.44 139.296 Q1953.49 138.833 1951.41 138.833 Q1948.24 138.833 1946.64 139.805 Q1945.07 140.778 1945.07 142.722 Q1945.07 144.204 1946.2 145.06 Q1947.33 145.893 1950.76 146.657 L1952.22 146.981 Q1956.76 147.954 1958.65 149.736 Q1960.57 151.495 1960.57 154.666 Q1960.57 158.278 1957.7 160.384 Q1954.86 162.49 1949.86 162.49 Q1947.77 162.49 1945.51 162.074 Q1943.26 161.68 1940.76 160.87 L1940.76 156.472 Q1943.12 157.699 1945.41 158.324 Q1947.7 158.926 1949.95 158.926 Q1952.96 158.926 1954.58 157.907 Q1956.2 156.866 1956.2 154.991 Q1956.2 153.254 1955.02 152.328 Q1953.86 151.403 1949.9 150.546 L1948.42 150.199 Q1944.46 149.366 1942.7 147.653 Q1940.95 145.916 1940.95 142.907 Q1940.95 139.25 1943.54 137.259 Q1946.13 135.268 1950.9 135.268 Q1953.26 135.268 1955.34 135.616 Q1957.43 135.963 1959.19 136.657 Z\" fill=\"#000000\" fill-rule=\"evenodd\" fill-opacity=\"1\" /><path clip-path=\"url(#clip340)\" d=\"M1989.53 147.791 L1989.53 149.875 L1969.95 149.875 Q1970.23 154.273 1972.59 156.588 Q1974.97 158.879 1979.21 158.879 Q1981.66 158.879 1983.95 158.278 Q1986.27 157.676 1988.54 156.472 L1988.54 160.5 Q1986.25 161.472 1983.84 161.981 Q1981.43 162.49 1978.95 162.49 Q1972.75 162.49 1969.12 158.879 Q1965.51 155.268 1965.51 149.111 Q1965.51 142.745 1968.93 139.018 Q1972.38 135.268 1978.21 135.268 Q1983.44 135.268 1986.48 138.648 Q1989.53 142.004 1989.53 147.791 M1985.27 146.541 Q1985.23 143.046 1983.31 140.963 Q1981.41 138.879 1978.26 138.879 Q1974.7 138.879 1972.54 140.893 Q1970.41 142.907 1970.09 146.565 L1985.27 146.541 Z\" fill=\"#000000\" fill-rule=\"evenodd\" fill-opacity=\"1\" /><path clip-path=\"url(#clip340)\" d=\"M2015.18 136.889 L2015.18 140.87 Q2013.38 139.875 2011.55 139.389 Q2009.74 138.879 2007.89 138.879 Q2003.75 138.879 2001.45 141.518 Q1999.16 144.134 1999.16 148.879 Q1999.16 153.625 2001.45 156.264 Q2003.75 158.879 2007.89 158.879 Q2009.74 158.879 2011.55 158.393 Q2013.38 157.884 2015.18 156.889 L2015.18 160.824 Q2013.4 161.657 2011.48 162.074 Q2009.58 162.49 2007.43 162.49 Q2001.57 162.49 1998.12 158.81 Q1994.67 155.129 1994.67 148.879 Q1994.67 142.537 1998.14 138.903 Q2001.64 135.268 2007.7 135.268 Q2009.67 135.268 2011.55 135.685 Q2013.42 136.079 2015.18 136.889 Z\" fill=\"#000000\" fill-rule=\"evenodd\" fill-opacity=\"1\" /><path clip-path=\"url(#clip340)\" d=\"M2041.25 136.889 L2041.25 140.87 Q2039.44 139.875 2037.61 139.389 Q2035.81 138.879 2033.95 138.879 Q2029.81 138.879 2027.52 141.518 Q2025.23 144.134 2025.23 148.879 Q2025.23 153.625 2027.52 156.264 Q2029.81 158.879 2033.95 158.879 Q2035.81 158.879 2037.61 158.393 Q2039.44 157.884 2041.25 156.889 L2041.25 160.824 Q2039.46 161.657 2037.54 162.074 Q2035.64 162.49 2033.49 162.49 Q2027.63 162.49 2024.19 158.81 Q2020.74 155.129 2020.74 148.879 Q2020.74 142.537 2024.21 138.903 Q2027.7 135.268 2033.77 135.268 Q2035.74 135.268 2037.61 135.685 Q2039.49 136.079 2041.25 136.889 Z\" fill=\"#000000\" fill-rule=\"evenodd\" fill-opacity=\"1\" /><path clip-path=\"url(#clip340)\" d=\"M2048.65 135.893 L2052.91 135.893 L2052.91 161.819 L2048.65 161.819 L2048.65 135.893 M2048.65 125.801 L2052.91 125.801 L2052.91 131.194 L2048.65 131.194 L2048.65 125.801 Z\" fill=\"#000000\" fill-rule=\"evenodd\" fill-opacity=\"1\" /><path clip-path=\"url(#clip340)\" d=\"M2071.87 138.879 Q2068.44 138.879 2066.45 141.565 Q2064.46 144.227 2064.46 148.879 Q2064.46 153.532 2066.43 156.217 Q2068.42 158.879 2071.87 158.879 Q2075.27 158.879 2077.26 156.194 Q2079.25 153.509 2079.25 148.879 Q2079.25 144.273 2077.26 141.588 Q2075.27 138.879 2071.87 138.879 M2071.87 135.268 Q2077.43 135.268 2080.6 138.879 Q2083.77 142.491 2083.77 148.879 Q2083.77 155.245 2080.6 158.879 Q2077.43 162.49 2071.87 162.49 Q2066.29 162.49 2063.12 158.879 Q2059.97 155.245 2059.97 148.879 Q2059.97 142.491 2063.12 138.879 Q2066.29 135.268 2071.87 135.268 M2075.09 123.903 L2079.69 123.903 L2072.15 132.606 L2068.61 132.606 L2075.09 123.903 Z\" fill=\"#000000\" fill-rule=\"evenodd\" fill-opacity=\"1\" /><path clip-path=\"url(#clip340)\" d=\"M2112.38 146.171 L2112.38 161.819 L2108.12 161.819 L2108.12 146.31 Q2108.12 142.629 2106.69 140.801 Q2105.25 138.972 2102.38 138.972 Q2098.93 138.972 2096.94 141.171 Q2094.95 143.37 2094.95 147.166 L2094.95 161.819 L2090.67 161.819 L2090.67 135.893 L2094.95 135.893 L2094.95 139.921 Q2096.48 137.583 2098.54 136.426 Q2100.62 135.268 2103.33 135.268 Q2107.8 135.268 2110.09 138.046 Q2112.38 140.801 2112.38 146.171 Z\" fill=\"#000000\" fill-rule=\"evenodd\" fill-opacity=\"1\" /><circle clip-path=\"url(#clip340)\" cx=\"1803.76\" cy=\"196.379\" r=\"23.04\" fill=\"#e26f46\" fill-rule=\"evenodd\" fill-opacity=\"1\" stroke=\"#000000\" stroke-opacity=\"1\" stroke-width=\"5.12\"/>\n",
       "<path clip-path=\"url(#clip340)\" d=\"M1897.15 179.099 L1903.45 179.099 L1918.77 208.011 L1918.77 179.099 L1923.31 179.099 L1923.31 213.659 L1917.01 213.659 L1901.69 184.747 L1901.69 213.659 L1897.15 213.659 L1897.15 179.099 Z\" fill=\"#000000\" fill-rule=\"evenodd\" fill-opacity=\"1\" /><path clip-path=\"url(#clip340)\" d=\"M1954.6 199.631 L1954.6 201.715 L1935.02 201.715 Q1935.3 206.113 1937.66 208.428 Q1940.04 210.719 1944.28 210.719 Q1946.73 210.719 1949.02 210.118 Q1951.34 209.516 1953.61 208.312 L1953.61 212.34 Q1951.32 213.312 1948.91 213.821 Q1946.5 214.33 1944.02 214.33 Q1937.82 214.33 1934.19 210.719 Q1930.57 207.108 1930.57 200.951 Q1930.57 194.585 1934 190.858 Q1937.45 187.108 1943.28 187.108 Q1948.51 187.108 1951.55 190.488 Q1954.6 193.844 1954.6 199.631 M1950.34 198.381 Q1950.3 194.886 1948.38 192.803 Q1946.48 190.719 1943.33 190.719 Q1939.76 190.719 1937.61 192.733 Q1935.48 194.747 1935.16 198.405 L1950.34 198.381 Z\" fill=\"#000000\" fill-rule=\"evenodd\" fill-opacity=\"1\" /><path clip-path=\"url(#clip340)\" d=\"M1959.12 187.733 L1963.38 187.733 L1968.7 207.965 L1974 187.733 L1979.02 187.733 L1984.35 207.965 L1989.65 187.733 L1993.91 187.733 L1987.13 213.659 L1982.1 213.659 L1976.52 192.409 L1970.92 213.659 L1965.9 213.659 L1959.12 187.733 Z\" fill=\"#000000\" fill-rule=\"evenodd\" fill-opacity=\"1\" /><path clip-path=\"url(#clip340)\" d=\"M2004.58 180.372 L2004.58 187.733 L2013.35 187.733 L2013.35 191.044 L2004.58 191.044 L2004.58 205.118 Q2004.58 208.289 2005.44 209.192 Q2006.32 210.094 2008.98 210.094 L2013.35 210.094 L2013.35 213.659 L2008.98 213.659 Q2004.05 213.659 2002.17 211.83 Q2000.3 209.979 2000.3 205.118 L2000.3 191.044 L1997.17 191.044 L1997.17 187.733 L2000.3 187.733 L2000.3 180.372 L2004.58 180.372 Z\" fill=\"#000000\" fill-rule=\"evenodd\" fill-opacity=\"1\" /><path clip-path=\"url(#clip340)\" d=\"M2029 190.719 Q2025.57 190.719 2023.58 193.405 Q2021.59 196.067 2021.59 200.719 Q2021.59 205.372 2023.56 208.057 Q2025.55 210.719 2029 210.719 Q2032.4 210.719 2034.39 208.034 Q2036.38 205.349 2036.38 200.719 Q2036.38 196.113 2034.39 193.428 Q2032.4 190.719 2029 190.719 M2029 187.108 Q2034.56 187.108 2037.73 190.719 Q2040.9 194.331 2040.9 200.719 Q2040.9 207.085 2037.73 210.719 Q2034.56 214.33 2029 214.33 Q2023.42 214.33 2020.25 210.719 Q2017.1 207.085 2017.1 200.719 Q2017.1 194.331 2020.25 190.719 Q2023.42 187.108 2029 187.108 Z\" fill=\"#000000\" fill-rule=\"evenodd\" fill-opacity=\"1\" /><path clip-path=\"url(#clip340)\" d=\"M2069.51 198.011 L2069.51 213.659 L2065.25 213.659 L2065.25 198.15 Q2065.25 194.469 2063.81 192.641 Q2062.38 190.812 2059.51 190.812 Q2056.06 190.812 2054.07 193.011 Q2052.08 195.21 2052.08 199.006 L2052.08 213.659 L2047.8 213.659 L2047.8 187.733 L2052.08 187.733 L2052.08 191.761 Q2053.61 189.423 2055.67 188.266 Q2057.75 187.108 2060.46 187.108 Q2064.93 187.108 2067.22 189.886 Q2069.51 192.641 2069.51 198.011 Z\" fill=\"#000000\" fill-rule=\"evenodd\" fill-opacity=\"1\" /><path clip-path=\"url(#clip340)\" d=\"M2109.65 197.456 Q2111.15 197.965 2112.56 199.631 Q2114 201.298 2115.44 204.215 L2120.18 213.659 L2115.16 213.659 L2110.74 204.793 Q2109.02 201.321 2107.4 200.187 Q2105.81 199.053 2103.03 199.053 L2097.94 199.053 L2097.94 213.659 L2093.26 213.659 L2093.26 179.099 L2103.81 179.099 Q2109.74 179.099 2112.66 181.576 Q2115.57 184.053 2115.57 189.053 Q2115.57 192.317 2114.05 194.469 Q2112.54 196.622 2109.65 197.456 M2097.94 182.942 L2097.94 195.21 L2103.81 195.21 Q2107.19 195.21 2108.91 193.659 Q2110.64 192.085 2110.64 189.053 Q2110.64 186.02 2108.91 184.493 Q2107.19 182.942 2103.81 182.942 L2097.94 182.942 Z\" fill=\"#000000\" fill-rule=\"evenodd\" fill-opacity=\"1\" /><path clip-path=\"url(#clip340)\" d=\"M2136.75 200.627 Q2131.59 200.627 2129.6 201.807 Q2127.61 202.988 2127.61 205.835 Q2127.61 208.104 2129.09 209.446 Q2130.6 210.766 2133.17 210.766 Q2136.71 210.766 2138.84 208.266 Q2140.99 205.743 2140.99 201.576 L2140.99 200.627 L2136.75 200.627 M2145.25 198.868 L2145.25 213.659 L2140.99 213.659 L2140.99 209.724 Q2139.53 212.085 2137.36 213.219 Q2135.18 214.33 2132.03 214.33 Q2128.05 214.33 2125.69 212.108 Q2123.35 209.863 2123.35 206.113 Q2123.35 201.738 2126.27 199.516 Q2129.21 197.294 2135.02 197.294 L2140.99 197.294 L2140.99 196.877 Q2140.99 193.937 2139.05 192.34 Q2137.12 190.719 2133.63 190.719 Q2131.41 190.719 2129.3 191.252 Q2127.19 191.784 2125.25 192.849 L2125.25 188.914 Q2127.59 188.011 2129.79 187.571 Q2131.99 187.108 2134.07 187.108 Q2139.69 187.108 2142.47 190.025 Q2145.25 192.942 2145.25 198.868 Z\" fill=\"#000000\" fill-rule=\"evenodd\" fill-opacity=\"1\" /><path clip-path=\"url(#clip340)\" d=\"M2158.14 209.77 L2158.14 223.52 L2153.86 223.52 L2153.86 187.733 L2158.14 187.733 L2158.14 191.669 Q2159.49 189.354 2161.52 188.243 Q2163.58 187.108 2166.43 187.108 Q2171.15 187.108 2174.09 190.858 Q2177.06 194.608 2177.06 200.719 Q2177.06 206.831 2174.09 210.58 Q2171.15 214.33 2166.43 214.33 Q2163.58 214.33 2161.52 213.219 Q2159.49 212.085 2158.14 209.77 M2172.63 200.719 Q2172.63 196.02 2170.69 193.358 Q2168.77 190.673 2165.39 190.673 Q2162.01 190.673 2160.06 193.358 Q2158.14 196.02 2158.14 200.719 Q2158.14 205.418 2160.06 208.104 Q2162.01 210.766 2165.39 210.766 Q2168.77 210.766 2170.69 208.104 Q2172.63 205.418 2172.63 200.719 Z\" fill=\"#000000\" fill-rule=\"evenodd\" fill-opacity=\"1\" /><path clip-path=\"url(#clip340)\" d=\"M2200.64 188.497 L2200.64 192.525 Q2198.84 191.599 2196.89 191.136 Q2194.95 190.673 2192.87 190.673 Q2189.69 190.673 2188.1 191.645 Q2186.52 192.618 2186.52 194.562 Q2186.52 196.044 2187.66 196.9 Q2188.79 197.733 2192.22 198.497 L2193.68 198.821 Q2198.21 199.794 2200.11 201.576 Q2202.03 203.335 2202.03 206.506 Q2202.03 210.118 2199.16 212.224 Q2196.31 214.33 2191.31 214.33 Q2189.23 214.33 2186.96 213.914 Q2184.72 213.52 2182.22 212.71 L2182.22 208.312 Q2184.58 209.539 2186.87 210.164 Q2189.16 210.766 2191.41 210.766 Q2194.42 210.766 2196.04 209.747 Q2197.66 208.706 2197.66 206.831 Q2197.66 205.094 2196.48 204.168 Q2195.32 203.243 2191.36 202.386 L2189.88 202.039 Q2185.92 201.206 2184.16 199.493 Q2182.4 197.756 2182.4 194.747 Q2182.4 191.09 2184.99 189.099 Q2187.59 187.108 2192.36 187.108 Q2194.72 187.108 2196.8 187.456 Q2198.88 187.803 2200.64 188.497 Z\" fill=\"#000000\" fill-rule=\"evenodd\" fill-opacity=\"1\" /><path clip-path=\"url(#clip340)\" d=\"M2218.86 190.719 Q2215.43 190.719 2213.44 193.405 Q2211.45 196.067 2211.45 200.719 Q2211.45 205.372 2213.42 208.057 Q2215.41 210.719 2218.86 210.719 Q2222.26 210.719 2224.25 208.034 Q2226.24 205.349 2226.24 200.719 Q2226.24 196.113 2224.25 193.428 Q2222.26 190.719 2218.86 190.719 M2218.86 187.108 Q2224.42 187.108 2227.59 190.719 Q2230.76 194.331 2230.76 200.719 Q2230.76 207.085 2227.59 210.719 Q2224.42 214.33 2218.86 214.33 Q2213.28 214.33 2210.11 210.719 Q2206.96 207.085 2206.96 200.719 Q2206.96 194.331 2210.11 190.719 Q2213.28 187.108 2218.86 187.108 Z\" fill=\"#000000\" fill-rule=\"evenodd\" fill-opacity=\"1\" /><path clip-path=\"url(#clip340)\" d=\"M2259.37 198.011 L2259.37 213.659 L2255.11 213.659 L2255.11 198.15 Q2255.11 194.469 2253.68 192.641 Q2252.24 190.812 2249.37 190.812 Q2245.92 190.812 2243.93 193.011 Q2241.94 195.21 2241.94 199.006 L2241.94 213.659 L2237.66 213.659 L2237.66 187.733 L2241.94 187.733 L2241.94 191.761 Q2243.47 189.423 2245.53 188.266 Q2247.61 187.108 2250.32 187.108 Q2254.79 187.108 2257.08 189.886 Q2259.37 192.641 2259.37 198.011 Z\" fill=\"#000000\" fill-rule=\"evenodd\" fill-opacity=\"1\" /><circle clip-path=\"url(#clip340)\" cx=\"1803.76\" cy=\"248.219\" r=\"23.04\" fill=\"#3da44d\" fill-rule=\"evenodd\" fill-opacity=\"1\" stroke=\"#000000\" stroke-opacity=\"1\" stroke-width=\"5.12\"/>\n",
       "<path clip-path=\"url(#clip340)\" d=\"M1913.54 249.296 Q1915.04 249.805 1916.45 251.471 Q1917.89 253.138 1919.32 256.055 L1924.07 265.499 L1919.05 265.499 L1914.63 256.633 Q1912.91 253.161 1911.29 252.027 Q1909.7 250.893 1906.92 250.893 L1901.83 250.893 L1901.83 265.499 L1897.15 265.499 L1897.15 230.939 L1907.7 230.939 Q1913.63 230.939 1916.55 233.416 Q1919.46 235.893 1919.46 240.893 Q1919.46 244.157 1917.94 246.309 Q1916.43 248.462 1913.54 249.296 M1901.83 234.782 L1901.83 247.05 L1907.7 247.05 Q1911.08 247.05 1912.8 245.499 Q1914.53 243.925 1914.53 240.893 Q1914.53 237.86 1912.8 236.333 Q1911.08 234.782 1907.7 234.782 L1901.83 234.782 Z\" fill=\"#000000\" fill-rule=\"evenodd\" fill-opacity=\"1\" /><path clip-path=\"url(#clip340)\" d=\"M1949.95 251.471 L1949.95 253.555 L1930.37 253.555 Q1930.64 257.953 1933.01 260.268 Q1935.39 262.559 1939.63 262.559 Q1942.08 262.559 1944.37 261.958 Q1946.69 261.356 1948.95 260.152 L1948.95 264.18 Q1946.66 265.152 1944.26 265.661 Q1941.85 266.17 1939.37 266.17 Q1933.17 266.17 1929.53 262.559 Q1925.92 258.948 1925.92 252.791 Q1925.92 246.425 1929.35 242.698 Q1932.8 238.948 1938.63 238.948 Q1943.86 238.948 1946.89 242.328 Q1949.95 245.684 1949.95 251.471 M1945.69 250.221 Q1945.64 246.726 1943.72 244.643 Q1941.82 242.559 1938.68 242.559 Q1935.11 242.559 1932.96 244.573 Q1930.83 246.587 1930.51 250.245 L1945.69 250.221 Z\" fill=\"#000000\" fill-rule=\"evenodd\" fill-opacity=\"1\" /><path clip-path=\"url(#clip340)\" d=\"M1974 252.235 Q1974 247.606 1972.08 245.059 Q1970.18 242.513 1966.73 242.513 Q1963.31 242.513 1961.38 245.059 Q1959.49 247.606 1959.49 252.235 Q1959.49 256.842 1961.38 259.388 Q1963.31 261.934 1966.73 261.934 Q1970.18 261.934 1972.08 259.388 Q1974 256.842 1974 252.235 M1978.26 262.282 Q1978.26 268.902 1975.32 272.12 Q1972.38 275.36 1966.32 275.36 Q1964.07 275.36 1962.08 275.013 Q1960.09 274.689 1958.21 273.995 L1958.21 269.851 Q1960.09 270.87 1961.92 271.356 Q1963.75 271.842 1965.64 271.842 Q1969.83 271.842 1971.92 269.643 Q1974 267.467 1974 263.045 L1974 260.939 Q1972.68 263.231 1970.62 264.365 Q1968.56 265.499 1965.69 265.499 Q1960.92 265.499 1958.01 261.865 Q1955.09 258.231 1955.09 252.235 Q1955.09 246.217 1958.01 242.583 Q1960.92 238.948 1965.69 238.948 Q1968.56 238.948 1970.62 240.083 Q1972.68 241.217 1974 243.509 L1974 239.573 L1978.26 239.573 L1978.26 262.282 Z\" fill=\"#000000\" fill-rule=\"evenodd\" fill-opacity=\"1\" /><path clip-path=\"url(#clip340)\" d=\"M1986.59 255.268 L1986.59 239.573 L1990.85 239.573 L1990.85 255.106 Q1990.85 258.786 1992.29 260.638 Q1993.72 262.467 1996.59 262.467 Q2000.04 262.467 2002.03 260.268 Q2004.05 258.069 2004.05 254.272 L2004.05 239.573 L2008.31 239.573 L2008.31 265.499 L2004.05 265.499 L2004.05 261.518 Q2002.5 263.879 2000.44 265.036 Q1998.4 266.17 1995.69 266.17 Q1991.22 266.17 1988.91 263.393 Q1986.59 260.615 1986.59 255.268 M1997.31 238.948 L1997.31 238.948 Z\" fill=\"#000000\" fill-rule=\"evenodd\" fill-opacity=\"1\" /><path clip-path=\"url(#clip340)\" d=\"M2017.08 229.481 L2021.34 229.481 L2021.34 265.499 L2017.08 265.499 L2017.08 229.481 Z\" fill=\"#000000\" fill-rule=\"evenodd\" fill-opacity=\"1\" /><path clip-path=\"url(#clip340)\" d=\"M2042.03 252.467 Q2036.87 252.467 2034.88 253.647 Q2032.89 254.828 2032.89 257.675 Q2032.89 259.944 2034.37 261.286 Q2035.88 262.606 2038.44 262.606 Q2041.99 262.606 2044.12 260.106 Q2046.27 257.583 2046.27 253.416 L2046.27 252.467 L2042.03 252.467 M2050.53 250.708 L2050.53 265.499 L2046.27 265.499 L2046.27 261.564 Q2044.81 263.925 2042.63 265.059 Q2040.46 266.17 2037.31 266.17 Q2033.33 266.17 2030.97 263.948 Q2028.63 261.703 2028.63 257.953 Q2028.63 253.578 2031.55 251.356 Q2034.49 249.134 2040.3 249.134 L2046.27 249.134 L2046.27 248.717 Q2046.27 245.777 2044.32 244.18 Q2042.4 242.559 2038.91 242.559 Q2036.69 242.559 2034.58 243.092 Q2032.47 243.624 2030.53 244.689 L2030.53 240.754 Q2032.87 239.851 2035.07 239.411 Q2037.26 238.948 2039.35 238.948 Q2044.97 238.948 2047.75 241.865 Q2050.53 244.782 2050.53 250.708 Z\" fill=\"#000000\" fill-rule=\"evenodd\" fill-opacity=\"1\" /><path clip-path=\"url(#clip340)\" d=\"M2074.56 230.939 L2094.42 230.939 L2094.42 234.874 L2079.23 234.874 L2079.23 245.059 L2092.94 245.059 L2092.94 248.995 L2079.23 248.995 L2079.23 265.499 L2074.56 265.499 L2074.56 230.939 Z\" fill=\"#000000\" fill-rule=\"evenodd\" fill-opacity=\"1\" /><path clip-path=\"url(#clip340)\" d=\"M2109.07 252.467 Q2103.91 252.467 2101.92 253.647 Q2099.93 254.828 2099.93 257.675 Q2099.93 259.944 2101.41 261.286 Q2102.91 262.606 2105.48 262.606 Q2109.02 262.606 2111.15 260.106 Q2113.31 257.583 2113.31 253.416 L2113.31 252.467 L2109.07 252.467 M2117.56 250.708 L2117.56 265.499 L2113.31 265.499 L2113.31 261.564 Q2111.85 263.925 2109.67 265.059 Q2107.5 266.17 2104.35 266.17 Q2100.37 266.17 2098 263.948 Q2095.67 261.703 2095.67 257.953 Q2095.67 253.578 2098.58 251.356 Q2101.52 249.134 2107.33 249.134 L2113.31 249.134 L2113.31 248.717 Q2113.31 245.777 2111.36 244.18 Q2109.44 242.559 2105.94 242.559 Q2103.72 242.559 2101.62 243.092 Q2099.51 243.624 2097.56 244.689 L2097.56 240.754 Q2099.9 239.851 2102.1 239.411 Q2104.3 238.948 2106.38 238.948 Q2112.01 238.948 2114.79 241.865 Q2117.56 244.782 2117.56 250.708 Z\" fill=\"#000000\" fill-rule=\"evenodd\" fill-opacity=\"1\" /><path clip-path=\"url(#clip340)\" d=\"M2126.34 229.481 L2130.6 229.481 L2130.6 265.499 L2126.34 265.499 L2126.34 229.481 Z\" fill=\"#000000\" fill-rule=\"evenodd\" fill-opacity=\"1\" /><path clip-path=\"url(#clip340)\" d=\"M2156.04 240.337 L2156.04 244.365 Q2154.23 243.439 2152.29 242.976 Q2150.34 242.513 2148.26 242.513 Q2145.09 242.513 2143.49 243.485 Q2141.92 244.458 2141.92 246.402 Q2141.92 247.884 2143.05 248.74 Q2144.18 249.573 2147.61 250.337 L2149.07 250.661 Q2153.61 251.634 2155.5 253.416 Q2157.43 255.175 2157.43 258.346 Q2157.43 261.958 2154.56 264.064 Q2151.71 266.17 2146.71 266.17 Q2144.62 266.17 2142.36 265.754 Q2140.11 265.36 2137.61 264.55 L2137.61 260.152 Q2139.97 261.379 2142.26 262.004 Q2144.56 262.606 2146.8 262.606 Q2149.81 262.606 2151.43 261.587 Q2153.05 260.546 2153.05 258.671 Q2153.05 256.934 2151.87 256.008 Q2150.71 255.083 2146.75 254.226 L2145.27 253.879 Q2141.31 253.046 2139.56 251.333 Q2137.8 249.596 2137.8 246.587 Q2137.8 242.93 2140.39 240.939 Q2142.98 238.948 2147.75 238.948 Q2150.11 238.948 2152.19 239.296 Q2154.28 239.643 2156.04 240.337 Z\" fill=\"#000000\" fill-rule=\"evenodd\" fill-opacity=\"1\" /><path clip-path=\"url(#clip340)\" d=\"M2164.21 239.573 L2168.47 239.573 L2168.47 265.499 L2164.21 265.499 L2164.21 239.573 M2164.21 229.481 L2168.47 229.481 L2168.47 234.874 L2164.21 234.874 L2164.21 229.481 Z\" fill=\"#000000\" fill-rule=\"evenodd\" fill-opacity=\"1\" /><circle clip-path=\"url(#clip340)\" cx=\"1803.76\" cy=\"300.059\" r=\"23.04\" fill=\"#c271d2\" fill-rule=\"evenodd\" fill-opacity=\"1\" stroke=\"#000000\" stroke-opacity=\"1\" stroke-width=\"5.12\"/>\n",
       "<path clip-path=\"url(#clip340)\" d=\"M1919.39 283.913 L1919.39 288.474 Q1916.73 287.2 1914.37 286.575 Q1912.01 285.95 1909.81 285.95 Q1905.99 285.95 1903.91 287.432 Q1901.85 288.913 1901.85 291.645 Q1901.85 293.937 1903.21 295.117 Q1904.6 296.274 1908.45 296.992 L1911.27 297.571 Q1916.5 298.566 1918.98 301.089 Q1921.48 303.589 1921.48 307.802 Q1921.48 312.825 1918.1 315.418 Q1914.74 318.01 1908.24 318.01 Q1905.78 318.01 1903.01 317.455 Q1900.25 316.899 1897.29 315.811 L1897.29 310.997 Q1900.14 312.594 1902.87 313.404 Q1905.6 314.214 1908.24 314.214 Q1912.24 314.214 1914.42 312.64 Q1916.59 311.066 1916.59 308.149 Q1916.59 305.603 1915.02 304.168 Q1913.47 302.733 1909.9 302.015 L1907.06 301.46 Q1901.83 300.418 1899.49 298.196 Q1897.15 295.974 1897.15 292.015 Q1897.15 287.432 1900.37 284.793 Q1903.61 282.154 1909.28 282.154 Q1911.71 282.154 1914.23 282.594 Q1916.76 283.034 1919.39 283.913 Z\" fill=\"#000000\" fill-rule=\"evenodd\" fill-opacity=\"1\" /><path clip-path=\"url(#clip340)\" d=\"M1950.76 303.311 L1950.76 305.395 L1931.18 305.395 Q1931.45 309.793 1933.82 312.108 Q1936.2 314.399 1940.44 314.399 Q1942.89 314.399 1945.18 313.798 Q1947.5 313.196 1949.76 311.992 L1949.76 316.02 Q1947.47 316.992 1945.07 317.501 Q1942.66 318.01 1940.18 318.01 Q1933.98 318.01 1930.34 314.399 Q1926.73 310.788 1926.73 304.631 Q1926.73 298.265 1930.16 294.538 Q1933.61 290.788 1939.44 290.788 Q1944.67 290.788 1947.7 294.168 Q1950.76 297.524 1950.76 303.311 M1946.5 302.061 Q1946.45 298.566 1944.53 296.483 Q1942.64 294.399 1939.49 294.399 Q1935.92 294.399 1933.77 296.413 Q1931.64 298.427 1931.32 302.085 L1946.5 302.061 Z\" fill=\"#000000\" fill-rule=\"evenodd\" fill-opacity=\"1\" /><path clip-path=\"url(#clip340)\" d=\"M1976.41 292.409 L1976.41 296.39 Q1974.6 295.395 1972.77 294.909 Q1970.97 294.399 1969.12 294.399 Q1964.97 294.399 1962.68 297.038 Q1960.39 299.654 1960.39 304.399 Q1960.39 309.145 1962.68 311.784 Q1964.97 314.399 1969.12 314.399 Q1970.97 314.399 1972.77 313.913 Q1974.6 313.404 1976.41 312.409 L1976.41 316.344 Q1974.63 317.177 1972.7 317.594 Q1970.81 318.01 1968.65 318.01 Q1962.8 318.01 1959.35 314.33 Q1955.9 310.649 1955.9 304.399 Q1955.9 298.057 1959.37 294.423 Q1962.87 290.788 1968.93 290.788 Q1970.9 290.788 1972.77 291.205 Q1974.65 291.599 1976.41 292.409 Z\" fill=\"#000000\" fill-rule=\"evenodd\" fill-opacity=\"1\" /><path clip-path=\"url(#clip340)\" d=\"M1995.6 304.307 Q1990.44 304.307 1988.44 305.487 Q1986.45 306.668 1986.45 309.515 Q1986.45 311.784 1987.94 313.126 Q1989.44 314.446 1992.01 314.446 Q1995.55 314.446 1997.68 311.946 Q1999.83 309.423 1999.83 305.256 L1999.83 304.307 L1995.6 304.307 M2004.09 302.548 L2004.09 317.339 L1999.83 317.339 L1999.83 313.404 Q1998.38 315.765 1996.2 316.899 Q1994.02 318.01 1990.88 318.01 Q1986.89 318.01 1984.53 315.788 Q1982.19 313.543 1982.19 309.793 Q1982.19 305.418 1985.11 303.196 Q1988.05 300.974 1993.86 300.974 L1999.83 300.974 L1999.83 300.557 Q1999.83 297.617 1997.89 296.02 Q1995.97 294.399 1992.47 294.399 Q1990.25 294.399 1988.14 294.932 Q1986.04 295.464 1984.09 296.529 L1984.09 292.594 Q1986.43 291.691 1988.63 291.251 Q1990.83 290.788 1992.91 290.788 Q1998.54 290.788 2001.32 293.705 Q2004.09 296.622 2004.09 302.548 Z\" fill=\"#000000\" fill-rule=\"evenodd\" fill-opacity=\"1\" /><path clip-path=\"url(#clip340)\" d=\"M2034.42 301.691 L2034.42 317.339 L2030.16 317.339 L2030.16 301.83 Q2030.16 298.149 2028.72 296.321 Q2027.29 294.492 2024.42 294.492 Q2020.97 294.492 2018.98 296.691 Q2016.99 298.89 2016.99 302.686 L2016.99 317.339 L2012.7 317.339 L2012.7 291.413 L2016.99 291.413 L2016.99 295.441 Q2018.51 293.103 2020.57 291.946 Q2022.66 290.788 2025.37 290.788 Q2029.83 290.788 2032.13 293.566 Q2034.42 296.321 2034.42 301.691 Z\" fill=\"#000000\" fill-rule=\"evenodd\" fill-opacity=\"1\" /><path clip-path=\"url(#clip340)\" d=\"M2047.13 284.052 L2047.13 291.413 L2055.9 291.413 L2055.9 294.724 L2047.13 294.724 L2047.13 308.798 Q2047.13 311.969 2047.98 312.872 Q2048.86 313.774 2051.52 313.774 L2055.9 313.774 L2055.9 317.339 L2051.52 317.339 Q2046.59 317.339 2044.72 315.51 Q2042.84 313.659 2042.84 308.798 L2042.84 294.724 L2039.72 294.724 L2039.72 291.413 L2042.84 291.413 L2042.84 284.052 L2047.13 284.052 Z\" fill=\"#000000\" fill-rule=\"evenodd\" fill-opacity=\"1\" /><path clip-path=\"url(#clip340)\" d=\"M2083.68 303.311 L2083.68 305.395 L2064.09 305.395 Q2064.37 309.793 2066.73 312.108 Q2069.12 314.399 2073.35 314.399 Q2075.81 314.399 2078.1 313.798 Q2080.41 313.196 2082.68 311.992 L2082.68 316.02 Q2080.39 316.992 2077.98 317.501 Q2075.57 318.01 2073.1 318.01 Q2066.89 318.01 2063.26 314.399 Q2059.65 310.788 2059.65 304.631 Q2059.65 298.265 2063.07 294.538 Q2066.52 290.788 2072.36 290.788 Q2077.59 290.788 2080.62 294.168 Q2083.68 297.524 2083.68 303.311 M2079.42 302.061 Q2079.37 298.566 2077.45 296.483 Q2075.55 294.399 2072.4 294.399 Q2068.84 294.399 2066.69 296.413 Q2064.56 298.427 2064.23 302.085 L2079.42 302.061 Z\" fill=\"#000000\" fill-rule=\"evenodd\" fill-opacity=\"1\" /></svg>\n"
      ]
     },
     "execution_count": 49,
     "metadata": {},
     "output_type": "execute_result"
    }
   ],
   "source": [
    "scatter(enc_bis[2], label=\"Bisección\")\n",
    "scatter!(enc_nr[2], label=\"Newton Rapson\")\n",
    "scatter!(enc_rf_franco[2], label=\"Regula Falsi\")\n",
    "scatter!(enc_sec[2], label=\"Secante\")\n",
    "\n",
    "\n",
    "plot!(xlabel=\"Iteraciones\")\n",
    "plot!(ylabel=\"Error relativo\")\n",
    "plot!(yscale=:log)\n",
    "plot!(xscale=:log)\n"
   ]
  },
  {
   "cell_type": "code",
   "execution_count": 52,
   "metadata": {},
   "outputs": [
    {
     "data": {
      "image/svg+xml": [
       "<?xml version=\"1.0\" encoding=\"utf-8\"?>\n",
       "<svg xmlns=\"http://www.w3.org/2000/svg\" xmlns:xlink=\"http://www.w3.org/1999/xlink\" width=\"600\" height=\"400\" viewBox=\"0 0 2400 1600\">\n",
       "<defs>\n",
       "  <clipPath id=\"clip460\">\n",
       "    <rect x=\"0\" y=\"0\" width=\"2400\" height=\"1600\"/>\n",
       "  </clipPath>\n",
       "</defs>\n",
       "<path clip-path=\"url(#clip460)\" d=\"M0 1600 L2400 1600 L2400 0 L0 0  Z\" fill=\"#ffffff\" fill-rule=\"evenodd\" fill-opacity=\"1\"/>\n",
       "<defs>\n",
       "  <clipPath id=\"clip461\">\n",
       "    <rect x=\"480\" y=\"0\" width=\"1681\" height=\"1600\"/>\n",
       "  </clipPath>\n",
       "</defs>\n",
       "<defs>\n",
       "  <clipPath id=\"clip462\">\n",
       "    <rect x=\"202\" y=\"47\" width=\"2152\" height=\"1377\"/>\n",
       "  </clipPath>\n",
       "</defs>\n",
       "<path clip-path=\"url(#clip460)\" d=\"M276.876 1423.18 L2352.76 1423.18 L2352.76 47.2441 L276.876 47.2441  Z\" fill=\"#ffffff\" fill-rule=\"evenodd\" fill-opacity=\"1\"/>\n",
       "<defs>\n",
       "  <clipPath id=\"clip463\">\n",
       "    <rect x=\"276\" y=\"47\" width=\"2077\" height=\"1377\"/>\n",
       "  </clipPath>\n",
       "</defs>\n",
       "<polyline clip-path=\"url(#clip463)\" style=\"stroke:#000000; stroke-linecap:round; stroke-linejoin:round; stroke-width:2; stroke-opacity:0.1; fill:none\" points=\"605.748,1423.18 605.748,47.2441 \"/>\n",
       "<polyline clip-path=\"url(#clip463)\" style=\"stroke:#000000; stroke-linecap:round; stroke-linejoin:round; stroke-width:2; stroke-opacity:0.1; fill:none\" points=\"943.399,1423.18 943.399,47.2441 \"/>\n",
       "<polyline clip-path=\"url(#clip463)\" style=\"stroke:#000000; stroke-linecap:round; stroke-linejoin:round; stroke-width:2; stroke-opacity:0.1; fill:none\" points=\"1281.05,1423.18 1281.05,47.2441 \"/>\n",
       "<polyline clip-path=\"url(#clip463)\" style=\"stroke:#000000; stroke-linecap:round; stroke-linejoin:round; stroke-width:2; stroke-opacity:0.1; fill:none\" points=\"1618.7,1423.18 1618.7,47.2441 \"/>\n",
       "<polyline clip-path=\"url(#clip463)\" style=\"stroke:#000000; stroke-linecap:round; stroke-linejoin:round; stroke-width:2; stroke-opacity:0.1; fill:none\" points=\"1956.35,1423.18 1956.35,47.2441 \"/>\n",
       "<polyline clip-path=\"url(#clip463)\" style=\"stroke:#000000; stroke-linecap:round; stroke-linejoin:round; stroke-width:2; stroke-opacity:0.1; fill:none\" points=\"2294,1423.18 2294,47.2441 \"/>\n",
       "<polyline clip-path=\"url(#clip460)\" style=\"stroke:#000000; stroke-linecap:round; stroke-linejoin:round; stroke-width:4; stroke-opacity:1; fill:none\" points=\"276.876,1423.18 2352.76,1423.18 \"/>\n",
       "<polyline clip-path=\"url(#clip460)\" style=\"stroke:#000000; stroke-linecap:round; stroke-linejoin:round; stroke-width:4; stroke-opacity:1; fill:none\" points=\"605.748,1423.18 605.748,1404.28 \"/>\n",
       "<polyline clip-path=\"url(#clip460)\" style=\"stroke:#000000; stroke-linecap:round; stroke-linejoin:round; stroke-width:4; stroke-opacity:1; fill:none\" points=\"943.399,1423.18 943.399,1404.28 \"/>\n",
       "<polyline clip-path=\"url(#clip460)\" style=\"stroke:#000000; stroke-linecap:round; stroke-linejoin:round; stroke-width:4; stroke-opacity:1; fill:none\" points=\"1281.05,1423.18 1281.05,1404.28 \"/>\n",
       "<polyline clip-path=\"url(#clip460)\" style=\"stroke:#000000; stroke-linecap:round; stroke-linejoin:round; stroke-width:4; stroke-opacity:1; fill:none\" points=\"1618.7,1423.18 1618.7,1404.28 \"/>\n",
       "<polyline clip-path=\"url(#clip460)\" style=\"stroke:#000000; stroke-linecap:round; stroke-linejoin:round; stroke-width:4; stroke-opacity:1; fill:none\" points=\"1956.35,1423.18 1956.35,1404.28 \"/>\n",
       "<polyline clip-path=\"url(#clip460)\" style=\"stroke:#000000; stroke-linecap:round; stroke-linejoin:round; stroke-width:4; stroke-opacity:1; fill:none\" points=\"2294,1423.18 2294,1404.28 \"/>\n",
       "<path clip-path=\"url(#clip460)\" d=\"M596.026 1451.02 L614.382 1451.02 L614.382 1454.96 L600.308 1454.96 L600.308 1463.43 Q601.327 1463.08 602.345 1462.92 Q603.364 1462.73 604.382 1462.73 Q610.169 1462.73 613.549 1465.9 Q616.928 1469.08 616.928 1474.49 Q616.928 1480.07 613.456 1483.17 Q609.984 1486.25 603.665 1486.25 Q601.489 1486.25 599.22 1485.88 Q596.975 1485.51 594.567 1484.77 L594.567 1480.07 Q596.651 1481.2 598.873 1481.76 Q601.095 1482.32 603.572 1482.32 Q607.577 1482.32 609.915 1480.21 Q612.253 1478.1 612.253 1474.49 Q612.253 1470.88 609.915 1468.77 Q607.577 1466.67 603.572 1466.67 Q601.697 1466.67 599.822 1467.08 Q597.97 1467.5 596.026 1468.38 L596.026 1451.02 Z\" fill=\"#000000\" fill-rule=\"evenodd\" fill-opacity=\"1\" /><path clip-path=\"url(#clip460)\" d=\"M918.087 1481.64 L925.726 1481.64 L925.726 1455.28 L917.416 1456.95 L917.416 1452.69 L925.679 1451.02 L930.355 1451.02 L930.355 1481.64 L937.994 1481.64 L937.994 1485.58 L918.087 1485.58 L918.087 1481.64 Z\" fill=\"#000000\" fill-rule=\"evenodd\" fill-opacity=\"1\" /><path clip-path=\"url(#clip460)\" d=\"M957.439 1454.1 Q953.827 1454.1 951.999 1457.66 Q950.193 1461.2 950.193 1468.33 Q950.193 1475.44 951.999 1479.01 Q953.827 1482.55 957.439 1482.55 Q961.073 1482.55 962.878 1479.01 Q964.707 1475.44 964.707 1468.33 Q964.707 1461.2 962.878 1457.66 Q961.073 1454.1 957.439 1454.1 M957.439 1450.39 Q963.249 1450.39 966.304 1455 Q969.383 1459.58 969.383 1468.33 Q969.383 1477.06 966.304 1481.67 Q963.249 1486.25 957.439 1486.25 Q951.628 1486.25 948.55 1481.67 Q945.494 1477.06 945.494 1468.33 Q945.494 1459.58 948.55 1455 Q951.628 1450.39 957.439 1450.39 Z\" fill=\"#000000\" fill-rule=\"evenodd\" fill-opacity=\"1\" /><path clip-path=\"url(#clip460)\" d=\"M1256.24 1481.64 L1263.87 1481.64 L1263.87 1455.28 L1255.56 1456.95 L1255.56 1452.69 L1263.83 1451.02 L1268.5 1451.02 L1268.5 1481.64 L1276.14 1481.64 L1276.14 1485.58 L1256.24 1485.58 L1256.24 1481.64 Z\" fill=\"#000000\" fill-rule=\"evenodd\" fill-opacity=\"1\" /><path clip-path=\"url(#clip460)\" d=\"M1285.63 1451.02 L1303.99 1451.02 L1303.99 1454.96 L1289.92 1454.96 L1289.92 1463.43 Q1290.93 1463.08 1291.95 1462.92 Q1292.97 1462.73 1293.99 1462.73 Q1299.78 1462.73 1303.16 1465.9 Q1306.54 1469.08 1306.54 1474.49 Q1306.54 1480.07 1303.06 1483.17 Q1299.59 1486.25 1293.27 1486.25 Q1291.1 1486.25 1288.83 1485.88 Q1286.58 1485.51 1284.18 1484.77 L1284.18 1480.07 Q1286.26 1481.2 1288.48 1481.76 Q1290.7 1482.32 1293.18 1482.32 Q1297.18 1482.32 1299.52 1480.21 Q1301.86 1478.1 1301.86 1474.49 Q1301.86 1470.88 1299.52 1468.77 Q1297.18 1466.67 1293.18 1466.67 Q1291.31 1466.67 1289.43 1467.08 Q1287.58 1467.5 1285.63 1468.38 L1285.63 1451.02 Z\" fill=\"#000000\" fill-rule=\"evenodd\" fill-opacity=\"1\" /><path clip-path=\"url(#clip460)\" d=\"M1597.48 1481.64 L1613.79 1481.64 L1613.79 1485.58 L1591.85 1485.58 L1591.85 1481.64 Q1594.51 1478.89 1599.1 1474.26 Q1603.7 1469.61 1604.88 1468.27 Q1607.13 1465.74 1608.01 1464.01 Q1608.91 1462.25 1608.91 1460.56 Q1608.91 1457.8 1606.97 1456.07 Q1605.04 1454.33 1601.94 1454.33 Q1599.74 1454.33 1597.29 1455.09 Q1594.86 1455.86 1592.08 1457.41 L1592.08 1452.69 Q1594.91 1451.55 1597.36 1450.97 Q1599.81 1450.39 1601.85 1450.39 Q1607.22 1450.39 1610.41 1453.08 Q1613.61 1455.77 1613.61 1460.26 Q1613.61 1462.39 1612.8 1464.31 Q1612.01 1466.2 1609.91 1468.8 Q1609.33 1469.47 1606.23 1472.69 Q1603.12 1475.88 1597.48 1481.64 Z\" fill=\"#000000\" fill-rule=\"evenodd\" fill-opacity=\"1\" /><path clip-path=\"url(#clip460)\" d=\"M1633.61 1454.1 Q1630 1454.1 1628.17 1457.66 Q1626.36 1461.2 1626.36 1468.33 Q1626.36 1475.44 1628.17 1479.01 Q1630 1482.55 1633.61 1482.55 Q1637.24 1482.55 1639.05 1479.01 Q1640.88 1475.44 1640.88 1468.33 Q1640.88 1461.2 1639.05 1457.66 Q1637.24 1454.1 1633.61 1454.1 M1633.61 1450.39 Q1639.42 1450.39 1642.47 1455 Q1645.55 1459.58 1645.55 1468.33 Q1645.55 1477.06 1642.47 1481.67 Q1639.42 1486.25 1633.61 1486.25 Q1627.8 1486.25 1624.72 1481.67 Q1621.66 1477.06 1621.66 1468.33 Q1621.66 1459.58 1624.72 1455 Q1627.8 1450.39 1633.61 1450.39 Z\" fill=\"#000000\" fill-rule=\"evenodd\" fill-opacity=\"1\" /><path clip-path=\"url(#clip460)\" d=\"M1935.62 1481.64 L1951.94 1481.64 L1951.94 1485.58 L1930 1485.58 L1930 1481.64 Q1932.66 1478.89 1937.24 1474.26 Q1941.85 1469.61 1943.03 1468.27 Q1945.28 1465.74 1946.16 1464.01 Q1947.06 1462.25 1947.06 1460.56 Q1947.06 1457.8 1945.11 1456.07 Q1943.19 1454.33 1940.09 1454.33 Q1937.89 1454.33 1935.44 1455.09 Q1933.01 1455.86 1930.23 1457.41 L1930.23 1452.69 Q1933.05 1451.55 1935.51 1450.97 Q1937.96 1450.39 1940 1450.39 Q1945.37 1450.39 1948.56 1453.08 Q1951.76 1455.77 1951.76 1460.26 Q1951.76 1462.39 1950.95 1464.31 Q1950.16 1466.2 1948.05 1468.8 Q1947.48 1469.47 1944.37 1472.69 Q1941.27 1475.88 1935.62 1481.64 Z\" fill=\"#000000\" fill-rule=\"evenodd\" fill-opacity=\"1\" /><path clip-path=\"url(#clip460)\" d=\"M1961.8 1451.02 L1980.16 1451.02 L1980.16 1454.96 L1966.09 1454.96 L1966.09 1463.43 Q1967.11 1463.08 1968.12 1462.92 Q1969.14 1462.73 1970.16 1462.73 Q1975.95 1462.73 1979.33 1465.9 Q1982.71 1469.08 1982.71 1474.49 Q1982.71 1480.07 1979.24 1483.17 Q1975.76 1486.25 1969.44 1486.25 Q1967.27 1486.25 1965 1485.88 Q1962.75 1485.51 1960.35 1484.77 L1960.35 1480.07 Q1962.43 1481.2 1964.65 1481.76 Q1966.87 1482.32 1969.35 1482.32 Q1973.36 1482.32 1975.69 1480.21 Q1978.03 1478.1 1978.03 1474.49 Q1978.03 1470.88 1975.69 1468.77 Q1973.36 1466.67 1969.35 1466.67 Q1967.48 1466.67 1965.6 1467.08 Q1963.75 1467.5 1961.8 1468.38 L1961.8 1451.02 Z\" fill=\"#000000\" fill-rule=\"evenodd\" fill-opacity=\"1\" /><path clip-path=\"url(#clip460)\" d=\"M2282.85 1466.95 Q2286.2 1467.66 2288.08 1469.93 Q2289.98 1472.2 2289.98 1475.53 Q2289.98 1480.65 2286.46 1483.45 Q2282.94 1486.25 2276.46 1486.25 Q2274.28 1486.25 2271.97 1485.81 Q2269.68 1485.39 2267.22 1484.54 L2267.22 1480.02 Q2269.17 1481.16 2271.48 1481.74 Q2273.8 1482.32 2276.32 1482.32 Q2280.72 1482.32 2283.01 1480.58 Q2285.32 1478.84 2285.32 1475.53 Q2285.32 1472.48 2283.17 1470.77 Q2281.04 1469.03 2277.22 1469.03 L2273.19 1469.03 L2273.19 1465.19 L2277.41 1465.19 Q2280.86 1465.19 2282.69 1463.82 Q2284.51 1462.43 2284.51 1459.84 Q2284.51 1457.18 2282.62 1455.77 Q2280.74 1454.33 2277.22 1454.33 Q2275.3 1454.33 2273.1 1454.75 Q2270.9 1455.16 2268.26 1456.04 L2268.26 1451.88 Q2270.93 1451.14 2273.24 1450.77 Q2275.58 1450.39 2277.64 1450.39 Q2282.96 1450.39 2286.06 1452.83 Q2289.17 1455.23 2289.17 1459.35 Q2289.17 1462.22 2287.52 1464.21 Q2285.88 1466.18 2282.85 1466.95 Z\" fill=\"#000000\" fill-rule=\"evenodd\" fill-opacity=\"1\" /><path clip-path=\"url(#clip460)\" d=\"M2308.84 1454.1 Q2305.23 1454.1 2303.4 1457.66 Q2301.6 1461.2 2301.6 1468.33 Q2301.6 1475.44 2303.4 1479.01 Q2305.23 1482.55 2308.84 1482.55 Q2312.48 1482.55 2314.28 1479.01 Q2316.11 1475.44 2316.11 1468.33 Q2316.11 1461.2 2314.28 1457.66 Q2312.48 1454.1 2308.84 1454.1 M2308.84 1450.39 Q2314.65 1450.39 2317.71 1455 Q2320.79 1459.58 2320.79 1468.33 Q2320.79 1477.06 2317.71 1481.67 Q2314.65 1486.25 2308.84 1486.25 Q2303.03 1486.25 2299.95 1481.67 Q2296.9 1477.06 2296.9 1468.33 Q2296.9 1459.58 2299.95 1455 Q2303.03 1450.39 2308.84 1450.39 Z\" fill=\"#000000\" fill-rule=\"evenodd\" fill-opacity=\"1\" /><path clip-path=\"url(#clip460)\" d=\"M1139.19 1520.52 L1145.62 1520.52 L1145.62 1568.04 L1139.19 1568.04 L1139.19 1520.52 Z\" fill=\"#000000\" fill-rule=\"evenodd\" fill-opacity=\"1\" /><path clip-path=\"url(#clip460)\" d=\"M1163.95 1522.27 L1163.95 1532.4 L1176.01 1532.4 L1176.01 1536.95 L1163.95 1536.95 L1163.95 1556.3 Q1163.95 1560.66 1165.13 1561.9 Q1166.34 1563.14 1170 1563.14 L1176.01 1563.14 L1176.01 1568.04 L1170 1568.04 Q1163.22 1568.04 1160.64 1565.53 Q1158.06 1562.98 1158.06 1556.3 L1158.06 1536.95 L1153.76 1536.95 L1153.76 1532.4 L1158.06 1532.4 L1158.06 1522.27 L1163.95 1522.27 Z\" fill=\"#000000\" fill-rule=\"evenodd\" fill-opacity=\"1\" /><path clip-path=\"url(#clip460)\" d=\"M1214.21 1548.76 L1214.21 1551.62 L1187.28 1551.62 Q1187.66 1557.67 1190.91 1560.85 Q1194.19 1564 1200.01 1564 Q1203.38 1564 1206.54 1563.17 Q1209.72 1562.35 1212.84 1560.69 L1212.84 1566.23 Q1209.69 1567.57 1206.38 1568.27 Q1203.07 1568.97 1199.66 1568.97 Q1191.13 1568.97 1186.13 1564 Q1181.17 1559.04 1181.17 1550.57 Q1181.17 1541.82 1185.88 1536.69 Q1190.62 1531.54 1198.64 1531.54 Q1205.83 1531.54 1210 1536.18 Q1214.21 1540.8 1214.21 1548.76 M1208.35 1547.04 Q1208.29 1542.23 1205.64 1539.37 Q1203.03 1536.5 1198.71 1536.5 Q1193.8 1536.5 1190.84 1539.27 Q1187.92 1542.04 1187.47 1547.07 L1208.35 1547.04 Z\" fill=\"#000000\" fill-rule=\"evenodd\" fill-opacity=\"1\" /><path clip-path=\"url(#clip460)\" d=\"M1244.47 1537.87 Q1243.49 1537.3 1242.31 1537.04 Q1241.16 1536.76 1239.76 1536.76 Q1234.8 1536.76 1232.13 1540 Q1229.48 1543.22 1229.48 1549.27 L1229.48 1568.04 L1223.6 1568.04 L1223.6 1532.4 L1229.48 1532.4 L1229.48 1537.93 Q1231.33 1534.69 1234.29 1533.13 Q1237.25 1531.54 1241.48 1531.54 Q1242.09 1531.54 1242.82 1531.63 Q1243.55 1531.7 1244.44 1531.85 L1244.47 1537.87 Z\" fill=\"#000000\" fill-rule=\"evenodd\" fill-opacity=\"1\" /><path clip-path=\"url(#clip460)\" d=\"M1266.82 1550.12 Q1259.72 1550.12 1256.98 1551.75 Q1254.25 1553.37 1254.25 1557.29 Q1254.25 1560.4 1256.28 1562.25 Q1258.35 1564.07 1261.88 1564.07 Q1266.75 1564.07 1269.68 1560.63 Q1272.64 1557.16 1272.64 1551.43 L1272.64 1550.12 L1266.82 1550.12 M1278.5 1547.71 L1278.5 1568.04 L1272.64 1568.04 L1272.64 1562.63 Q1270.64 1565.88 1267.65 1567.44 Q1264.65 1568.97 1260.33 1568.97 Q1254.85 1568.97 1251.6 1565.91 Q1248.39 1562.82 1248.39 1557.67 Q1248.39 1551.65 1252.4 1548.6 Q1256.44 1545.54 1264.43 1545.54 L1272.64 1545.54 L1272.64 1544.97 Q1272.64 1540.93 1269.97 1538.73 Q1267.33 1536.5 1262.52 1536.5 Q1259.47 1536.5 1256.57 1537.23 Q1253.67 1537.97 1251 1539.43 L1251 1534.02 Q1254.21 1532.78 1257.24 1532.17 Q1260.26 1531.54 1263.13 1531.54 Q1270.86 1531.54 1274.68 1535.55 Q1278.5 1539.56 1278.5 1547.71 Z\" fill=\"#000000\" fill-rule=\"evenodd\" fill-opacity=\"1\" /><path clip-path=\"url(#clip460)\" d=\"M1316.22 1533.76 L1316.22 1539.24 Q1313.73 1537.87 1311.22 1537.2 Q1308.74 1536.5 1306.19 1536.5 Q1300.49 1536.5 1297.34 1540.13 Q1294.19 1543.73 1294.19 1550.25 Q1294.19 1556.78 1297.34 1560.4 Q1300.49 1564 1306.19 1564 Q1308.74 1564 1311.22 1563.33 Q1313.73 1562.63 1316.22 1561.26 L1316.22 1566.68 Q1313.77 1567.82 1311.12 1568.39 Q1308.51 1568.97 1305.55 1568.97 Q1297.5 1568.97 1292.76 1563.91 Q1288.02 1558.85 1288.02 1550.25 Q1288.02 1541.53 1292.79 1536.53 Q1297.6 1531.54 1305.94 1531.54 Q1308.64 1531.54 1311.22 1532.11 Q1313.8 1532.65 1316.22 1533.76 Z\" fill=\"#000000\" fill-rule=\"evenodd\" fill-opacity=\"1\" /><path clip-path=\"url(#clip460)\" d=\"M1326.4 1532.4 L1332.26 1532.4 L1332.26 1568.04 L1326.4 1568.04 L1326.4 1532.4 M1326.4 1518.52 L1332.26 1518.52 L1332.26 1525.93 L1326.4 1525.93 L1326.4 1518.52 Z\" fill=\"#000000\" fill-rule=\"evenodd\" fill-opacity=\"1\" /><path clip-path=\"url(#clip460)\" d=\"M1358.33 1536.5 Q1353.61 1536.5 1350.88 1540.19 Q1348.14 1543.85 1348.14 1550.25 Q1348.14 1556.65 1350.85 1560.34 Q1353.58 1564 1358.33 1564 Q1363 1564 1365.74 1560.31 Q1368.48 1556.62 1368.48 1550.25 Q1368.48 1543.92 1365.74 1540.23 Q1363 1536.5 1358.33 1536.5 M1358.33 1531.54 Q1365.96 1531.54 1370.32 1536.5 Q1374.69 1541.47 1374.69 1550.25 Q1374.69 1559 1370.32 1564 Q1365.96 1568.97 1358.33 1568.97 Q1350.65 1568.97 1346.29 1564 Q1341.97 1559 1341.97 1550.25 Q1341.97 1541.47 1346.29 1536.5 Q1350.65 1531.54 1358.33 1531.54 Z\" fill=\"#000000\" fill-rule=\"evenodd\" fill-opacity=\"1\" /><path clip-path=\"url(#clip460)\" d=\"M1414.03 1546.53 L1414.03 1568.04 L1408.17 1568.04 L1408.17 1546.72 Q1408.17 1541.66 1406.2 1539.14 Q1404.22 1536.63 1400.28 1536.63 Q1395.53 1536.63 1392.8 1539.65 Q1390.06 1542.68 1390.06 1547.9 L1390.06 1568.04 L1384.17 1568.04 L1384.17 1532.4 L1390.06 1532.4 L1390.06 1537.93 Q1392.16 1534.72 1394.99 1533.13 Q1397.86 1531.54 1401.58 1531.54 Q1407.72 1531.54 1410.87 1535.36 Q1414.03 1539.14 1414.03 1546.53 Z\" fill=\"#000000\" fill-rule=\"evenodd\" fill-opacity=\"1\" /><path clip-path=\"url(#clip460)\" d=\"M1456.2 1548.76 L1456.2 1551.62 L1429.27 1551.62 Q1429.65 1557.67 1432.9 1560.85 Q1436.18 1564 1442 1564 Q1445.38 1564 1448.53 1563.17 Q1451.71 1562.35 1454.83 1560.69 L1454.83 1566.23 Q1451.68 1567.57 1448.37 1568.27 Q1445.06 1568.97 1441.65 1568.97 Q1433.12 1568.97 1428.13 1564 Q1423.16 1559.04 1423.16 1550.57 Q1423.16 1541.82 1427.87 1536.69 Q1432.61 1531.54 1440.63 1531.54 Q1447.83 1531.54 1452 1536.18 Q1456.2 1540.8 1456.2 1548.76 M1450.34 1547.04 Q1450.28 1542.23 1447.64 1539.37 Q1445.03 1536.5 1440.7 1536.5 Q1435.8 1536.5 1432.84 1539.27 Q1429.91 1542.04 1429.46 1547.07 L1450.34 1547.04 Z\" fill=\"#000000\" fill-rule=\"evenodd\" fill-opacity=\"1\" /><path clip-path=\"url(#clip460)\" d=\"M1488.54 1533.45 L1488.54 1538.98 Q1486.05 1537.71 1483.38 1537.07 Q1480.71 1536.44 1477.84 1536.44 Q1473.48 1536.44 1471.28 1537.77 Q1469.12 1539.11 1469.12 1541.79 Q1469.12 1543.82 1470.68 1545 Q1472.24 1546.15 1476.95 1547.2 L1478.96 1547.64 Q1485.19 1548.98 1487.8 1551.43 Q1490.45 1553.85 1490.45 1558.21 Q1490.45 1563.17 1486.5 1566.07 Q1482.58 1568.97 1475.71 1568.97 Q1472.84 1568.97 1469.73 1568.39 Q1466.64 1567.85 1463.2 1566.74 L1463.2 1560.69 Q1466.45 1562.38 1469.6 1563.24 Q1472.75 1564.07 1475.84 1564.07 Q1479.97 1564.07 1482.2 1562.66 Q1484.43 1561.23 1484.43 1558.65 Q1484.43 1556.27 1482.81 1554.99 Q1481.22 1553.72 1475.77 1552.54 L1473.74 1552.07 Q1468.29 1550.92 1465.87 1548.56 Q1463.45 1546.18 1463.45 1542.04 Q1463.45 1537.01 1467.02 1534.27 Q1470.58 1531.54 1477.14 1531.54 Q1480.39 1531.54 1483.25 1532.01 Q1486.12 1532.49 1488.54 1533.45 Z\" fill=\"#000000\" fill-rule=\"evenodd\" fill-opacity=\"1\" /><polyline clip-path=\"url(#clip463)\" style=\"stroke:#000000; stroke-linecap:round; stroke-linejoin:round; stroke-width:2; stroke-opacity:0.1; fill:none\" points=\"276.876,1032.68 2352.76,1032.68 \"/>\n",
       "<polyline clip-path=\"url(#clip463)\" style=\"stroke:#000000; stroke-linecap:round; stroke-linejoin:round; stroke-width:2; stroke-opacity:0.1; fill:none\" points=\"276.876,608.958 2352.76,608.958 \"/>\n",
       "<polyline clip-path=\"url(#clip463)\" style=\"stroke:#000000; stroke-linecap:round; stroke-linejoin:round; stroke-width:2; stroke-opacity:0.1; fill:none\" points=\"276.876,185.234 2352.76,185.234 \"/>\n",
       "<polyline clip-path=\"url(#clip460)\" style=\"stroke:#000000; stroke-linecap:round; stroke-linejoin:round; stroke-width:4; stroke-opacity:1; fill:none\" points=\"276.876,1423.18 276.876,47.2441 \"/>\n",
       "<polyline clip-path=\"url(#clip460)\" style=\"stroke:#000000; stroke-linecap:round; stroke-linejoin:round; stroke-width:4; stroke-opacity:1; fill:none\" points=\"276.876,1032.68 295.773,1032.68 \"/>\n",
       "<polyline clip-path=\"url(#clip460)\" style=\"stroke:#000000; stroke-linecap:round; stroke-linejoin:round; stroke-width:4; stroke-opacity:1; fill:none\" points=\"276.876,608.958 295.773,608.958 \"/>\n",
       "<polyline clip-path=\"url(#clip460)\" style=\"stroke:#000000; stroke-linecap:round; stroke-linejoin:round; stroke-width:4; stroke-opacity:1; fill:none\" points=\"276.876,185.234 295.773,185.234 \"/>\n",
       "<path clip-path=\"url(#clip460)\" d=\"M114.931 1052.47 L122.57 1052.47 L122.57 1026.11 L114.26 1027.78 L114.26 1023.52 L122.524 1021.85 L127.2 1021.85 L127.2 1052.47 L134.839 1052.47 L134.839 1056.41 L114.931 1056.41 L114.931 1052.47 Z\" fill=\"#000000\" fill-rule=\"evenodd\" fill-opacity=\"1\" /><path clip-path=\"url(#clip460)\" d=\"M154.283 1024.93 Q150.672 1024.93 148.843 1028.49 Q147.038 1032.03 147.038 1039.16 Q147.038 1046.27 148.843 1049.84 Q150.672 1053.38 154.283 1053.38 Q157.917 1053.38 159.723 1049.84 Q161.552 1046.27 161.552 1039.16 Q161.552 1032.03 159.723 1028.49 Q157.917 1024.93 154.283 1024.93 M154.283 1021.22 Q160.093 1021.22 163.149 1025.83 Q166.227 1030.41 166.227 1039.16 Q166.227 1047.89 163.149 1052.5 Q160.093 1057.08 154.283 1057.08 Q148.473 1057.08 145.394 1052.5 Q142.339 1047.89 142.339 1039.16 Q142.339 1030.41 145.394 1025.83 Q148.473 1021.22 154.283 1021.22 Z\" fill=\"#000000\" fill-rule=\"evenodd\" fill-opacity=\"1\" /><path clip-path=\"url(#clip460)\" d=\"M166.227 1015.33 L190.339 1015.33 L190.339 1018.52 L166.227 1018.52 L166.227 1015.33 Z\" fill=\"#000000\" fill-rule=\"evenodd\" fill-opacity=\"1\" /><path clip-path=\"url(#clip460)\" d=\"M199.197 1025.8 L205.404 1025.8 L205.404 1004.38 L198.652 1005.73 L198.652 1002.27 L205.366 1000.92 L209.166 1000.92 L209.166 1025.8 L215.372 1025.8 L215.372 1029 L199.197 1029 L199.197 1025.8 Z\" fill=\"#000000\" fill-rule=\"evenodd\" fill-opacity=\"1\" /><path clip-path=\"url(#clip460)\" d=\"M231.171 1003.42 Q228.237 1003.42 226.751 1006.32 Q225.284 1009.19 225.284 1014.99 Q225.284 1020.76 226.751 1023.66 Q228.237 1026.54 231.171 1026.54 Q234.124 1026.54 235.591 1023.66 Q237.076 1020.76 237.076 1014.99 Q237.076 1009.19 235.591 1006.32 Q234.124 1003.42 231.171 1003.42 M231.171 1000.41 Q235.891 1000.41 238.374 1004.15 Q240.876 1007.88 240.876 1014.99 Q240.876 1022.08 238.374 1025.82 Q235.891 1029.54 231.171 1029.54 Q226.45 1029.54 223.949 1025.82 Q221.466 1022.08 221.466 1014.99 Q221.466 1007.88 223.949 1004.15 Q226.45 1000.41 231.171 1000.41 Z\" fill=\"#000000\" fill-rule=\"evenodd\" fill-opacity=\"1\" /><path clip-path=\"url(#clip460)\" d=\"M140.247 628.75 L147.886 628.75 L147.886 602.385 L139.575 604.052 L139.575 599.792 L147.839 598.126 L152.515 598.126 L152.515 628.75 L160.154 628.75 L160.154 632.686 L140.247 632.686 L140.247 628.75 Z\" fill=\"#000000\" fill-rule=\"evenodd\" fill-opacity=\"1\" /><path clip-path=\"url(#clip460)\" d=\"M179.598 601.204 Q175.987 601.204 174.159 604.769 Q172.353 608.311 172.353 615.44 Q172.353 622.547 174.159 626.112 Q175.987 629.653 179.598 629.653 Q183.233 629.653 185.038 626.112 Q186.867 622.547 186.867 615.44 Q186.867 608.311 185.038 604.769 Q183.233 601.204 179.598 601.204 M179.598 597.501 Q185.409 597.501 188.464 602.107 Q191.543 606.69 191.543 615.44 Q191.543 624.167 188.464 628.774 Q185.409 633.357 179.598 633.357 Q173.788 633.357 170.71 628.774 Q167.654 624.167 167.654 615.44 Q167.654 606.69 170.71 602.107 Q173.788 597.501 179.598 597.501 Z\" fill=\"#000000\" fill-rule=\"evenodd\" fill-opacity=\"1\" /><path clip-path=\"url(#clip460)\" d=\"M191.543 591.602 L215.654 591.602 L215.654 594.799 L191.543 594.799 L191.543 591.602 Z\" fill=\"#000000\" fill-rule=\"evenodd\" fill-opacity=\"1\" /><path clip-path=\"url(#clip460)\" d=\"M223.892 577.195 L238.807 577.195 L238.807 580.393 L227.372 580.393 L227.372 587.276 Q228.199 586.994 229.027 586.862 Q229.854 586.712 230.682 586.712 Q235.384 586.712 238.13 589.289 Q240.876 591.865 240.876 596.266 Q240.876 600.799 238.054 603.319 Q235.233 605.821 230.099 605.821 Q228.331 605.821 226.488 605.52 Q224.663 605.219 222.707 604.617 L222.707 600.799 Q224.4 601.721 226.205 602.172 Q228.011 602.623 230.023 602.623 Q233.277 602.623 235.177 600.912 Q237.076 599.2 237.076 596.266 Q237.076 593.332 235.177 591.621 Q233.277 589.909 230.023 589.909 Q228.5 589.909 226.977 590.248 Q225.472 590.586 223.892 591.301 L223.892 577.195 Z\" fill=\"#000000\" fill-rule=\"evenodd\" fill-opacity=\"1\" /><path clip-path=\"url(#clip460)\" d=\"M170.17 205.026 L177.809 205.026 L177.809 178.661 L169.499 180.327 L169.499 176.068 L177.762 174.402 L182.438 174.402 L182.438 205.026 L190.077 205.026 L190.077 208.962 L170.17 208.962 L170.17 205.026 Z\" fill=\"#000000\" fill-rule=\"evenodd\" fill-opacity=\"1\" /><path clip-path=\"url(#clip460)\" d=\"M209.522 177.48 Q205.91 177.48 204.082 181.045 Q202.276 184.587 202.276 191.716 Q202.276 198.823 204.082 202.388 Q205.91 205.929 209.522 205.929 Q213.156 205.929 214.961 202.388 Q216.79 198.823 216.79 191.716 Q216.79 184.587 214.961 181.045 Q213.156 177.48 209.522 177.48 M209.522 173.777 Q215.332 173.777 218.387 178.383 Q221.466 182.966 221.466 191.716 Q221.466 200.443 218.387 205.05 Q215.332 209.633 209.522 209.633 Q203.711 209.633 200.633 205.05 Q197.577 200.443 197.577 191.716 Q197.577 182.966 200.633 178.383 Q203.711 173.777 209.522 173.777 Z\" fill=\"#000000\" fill-rule=\"evenodd\" fill-opacity=\"1\" /><path clip-path=\"url(#clip460)\" d=\"M231.171 155.973 Q228.237 155.973 226.751 158.869 Q225.284 161.747 225.284 167.539 Q225.284 173.313 226.751 176.21 Q228.237 179.087 231.171 179.087 Q234.124 179.087 235.591 176.21 Q237.076 173.313 237.076 167.539 Q237.076 161.747 235.591 158.869 Q234.124 155.973 231.171 155.973 M231.171 152.963 Q235.891 152.963 238.374 156.706 Q240.876 160.43 240.876 167.539 Q240.876 174.63 238.374 178.373 Q235.891 182.097 231.171 182.097 Q226.45 182.097 223.949 178.373 Q221.466 174.63 221.466 167.539 Q221.466 160.43 223.949 156.706 Q226.45 152.963 231.171 152.963 Z\" fill=\"#000000\" fill-rule=\"evenodd\" fill-opacity=\"1\" /><path clip-path=\"url(#clip460)\" d=\"M79.015 826.343 L17.5984 826.343 Q15.1508 826.343 15.1508 825.022 Q15.1508 823.702 17.1153 823.702 L78.5319 823.702 Q80.9796 823.702 80.9796 825.022 Q80.9796 826.343 79.015 826.343 Z\" fill=\"#000000\" fill-rule=\"evenodd\" fill-opacity=\"1\" /><path clip-path=\"url(#clip460)\" d=\"M22.5903 780.755 Q24.3616 780.755 25.4566 781.882 Q26.5516 782.977 26.5516 784.362 Q26.5516 785.36 25.9397 786.101 Q25.3278 786.81 24.265 786.81 Q23.17 786.81 22.0106 785.972 Q20.8512 785.135 20.6902 783.235 Q19.4986 784.491 19.4986 786.488 Q19.4986 787.486 20.1427 788.323 Q20.7546 789.129 21.753 789.579 Q22.7836 790.063 28.6128 791.158 Q30.513 791.512 32.3487 791.834 Q34.1844 792.156 36.1168 792.542 L36.1168 787.067 Q36.1168 786.359 36.149 786.069 Q36.1812 785.779 36.3422 785.554 Q36.5033 785.296 36.8575 785.296 Q37.7593 785.296 37.9847 785.715 Q38.178 786.101 38.178 787.261 L38.178 792.929 L59.0796 796.89 Q59.6915 796.987 61.6238 797.405 Q63.524 797.792 66.6479 798.726 Q69.8041 799.66 71.6721 800.594 Q72.7349 801.109 73.7332 801.785 Q74.7638 802.43 75.7944 803.364 Q76.825 804.298 77.4369 805.521 Q78.081 806.745 78.081 808.033 Q78.081 810.223 76.8572 811.93 Q75.6334 813.637 73.54 813.637 Q71.7687 813.637 70.6737 812.542 Q69.5787 811.415 69.5787 810.03 Q69.5787 809.032 70.1906 808.323 Q70.8025 807.583 71.8653 807.583 Q72.3162 807.583 72.8315 807.744 Q73.3468 807.905 73.9265 808.259 Q74.5384 808.613 74.9571 809.386 Q75.3757 810.159 75.4401 811.222 Q76.6318 809.966 76.6318 808.033 Q76.6318 807.421 76.3741 806.874 Q76.1487 806.326 75.569 805.876 Q74.9893 805.393 74.4096 805.038 Q73.8621 804.684 72.7993 804.33 Q71.7687 803.975 70.9957 803.75 Q70.2228 803.525 68.8379 803.235 Q67.4531 802.913 66.6157 802.752 Q65.8106 802.591 64.2325 802.301 L38.178 797.373 L38.178 801.721 Q38.178 802.494 38.1458 802.816 Q38.1136 803.106 37.9525 803.331 Q37.7593 803.557 37.3728 803.557 Q36.7609 803.557 36.5033 803.299 Q36.2134 803.009 36.1812 802.687 Q36.1168 802.365 36.1168 801.592 L36.1168 797.019 Q27.9687 795.473 25.7787 794.861 Q23.4599 794.153 21.8496 793.058 Q20.2071 791.963 19.4342 790.739 Q18.6612 789.515 18.3714 788.517 Q18.0493 787.486 18.0493 786.488 Q18.0493 784.233 19.2731 782.494 Q20.4647 780.755 22.5903 780.755 Z\" fill=\"#000000\" fill-rule=\"evenodd\" fill-opacity=\"1\" /><path clip-path=\"url(#clip460)\" d=\"M48.0652 771.875 Q36.9219 771.875 27.9365 767.72 Q24.1684 765.949 21.0122 763.469 Q17.8561 760.989 16.4712 759.347 Q15.0864 757.704 15.0864 757.254 Q15.0864 756.609 15.7305 756.577 Q16.0525 756.577 16.8577 757.447 Q27.6789 768.075 48.0652 768.043 Q68.5159 768.043 78.9184 757.704 Q80.0456 756.577 80.3998 756.577 Q81.044 756.577 81.044 757.254 Q81.044 757.704 79.7235 759.283 Q78.4031 760.861 75.3757 763.308 Q72.3484 765.756 68.6447 767.527 Q59.6593 771.875 48.0652 771.875 Z\" fill=\"#000000\" fill-rule=\"evenodd\" fill-opacity=\"1\" /><path clip-path=\"url(#clip460)\" d=\"M36.8575 726.29 Q37.7593 726.29 37.9847 726.709 Q38.178 727.127 38.178 728.287 L38.178 734.47 L57.6303 739.366 Q59.3372 739.752 60.7865 739.752 Q62.3968 739.752 63.1053 739.269 Q63.8138 738.754 63.8138 737.691 Q63.8138 735.598 61.9137 733.343 Q60.0135 731.057 55.3759 729.124 Q54.764 728.867 54.6352 728.738 Q54.4741 728.577 54.4741 728.158 Q54.4741 727.353 55.1182 727.353 Q55.3437 727.353 56.3743 727.804 Q57.4049 728.222 58.9185 729.156 Q60.4322 730.058 61.8493 731.25 Q63.2663 732.409 64.2969 734.181 Q65.2953 735.952 65.2953 737.852 Q65.2953 740.525 63.5884 742.232 Q61.8815 743.907 59.2084 743.907 Q58.3388 743.907 55.5691 743.23 Q52.7672 742.554 38.178 738.883 L38.178 744.712 Q38.178 745.517 38.1458 745.839 Q38.1136 746.129 37.9525 746.354 Q37.7593 746.548 37.3728 746.548 Q36.7609 746.548 36.5033 746.29 Q36.2134 746.032 36.1812 745.71 Q36.1168 745.356 36.1168 744.551 L36.1168 738.367 L25.6499 735.791 Q24.6193 735.533 24.0396 734.889 Q23.4277 734.213 23.3633 733.826 Q23.2666 733.44 23.2666 733.15 Q23.2666 732.28 23.7497 731.765 Q24.2006 731.25 25.038 731.25 Q25.4889 731.25 36.1168 733.955 L36.1168 728.158 Q36.1168 727.417 36.149 727.127 Q36.1812 726.805 36.3422 726.548 Q36.5033 726.29 36.8575 726.29 Z\" fill=\"#000000\" fill-rule=\"evenodd\" fill-opacity=\"1\" /><path clip-path=\"url(#clip460)\" d=\"M54.5712 707.655 Q55.5632 707.655 56.3071 708.466 Q57.0285 709.255 57.0285 710.112 Q57.0285 710.901 56.5551 711.397 Q56.0591 711.87 55.3603 711.87 Q54.436 711.87 53.6695 711.081 Q52.903 710.292 52.903 709.368 Q52.903 708.601 53.3764 708.128 Q53.8498 707.655 54.5712 707.655 M76.8223 707.249 Q77.0026 707.249 77.724 707.452 Q78.4229 707.655 79.505 708.151 Q80.5646 708.624 81.5565 709.278 Q82.5485 709.932 83.2473 711.014 Q83.9462 712.073 83.9462 713.291 Q83.9462 714.936 82.8641 716.018 Q81.782 717.078 80.1588 717.078 Q79.2796 717.078 76.4616 716.018 Q68.2555 712.952 67.9173 712.84 Q66.6323 712.321 65.5051 712.321 Q64.9866 712.321 64.671 712.434 Q64.3328 712.547 64.2201 712.772 Q64.0848 712.998 64.0623 713.133 Q64.0398 713.245 64.0398 713.471 Q64.0398 714.801 65.3924 716.041 Q66.7451 717.281 69.766 718.138 Q70.3296 718.318 70.4648 718.431 Q70.6001 718.543 70.6001 718.882 Q70.5776 719.445 70.1267 719.445 Q69.9914 719.445 69.4729 719.287 Q68.9318 719.13 68.1202 718.836 Q67.2861 718.543 66.4294 718.025 Q65.5502 717.506 64.7837 716.875 Q64.0172 716.221 63.5212 715.297 Q63.0253 714.373 63.0253 713.336 Q63.0253 711.645 64.1299 710.608 Q65.2121 709.548 66.8127 709.548 Q67.6919 709.548 69.2474 710.157 Q71.2764 710.901 71.9302 711.171 L76.7772 712.975 Q78.5356 713.629 79.0767 713.832 Q79.5952 714.012 80.2264 714.17 Q80.8351 714.305 81.3987 714.305 Q82.1878 714.305 82.5485 714.057 Q82.9092 713.787 82.9092 713.2 Q82.9092 711.577 81.3085 710.382 Q79.6854 709.188 77.2055 708.489 Q77.1379 708.466 77.0252 708.444 Q76.4616 708.263 76.3939 708.083 Q76.3714 707.993 76.3714 707.812 Q76.3714 707.249 76.8223 707.249 Z\" fill=\"#000000\" fill-rule=\"evenodd\" fill-opacity=\"1\" /><path clip-path=\"url(#clip460)\" d=\"M80.3998 700.33 Q80.0778 700.33 79.2726 699.493 Q68.4515 688.865 48.0652 688.865 Q27.6144 688.865 17.2764 699.074 Q16.0847 700.33 15.7305 700.33 Q15.0864 700.33 15.0864 699.686 Q15.0864 699.235 16.4068 697.657 Q17.7272 696.047 20.7546 693.631 Q23.7819 691.184 27.4856 689.38 Q36.4711 685.032 48.0652 685.032 Q59.2084 685.032 68.1938 689.187 Q71.9619 690.958 75.1181 693.438 Q78.2743 695.918 79.6591 697.56 Q81.044 699.203 81.044 699.686 Q81.044 700.33 80.3998 700.33 Z\" fill=\"#000000\" fill-rule=\"evenodd\" fill-opacity=\"1\" /><path clip-path=\"url(#clip460)\" d=\"M79.015 671.307 L17.5984 671.307 Q15.1508 671.307 15.1508 669.986 Q15.1508 668.666 17.1153 668.666 L78.5319 668.666 Q80.9796 668.666 80.9796 669.986 Q80.9796 671.307 79.015 671.307 Z\" fill=\"#000000\" fill-rule=\"evenodd\" fill-opacity=\"1\" /><circle clip-path=\"url(#clip463)\" cx=\"335.627\" cy=\"143.358\" r=\"14.4\" fill=\"#009af9\" fill-rule=\"evenodd\" fill-opacity=\"1\" stroke=\"#000000\" stroke-opacity=\"1\" stroke-width=\"3.2\"/>\n",
       "<circle clip-path=\"url(#clip463)\" cx=\"403.157\" cy=\"86.1857\" r=\"14.4\" fill=\"#009af9\" fill-rule=\"evenodd\" fill-opacity=\"1\" stroke=\"#000000\" stroke-opacity=\"1\" stroke-width=\"3.2\"/>\n",
       "<circle clip-path=\"url(#clip463)\" cx=\"470.687\" cy=\"121.483\" r=\"14.4\" fill=\"#009af9\" fill-rule=\"evenodd\" fill-opacity=\"1\" stroke=\"#000000\" stroke-opacity=\"1\" stroke-width=\"3.2\"/>\n",
       "<circle clip-path=\"url(#clip463)\" cx=\"538.218\" cy=\"177.697\" r=\"14.4\" fill=\"#009af9\" fill-rule=\"evenodd\" fill-opacity=\"1\" stroke=\"#000000\" stroke-opacity=\"1\" stroke-width=\"3.2\"/>\n",
       "<circle clip-path=\"url(#clip463)\" cx=\"605.748\" cy=\"186.89\" r=\"14.4\" fill=\"#009af9\" fill-rule=\"evenodd\" fill-opacity=\"1\" stroke=\"#000000\" stroke-opacity=\"1\" stroke-width=\"3.2\"/>\n",
       "<circle clip-path=\"url(#clip463)\" cx=\"673.278\" cy=\"259.427\" r=\"14.4\" fill=\"#009af9\" fill-rule=\"evenodd\" fill-opacity=\"1\" stroke=\"#000000\" stroke-opacity=\"1\" stroke-width=\"3.2\"/>\n",
       "<circle clip-path=\"url(#clip463)\" cx=\"740.808\" cy=\"217.869\" r=\"14.4\" fill=\"#009af9\" fill-rule=\"evenodd\" fill-opacity=\"1\" stroke=\"#000000\" stroke-opacity=\"1\" stroke-width=\"3.2\"/>\n",
       "<circle clip-path=\"url(#clip463)\" cx=\"808.339\" cy=\"257.713\" r=\"14.4\" fill=\"#009af9\" fill-rule=\"evenodd\" fill-opacity=\"1\" stroke=\"#000000\" stroke-opacity=\"1\" stroke-width=\"3.2\"/>\n",
       "<circle clip-path=\"url(#clip463)\" cx=\"875.869\" cy=\"396.511\" r=\"14.4\" fill=\"#009af9\" fill-rule=\"evenodd\" fill-opacity=\"1\" stroke=\"#000000\" stroke-opacity=\"1\" stroke-width=\"3.2\"/>\n",
       "<circle clip-path=\"url(#clip463)\" cx=\"943.399\" cy=\"285.842\" r=\"14.4\" fill=\"#009af9\" fill-rule=\"evenodd\" fill-opacity=\"1\" stroke=\"#000000\" stroke-opacity=\"1\" stroke-width=\"3.2\"/>\n",
       "<circle clip-path=\"url(#clip463)\" cx=\"1010.93\" cy=\"313.222\" r=\"14.4\" fill=\"#009af9\" fill-rule=\"evenodd\" fill-opacity=\"1\" stroke=\"#000000\" stroke-opacity=\"1\" stroke-width=\"3.2\"/>\n",
       "<circle clip-path=\"url(#clip463)\" cx=\"1078.46\" cy=\"342.777\" r=\"14.4\" fill=\"#009af9\" fill-rule=\"evenodd\" fill-opacity=\"1\" stroke=\"#000000\" stroke-opacity=\"1\" stroke-width=\"3.2\"/>\n",
       "<circle clip-path=\"url(#clip463)\" cx=\"1145.99\" cy=\"378.016\" r=\"14.4\" fill=\"#009af9\" fill-rule=\"evenodd\" fill-opacity=\"1\" stroke=\"#000000\" stroke-opacity=\"1\" stroke-width=\"3.2\"/>\n",
       "<circle clip-path=\"url(#clip463)\" cx=\"1213.52\" cy=\"437.714\" r=\"14.4\" fill=\"#009af9\" fill-rule=\"evenodd\" fill-opacity=\"1\" stroke=\"#000000\" stroke-opacity=\"1\" stroke-width=\"3.2\"/>\n",
       "<circle clip-path=\"url(#clip463)\" cx=\"1281.05\" cy=\"436.565\" r=\"14.4\" fill=\"#009af9\" fill-rule=\"evenodd\" fill-opacity=\"1\" stroke=\"#000000\" stroke-opacity=\"1\" stroke-width=\"3.2\"/>\n",
       "<circle clip-path=\"url(#clip463)\" cx=\"1348.58\" cy=\"590.262\" r=\"14.4\" fill=\"#009af9\" fill-rule=\"evenodd\" fill-opacity=\"1\" stroke=\"#000000\" stroke-opacity=\"1\" stroke-width=\"3.2\"/>\n",
       "<circle clip-path=\"url(#clip463)\" cx=\"1416.11\" cy=\"463.812\" r=\"14.4\" fill=\"#009af9\" fill-rule=\"evenodd\" fill-opacity=\"1\" stroke=\"#000000\" stroke-opacity=\"1\" stroke-width=\"3.2\"/>\n",
       "<circle clip-path=\"url(#clip463)\" cx=\"1483.64\" cy=\"490.528\" r=\"14.4\" fill=\"#009af9\" fill-rule=\"evenodd\" fill-opacity=\"1\" stroke=\"#000000\" stroke-opacity=\"1\" stroke-width=\"3.2\"/>\n",
       "<circle clip-path=\"url(#clip463)\" cx=\"1551.17\" cy=\"518.573\" r=\"14.4\" fill=\"#009af9\" fill-rule=\"evenodd\" fill-opacity=\"1\" stroke=\"#000000\" stroke-opacity=\"1\" stroke-width=\"3.2\"/>\n",
       "<circle clip-path=\"url(#clip463)\" cx=\"1618.7\" cy=\"549.745\" r=\"14.4\" fill=\"#009af9\" fill-rule=\"evenodd\" fill-opacity=\"1\" stroke=\"#000000\" stroke-opacity=\"1\" stroke-width=\"3.2\"/>\n",
       "<circle clip-path=\"url(#clip463)\" cx=\"1686.23\" cy=\"590.137\" r=\"14.4\" fill=\"#009af9\" fill-rule=\"evenodd\" fill-opacity=\"1\" stroke=\"#000000\" stroke-opacity=\"1\" stroke-width=\"3.2\"/>\n",
       "<circle clip-path=\"url(#clip463)\" cx=\"1753.76\" cy=\"824.895\" r=\"14.4\" fill=\"#009af9\" fill-rule=\"evenodd\" fill-opacity=\"1\" stroke=\"#000000\" stroke-opacity=\"1\" stroke-width=\"3.2\"/>\n",
       "<circle clip-path=\"url(#clip463)\" cx=\"1821.29\" cy=\"615.836\" r=\"14.4\" fill=\"#009af9\" fill-rule=\"evenodd\" fill-opacity=\"1\" stroke=\"#000000\" stroke-opacity=\"1\" stroke-width=\"3.2\"/>\n",
       "<circle clip-path=\"url(#clip463)\" cx=\"1888.82\" cy=\"641.472\" r=\"14.4\" fill=\"#009af9\" fill-rule=\"evenodd\" fill-opacity=\"1\" stroke=\"#000000\" stroke-opacity=\"1\" stroke-width=\"3.2\"/>\n",
       "<circle clip-path=\"url(#clip463)\" cx=\"1956.35\" cy=\"667.236\" r=\"14.4\" fill=\"#009af9\" fill-rule=\"evenodd\" fill-opacity=\"1\" stroke=\"#000000\" stroke-opacity=\"1\" stroke-width=\"3.2\"/>\n",
       "<circle clip-path=\"url(#clip463)\" cx=\"2023.88\" cy=\"693.258\" r=\"14.4\" fill=\"#009af9\" fill-rule=\"evenodd\" fill-opacity=\"1\" stroke=\"#000000\" stroke-opacity=\"1\" stroke-width=\"3.2\"/>\n",
       "<circle clip-path=\"url(#clip463)\" cx=\"2091.41\" cy=\"719.812\" r=\"14.4\" fill=\"#009af9\" fill-rule=\"evenodd\" fill-opacity=\"1\" stroke=\"#000000\" stroke-opacity=\"1\" stroke-width=\"3.2\"/>\n",
       "<circle clip-path=\"url(#clip463)\" cx=\"2158.94\" cy=\"747.504\" r=\"14.4\" fill=\"#009af9\" fill-rule=\"evenodd\" fill-opacity=\"1\" stroke=\"#000000\" stroke-opacity=\"1\" stroke-width=\"3.2\"/>\n",
       "<circle clip-path=\"url(#clip463)\" cx=\"2226.47\" cy=\"777.808\" r=\"14.4\" fill=\"#009af9\" fill-rule=\"evenodd\" fill-opacity=\"1\" stroke=\"#000000\" stroke-opacity=\"1\" stroke-width=\"3.2\"/>\n",
       "<circle clip-path=\"url(#clip463)\" cx=\"2294\" cy=\"815.318\" r=\"14.4\" fill=\"#009af9\" fill-rule=\"evenodd\" fill-opacity=\"1\" stroke=\"#000000\" stroke-opacity=\"1\" stroke-width=\"3.2\"/>\n",
       "<circle clip-path=\"url(#clip463)\" cx=\"335.627\" cy=\"157.822\" r=\"14.4\" fill=\"#e26f46\" fill-rule=\"evenodd\" fill-opacity=\"1\" stroke=\"#000000\" stroke-opacity=\"1\" stroke-width=\"3.2\"/>\n",
       "<circle clip-path=\"url(#clip463)\" cx=\"403.157\" cy=\"358.63\" r=\"14.4\" fill=\"#e26f46\" fill-rule=\"evenodd\" fill-opacity=\"1\" stroke=\"#000000\" stroke-opacity=\"1\" stroke-width=\"3.2\"/>\n",
       "<circle clip-path=\"url(#clip463)\" cx=\"470.687\" cy=\"759.985\" r=\"14.4\" fill=\"#e26f46\" fill-rule=\"evenodd\" fill-opacity=\"1\" stroke=\"#000000\" stroke-opacity=\"1\" stroke-width=\"3.2\"/>\n",
       "<circle clip-path=\"url(#clip463)\" cx=\"538.218\" cy=\"1384.24\" r=\"14.4\" fill=\"#e26f46\" fill-rule=\"evenodd\" fill-opacity=\"1\" stroke=\"#000000\" stroke-opacity=\"1\" stroke-width=\"3.2\"/>\n",
       "<circle clip-path=\"url(#clip463)\" cx=\"335.627\" cy=\"152.262\" r=\"14.4\" fill=\"#3da44d\" fill-rule=\"evenodd\" fill-opacity=\"1\" stroke=\"#000000\" stroke-opacity=\"1\" stroke-width=\"3.2\"/>\n",
       "<circle clip-path=\"url(#clip463)\" cx=\"403.157\" cy=\"252.43\" r=\"14.4\" fill=\"#3da44d\" fill-rule=\"evenodd\" fill-opacity=\"1\" stroke=\"#000000\" stroke-opacity=\"1\" stroke-width=\"3.2\"/>\n",
       "<circle clip-path=\"url(#clip463)\" cx=\"470.687\" cy=\"352.735\" r=\"14.4\" fill=\"#3da44d\" fill-rule=\"evenodd\" fill-opacity=\"1\" stroke=\"#000000\" stroke-opacity=\"1\" stroke-width=\"3.2\"/>\n",
       "<circle clip-path=\"url(#clip463)\" cx=\"538.218\" cy=\"453.049\" r=\"14.4\" fill=\"#3da44d\" fill-rule=\"evenodd\" fill-opacity=\"1\" stroke=\"#000000\" stroke-opacity=\"1\" stroke-width=\"3.2\"/>\n",
       "<circle clip-path=\"url(#clip463)\" cx=\"605.748\" cy=\"553.364\" r=\"14.4\" fill=\"#3da44d\" fill-rule=\"evenodd\" fill-opacity=\"1\" stroke=\"#000000\" stroke-opacity=\"1\" stroke-width=\"3.2\"/>\n",
       "<circle clip-path=\"url(#clip463)\" cx=\"673.278\" cy=\"653.678\" r=\"14.4\" fill=\"#3da44d\" fill-rule=\"evenodd\" fill-opacity=\"1\" stroke=\"#000000\" stroke-opacity=\"1\" stroke-width=\"3.2\"/>\n",
       "<circle clip-path=\"url(#clip463)\" cx=\"740.808\" cy=\"753.993\" r=\"14.4\" fill=\"#3da44d\" fill-rule=\"evenodd\" fill-opacity=\"1\" stroke=\"#000000\" stroke-opacity=\"1\" stroke-width=\"3.2\"/>\n",
       "<circle clip-path=\"url(#clip463)\" cx=\"808.339\" cy=\"854.308\" r=\"14.4\" fill=\"#3da44d\" fill-rule=\"evenodd\" fill-opacity=\"1\" stroke=\"#000000\" stroke-opacity=\"1\" stroke-width=\"3.2\"/>\n",
       "<circle clip-path=\"url(#clip463)\" cx=\"335.627\" cy=\"152.262\" r=\"14.4\" fill=\"#c271d2\" fill-rule=\"evenodd\" fill-opacity=\"1\" stroke=\"#000000\" stroke-opacity=\"1\" stroke-width=\"3.2\"/>\n",
       "<circle clip-path=\"url(#clip463)\" cx=\"403.157\" cy=\"246.684\" r=\"14.4\" fill=\"#c271d2\" fill-rule=\"evenodd\" fill-opacity=\"1\" stroke=\"#000000\" stroke-opacity=\"1\" stroke-width=\"3.2\"/>\n",
       "<circle clip-path=\"url(#clip463)\" cx=\"470.687\" cy=\"441.528\" r=\"14.4\" fill=\"#c271d2\" fill-rule=\"evenodd\" fill-opacity=\"1\" stroke=\"#000000\" stroke-opacity=\"1\" stroke-width=\"3.2\"/>\n",
       "<circle clip-path=\"url(#clip463)\" cx=\"538.218\" cy=\"730.947\" r=\"14.4\" fill=\"#c271d2\" fill-rule=\"evenodd\" fill-opacity=\"1\" stroke=\"#000000\" stroke-opacity=\"1\" stroke-width=\"3.2\"/>\n",
       "<circle clip-path=\"url(#clip463)\" cx=\"605.748\" cy=\"1214.93\" r=\"14.4\" fill=\"#c271d2\" fill-rule=\"evenodd\" fill-opacity=\"1\" stroke=\"#000000\" stroke-opacity=\"1\" stroke-width=\"3.2\"/>\n",
       "<path clip-path=\"url(#clip460)\" d=\"M1713.75 352.309 L2283.56 352.309 L2283.56 93.1086 L1713.75 93.1086  Z\" fill=\"#ffffff\" fill-rule=\"evenodd\" fill-opacity=\"1\"/>\n",
       "<polyline clip-path=\"url(#clip460)\" style=\"stroke:#000000; stroke-linecap:round; stroke-linejoin:round; stroke-width:4; stroke-opacity:1; fill:none\" points=\"1713.75,352.309 2283.56,352.309 2283.56,93.1086 1713.75,93.1086 1713.75,352.309 \"/>\n",
       "<circle clip-path=\"url(#clip460)\" cx=\"1806.01\" cy=\"144.949\" r=\"23.04\" fill=\"#009af9\" fill-rule=\"evenodd\" fill-opacity=\"1\" stroke=\"#000000\" stroke-opacity=\"1\" stroke-width=\"5.12\"/>\n",
       "<path clip-path=\"url(#clip460)\" d=\"M1902.95 145.724 L1902.95 158.386 L1910.45 158.386 Q1914.22 158.386 1916.03 156.835 Q1917.86 155.261 1917.86 152.043 Q1917.86 148.803 1916.03 147.275 Q1914.22 145.724 1910.45 145.724 L1902.95 145.724 M1902.95 131.511 L1902.95 141.928 L1909.87 141.928 Q1913.3 141.928 1914.96 140.655 Q1916.65 139.358 1916.65 136.719 Q1916.65 134.104 1914.96 132.807 Q1913.3 131.511 1909.87 131.511 L1902.95 131.511 M1898.27 127.669 L1910.22 127.669 Q1915.57 127.669 1918.46 129.891 Q1921.35 132.113 1921.35 136.21 Q1921.35 139.382 1919.87 141.257 Q1918.39 143.131 1915.52 143.594 Q1918.97 144.335 1920.87 146.696 Q1922.79 149.034 1922.79 152.553 Q1922.79 157.182 1919.64 159.705 Q1916.49 162.229 1910.68 162.229 L1898.27 162.229 L1898.27 127.669 Z\" fill=\"#000000\" fill-rule=\"evenodd\" fill-opacity=\"1\" /><path clip-path=\"url(#clip460)\" d=\"M1930.61 136.303 L1934.87 136.303 L1934.87 162.229 L1930.61 162.229 L1930.61 136.303 M1930.61 126.21 L1934.87 126.21 L1934.87 131.604 L1930.61 131.604 L1930.61 126.21 Z\" fill=\"#000000\" fill-rule=\"evenodd\" fill-opacity=\"1\" /><path clip-path=\"url(#clip460)\" d=\"M1960.31 137.067 L1960.31 141.094 Q1958.51 140.169 1956.56 139.706 Q1954.62 139.243 1952.53 139.243 Q1949.36 139.243 1947.76 140.215 Q1946.19 141.187 1946.19 143.131 Q1946.19 144.613 1947.32 145.469 Q1948.46 146.303 1951.89 147.067 L1953.34 147.391 Q1957.88 148.363 1959.78 150.145 Q1961.7 151.905 1961.7 155.076 Q1961.7 158.687 1958.83 160.793 Q1955.98 162.9 1950.98 162.9 Q1948.9 162.9 1946.63 162.483 Q1944.39 162.09 1941.89 161.28 L1941.89 156.881 Q1944.25 158.108 1946.54 158.733 Q1948.83 159.335 1951.07 159.335 Q1954.08 159.335 1955.7 158.317 Q1957.32 157.275 1957.32 155.4 Q1957.32 153.664 1956.14 152.738 Q1954.99 151.812 1951.03 150.956 L1949.55 150.608 Q1945.59 149.775 1943.83 148.062 Q1942.07 146.326 1942.07 143.317 Q1942.07 139.659 1944.66 137.669 Q1947.26 135.678 1952.02 135.678 Q1954.39 135.678 1956.47 136.025 Q1958.55 136.372 1960.31 137.067 Z\" fill=\"#000000\" fill-rule=\"evenodd\" fill-opacity=\"1\" /><path clip-path=\"url(#clip460)\" d=\"M1990.66 148.201 L1990.66 150.284 L1971.07 150.284 Q1971.35 154.682 1973.71 156.997 Q1976.1 159.289 1980.33 159.289 Q1982.79 159.289 1985.08 158.687 Q1987.39 158.085 1989.66 156.881 L1989.66 160.909 Q1987.37 161.881 1984.96 162.391 Q1982.56 162.9 1980.08 162.9 Q1973.88 162.9 1970.24 159.289 Q1966.63 155.678 1966.63 149.52 Q1966.63 143.155 1970.06 139.428 Q1973.51 135.678 1979.34 135.678 Q1984.57 135.678 1987.6 139.057 Q1990.66 142.414 1990.66 148.201 M1986.4 146.951 Q1986.35 143.456 1984.43 141.372 Q1982.53 139.289 1979.38 139.289 Q1975.82 139.289 1973.67 141.303 Q1971.54 143.317 1971.21 146.974 L1986.4 146.951 Z\" fill=\"#000000\" fill-rule=\"evenodd\" fill-opacity=\"1\" /><path clip-path=\"url(#clip460)\" d=\"M2016.31 137.298 L2016.31 141.28 Q2014.5 140.284 2012.67 139.798 Q2010.87 139.289 2009.01 139.289 Q2004.87 139.289 2002.58 141.928 Q2000.29 144.544 2000.29 149.289 Q2000.29 154.034 2002.58 156.673 Q2004.87 159.289 2009.01 159.289 Q2010.87 159.289 2012.67 158.803 Q2014.5 158.293 2016.31 157.298 L2016.31 161.233 Q2014.52 162.067 2012.6 162.483 Q2010.7 162.9 2008.55 162.9 Q2002.7 162.9 1999.25 159.219 Q1995.8 155.539 1995.8 149.289 Q1995.8 142.946 1999.27 139.312 Q2002.76 135.678 2008.83 135.678 Q2010.8 135.678 2012.67 136.095 Q2014.55 136.488 2016.31 137.298 Z\" fill=\"#000000\" fill-rule=\"evenodd\" fill-opacity=\"1\" /><path clip-path=\"url(#clip460)\" d=\"M2042.37 137.298 L2042.37 141.28 Q2040.57 140.284 2038.74 139.798 Q2036.93 139.289 2035.08 139.289 Q2030.94 139.289 2028.64 141.928 Q2026.35 144.544 2026.35 149.289 Q2026.35 154.034 2028.64 156.673 Q2030.94 159.289 2035.08 159.289 Q2036.93 159.289 2038.74 158.803 Q2040.57 158.293 2042.37 157.298 L2042.37 161.233 Q2040.59 162.067 2038.67 162.483 Q2036.77 162.9 2034.62 162.9 Q2028.76 162.9 2025.31 159.219 Q2021.86 155.539 2021.86 149.289 Q2021.86 142.946 2025.33 139.312 Q2028.83 135.678 2034.89 135.678 Q2036.86 135.678 2038.74 136.095 Q2040.61 136.488 2042.37 137.298 Z\" fill=\"#000000\" fill-rule=\"evenodd\" fill-opacity=\"1\" /><path clip-path=\"url(#clip460)\" d=\"M2049.78 136.303 L2054.04 136.303 L2054.04 162.229 L2049.78 162.229 L2049.78 136.303 M2049.78 126.21 L2054.04 126.21 L2054.04 131.604 L2049.78 131.604 L2049.78 126.21 Z\" fill=\"#000000\" fill-rule=\"evenodd\" fill-opacity=\"1\" /><path clip-path=\"url(#clip460)\" d=\"M2073 139.289 Q2069.57 139.289 2067.58 141.974 Q2065.59 144.636 2065.59 149.289 Q2065.59 153.942 2067.56 156.627 Q2069.55 159.289 2073 159.289 Q2076.4 159.289 2078.39 156.604 Q2080.38 153.918 2080.38 149.289 Q2080.38 144.682 2078.39 141.997 Q2076.4 139.289 2073 139.289 M2073 135.678 Q2078.55 135.678 2081.72 139.289 Q2084.89 142.9 2084.89 149.289 Q2084.89 155.655 2081.72 159.289 Q2078.55 162.9 2073 162.9 Q2067.42 162.9 2064.25 159.289 Q2061.1 155.655 2061.1 149.289 Q2061.1 142.9 2064.25 139.289 Q2067.42 135.678 2073 135.678 M2076.21 124.312 L2080.82 124.312 L2073.27 133.016 L2069.73 133.016 L2076.21 124.312 Z\" fill=\"#000000\" fill-rule=\"evenodd\" fill-opacity=\"1\" /><path clip-path=\"url(#clip460)\" d=\"M2113.5 146.581 L2113.5 162.229 L2109.25 162.229 L2109.25 146.719 Q2109.25 143.039 2107.81 141.21 Q2106.38 139.382 2103.5 139.382 Q2100.06 139.382 2098.06 141.581 Q2096.07 143.78 2096.07 147.576 L2096.07 162.229 L2091.79 162.229 L2091.79 136.303 L2096.07 136.303 L2096.07 140.331 Q2097.6 137.993 2099.66 136.835 Q2101.75 135.678 2104.45 135.678 Q2108.92 135.678 2111.21 138.456 Q2113.5 141.21 2113.5 146.581 Z\" fill=\"#000000\" fill-rule=\"evenodd\" fill-opacity=\"1\" /><circle clip-path=\"url(#clip460)\" cx=\"1806.01\" cy=\"196.789\" r=\"23.04\" fill=\"#e26f46\" fill-rule=\"evenodd\" fill-opacity=\"1\" stroke=\"#000000\" stroke-opacity=\"1\" stroke-width=\"5.12\"/>\n",
       "<path clip-path=\"url(#clip460)\" d=\"M1898.27 179.509 L1904.57 179.509 L1919.89 208.421 L1919.89 179.509 L1924.43 179.509 L1924.43 214.069 L1918.14 214.069 L1902.81 185.157 L1902.81 214.069 L1898.27 214.069 L1898.27 179.509 Z\" fill=\"#000000\" fill-rule=\"evenodd\" fill-opacity=\"1\" /><path clip-path=\"url(#clip460)\" d=\"M1955.73 200.041 L1955.73 202.124 L1936.14 202.124 Q1936.42 206.522 1938.78 208.837 Q1941.17 211.129 1945.4 211.129 Q1947.86 211.129 1950.15 210.527 Q1952.46 209.925 1954.73 208.721 L1954.73 212.749 Q1952.44 213.721 1950.03 214.231 Q1947.63 214.74 1945.15 214.74 Q1938.95 214.74 1935.31 211.129 Q1931.7 207.518 1931.7 201.36 Q1931.7 194.995 1935.13 191.268 Q1938.57 187.518 1944.41 187.518 Q1949.64 187.518 1952.67 190.897 Q1955.73 194.254 1955.73 200.041 M1951.47 198.791 Q1951.42 195.296 1949.5 193.212 Q1947.6 191.129 1944.45 191.129 Q1940.89 191.129 1938.74 193.143 Q1936.61 195.157 1936.28 198.814 L1951.47 198.791 Z\" fill=\"#000000\" fill-rule=\"evenodd\" fill-opacity=\"1\" /><path clip-path=\"url(#clip460)\" d=\"M1960.24 188.143 L1964.5 188.143 L1969.82 208.374 L1975.13 188.143 L1980.15 188.143 L1985.47 208.374 L1990.77 188.143 L1995.03 188.143 L1988.25 214.069 L1983.23 214.069 L1977.65 192.819 L1972.05 214.069 L1967.02 214.069 L1960.24 188.143 Z\" fill=\"#000000\" fill-rule=\"evenodd\" fill-opacity=\"1\" /><path clip-path=\"url(#clip460)\" d=\"M2005.7 180.782 L2005.7 188.143 L2014.48 188.143 L2014.48 191.453 L2005.7 191.453 L2005.7 205.527 Q2005.7 208.698 2006.56 209.601 Q2007.44 210.504 2010.1 210.504 L2014.48 210.504 L2014.48 214.069 L2010.1 214.069 Q2005.17 214.069 2003.3 212.24 Q2001.42 210.388 2001.42 205.527 L2001.42 191.453 L1998.3 191.453 L1998.3 188.143 L2001.42 188.143 L2001.42 180.782 L2005.7 180.782 Z\" fill=\"#000000\" fill-rule=\"evenodd\" fill-opacity=\"1\" /><path clip-path=\"url(#clip460)\" d=\"M2030.13 191.129 Q2026.7 191.129 2024.71 193.814 Q2022.72 196.476 2022.72 201.129 Q2022.72 205.782 2024.69 208.467 Q2026.68 211.129 2030.13 211.129 Q2033.53 211.129 2035.52 208.444 Q2037.51 205.758 2037.51 201.129 Q2037.51 196.522 2035.52 193.837 Q2033.53 191.129 2030.13 191.129 M2030.13 187.518 Q2035.68 187.518 2038.85 191.129 Q2042.02 194.74 2042.02 201.129 Q2042.02 207.495 2038.85 211.129 Q2035.68 214.74 2030.13 214.74 Q2024.55 214.74 2021.38 211.129 Q2018.23 207.495 2018.23 201.129 Q2018.23 194.74 2021.38 191.129 Q2024.55 187.518 2030.13 187.518 Z\" fill=\"#000000\" fill-rule=\"evenodd\" fill-opacity=\"1\" /><path clip-path=\"url(#clip460)\" d=\"M2070.63 198.421 L2070.63 214.069 L2066.38 214.069 L2066.38 198.559 Q2066.38 194.879 2064.94 193.05 Q2063.5 191.222 2060.63 191.222 Q2057.19 191.222 2055.19 193.421 Q2053.2 195.62 2053.2 199.416 L2053.2 214.069 L2048.92 214.069 L2048.92 188.143 L2053.2 188.143 L2053.2 192.171 Q2054.73 189.833 2056.79 188.675 Q2058.88 187.518 2061.58 187.518 Q2066.05 187.518 2068.34 190.296 Q2070.63 193.05 2070.63 198.421 Z\" fill=\"#000000\" fill-rule=\"evenodd\" fill-opacity=\"1\" /><path clip-path=\"url(#clip460)\" d=\"M2110.77 197.865 Q2112.28 198.374 2113.69 200.041 Q2115.12 201.708 2116.56 204.624 L2121.31 214.069 L2116.28 214.069 L2111.86 205.203 Q2110.15 201.731 2108.53 200.596 Q2106.93 199.462 2104.15 199.462 L2099.06 199.462 L2099.06 214.069 L2094.38 214.069 L2094.38 179.509 L2104.94 179.509 Q2110.87 179.509 2113.78 181.985 Q2116.7 184.462 2116.7 189.462 Q2116.7 192.726 2115.17 194.879 Q2113.67 197.032 2110.77 197.865 M2099.06 183.351 L2099.06 195.62 L2104.94 195.62 Q2108.32 195.62 2110.03 194.069 Q2111.77 192.495 2111.77 189.462 Q2111.77 186.43 2110.03 184.902 Q2108.32 183.351 2104.94 183.351 L2099.06 183.351 Z\" fill=\"#000000\" fill-rule=\"evenodd\" fill-opacity=\"1\" /><path clip-path=\"url(#clip460)\" d=\"M2137.88 201.036 Q2132.72 201.036 2130.73 202.217 Q2128.74 203.397 2128.74 206.245 Q2128.74 208.513 2130.22 209.856 Q2131.72 211.175 2134.29 211.175 Q2137.83 211.175 2139.96 208.675 Q2142.12 206.152 2142.12 201.985 L2142.12 201.036 L2137.88 201.036 M2146.37 199.277 L2146.37 214.069 L2142.12 214.069 L2142.12 210.133 Q2140.66 212.495 2138.48 213.629 Q2136.31 214.74 2133.16 214.74 Q2129.18 214.74 2126.81 212.518 Q2124.48 210.272 2124.48 206.522 Q2124.48 202.147 2127.39 199.925 Q2130.33 197.703 2136.14 197.703 L2142.12 197.703 L2142.12 197.286 Q2142.12 194.347 2140.17 192.749 Q2138.25 191.129 2134.75 191.129 Q2132.53 191.129 2130.43 191.661 Q2128.32 192.194 2126.37 193.259 L2126.37 189.323 Q2128.71 188.421 2130.91 187.981 Q2133.11 187.518 2135.19 187.518 Q2140.82 187.518 2143.6 190.434 Q2146.37 193.351 2146.37 199.277 Z\" fill=\"#000000\" fill-rule=\"evenodd\" fill-opacity=\"1\" /><path clip-path=\"url(#clip460)\" d=\"M2159.27 210.18 L2159.27 223.93 L2154.99 223.93 L2154.99 188.143 L2159.27 188.143 L2159.27 192.078 Q2160.61 189.763 2162.65 188.652 Q2164.71 187.518 2167.56 187.518 Q2172.28 187.518 2175.22 191.268 Q2178.18 195.018 2178.18 201.129 Q2178.18 207.24 2175.22 210.99 Q2172.28 214.74 2167.56 214.74 Q2164.71 214.74 2162.65 213.629 Q2160.61 212.495 2159.27 210.18 M2173.76 201.129 Q2173.76 196.43 2171.81 193.768 Q2169.89 191.083 2166.51 191.083 Q2163.13 191.083 2161.19 193.768 Q2159.27 196.43 2159.27 201.129 Q2159.27 205.828 2161.19 208.513 Q2163.13 211.175 2166.51 211.175 Q2169.89 211.175 2171.81 208.513 Q2173.76 205.828 2173.76 201.129 Z\" fill=\"#000000\" fill-rule=\"evenodd\" fill-opacity=\"1\" /><path clip-path=\"url(#clip460)\" d=\"M2201.77 188.907 L2201.77 192.934 Q2199.96 192.009 2198.02 191.546 Q2196.07 191.083 2193.99 191.083 Q2190.82 191.083 2189.22 192.055 Q2187.65 193.027 2187.65 194.971 Q2187.65 196.453 2188.78 197.309 Q2189.92 198.143 2193.34 198.907 L2194.8 199.231 Q2199.34 200.203 2201.24 201.985 Q2203.16 203.745 2203.16 206.916 Q2203.16 210.527 2200.29 212.633 Q2197.44 214.74 2192.44 214.74 Q2190.36 214.74 2188.09 214.323 Q2185.84 213.93 2183.34 213.12 L2183.34 208.721 Q2185.7 209.948 2187.99 210.573 Q2190.29 211.175 2192.53 211.175 Q2195.54 211.175 2197.16 210.157 Q2198.78 209.115 2198.78 207.24 Q2198.78 205.504 2197.6 204.578 Q2196.44 203.652 2192.49 202.796 L2191 202.448 Q2187.05 201.615 2185.29 199.902 Q2183.53 198.166 2183.53 195.157 Q2183.53 191.499 2186.12 189.509 Q2188.71 187.518 2193.48 187.518 Q2195.84 187.518 2197.93 187.865 Q2200.01 188.212 2201.77 188.907 Z\" fill=\"#000000\" fill-rule=\"evenodd\" fill-opacity=\"1\" /><path clip-path=\"url(#clip460)\" d=\"M2219.99 191.129 Q2216.56 191.129 2214.57 193.814 Q2212.58 196.476 2212.58 201.129 Q2212.58 205.782 2214.55 208.467 Q2216.54 211.129 2219.99 211.129 Q2223.39 211.129 2225.38 208.444 Q2227.37 205.758 2227.37 201.129 Q2227.37 196.522 2225.38 193.837 Q2223.39 191.129 2219.99 191.129 M2219.99 187.518 Q2225.54 187.518 2228.71 191.129 Q2231.88 194.74 2231.88 201.129 Q2231.88 207.495 2228.71 211.129 Q2225.54 214.74 2219.99 214.74 Q2214.41 214.74 2211.24 211.129 Q2208.09 207.495 2208.09 201.129 Q2208.09 194.74 2211.24 191.129 Q2214.41 187.518 2219.99 187.518 Z\" fill=\"#000000\" fill-rule=\"evenodd\" fill-opacity=\"1\" /><path clip-path=\"url(#clip460)\" d=\"M2260.49 198.421 L2260.49 214.069 L2256.24 214.069 L2256.24 198.559 Q2256.24 194.879 2254.8 193.05 Q2253.36 191.222 2250.49 191.222 Q2247.05 191.222 2245.05 193.421 Q2243.06 195.62 2243.06 199.416 L2243.06 214.069 L2238.78 214.069 L2238.78 188.143 L2243.06 188.143 L2243.06 192.171 Q2244.59 189.833 2246.65 188.675 Q2248.74 187.518 2251.44 187.518 Q2255.91 187.518 2258.2 190.296 Q2260.49 193.05 2260.49 198.421 Z\" fill=\"#000000\" fill-rule=\"evenodd\" fill-opacity=\"1\" /><circle clip-path=\"url(#clip460)\" cx=\"1806.01\" cy=\"248.629\" r=\"23.04\" fill=\"#3da44d\" fill-rule=\"evenodd\" fill-opacity=\"1\" stroke=\"#000000\" stroke-opacity=\"1\" stroke-width=\"5.12\"/>\n",
       "<path clip-path=\"url(#clip460)\" d=\"M1914.66 249.705 Q1916.17 250.214 1917.58 251.881 Q1919.01 253.548 1920.45 256.464 L1925.2 265.909 L1920.17 265.909 L1915.75 257.043 Q1914.04 253.571 1912.42 252.436 Q1910.82 251.302 1908.04 251.302 L1902.95 251.302 L1902.95 265.909 L1898.27 265.909 L1898.27 231.349 L1908.83 231.349 Q1914.76 231.349 1917.67 233.825 Q1920.59 236.302 1920.59 241.302 Q1920.59 244.566 1919.06 246.719 Q1917.56 248.872 1914.66 249.705 M1902.95 235.191 L1902.95 247.46 L1908.83 247.46 Q1912.21 247.46 1913.92 245.909 Q1915.66 244.335 1915.66 241.302 Q1915.66 238.27 1913.92 236.742 Q1912.21 235.191 1908.83 235.191 L1902.95 235.191 Z\" fill=\"#000000\" fill-rule=\"evenodd\" fill-opacity=\"1\" /><path clip-path=\"url(#clip460)\" d=\"M1951.07 251.881 L1951.07 253.964 L1931.49 253.964 Q1931.77 258.362 1934.13 260.677 Q1936.51 262.969 1940.75 262.969 Q1943.2 262.969 1945.5 262.367 Q1947.81 261.765 1950.08 260.561 L1950.08 264.589 Q1947.79 265.561 1945.38 266.071 Q1942.97 266.58 1940.5 266.58 Q1934.29 266.58 1930.66 262.969 Q1927.05 259.358 1927.05 253.2 Q1927.05 246.835 1930.47 243.108 Q1933.92 239.358 1939.76 239.358 Q1944.99 239.358 1948.02 242.737 Q1951.07 246.094 1951.07 251.881 M1946.82 250.631 Q1946.77 247.136 1944.85 245.052 Q1942.95 242.969 1939.8 242.969 Q1936.24 242.969 1934.08 244.983 Q1931.95 246.997 1931.63 250.654 L1946.82 250.631 Z\" fill=\"#000000\" fill-rule=\"evenodd\" fill-opacity=\"1\" /><path clip-path=\"url(#clip460)\" d=\"M1975.13 252.645 Q1975.13 248.015 1973.2 245.469 Q1971.31 242.923 1967.86 242.923 Q1964.43 242.923 1962.51 245.469 Q1960.61 248.015 1960.61 252.645 Q1960.61 257.251 1962.51 259.798 Q1964.43 262.344 1967.86 262.344 Q1971.31 262.344 1973.2 259.798 Q1975.13 257.251 1975.13 252.645 M1979.38 262.691 Q1979.38 269.311 1976.45 272.529 Q1973.51 275.77 1967.44 275.77 Q1965.2 275.77 1963.2 275.422 Q1961.21 275.098 1959.34 274.404 L1959.34 270.26 Q1961.21 271.279 1963.04 271.765 Q1964.87 272.251 1966.77 272.251 Q1970.96 272.251 1973.04 270.052 Q1975.13 267.876 1975.13 263.455 L1975.13 261.348 Q1973.81 263.64 1971.75 264.774 Q1969.69 265.909 1966.82 265.909 Q1962.05 265.909 1959.13 262.274 Q1956.21 258.64 1956.21 252.645 Q1956.21 246.626 1959.13 242.992 Q1962.05 239.358 1966.82 239.358 Q1969.69 239.358 1971.75 240.492 Q1973.81 241.626 1975.13 243.918 L1975.13 239.983 L1979.38 239.983 L1979.38 262.691 Z\" fill=\"#000000\" fill-rule=\"evenodd\" fill-opacity=\"1\" /><path clip-path=\"url(#clip460)\" d=\"M1987.72 255.677 L1987.72 239.983 L1991.98 239.983 L1991.98 255.515 Q1991.98 259.196 1993.41 261.048 Q1994.85 262.876 1997.72 262.876 Q2001.17 262.876 2003.16 260.677 Q2005.17 258.478 2005.17 254.682 L2005.17 239.983 L2009.43 239.983 L2009.43 265.909 L2005.17 265.909 L2005.17 261.927 Q2003.62 264.288 2001.56 265.446 Q1999.52 266.58 1996.82 266.58 Q1992.35 266.58 1990.03 263.802 Q1987.72 261.024 1987.72 255.677 M1998.44 239.358 L1998.44 239.358 Z\" fill=\"#000000\" fill-rule=\"evenodd\" fill-opacity=\"1\" /><path clip-path=\"url(#clip460)\" d=\"M2018.2 229.89 L2022.46 229.89 L2022.46 265.909 L2018.2 265.909 L2018.2 229.89 Z\" fill=\"#000000\" fill-rule=\"evenodd\" fill-opacity=\"1\" /><path clip-path=\"url(#clip460)\" d=\"M2043.16 252.876 Q2038 252.876 2036.01 254.057 Q2034.01 255.237 2034.01 258.085 Q2034.01 260.353 2035.5 261.696 Q2037 263.015 2039.57 263.015 Q2043.11 263.015 2045.24 260.515 Q2047.39 257.992 2047.39 253.825 L2047.39 252.876 L2043.16 252.876 M2051.65 251.117 L2051.65 265.909 L2047.39 265.909 L2047.39 261.973 Q2045.94 264.335 2043.76 265.469 Q2041.58 266.58 2038.44 266.58 Q2034.45 266.58 2032.09 264.358 Q2029.76 262.112 2029.76 258.362 Q2029.76 253.987 2032.67 251.765 Q2035.61 249.543 2041.42 249.543 L2047.39 249.543 L2047.39 249.126 Q2047.39 246.187 2045.45 244.589 Q2043.53 242.969 2040.03 242.969 Q2037.81 242.969 2035.7 243.501 Q2033.6 244.034 2031.65 245.099 L2031.65 241.163 Q2033.99 240.261 2036.19 239.821 Q2038.39 239.358 2040.47 239.358 Q2046.1 239.358 2048.88 242.274 Q2051.65 245.191 2051.65 251.117 Z\" fill=\"#000000\" fill-rule=\"evenodd\" fill-opacity=\"1\" /><path clip-path=\"url(#clip460)\" d=\"M2075.68 231.349 L2095.54 231.349 L2095.54 235.284 L2080.36 235.284 L2080.36 245.469 L2094.06 245.469 L2094.06 249.404 L2080.36 249.404 L2080.36 265.909 L2075.68 265.909 L2075.68 231.349 Z\" fill=\"#000000\" fill-rule=\"evenodd\" fill-opacity=\"1\" /><path clip-path=\"url(#clip460)\" d=\"M2110.19 252.876 Q2105.03 252.876 2103.04 254.057 Q2101.05 255.237 2101.05 258.085 Q2101.05 260.353 2102.53 261.696 Q2104.04 263.015 2106.61 263.015 Q2110.15 263.015 2112.28 260.515 Q2114.43 257.992 2114.43 253.825 L2114.43 252.876 L2110.19 252.876 M2118.69 251.117 L2118.69 265.909 L2114.43 265.909 L2114.43 261.973 Q2112.97 264.335 2110.8 265.469 Q2108.62 266.58 2105.47 266.58 Q2101.49 266.58 2099.13 264.358 Q2096.79 262.112 2096.79 258.362 Q2096.79 253.987 2099.71 251.765 Q2102.65 249.543 2108.46 249.543 L2114.43 249.543 L2114.43 249.126 Q2114.43 246.187 2112.49 244.589 Q2110.56 242.969 2107.07 242.969 Q2104.85 242.969 2102.74 243.501 Q2100.63 244.034 2098.69 245.099 L2098.69 241.163 Q2101.03 240.261 2103.23 239.821 Q2105.43 239.358 2107.51 239.358 Q2113.13 239.358 2115.91 242.274 Q2118.69 245.191 2118.69 251.117 Z\" fill=\"#000000\" fill-rule=\"evenodd\" fill-opacity=\"1\" /><path clip-path=\"url(#clip460)\" d=\"M2127.46 229.89 L2131.72 229.89 L2131.72 265.909 L2127.46 265.909 L2127.46 229.89 Z\" fill=\"#000000\" fill-rule=\"evenodd\" fill-opacity=\"1\" /><path clip-path=\"url(#clip460)\" d=\"M2157.16 240.747 L2157.16 244.774 Q2155.36 243.849 2153.41 243.386 Q2151.47 242.923 2149.38 242.923 Q2146.21 242.923 2144.62 243.895 Q2143.04 244.867 2143.04 246.811 Q2143.04 248.293 2144.18 249.149 Q2145.31 249.983 2148.74 250.747 L2150.19 251.071 Q2154.73 252.043 2156.63 253.825 Q2158.55 255.585 2158.55 258.756 Q2158.55 262.367 2155.68 264.473 Q2152.83 266.58 2147.83 266.58 Q2145.75 266.58 2143.48 266.163 Q2141.24 265.77 2138.74 264.96 L2138.74 260.561 Q2141.1 261.788 2143.39 262.413 Q2145.68 263.015 2147.93 263.015 Q2150.93 263.015 2152.56 261.997 Q2154.18 260.955 2154.18 259.08 Q2154.18 257.344 2153 256.418 Q2151.84 255.492 2147.88 254.636 L2146.4 254.288 Q2142.44 253.455 2140.68 251.742 Q2138.92 250.006 2138.92 246.997 Q2138.92 243.339 2141.51 241.349 Q2144.11 239.358 2148.87 239.358 Q2151.24 239.358 2153.32 239.705 Q2155.4 240.052 2157.16 240.747 Z\" fill=\"#000000\" fill-rule=\"evenodd\" fill-opacity=\"1\" /><path clip-path=\"url(#clip460)\" d=\"M2165.33 239.983 L2169.59 239.983 L2169.59 265.909 L2165.33 265.909 L2165.33 239.983 M2165.33 229.89 L2169.59 229.89 L2169.59 235.284 L2165.33 235.284 L2165.33 229.89 Z\" fill=\"#000000\" fill-rule=\"evenodd\" fill-opacity=\"1\" /><circle clip-path=\"url(#clip460)\" cx=\"1806.01\" cy=\"300.469\" r=\"23.04\" fill=\"#c271d2\" fill-rule=\"evenodd\" fill-opacity=\"1\" stroke=\"#000000\" stroke-opacity=\"1\" stroke-width=\"5.12\"/>\n",
       "<path clip-path=\"url(#clip460)\" d=\"M1920.52 284.323 L1920.52 288.883 Q1917.86 287.61 1915.5 286.985 Q1913.14 286.36 1910.94 286.36 Q1907.12 286.36 1905.03 287.841 Q1902.97 289.323 1902.97 292.054 Q1902.97 294.346 1904.34 295.527 Q1905.73 296.684 1909.57 297.402 L1912.39 297.98 Q1917.63 298.976 1920.1 301.499 Q1922.6 303.999 1922.6 308.212 Q1922.6 313.235 1919.22 315.827 Q1915.87 318.42 1909.36 318.42 Q1906.91 318.42 1904.13 317.864 Q1901.38 317.309 1898.41 316.221 L1898.41 311.406 Q1901.26 313.003 1903.99 313.813 Q1906.72 314.624 1909.36 314.624 Q1913.37 314.624 1915.54 313.05 Q1917.72 311.476 1917.72 308.559 Q1917.72 306.013 1916.14 304.577 Q1914.59 303.142 1911.03 302.425 L1908.18 301.869 Q1902.95 300.827 1900.61 298.605 Q1898.27 296.383 1898.27 292.425 Q1898.27 287.841 1901.49 285.202 Q1904.73 282.564 1910.4 282.564 Q1912.83 282.564 1915.36 283.003 Q1917.88 283.443 1920.52 284.323 Z\" fill=\"#000000\" fill-rule=\"evenodd\" fill-opacity=\"1\" /><path clip-path=\"url(#clip460)\" d=\"M1951.89 303.721 L1951.89 305.804 L1932.3 305.804 Q1932.58 310.202 1934.94 312.517 Q1937.32 314.809 1941.56 314.809 Q1944.01 314.809 1946.31 314.207 Q1948.62 313.605 1950.89 312.401 L1950.89 316.429 Q1948.6 317.401 1946.19 317.911 Q1943.78 318.42 1941.31 318.42 Q1935.1 318.42 1931.47 314.809 Q1927.86 311.198 1927.86 305.04 Q1927.86 298.675 1931.28 294.948 Q1934.73 291.198 1940.57 291.198 Q1945.8 291.198 1948.83 294.577 Q1951.89 297.934 1951.89 303.721 M1947.63 302.471 Q1947.58 298.976 1945.66 296.892 Q1943.76 294.809 1940.61 294.809 Q1937.05 294.809 1934.89 296.823 Q1932.76 298.837 1932.44 302.494 L1947.63 302.471 Z\" fill=\"#000000\" fill-rule=\"evenodd\" fill-opacity=\"1\" /><path clip-path=\"url(#clip460)\" d=\"M1977.53 292.818 L1977.53 296.8 Q1975.73 295.804 1973.9 295.318 Q1972.09 294.809 1970.24 294.809 Q1966.1 294.809 1963.81 297.448 Q1961.51 300.064 1961.51 304.809 Q1961.51 309.554 1963.81 312.193 Q1966.1 314.809 1970.24 314.809 Q1972.09 314.809 1973.9 314.323 Q1975.73 313.813 1977.53 312.818 L1977.53 316.753 Q1975.75 317.587 1973.83 318.003 Q1971.93 318.42 1969.78 318.42 Q1963.92 318.42 1960.47 314.739 Q1957.02 311.059 1957.02 304.809 Q1957.02 298.466 1960.5 294.832 Q1963.99 291.198 1970.06 291.198 Q1972.02 291.198 1973.9 291.615 Q1975.77 292.008 1977.53 292.818 Z\" fill=\"#000000\" fill-rule=\"evenodd\" fill-opacity=\"1\" /><path clip-path=\"url(#clip460)\" d=\"M1996.72 304.716 Q1991.56 304.716 1989.57 305.897 Q1987.58 307.077 1987.58 309.925 Q1987.58 312.193 1989.06 313.536 Q1990.57 314.855 1993.13 314.855 Q1996.68 314.855 1998.81 312.355 Q2000.96 309.832 2000.96 305.665 L2000.96 304.716 L1996.72 304.716 M2005.22 302.957 L2005.22 317.749 L2000.96 317.749 L2000.96 313.813 Q1999.5 316.175 1997.32 317.309 Q1995.15 318.42 1992 318.42 Q1988.02 318.42 1985.66 316.198 Q1983.32 313.952 1983.32 310.202 Q1983.32 305.827 1986.24 303.605 Q1989.18 301.383 1994.99 301.383 L2000.96 301.383 L2000.96 300.966 Q2000.96 298.027 1999.01 296.429 Q1997.09 294.809 1993.6 294.809 Q1991.38 294.809 1989.27 295.341 Q1987.16 295.874 1985.22 296.939 L1985.22 293.003 Q1987.56 292.101 1989.76 291.661 Q1991.95 291.198 1994.04 291.198 Q1999.66 291.198 2002.44 294.114 Q2005.22 297.031 2005.22 302.957 Z\" fill=\"#000000\" fill-rule=\"evenodd\" fill-opacity=\"1\" /><path clip-path=\"url(#clip460)\" d=\"M2035.54 302.101 L2035.54 317.749 L2031.28 317.749 L2031.28 302.239 Q2031.28 298.559 2029.85 296.73 Q2028.41 294.902 2025.54 294.902 Q2022.09 294.902 2020.1 297.101 Q2018.11 299.3 2018.11 303.096 L2018.11 317.749 L2013.83 317.749 L2013.83 291.823 L2018.11 291.823 L2018.11 295.851 Q2019.64 293.513 2021.7 292.355 Q2023.78 291.198 2026.49 291.198 Q2030.96 291.198 2033.25 293.976 Q2035.54 296.73 2035.54 302.101 Z\" fill=\"#000000\" fill-rule=\"evenodd\" fill-opacity=\"1\" /><path clip-path=\"url(#clip460)\" d=\"M2048.25 284.462 L2048.25 291.823 L2057.02 291.823 L2057.02 295.133 L2048.25 295.133 L2048.25 309.207 Q2048.25 312.378 2049.11 313.281 Q2049.99 314.184 2052.65 314.184 L2057.02 314.184 L2057.02 317.749 L2052.65 317.749 Q2047.72 317.749 2045.84 315.92 Q2043.97 314.068 2043.97 309.207 L2043.97 295.133 L2040.84 295.133 L2040.84 291.823 L2043.97 291.823 L2043.97 284.462 L2048.25 284.462 Z\" fill=\"#000000\" fill-rule=\"evenodd\" fill-opacity=\"1\" /><path clip-path=\"url(#clip460)\" d=\"M2084.8 303.721 L2084.8 305.804 L2065.22 305.804 Q2065.5 310.202 2067.86 312.517 Q2070.24 314.809 2074.48 314.809 Q2076.93 314.809 2079.22 314.207 Q2081.54 313.605 2083.81 312.401 L2083.81 316.429 Q2081.51 317.401 2079.11 317.911 Q2076.7 318.42 2074.22 318.42 Q2068.02 318.42 2064.38 314.809 Q2060.77 311.198 2060.77 305.04 Q2060.77 298.675 2064.2 294.948 Q2067.65 291.198 2073.48 291.198 Q2078.71 291.198 2081.75 294.577 Q2084.8 297.934 2084.8 303.721 M2080.54 302.471 Q2080.5 298.976 2078.57 296.892 Q2076.68 294.809 2073.53 294.809 Q2069.96 294.809 2067.81 296.823 Q2065.68 298.837 2065.36 302.494 L2080.54 302.471 Z\" fill=\"#000000\" fill-rule=\"evenodd\" fill-opacity=\"1\" /></svg>\n"
      ]
     },
     "execution_count": 52,
     "metadata": {},
     "output_type": "execute_result"
    }
   ],
   "source": [
    "scatter(abs.(enc_bis[3]), label=\"Bisección\")\n",
    "scatter!(abs.(enc_nr[3]), label=\"Newton Rapson\")\n",
    "scatter!(abs.(enc_rf_franco[3]), label=\"Regula Falsi\")\n",
    "scatter!(abs.(enc_sec[3]), label=\"Secante\")\n",
    "\n",
    "plot!(xlabel=\"Iteraciones\")\n",
    "plot!(ylabel=L\"|f(t_i)|\")\n",
    "plot!(yscale=:log)"
   ]
  },
  {
   "cell_type": "code",
   "execution_count": 57,
   "metadata": {},
   "outputs": [
    {
     "data": {
      "text/plain": [
       "8"
      ]
     },
     "execution_count": 57,
     "metadata": {},
     "output_type": "execute_result"
    }
   ],
   "source": [
    "t_bis = last(enc_bis[1])\n",
    "x_bis = x1(t_bis)\n",
    "e_bis = last(enc_bis[2])\n",
    "n_bis = length(enc_bis[1])\n",
    "\n",
    "t_nr = last(enc_nr[1])\n",
    "x_nr = x1(t_nr)\n",
    "e_nr = last(enc_nr[2])\n",
    "n_nr = length(enc_nr[1])\n",
    "\n",
    "t_sec = last(enc_sec[1])\n",
    "x_sec = x1(t_sec)\n",
    "e_sec = last(enc_sec[2])\n",
    "n_sec = length(enc_sec[1])\n",
    "\n",
    "t_rf_franco = last(enc_rf_franco[1])\n",
    "x_rf_franco = x1(t_rf_franco)\n",
    "e_rf = last(enc_rf_franco[2])\n",
    "n_rf = length(enc_rf_franco[1])"
   ]
  },
  {
   "cell_type": "code",
   "execution_count": 73,
   "metadata": {},
   "outputs": [
    {
     "data": {
      "text/html": [
       "<div><div style = \"float: left;\"><span>4×4 DataFrame</span></div><div style = \"clear: both;\"></div></div><div class = \"data-frame\" style = \"overflow-x: scroll;\"><table class = \"data-frame\" style = \"margin-bottom: 6px;\"><thead><tr class = \"header\"><th class = \"rowNumber\" style = \"font-weight: bold; text-align: right;\">Row</th><th style = \"text-align: left;\">M</th><th style = \"text-align: left;\">T</th><th style = \"text-align: left;\">X</th><th style = \"text-align: left;\">E</th></tr><tr class = \"subheader headerLastRow\"><th class = \"rowNumber\" style = \"font-weight: bold; text-align: right;\"></th><th title = \"String\" style = \"text-align: left;\">String</th><th title = \"Float64\" style = \"text-align: left;\">Float64</th><th title = \"Float64\" style = \"text-align: left;\">Float64</th><th title = \"Float64\" style = \"text-align: left;\">Float64</th></tr></thead><tbody><tr><td class = \"rowNumber\" style = \"font-weight: bold; text-align: right;\">1</td><td style = \"text-align: left;\">Bisección</td><td style = \"text-align: right;\">2.27516</td><td style = \"text-align: right;\">-6.89936</td><td style = \"text-align: right;\">2.04672e-9</td></tr><tr><td class = \"rowNumber\" style = \"font-weight: bold; text-align: right;\">2</td><td style = \"text-align: left;\">Newton-Rapson</td><td style = \"text-align: right;\">2.27516</td><td style = \"text-align: right;\">-6.89936</td><td style = \"text-align: right;\">5.1976e-9</td></tr><tr><td class = \"rowNumber\" style = \"font-weight: bold; text-align: right;\">3</td><td style = \"text-align: left;\">Secante</td><td style = \"text-align: right;\">2.27516</td><td style = \"text-align: right;\">-6.89936</td><td style = \"text-align: right;\">1.1441e-8</td></tr><tr><td class = \"rowNumber\" style = \"font-weight: bold; text-align: right;\">4</td><td style = \"text-align: left;\">Regula Falsi</td><td style = \"text-align: right;\">2.27516</td><td style = \"text-align: right;\">-6.89936</td><td style = \"text-align: right;\">5.71595e-9</td></tr></tbody></table></div>"
      ],
      "text/latex": [
       "\\begin{tabular}{r|cccc}\n",
       "\t& M & T & X & E\\\\\n",
       "\t\\hline\n",
       "\t& String & Float64 & Float64 & Float64\\\\\n",
       "\t\\hline\n",
       "\t1 & Bisección & 2.27516 & -6.89936 & 2.04672e-9 \\\\\n",
       "\t2 & Newton-Rapson & 2.27516 & -6.89936 & 5.1976e-9 \\\\\n",
       "\t3 & Secante & 2.27516 & -6.89936 & 1.1441e-8 \\\\\n",
       "\t4 & Regula Falsi & 2.27516 & -6.89936 & 5.71595e-9 \\\\\n",
       "\\end{tabular}\n"
      ],
      "text/plain": [
       "\u001b[1m4×4 DataFrame\u001b[0m\n",
       "\u001b[1m Row \u001b[0m│\u001b[1m M             \u001b[0m\u001b[1m T       \u001b[0m\u001b[1m X        \u001b[0m\u001b[1m E          \u001b[0m\n",
       "     │\u001b[90m String        \u001b[0m\u001b[90m Float64 \u001b[0m\u001b[90m Float64  \u001b[0m\u001b[90m Float64    \u001b[0m\n",
       "─────┼──────────────────────────────────────────────\n",
       "   1 │ Bisección      2.27516  -6.89936  2.04672e-9\n",
       "   2 │ Newton-Rapson  2.27516  -6.89936  5.1976e-9\n",
       "   3 │ Secante        2.27516  -6.89936  1.1441e-8\n",
       "   4 │ Regula Falsi   2.27516  -6.89936  5.71595e-9"
      ]
     },
     "execution_count": 73,
     "metadata": {},
     "output_type": "execute_result"
    }
   ],
   "source": [
    "table = DataFrame(M = [\"Bisección\", \"Newton-Rapson\", \"Secante\", \"Regula Falsi\"],\n",
    "                  T = [t_bis      , t_nr           , t_sec    , t_rf_franco   ],\n",
    "                  X = [x_bis      , x_nr           , x_sec    , x_rf_franco   ],                  \n",
    "                  E = [e_bis      , e_nr           , e_sec    , e_rf          ])"
   ]
  }
 ],
 "metadata": {
  "@webio": {
   "lastCommId": null,
   "lastKernelId": null
  },
  "kernelspec": {
   "display_name": "Julia 1.8.5",
   "language": "julia",
   "name": "julia-1.8"
  },
  "language_info": {
   "file_extension": ".jl",
   "mimetype": "application/julia",
   "name": "julia",
   "version": "1.8.5"
  }
 },
 "nbformat": 4,
 "nbformat_minor": 2
}
