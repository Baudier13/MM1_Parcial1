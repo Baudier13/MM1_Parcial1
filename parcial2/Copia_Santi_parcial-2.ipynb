{
 "cells": [
  {
   "cell_type": "markdown",
   "metadata": {},
   "source": [
    "# Métodos Numericos 2023\n",
    "\n",
    "## Parcial 2\n",
    "\n",
    "### Fecha de entrega \n",
    "\n",
    "8 de Junio de 2023\n",
    "\n",
    "### Nota sobre la programación en Julia\n",
    "\n",
    "Recuerde que su notebook tiene que poder ser entendida por otra persona. Para ello:\n",
    "\n",
    "* Cuando crea conveniente, use texto Markdown para desarrollar o comentar una idea.\n",
    "\n",
    "* Agregue comentarios a su código de ser necesario.\n",
    "\n",
    "* Realice gráficos que tengan etiquetas en los ejes y leyendas para cada curva o serie de puntos graficados, como así también un título apropiado.\n",
    "\n",
    "* Procure respetar reglas de buena programación:\n",
    "\n",
    "    * Use sangrías adecuadamente.\n",
    "\n",
    "    * Cuando sea posible, implemente funciones de caracter general, en vez de código específico a cada problema, facilitando así la reutilización de código.\n",
    "\n",
    "    * Implemente funciones que tengan los argumentos necesarios para su buen funcionamiento."
   ]
  },
  {
   "cell_type": "code",
   "execution_count": 1,
   "metadata": {},
   "outputs": [],
   "source": [
    "using Plots\n",
    "using LaTeXStrings\n",
    "using DataFrames\n",
    "using CSV\n",
    "using LsqFit"
   ]
  },
  {
   "cell_type": "markdown",
   "metadata": {},
   "source": [
    "### Problema\n",
    "\n",
    "**Contexto físico**\n",
    "\n",
    "Los datos incluidos en el archivo adjunto `datos.dat` representan los tiempos de medición $t_i$ (primera columna) y posición $z_i$ (segunda columna) de una gota de agua en caída libre pero afectada por la resistencia impuesta por el aire. \n",
    "La posición se mide a lo largo de la perpendicular a la tierra ($z$), el origen de coordenadas se fija en el punto de partida de la gota, la cual tiene velocidad inicial nula.\n",
    "\n",
    "Este experimento, ideado originalmente por el físico Philipp Lennard, ganador del Premio Nobel de Física en 1905 por sus investigaciones sobre los rayos catódicos y sus propiedades, consiste en medir durante la caída libre de la gota su posición para diferentes tiempos, los cuales, en este caso se escogieron equiespaciados.\n",
    "\n",
    "A partir de suponer que la gota está sometida a la fuerza gravitacional que le ejerce la tierra y una fuerza restitutiva de rozamiento proporcional a su velocidad:\n",
    "$$\n",
    "\\vec{F}=\\vec{F_g} + \\vec{F_R} = -mg \\hat{z} - cv \\hat{z}\n",
    "$$\n",
    "y usando las leyes de Newton, es posible deducir la posición $z$ en función del tiempo, como veremos más adelante en este parcial.\n",
    "En este ejercicio no nos interesa que entiendan la física del experimento, pues lo verán más adeltante en la carrera, pero queremos que vean cómo se resuelven problemas físicos no triviales combinando variados métodos numéricos. "
   ]
  },
  {
   "cell_type": "markdown",
   "metadata": {},
   "source": [
    "**Incisos a resolver**\n",
    "\n",
    "1. Lea los datos del archivo `datos.dat` y grafique las posiciones $z_i$ en función de los tiempos $t_i$. Los datos son tales que la unidad de tiempos es segundos $[\\mathrm{s}]$ y la de posiciones es metros $[\\mathrm{m}]$. Describa cualitativamente el comportamiento de la gota."
   ]
  },
  {
   "cell_type": "code",
   "execution_count": 2,
   "metadata": {},
   "outputs": [
    {
     "data": {
      "text/plain": [
       "17-element Vector{Float64}:\n",
       "    0.0\n",
       "   -4.412\n",
       "  -15.971\n",
       "  -32.69\n",
       "  -53.134\n",
       "  -76.3\n",
       " -101.397\n",
       " -127.914\n",
       " -155.443\n",
       " -183.709\n",
       " -212.492\n",
       " -241.716\n",
       " -271.065\n",
       " -301.263\n",
       " -331.608\n",
       " -358.733\n",
       " -394.825"
      ]
     },
     "execution_count": 2,
     "metadata": {},
     "output_type": "execute_result"
    }
   ],
   "source": [
    "data = CSV.read(\"datos.dat\", DataFrame, delim=\" \", ignorerepeated=true)\n",
    "\n",
    "x = data[!,1]\n",
    "y = data[!,2]"
   ]
  },
  {
   "cell_type": "markdown",
   "metadata": {},
   "source": [
    "2. Calcule **numéricamente** la velocidad de la gota para cada uno de los tiempos de medición. Use el método centrado de cinco puntos en los puntos centrales, el método centrado de tres puntos en el segundo y el anteúltimo, y el de dos puntos en el primer y en el último punto. "
   ]
  },
  {
   "cell_type": "markdown",
   "metadata": {},
   "source": [
    "3. Grafique la aproximación de la velocidad $v_i$ calculada, en función del tiempo $t_i$. Describa cualitativamente el comportamiento temporal de la velocidad de la gota."
   ]
  },
  {
   "cell_type": "markdown",
   "metadata": {},
   "source": [
    "4. Grafique la velocidad $v_i$ en función de posición $z_i$. Describa cualitativamente cómo la velocidad de la gota cambia a medidad que cambia su posición."
   ]
  },
  {
   "cell_type": "markdown",
   "metadata": {},
   "source": [
    "5. Sabiendo que la ecuación que describe la posición de la gota en función del tiempo es:\n",
    "    $$\n",
    "    z(t)= - g\\,\\alpha\\,t + g\\,\\alpha^2\\, \\left(1-e^{-t/\\alpha} \\right)\n",
    "    $$\n",
    "    donde $\\alpha=m/c$, realice un ajuste de cuadrados mínimos de las posiciones $z_i$ en función de los tiempos $t_i$ y obtenga una estimación de los parámetros $\\alpha$ y $g$. Verifique que los residuos son relativamente pequeños. Explicite los resultados del ajute en una celda en formato texto y LaTeX. En particular, compare el valor ajustado de $g$, con el comunmente utilizado de $g=9,81\\,\\mathrm{m}/\\mathrm{s}^2$."
   ]
  },
  {
   "cell_type": "code",
   "execution_count": 3,
   "metadata": {},
   "outputs": [
    {
     "data": {
      "image/svg+xml": [
       "<?xml version=\"1.0\" encoding=\"utf-8\"?>\n",
       "<svg xmlns=\"http://www.w3.org/2000/svg\" xmlns:xlink=\"http://www.w3.org/1999/xlink\" width=\"600\" height=\"400\" viewBox=\"0 0 2400 1600\">\n",
       "<defs>\n",
       "  <clipPath id=\"clip000\">\n",
       "    <rect x=\"0\" y=\"0\" width=\"2400\" height=\"1600\"/>\n",
       "  </clipPath>\n",
       "</defs>\n",
       "<path clip-path=\"url(#clip000)\" d=\"M0 1600 L2400 1600 L2400 0 L0 0  Z\" fill=\"#ffffff\" fill-rule=\"evenodd\" fill-opacity=\"1\"/>\n",
       "<defs>\n",
       "  <clipPath id=\"clip001\">\n",
       "    <rect x=\"480\" y=\"0\" width=\"1681\" height=\"1600\"/>\n",
       "  </clipPath>\n",
       "</defs>\n",
       "<path clip-path=\"url(#clip000)\" d=\"M209.029 1486.45 L2352.76 1486.45 L2352.76 47.2441 L209.029 47.2441  Z\" fill=\"#ffffff\" fill-rule=\"evenodd\" fill-opacity=\"1\"/>\n",
       "<defs>\n",
       "  <clipPath id=\"clip002\">\n",
       "    <rect x=\"209\" y=\"47\" width=\"2145\" height=\"1440\"/>\n",
       "  </clipPath>\n",
       "</defs>\n",
       "<polyline clip-path=\"url(#clip002)\" style=\"stroke:#000000; stroke-linecap:round; stroke-linejoin:round; stroke-width:2; stroke-opacity:0.1; fill:none\" points=\"269.7,1486.45 269.7,47.2441 \"/>\n",
       "<polyline clip-path=\"url(#clip002)\" style=\"stroke:#000000; stroke-linecap:round; stroke-linejoin:round; stroke-width:2; stroke-opacity:0.1; fill:none\" points=\"901.695,1486.45 901.695,47.2441 \"/>\n",
       "<polyline clip-path=\"url(#clip002)\" style=\"stroke:#000000; stroke-linecap:round; stroke-linejoin:round; stroke-width:2; stroke-opacity:0.1; fill:none\" points=\"1533.69,1486.45 1533.69,47.2441 \"/>\n",
       "<polyline clip-path=\"url(#clip002)\" style=\"stroke:#000000; stroke-linecap:round; stroke-linejoin:round; stroke-width:2; stroke-opacity:0.1; fill:none\" points=\"2165.69,1486.45 2165.69,47.2441 \"/>\n",
       "<polyline clip-path=\"url(#clip000)\" style=\"stroke:#000000; stroke-linecap:round; stroke-linejoin:round; stroke-width:4; stroke-opacity:1; fill:none\" points=\"209.029,1486.45 2352.76,1486.45 \"/>\n",
       "<polyline clip-path=\"url(#clip000)\" style=\"stroke:#000000; stroke-linecap:round; stroke-linejoin:round; stroke-width:4; stroke-opacity:1; fill:none\" points=\"269.7,1486.45 269.7,1467.55 \"/>\n",
       "<polyline clip-path=\"url(#clip000)\" style=\"stroke:#000000; stroke-linecap:round; stroke-linejoin:round; stroke-width:4; stroke-opacity:1; fill:none\" points=\"901.695,1486.45 901.695,1467.55 \"/>\n",
       "<polyline clip-path=\"url(#clip000)\" style=\"stroke:#000000; stroke-linecap:round; stroke-linejoin:round; stroke-width:4; stroke-opacity:1; fill:none\" points=\"1533.69,1486.45 1533.69,1467.55 \"/>\n",
       "<polyline clip-path=\"url(#clip000)\" style=\"stroke:#000000; stroke-linecap:round; stroke-linejoin:round; stroke-width:4; stroke-opacity:1; fill:none\" points=\"2165.69,1486.45 2165.69,1467.55 \"/>\n",
       "<path clip-path=\"url(#clip000)\" d=\"M269.7 1517.37 Q266.089 1517.37 264.26 1520.93 Q262.455 1524.47 262.455 1531.6 Q262.455 1538.71 264.26 1542.27 Q266.089 1545.82 269.7 1545.82 Q273.334 1545.82 275.14 1542.27 Q276.969 1538.71 276.969 1531.6 Q276.969 1524.47 275.14 1520.93 Q273.334 1517.37 269.7 1517.37 M269.7 1513.66 Q275.51 1513.66 278.566 1518.27 Q281.644 1522.85 281.644 1531.6 Q281.644 1540.33 278.566 1544.94 Q275.51 1549.52 269.7 1549.52 Q263.89 1549.52 260.811 1544.94 Q257.756 1540.33 257.756 1531.6 Q257.756 1522.85 260.811 1518.27 Q263.89 1513.66 269.7 1513.66 Z\" fill=\"#000000\" fill-rule=\"nonzero\" fill-opacity=\"1\" /><path clip-path=\"url(#clip000)\" d=\"M891.973 1514.29 L910.329 1514.29 L910.329 1518.22 L896.255 1518.22 L896.255 1526.7 Q897.274 1526.35 898.292 1526.19 Q899.311 1526 900.329 1526 Q906.116 1526 909.496 1529.17 Q912.876 1532.34 912.876 1537.76 Q912.876 1543.34 909.403 1546.44 Q905.931 1549.52 899.612 1549.52 Q897.436 1549.52 895.167 1549.15 Q892.922 1548.78 890.515 1548.04 L890.515 1543.34 Q892.598 1544.47 894.82 1545.03 Q897.042 1545.58 899.519 1545.58 Q903.524 1545.58 905.862 1543.48 Q908.2 1541.37 908.2 1537.76 Q908.2 1534.15 905.862 1532.04 Q903.524 1529.94 899.519 1529.94 Q897.644 1529.94 895.769 1530.35 Q893.917 1530.77 891.973 1531.65 L891.973 1514.29 Z\" fill=\"#000000\" fill-rule=\"nonzero\" fill-opacity=\"1\" /><path clip-path=\"url(#clip000)\" d=\"M1508.38 1544.91 L1516.02 1544.91 L1516.02 1518.55 L1507.71 1520.21 L1507.71 1515.95 L1515.97 1514.29 L1520.65 1514.29 L1520.65 1544.91 L1528.29 1544.91 L1528.29 1548.85 L1508.38 1548.85 L1508.38 1544.91 Z\" fill=\"#000000\" fill-rule=\"nonzero\" fill-opacity=\"1\" /><path clip-path=\"url(#clip000)\" d=\"M1547.73 1517.37 Q1544.12 1517.37 1542.29 1520.93 Q1540.48 1524.47 1540.48 1531.6 Q1540.48 1538.71 1542.29 1542.27 Q1544.12 1545.82 1547.73 1545.82 Q1551.36 1545.82 1553.17 1542.27 Q1555 1538.71 1555 1531.6 Q1555 1524.47 1553.17 1520.93 Q1551.36 1517.37 1547.73 1517.37 M1547.73 1513.66 Q1553.54 1513.66 1556.6 1518.27 Q1559.67 1522.85 1559.67 1531.6 Q1559.67 1540.33 1556.6 1544.94 Q1553.54 1549.52 1547.73 1549.52 Q1541.92 1549.52 1538.84 1544.94 Q1535.79 1540.33 1535.79 1531.6 Q1535.79 1522.85 1538.84 1518.27 Q1541.92 1513.66 1547.73 1513.66 Z\" fill=\"#000000\" fill-rule=\"nonzero\" fill-opacity=\"1\" /><path clip-path=\"url(#clip000)\" d=\"M2140.87 1544.91 L2148.51 1544.91 L2148.51 1518.55 L2140.2 1520.21 L2140.2 1515.95 L2148.46 1514.29 L2153.14 1514.29 L2153.14 1544.91 L2160.78 1544.91 L2160.78 1548.85 L2140.87 1548.85 L2140.87 1544.91 Z\" fill=\"#000000\" fill-rule=\"nonzero\" fill-opacity=\"1\" /><path clip-path=\"url(#clip000)\" d=\"M2170.27 1514.29 L2188.63 1514.29 L2188.63 1518.22 L2174.55 1518.22 L2174.55 1526.7 Q2175.57 1526.35 2176.59 1526.19 Q2177.61 1526 2178.63 1526 Q2184.41 1526 2187.79 1529.17 Q2191.17 1532.34 2191.17 1537.76 Q2191.17 1543.34 2187.7 1546.44 Q2184.23 1549.52 2177.91 1549.52 Q2175.73 1549.52 2173.46 1549.15 Q2171.22 1548.78 2168.81 1548.04 L2168.81 1543.34 Q2170.89 1544.47 2173.12 1545.03 Q2175.34 1545.58 2177.81 1545.58 Q2181.82 1545.58 2184.16 1543.48 Q2186.5 1541.37 2186.5 1537.76 Q2186.5 1534.15 2184.16 1532.04 Q2181.82 1529.94 2177.81 1529.94 Q2175.94 1529.94 2174.06 1530.35 Q2172.21 1530.77 2170.27 1531.65 L2170.27 1514.29 Z\" fill=\"#000000\" fill-rule=\"nonzero\" fill-opacity=\"1\" /><polyline clip-path=\"url(#clip002)\" style=\"stroke:#000000; stroke-linecap:round; stroke-linejoin:round; stroke-width:2; stroke-opacity:0.1; fill:none\" points=\"209.029,1463.51 2352.76,1463.51 \"/>\n",
       "<polyline clip-path=\"url(#clip002)\" style=\"stroke:#000000; stroke-linecap:round; stroke-linejoin:round; stroke-width:2; stroke-opacity:0.1; fill:none\" points=\"209.029,1119.63 2352.76,1119.63 \"/>\n",
       "<polyline clip-path=\"url(#clip002)\" style=\"stroke:#000000; stroke-linecap:round; stroke-linejoin:round; stroke-width:2; stroke-opacity:0.1; fill:none\" points=\"209.029,775.744 2352.76,775.744 \"/>\n",
       "<polyline clip-path=\"url(#clip002)\" style=\"stroke:#000000; stroke-linecap:round; stroke-linejoin:round; stroke-width:2; stroke-opacity:0.1; fill:none\" points=\"209.029,431.86 2352.76,431.86 \"/>\n",
       "<polyline clip-path=\"url(#clip002)\" style=\"stroke:#000000; stroke-linecap:round; stroke-linejoin:round; stroke-width:2; stroke-opacity:0.1; fill:none\" points=\"209.029,87.9763 2352.76,87.9763 \"/>\n",
       "<polyline clip-path=\"url(#clip000)\" style=\"stroke:#000000; stroke-linecap:round; stroke-linejoin:round; stroke-width:4; stroke-opacity:1; fill:none\" points=\"209.029,1486.45 209.029,47.2441 \"/>\n",
       "<polyline clip-path=\"url(#clip000)\" style=\"stroke:#000000; stroke-linecap:round; stroke-linejoin:round; stroke-width:4; stroke-opacity:1; fill:none\" points=\"209.029,1463.51 227.926,1463.51 \"/>\n",
       "<polyline clip-path=\"url(#clip000)\" style=\"stroke:#000000; stroke-linecap:round; stroke-linejoin:round; stroke-width:4; stroke-opacity:1; fill:none\" points=\"209.029,1119.63 227.926,1119.63 \"/>\n",
       "<polyline clip-path=\"url(#clip000)\" style=\"stroke:#000000; stroke-linecap:round; stroke-linejoin:round; stroke-width:4; stroke-opacity:1; fill:none\" points=\"209.029,775.744 227.926,775.744 \"/>\n",
       "<polyline clip-path=\"url(#clip000)\" style=\"stroke:#000000; stroke-linecap:round; stroke-linejoin:round; stroke-width:4; stroke-opacity:1; fill:none\" points=\"209.029,431.86 227.926,431.86 \"/>\n",
       "<polyline clip-path=\"url(#clip000)\" style=\"stroke:#000000; stroke-linecap:round; stroke-linejoin:round; stroke-width:4; stroke-opacity:1; fill:none\" points=\"209.029,87.9763 227.926,87.9763 \"/>\n",
       "<path clip-path=\"url(#clip000)\" d=\"M50.9921 1463.96 L80.6679 1463.96 L80.6679 1467.9 L50.9921 1467.9 L50.9921 1463.96 Z\" fill=\"#000000\" fill-rule=\"nonzero\" fill-opacity=\"1\" /><path clip-path=\"url(#clip000)\" d=\"M103.608 1450.31 L91.8021 1468.75 L103.608 1468.75 L103.608 1450.31 M102.381 1446.23 L108.26 1446.23 L108.26 1468.75 L113.191 1468.75 L113.191 1472.64 L108.26 1472.64 L108.26 1480.79 L103.608 1480.79 L103.608 1472.64 L88.0058 1472.64 L88.0058 1468.13 L102.381 1446.23 Z\" fill=\"#000000\" fill-rule=\"nonzero\" fill-opacity=\"1\" /><path clip-path=\"url(#clip000)\" d=\"M130.922 1449.31 Q127.311 1449.31 125.482 1452.88 Q123.677 1456.42 123.677 1463.55 Q123.677 1470.65 125.482 1474.22 Q127.311 1477.76 130.922 1477.76 Q134.556 1477.76 136.362 1474.22 Q138.191 1470.65 138.191 1463.55 Q138.191 1456.42 136.362 1452.88 Q134.556 1449.31 130.922 1449.31 M130.922 1445.61 Q136.732 1445.61 139.788 1450.21 Q142.867 1454.8 142.867 1463.55 Q142.867 1472.27 139.788 1476.88 Q136.732 1481.46 130.922 1481.46 Q125.112 1481.46 122.033 1476.88 Q118.978 1472.27 118.978 1463.55 Q118.978 1454.8 122.033 1450.21 Q125.112 1445.61 130.922 1445.61 Z\" fill=\"#000000\" fill-rule=\"nonzero\" fill-opacity=\"1\" /><path clip-path=\"url(#clip000)\" d=\"M161.084 1449.31 Q157.473 1449.31 155.644 1452.88 Q153.839 1456.42 153.839 1463.55 Q153.839 1470.65 155.644 1474.22 Q157.473 1477.76 161.084 1477.76 Q164.718 1477.76 166.524 1474.22 Q168.353 1470.65 168.353 1463.55 Q168.353 1456.42 166.524 1452.88 Q164.718 1449.31 161.084 1449.31 M161.084 1445.61 Q166.894 1445.61 169.95 1450.21 Q173.029 1454.8 173.029 1463.55 Q173.029 1472.27 169.95 1476.88 Q166.894 1481.46 161.084 1481.46 Q155.274 1481.46 152.195 1476.88 Q149.14 1472.27 149.14 1463.55 Q149.14 1454.8 152.195 1450.21 Q155.274 1445.61 161.084 1445.61 Z\" fill=\"#000000\" fill-rule=\"nonzero\" fill-opacity=\"1\" /><path clip-path=\"url(#clip000)\" d=\"M50.9921 1120.08 L80.6679 1120.08 L80.6679 1124.01 L50.9921 1124.01 L50.9921 1120.08 Z\" fill=\"#000000\" fill-rule=\"nonzero\" fill-opacity=\"1\" /><path clip-path=\"url(#clip000)\" d=\"M104.927 1118.27 Q108.283 1118.99 110.158 1121.26 Q112.057 1123.53 112.057 1126.86 Q112.057 1131.98 108.538 1134.78 Q105.02 1137.58 98.5382 1137.58 Q96.3623 1137.58 94.0475 1137.14 Q91.7558 1136.72 89.3021 1135.87 L89.3021 1131.35 Q91.2465 1132.49 93.5613 1133.07 Q95.8761 1133.64 98.3993 1133.64 Q102.797 1133.64 105.089 1131.91 Q107.404 1130.17 107.404 1126.86 Q107.404 1123.81 105.251 1122.09 Q103.121 1120.36 99.3021 1120.36 L95.2743 1120.36 L95.2743 1116.51 L99.4872 1116.51 Q102.936 1116.51 104.765 1115.15 Q106.594 1113.76 106.594 1111.17 Q106.594 1108.51 104.696 1107.09 Q102.821 1105.66 99.3021 1105.66 Q97.3808 1105.66 95.1817 1106.07 Q92.9826 1106.49 90.3438 1107.37 L90.3438 1103.2 Q93.0058 1102.46 95.3206 1102.09 Q97.6585 1101.72 99.7187 1101.72 Q105.043 1101.72 108.145 1104.15 Q111.246 1106.56 111.246 1110.68 Q111.246 1113.55 109.603 1115.54 Q107.959 1117.51 104.927 1118.27 Z\" fill=\"#000000\" fill-rule=\"nonzero\" fill-opacity=\"1\" /><path clip-path=\"url(#clip000)\" d=\"M130.922 1105.43 Q127.311 1105.43 125.482 1108.99 Q123.677 1112.53 123.677 1119.66 Q123.677 1126.77 125.482 1130.33 Q127.311 1133.88 130.922 1133.88 Q134.556 1133.88 136.362 1130.33 Q138.191 1126.77 138.191 1119.66 Q138.191 1112.53 136.362 1108.99 Q134.556 1105.43 130.922 1105.43 M130.922 1101.72 Q136.732 1101.72 139.788 1106.33 Q142.867 1110.91 142.867 1119.66 Q142.867 1128.39 139.788 1133 Q136.732 1137.58 130.922 1137.58 Q125.112 1137.58 122.033 1133 Q118.978 1128.39 118.978 1119.66 Q118.978 1110.91 122.033 1106.33 Q125.112 1101.72 130.922 1101.72 Z\" fill=\"#000000\" fill-rule=\"nonzero\" fill-opacity=\"1\" /><path clip-path=\"url(#clip000)\" d=\"M161.084 1105.43 Q157.473 1105.43 155.644 1108.99 Q153.839 1112.53 153.839 1119.66 Q153.839 1126.77 155.644 1130.33 Q157.473 1133.88 161.084 1133.88 Q164.718 1133.88 166.524 1130.33 Q168.353 1126.77 168.353 1119.66 Q168.353 1112.53 166.524 1108.99 Q164.718 1105.43 161.084 1105.43 M161.084 1101.72 Q166.894 1101.72 169.95 1106.33 Q173.029 1110.91 173.029 1119.66 Q173.029 1128.39 169.95 1133 Q166.894 1137.58 161.084 1137.58 Q155.274 1137.58 152.195 1133 Q149.14 1128.39 149.14 1119.66 Q149.14 1110.91 152.195 1106.33 Q155.274 1101.72 161.084 1101.72 Z\" fill=\"#000000\" fill-rule=\"nonzero\" fill-opacity=\"1\" /><path clip-path=\"url(#clip000)\" d=\"M50.9921 776.195 L80.6679 776.195 L80.6679 780.131 L50.9921 780.131 L50.9921 776.195 Z\" fill=\"#000000\" fill-rule=\"nonzero\" fill-opacity=\"1\" /><path clip-path=\"url(#clip000)\" d=\"M94.7882 789.089 L111.108 789.089 L111.108 793.024 L89.1632 793.024 L89.1632 789.089 Q91.8252 786.334 96.4085 781.705 Q101.015 777.052 102.196 775.709 Q104.441 773.186 105.321 771.45 Q106.223 769.691 106.223 768.001 Q106.223 765.246 104.279 763.51 Q102.358 761.774 99.2558 761.774 Q97.0567 761.774 94.603 762.538 Q92.1725 763.302 89.3947 764.853 L89.3947 760.131 Q92.2188 758.996 94.6724 758.418 Q97.1261 757.839 99.1632 757.839 Q104.534 757.839 107.728 760.524 Q110.922 763.209 110.922 767.7 Q110.922 769.83 110.112 771.751 Q109.325 773.649 107.219 776.242 Q106.64 776.913 103.538 780.131 Q100.436 783.325 94.7882 789.089 Z\" fill=\"#000000\" fill-rule=\"nonzero\" fill-opacity=\"1\" /><path clip-path=\"url(#clip000)\" d=\"M130.922 761.543 Q127.311 761.543 125.482 765.107 Q123.677 768.649 123.677 775.779 Q123.677 782.885 125.482 786.45 Q127.311 789.992 130.922 789.992 Q134.556 789.992 136.362 786.45 Q138.191 782.885 138.191 775.779 Q138.191 768.649 136.362 765.107 Q134.556 761.543 130.922 761.543 M130.922 757.839 Q136.732 757.839 139.788 762.445 Q142.867 767.029 142.867 775.779 Q142.867 784.506 139.788 789.112 Q136.732 793.695 130.922 793.695 Q125.112 793.695 122.033 789.112 Q118.978 784.506 118.978 775.779 Q118.978 767.029 122.033 762.445 Q125.112 757.839 130.922 757.839 Z\" fill=\"#000000\" fill-rule=\"nonzero\" fill-opacity=\"1\" /><path clip-path=\"url(#clip000)\" d=\"M161.084 761.543 Q157.473 761.543 155.644 765.107 Q153.839 768.649 153.839 775.779 Q153.839 782.885 155.644 786.45 Q157.473 789.992 161.084 789.992 Q164.718 789.992 166.524 786.45 Q168.353 782.885 168.353 775.779 Q168.353 768.649 166.524 765.107 Q164.718 761.543 161.084 761.543 M161.084 757.839 Q166.894 757.839 169.95 762.445 Q173.029 767.029 173.029 775.779 Q173.029 784.506 169.95 789.112 Q166.894 793.695 161.084 793.695 Q155.274 793.695 152.195 789.112 Q149.14 784.506 149.14 775.779 Q149.14 767.029 152.195 762.445 Q155.274 757.839 161.084 757.839 Z\" fill=\"#000000\" fill-rule=\"nonzero\" fill-opacity=\"1\" /><path clip-path=\"url(#clip000)\" d=\"M50.9921 432.312 L80.6679 432.312 L80.6679 436.247 L50.9921 436.247 L50.9921 432.312 Z\" fill=\"#000000\" fill-rule=\"nonzero\" fill-opacity=\"1\" /><path clip-path=\"url(#clip000)\" d=\"M91.5706 445.205 L99.2095 445.205 L99.2095 418.839 L90.8993 420.506 L90.8993 416.247 L99.1632 414.58 L103.839 414.58 L103.839 445.205 L111.478 445.205 L111.478 449.14 L91.5706 449.14 L91.5706 445.205 Z\" fill=\"#000000\" fill-rule=\"nonzero\" fill-opacity=\"1\" /><path clip-path=\"url(#clip000)\" d=\"M130.922 417.659 Q127.311 417.659 125.482 421.224 Q123.677 424.765 123.677 431.895 Q123.677 439.001 125.482 442.566 Q127.311 446.108 130.922 446.108 Q134.556 446.108 136.362 442.566 Q138.191 439.001 138.191 431.895 Q138.191 424.765 136.362 421.224 Q134.556 417.659 130.922 417.659 M130.922 413.955 Q136.732 413.955 139.788 418.562 Q142.867 423.145 142.867 431.895 Q142.867 440.622 139.788 445.228 Q136.732 449.811 130.922 449.811 Q125.112 449.811 122.033 445.228 Q118.978 440.622 118.978 431.895 Q118.978 423.145 122.033 418.562 Q125.112 413.955 130.922 413.955 Z\" fill=\"#000000\" fill-rule=\"nonzero\" fill-opacity=\"1\" /><path clip-path=\"url(#clip000)\" d=\"M161.084 417.659 Q157.473 417.659 155.644 421.224 Q153.839 424.765 153.839 431.895 Q153.839 439.001 155.644 442.566 Q157.473 446.108 161.084 446.108 Q164.718 446.108 166.524 442.566 Q168.353 439.001 168.353 431.895 Q168.353 424.765 166.524 421.224 Q164.718 417.659 161.084 417.659 M161.084 413.955 Q166.894 413.955 169.95 418.562 Q173.029 423.145 173.029 431.895 Q173.029 440.622 169.95 445.228 Q166.894 449.811 161.084 449.811 Q155.274 449.811 152.195 445.228 Q149.14 440.622 149.14 431.895 Q149.14 423.145 152.195 418.562 Q155.274 413.955 161.084 413.955 Z\" fill=\"#000000\" fill-rule=\"nonzero\" fill-opacity=\"1\" /><path clip-path=\"url(#clip000)\" d=\"M161.084 73.775 Q157.473 73.775 155.644 77.3398 Q153.839 80.8814 153.839 88.011 Q153.839 95.1174 155.644 98.6822 Q157.473 102.224 161.084 102.224 Q164.718 102.224 166.524 98.6822 Q168.353 95.1174 168.353 88.011 Q168.353 80.8814 166.524 77.3398 Q164.718 73.775 161.084 73.775 M161.084 70.0713 Q166.894 70.0713 169.95 74.6777 Q173.029 79.261 173.029 88.011 Q173.029 96.7378 169.95 101.344 Q166.894 105.928 161.084 105.928 Q155.274 105.928 152.195 101.344 Q149.14 96.7378 149.14 88.011 Q149.14 79.261 152.195 74.6777 Q155.274 70.0713 161.084 70.0713 Z\" fill=\"#000000\" fill-rule=\"nonzero\" fill-opacity=\"1\" /><polyline clip-path=\"url(#clip002)\" style=\"stroke:#009af9; stroke-linecap:round; stroke-linejoin:round; stroke-width:4; stroke-opacity:1; fill:none\" points=\"269.7,87.9763 396.099,102.987 522.498,142.421 648.897,199.624 775.296,269.754 901.695,349.29 1028.09,435.669 1154.49,527.026 1280.89,622.006 1407.29,719.621 1533.69,819.153 1660.09,920.08 1786.49,1022.02 1912.89,1124.7 2039.29,1227.92 2165.69,1331.53 2292.08,1435.42 \"/>\n",
       "<circle clip-path=\"url(#clip002)\" cx=\"269.7\" cy=\"87.9763\" r=\"14.4\" fill=\"#e26f46\" fill-rule=\"evenodd\" fill-opacity=\"1\" stroke=\"#000000\" stroke-opacity=\"1\" stroke-width=\"3.2\"/>\n",
       "<circle clip-path=\"url(#clip002)\" cx=\"396.099\" cy=\"103.148\" r=\"14.4\" fill=\"#e26f46\" fill-rule=\"evenodd\" fill-opacity=\"1\" stroke=\"#000000\" stroke-opacity=\"1\" stroke-width=\"3.2\"/>\n",
       "<circle clip-path=\"url(#clip002)\" cx=\"522.498\" cy=\"142.898\" r=\"14.4\" fill=\"#e26f46\" fill-rule=\"evenodd\" fill-opacity=\"1\" stroke=\"#000000\" stroke-opacity=\"1\" stroke-width=\"3.2\"/>\n",
       "<circle clip-path=\"url(#clip002)\" cx=\"648.897\" cy=\"200.392\" r=\"14.4\" fill=\"#e26f46\" fill-rule=\"evenodd\" fill-opacity=\"1\" stroke=\"#000000\" stroke-opacity=\"1\" stroke-width=\"3.2\"/>\n",
       "<circle clip-path=\"url(#clip002)\" cx=\"775.296\" cy=\"270.696\" r=\"14.4\" fill=\"#e26f46\" fill-rule=\"evenodd\" fill-opacity=\"1\" stroke=\"#000000\" stroke-opacity=\"1\" stroke-width=\"3.2\"/>\n",
       "<circle clip-path=\"url(#clip002)\" cx=\"901.695\" cy=\"350.36\" r=\"14.4\" fill=\"#e26f46\" fill-rule=\"evenodd\" fill-opacity=\"1\" stroke=\"#000000\" stroke-opacity=\"1\" stroke-width=\"3.2\"/>\n",
       "<circle clip-path=\"url(#clip002)\" cx=\"1028.09\" cy=\"436.664\" r=\"14.4\" fill=\"#e26f46\" fill-rule=\"evenodd\" fill-opacity=\"1\" stroke=\"#000000\" stroke-opacity=\"1\" stroke-width=\"3.2\"/>\n",
       "<circle clip-path=\"url(#clip002)\" cx=\"1154.49\" cy=\"527.852\" r=\"14.4\" fill=\"#e26f46\" fill-rule=\"evenodd\" fill-opacity=\"1\" stroke=\"#000000\" stroke-opacity=\"1\" stroke-width=\"3.2\"/>\n",
       "<circle clip-path=\"url(#clip002)\" cx=\"1280.89\" cy=\"622.52\" r=\"14.4\" fill=\"#e26f46\" fill-rule=\"evenodd\" fill-opacity=\"1\" stroke=\"#000000\" stroke-opacity=\"1\" stroke-width=\"3.2\"/>\n",
       "<circle clip-path=\"url(#clip002)\" cx=\"1407.29\" cy=\"719.722\" r=\"14.4\" fill=\"#e26f46\" fill-rule=\"evenodd\" fill-opacity=\"1\" stroke=\"#000000\" stroke-opacity=\"1\" stroke-width=\"3.2\"/>\n",
       "<circle clip-path=\"url(#clip002)\" cx=\"1533.69\" cy=\"818.702\" r=\"14.4\" fill=\"#e26f46\" fill-rule=\"evenodd\" fill-opacity=\"1\" stroke=\"#000000\" stroke-opacity=\"1\" stroke-width=\"3.2\"/>\n",
       "<circle clip-path=\"url(#clip002)\" cx=\"1660.09\" cy=\"919.199\" r=\"14.4\" fill=\"#e26f46\" fill-rule=\"evenodd\" fill-opacity=\"1\" stroke=\"#000000\" stroke-opacity=\"1\" stroke-width=\"3.2\"/>\n",
       "<circle clip-path=\"url(#clip002)\" cx=\"1786.49\" cy=\"1020.13\" r=\"14.4\" fill=\"#e26f46\" fill-rule=\"evenodd\" fill-opacity=\"1\" stroke=\"#000000\" stroke-opacity=\"1\" stroke-width=\"3.2\"/>\n",
       "<circle clip-path=\"url(#clip002)\" cx=\"1912.89\" cy=\"1123.97\" r=\"14.4\" fill=\"#e26f46\" fill-rule=\"evenodd\" fill-opacity=\"1\" stroke=\"#000000\" stroke-opacity=\"1\" stroke-width=\"3.2\"/>\n",
       "<circle clip-path=\"url(#clip002)\" cx=\"2039.29\" cy=\"1228.32\" r=\"14.4\" fill=\"#e26f46\" fill-rule=\"evenodd\" fill-opacity=\"1\" stroke=\"#000000\" stroke-opacity=\"1\" stroke-width=\"3.2\"/>\n",
       "<circle clip-path=\"url(#clip002)\" cx=\"2165.69\" cy=\"1321.6\" r=\"14.4\" fill=\"#e26f46\" fill-rule=\"evenodd\" fill-opacity=\"1\" stroke=\"#000000\" stroke-opacity=\"1\" stroke-width=\"3.2\"/>\n",
       "<circle clip-path=\"url(#clip002)\" cx=\"2292.08\" cy=\"1445.72\" r=\"14.4\" fill=\"#e26f46\" fill-rule=\"evenodd\" fill-opacity=\"1\" stroke=\"#000000\" stroke-opacity=\"1\" stroke-width=\"3.2\"/>\n",
       "<path clip-path=\"url(#clip000)\" d=\"M2014.5 250.738 L2281.3 250.738 L2281.3 95.2176 L2014.5 95.2176  Z\" fill=\"#ffffff\" fill-rule=\"evenodd\" fill-opacity=\"1\"/>\n",
       "<polyline clip-path=\"url(#clip000)\" style=\"stroke:#000000; stroke-linecap:round; stroke-linejoin:round; stroke-width:4; stroke-opacity:1; fill:none\" points=\"2014.5,250.738 2281.3,250.738 2281.3,95.2176 2014.5,95.2176 2014.5,250.738 \"/>\n",
       "<polyline clip-path=\"url(#clip000)\" style=\"stroke:#009af9; stroke-linecap:round; stroke-linejoin:round; stroke-width:4; stroke-opacity:1; fill:none\" points=\"2038.31,147.058 2181.23,147.058 \"/>\n",
       "<path clip-path=\"url(#clip000)\" d=\"M2218.89 166.745 Q2217.09 171.375 2215.37 172.787 Q2213.66 174.199 2210.79 174.199 L2207.39 174.199 L2207.39 170.634 L2209.89 170.634 Q2211.65 170.634 2212.62 169.8 Q2213.59 168.967 2214.77 165.865 L2215.53 163.921 L2205.05 138.412 L2209.56 138.412 L2217.66 158.689 L2225.77 138.412 L2230.28 138.412 L2218.89 166.745 Z\" fill=\"#000000\" fill-rule=\"nonzero\" fill-opacity=\"1\" /><path clip-path=\"url(#clip000)\" d=\"M2237.57 160.402 L2245.21 160.402 L2245.21 134.037 L2236.9 135.703 L2236.9 131.444 L2245.16 129.778 L2249.84 129.778 L2249.84 160.402 L2257.48 160.402 L2257.48 164.338 L2237.57 164.338 L2237.57 160.402 Z\" fill=\"#000000\" fill-rule=\"nonzero\" fill-opacity=\"1\" /><circle clip-path=\"url(#clip000)\" cx=\"2109.77\" cy=\"198.898\" r=\"20.48\" fill=\"#e26f46\" fill-rule=\"evenodd\" fill-opacity=\"1\" stroke=\"#000000\" stroke-opacity=\"1\" stroke-width=\"4.55111\"/>\n",
       "<path clip-path=\"url(#clip000)\" d=\"M2218.89 218.585 Q2217.09 223.215 2215.37 224.627 Q2213.66 226.039 2210.79 226.039 L2207.39 226.039 L2207.39 222.474 L2209.89 222.474 Q2211.65 222.474 2212.62 221.64 Q2213.59 220.807 2214.77 217.705 L2215.53 215.761 L2205.05 190.252 L2209.56 190.252 L2217.66 210.529 L2225.77 190.252 L2230.28 190.252 L2218.89 218.585 Z\" fill=\"#000000\" fill-rule=\"nonzero\" fill-opacity=\"1\" /><path clip-path=\"url(#clip000)\" d=\"M2240.79 212.242 L2257.11 212.242 L2257.11 216.178 L2235.16 216.178 L2235.16 212.242 Q2237.83 209.488 2242.41 204.858 Q2247.02 200.205 2248.2 198.863 Q2250.44 196.34 2251.32 194.604 Q2252.22 192.844 2252.22 191.155 Q2252.22 188.4 2250.28 186.664 Q2248.36 184.928 2245.26 184.928 Q2243.06 184.928 2240.6 185.692 Q2238.17 186.455 2235.4 188.006 L2235.4 183.284 Q2238.22 182.15 2240.67 181.571 Q2243.13 180.993 2245.16 180.993 Q2250.53 180.993 2253.73 183.678 Q2256.92 186.363 2256.92 190.854 Q2256.92 192.983 2256.11 194.905 Q2255.33 196.803 2253.22 199.395 Q2252.64 200.067 2249.54 203.284 Q2246.44 206.479 2240.79 212.242 Z\" fill=\"#000000\" fill-rule=\"nonzero\" fill-opacity=\"1\" /></svg>\n"
      ]
     },
     "execution_count": 3,
     "metadata": {},
     "output_type": "execute_result"
    }
   ],
   "source": [
    "# funcion posicion z(t)\n",
    "# parametros de ajuste: α, g \n",
    "# Ver residuos \n",
    "# Comparar valores de g con tabla\n",
    "\n",
    "\n",
    "function modelo_z(t,p)\n",
    "    return -p[1]*p[2]*t + p[1]*(p[2]^2)*(1-exp(-t/p[2]))\n",
    "end\n",
    "\n",
    "p0 = [9.81, 3.14]\n",
    "\n",
    "modelo(t,p) = @. -p[1]*p[2]*t + p[1]*(p[2]^2)*(1-exp(-t/p[2]))\n",
    "\n",
    "fit = curve_fit(modelo, x, y, p0)\n",
    "fit.param\n",
    "\n",
    "plot(x, modelo(x,fit.param))\n",
    "scatter!(x,y)"
   ]
  },
  {
   "cell_type": "code",
   "execution_count": 4,
   "metadata": {},
   "outputs": [
    {
     "data": {
      "text/plain": [
       "2-element Vector{Float64}:\n",
       " 9.67980802531526\n",
       " 3.1439064131137466"
      ]
     },
     "execution_count": 4,
     "metadata": {},
     "output_type": "execute_result"
    }
   ],
   "source": [
    "fit.param"
   ]
  },
  {
   "cell_type": "code",
   "execution_count": 5,
   "metadata": {},
   "outputs": [
    {
     "data": {
      "image/svg+xml": [
       "<?xml version=\"1.0\" encoding=\"utf-8\"?>\n",
       "<svg xmlns=\"http://www.w3.org/2000/svg\" xmlns:xlink=\"http://www.w3.org/1999/xlink\" width=\"600\" height=\"400\" viewBox=\"0 0 2400 1600\">\n",
       "<defs>\n",
       "  <clipPath id=\"clip040\">\n",
       "    <rect x=\"0\" y=\"0\" width=\"2400\" height=\"1600\"/>\n",
       "  </clipPath>\n",
       "</defs>\n",
       "<path clip-path=\"url(#clip040)\" d=\"M0 1600 L2400 1600 L2400 0 L0 0  Z\" fill=\"#ffffff\" fill-rule=\"evenodd\" fill-opacity=\"1\"/>\n",
       "<defs>\n",
       "  <clipPath id=\"clip041\">\n",
       "    <rect x=\"480\" y=\"0\" width=\"1681\" height=\"1600\"/>\n",
       "  </clipPath>\n",
       "</defs>\n",
       "<path clip-path=\"url(#clip040)\" d=\"M148.057 1486.45 L2352.76 1486.45 L2352.76 47.2441 L148.057 47.2441  Z\" fill=\"#ffffff\" fill-rule=\"evenodd\" fill-opacity=\"1\"/>\n",
       "<defs>\n",
       "  <clipPath id=\"clip042\">\n",
       "    <rect x=\"148\" y=\"47\" width=\"2206\" height=\"1440\"/>\n",
       "  </clipPath>\n",
       "</defs>\n",
       "<polyline clip-path=\"url(#clip042)\" style=\"stroke:#000000; stroke-linecap:round; stroke-linejoin:round; stroke-width:2; stroke-opacity:0.1; fill:none\" points=\"210.454,1486.45 210.454,47.2441 \"/>\n",
       "<polyline clip-path=\"url(#clip042)\" style=\"stroke:#000000; stroke-linecap:round; stroke-linejoin:round; stroke-width:2; stroke-opacity:0.1; fill:none\" points=\"860.424,1486.45 860.424,47.2441 \"/>\n",
       "<polyline clip-path=\"url(#clip042)\" style=\"stroke:#000000; stroke-linecap:round; stroke-linejoin:round; stroke-width:2; stroke-opacity:0.1; fill:none\" points=\"1510.39,1486.45 1510.39,47.2441 \"/>\n",
       "<polyline clip-path=\"url(#clip042)\" style=\"stroke:#000000; stroke-linecap:round; stroke-linejoin:round; stroke-width:2; stroke-opacity:0.1; fill:none\" points=\"2160.36,1486.45 2160.36,47.2441 \"/>\n",
       "<polyline clip-path=\"url(#clip040)\" style=\"stroke:#000000; stroke-linecap:round; stroke-linejoin:round; stroke-width:4; stroke-opacity:1; fill:none\" points=\"148.057,1486.45 2352.76,1486.45 \"/>\n",
       "<polyline clip-path=\"url(#clip040)\" style=\"stroke:#000000; stroke-linecap:round; stroke-linejoin:round; stroke-width:4; stroke-opacity:1; fill:none\" points=\"210.454,1486.45 210.454,1467.55 \"/>\n",
       "<polyline clip-path=\"url(#clip040)\" style=\"stroke:#000000; stroke-linecap:round; stroke-linejoin:round; stroke-width:4; stroke-opacity:1; fill:none\" points=\"860.424,1486.45 860.424,1467.55 \"/>\n",
       "<polyline clip-path=\"url(#clip040)\" style=\"stroke:#000000; stroke-linecap:round; stroke-linejoin:round; stroke-width:4; stroke-opacity:1; fill:none\" points=\"1510.39,1486.45 1510.39,1467.55 \"/>\n",
       "<polyline clip-path=\"url(#clip040)\" style=\"stroke:#000000; stroke-linecap:round; stroke-linejoin:round; stroke-width:4; stroke-opacity:1; fill:none\" points=\"2160.36,1486.45 2160.36,1467.55 \"/>\n",
       "<path clip-path=\"url(#clip040)\" d=\"M210.454 1517.37 Q206.843 1517.37 205.014 1520.93 Q203.208 1524.47 203.208 1531.6 Q203.208 1538.71 205.014 1542.27 Q206.843 1545.82 210.454 1545.82 Q214.088 1545.82 215.894 1542.27 Q217.722 1538.71 217.722 1531.6 Q217.722 1524.47 215.894 1520.93 Q214.088 1517.37 210.454 1517.37 M210.454 1513.66 Q216.264 1513.66 219.319 1518.27 Q222.398 1522.85 222.398 1531.6 Q222.398 1540.33 219.319 1544.94 Q216.264 1549.52 210.454 1549.52 Q204.644 1549.52 201.565 1544.94 Q198.509 1540.33 198.509 1531.6 Q198.509 1522.85 201.565 1518.27 Q204.644 1513.66 210.454 1513.66 Z\" fill=\"#000000\" fill-rule=\"nonzero\" fill-opacity=\"1\" /><path clip-path=\"url(#clip040)\" d=\"M850.702 1514.29 L869.058 1514.29 L869.058 1518.22 L854.984 1518.22 L854.984 1526.7 Q856.003 1526.35 857.021 1526.19 Q858.04 1526 859.058 1526 Q864.845 1526 868.225 1529.17 Q871.605 1532.34 871.605 1537.76 Q871.605 1543.34 868.132 1546.44 Q864.66 1549.52 858.341 1549.52 Q856.165 1549.52 853.896 1549.15 Q851.651 1548.78 849.244 1548.04 L849.244 1543.34 Q851.327 1544.47 853.549 1545.03 Q855.771 1545.58 858.248 1545.58 Q862.253 1545.58 864.591 1543.48 Q866.929 1541.37 866.929 1537.76 Q866.929 1534.15 864.591 1532.04 Q862.253 1529.94 858.248 1529.94 Q856.373 1529.94 854.498 1530.35 Q852.646 1530.77 850.702 1531.65 L850.702 1514.29 Z\" fill=\"#000000\" fill-rule=\"nonzero\" fill-opacity=\"1\" /><path clip-path=\"url(#clip040)\" d=\"M1485.08 1544.91 L1492.72 1544.91 L1492.72 1518.55 L1484.41 1520.21 L1484.41 1515.95 L1492.67 1514.29 L1497.35 1514.29 L1497.35 1544.91 L1504.99 1544.91 L1504.99 1548.85 L1485.08 1548.85 L1485.08 1544.91 Z\" fill=\"#000000\" fill-rule=\"nonzero\" fill-opacity=\"1\" /><path clip-path=\"url(#clip040)\" d=\"M1524.43 1517.37 Q1520.82 1517.37 1518.99 1520.93 Q1517.19 1524.47 1517.19 1531.6 Q1517.19 1538.71 1518.99 1542.27 Q1520.82 1545.82 1524.43 1545.82 Q1528.07 1545.82 1529.87 1542.27 Q1531.7 1538.71 1531.7 1531.6 Q1531.7 1524.47 1529.87 1520.93 Q1528.07 1517.37 1524.43 1517.37 M1524.43 1513.66 Q1530.24 1513.66 1533.3 1518.27 Q1536.38 1522.85 1536.38 1531.6 Q1536.38 1540.33 1533.3 1544.94 Q1530.24 1549.52 1524.43 1549.52 Q1518.62 1549.52 1515.54 1544.94 Q1512.49 1540.33 1512.49 1531.6 Q1512.49 1522.85 1515.54 1518.27 Q1518.62 1513.66 1524.43 1513.66 Z\" fill=\"#000000\" fill-rule=\"nonzero\" fill-opacity=\"1\" /><path clip-path=\"url(#clip040)\" d=\"M2135.55 1544.91 L2143.19 1544.91 L2143.19 1518.55 L2134.88 1520.21 L2134.88 1515.95 L2143.14 1514.29 L2147.82 1514.29 L2147.82 1544.91 L2155.46 1544.91 L2155.46 1548.85 L2135.55 1548.85 L2135.55 1544.91 Z\" fill=\"#000000\" fill-rule=\"nonzero\" fill-opacity=\"1\" /><path clip-path=\"url(#clip040)\" d=\"M2164.95 1514.29 L2183.3 1514.29 L2183.3 1518.22 L2169.23 1518.22 L2169.23 1526.7 Q2170.25 1526.35 2171.27 1526.19 Q2172.29 1526 2173.3 1526 Q2179.09 1526 2182.47 1529.17 Q2185.85 1532.34 2185.85 1537.76 Q2185.85 1543.34 2182.38 1546.44 Q2178.91 1549.52 2172.59 1549.52 Q2170.41 1549.52 2168.14 1549.15 Q2165.9 1548.78 2163.49 1548.04 L2163.49 1543.34 Q2165.57 1544.47 2167.8 1545.03 Q2170.02 1545.58 2172.49 1545.58 Q2176.5 1545.58 2178.84 1543.48 Q2181.17 1541.37 2181.17 1537.76 Q2181.17 1534.15 2178.84 1532.04 Q2176.5 1529.94 2172.49 1529.94 Q2170.62 1529.94 2168.74 1530.35 Q2166.89 1530.77 2164.95 1531.65 L2164.95 1514.29 Z\" fill=\"#000000\" fill-rule=\"nonzero\" fill-opacity=\"1\" /><polyline clip-path=\"url(#clip042)\" style=\"stroke:#000000; stroke-linecap:round; stroke-linejoin:round; stroke-width:2; stroke-opacity:0.1; fill:none\" points=\"148.057,1471.82 2352.76,1471.82 \"/>\n",
       "<polyline clip-path=\"url(#clip042)\" style=\"stroke:#000000; stroke-linecap:round; stroke-linejoin:round; stroke-width:2; stroke-opacity:0.1; fill:none\" points=\"148.057,1240.92 2352.76,1240.92 \"/>\n",
       "<polyline clip-path=\"url(#clip042)\" style=\"stroke:#000000; stroke-linecap:round; stroke-linejoin:round; stroke-width:2; stroke-opacity:0.1; fill:none\" points=\"148.057,1010.03 2352.76,1010.03 \"/>\n",
       "<polyline clip-path=\"url(#clip042)\" style=\"stroke:#000000; stroke-linecap:round; stroke-linejoin:round; stroke-width:2; stroke-opacity:0.1; fill:none\" points=\"148.057,779.138 2352.76,779.138 \"/>\n",
       "<polyline clip-path=\"url(#clip042)\" style=\"stroke:#000000; stroke-linecap:round; stroke-linejoin:round; stroke-width:2; stroke-opacity:0.1; fill:none\" points=\"148.057,548.246 2352.76,548.246 \"/>\n",
       "<polyline clip-path=\"url(#clip042)\" style=\"stroke:#000000; stroke-linecap:round; stroke-linejoin:round; stroke-width:2; stroke-opacity:0.1; fill:none\" points=\"148.057,317.353 2352.76,317.353 \"/>\n",
       "<polyline clip-path=\"url(#clip042)\" style=\"stroke:#000000; stroke-linecap:round; stroke-linejoin:round; stroke-width:2; stroke-opacity:0.1; fill:none\" points=\"148.057,86.4611 2352.76,86.4611 \"/>\n",
       "<polyline clip-path=\"url(#clip040)\" style=\"stroke:#000000; stroke-linecap:round; stroke-linejoin:round; stroke-width:4; stroke-opacity:1; fill:none\" points=\"148.057,1486.45 148.057,47.2441 \"/>\n",
       "<polyline clip-path=\"url(#clip040)\" style=\"stroke:#000000; stroke-linecap:round; stroke-linejoin:round; stroke-width:4; stroke-opacity:1; fill:none\" points=\"148.057,1471.82 166.954,1471.82 \"/>\n",
       "<polyline clip-path=\"url(#clip040)\" style=\"stroke:#000000; stroke-linecap:round; stroke-linejoin:round; stroke-width:4; stroke-opacity:1; fill:none\" points=\"148.057,1240.92 166.954,1240.92 \"/>\n",
       "<polyline clip-path=\"url(#clip040)\" style=\"stroke:#000000; stroke-linecap:round; stroke-linejoin:round; stroke-width:4; stroke-opacity:1; fill:none\" points=\"148.057,1010.03 166.954,1010.03 \"/>\n",
       "<polyline clip-path=\"url(#clip040)\" style=\"stroke:#000000; stroke-linecap:round; stroke-linejoin:round; stroke-width:4; stroke-opacity:1; fill:none\" points=\"148.057,779.138 166.954,779.138 \"/>\n",
       "<polyline clip-path=\"url(#clip040)\" style=\"stroke:#000000; stroke-linecap:round; stroke-linejoin:round; stroke-width:4; stroke-opacity:1; fill:none\" points=\"148.057,548.246 166.954,548.246 \"/>\n",
       "<polyline clip-path=\"url(#clip040)\" style=\"stroke:#000000; stroke-linecap:round; stroke-linejoin:round; stroke-width:4; stroke-opacity:1; fill:none\" points=\"148.057,317.353 166.954,317.353 \"/>\n",
       "<polyline clip-path=\"url(#clip040)\" style=\"stroke:#000000; stroke-linecap:round; stroke-linejoin:round; stroke-width:4; stroke-opacity:1; fill:none\" points=\"148.057,86.4611 166.954,86.4611 \"/>\n",
       "<path clip-path=\"url(#clip040)\" d=\"M50.9921 1472.27 L80.6679 1472.27 L80.6679 1476.2 L50.9921 1476.2 L50.9921 1472.27 Z\" fill=\"#000000\" fill-rule=\"nonzero\" fill-opacity=\"1\" /><path clip-path=\"url(#clip040)\" d=\"M104.927 1470.46 Q108.283 1471.18 110.158 1473.45 Q112.057 1475.72 112.057 1479.05 Q112.057 1484.16 108.538 1486.97 Q105.02 1489.77 98.5382 1489.77 Q96.3623 1489.77 94.0475 1489.33 Q91.7558 1488.91 89.3021 1488.05 L89.3021 1483.54 Q91.2465 1484.67 93.5613 1485.25 Q95.8761 1485.83 98.3993 1485.83 Q102.797 1485.83 105.089 1484.1 Q107.404 1482.36 107.404 1479.05 Q107.404 1475.99 105.251 1474.28 Q103.121 1472.54 99.3021 1472.54 L95.2743 1472.54 L95.2743 1468.7 L99.4872 1468.7 Q102.936 1468.7 104.765 1467.34 Q106.594 1465.95 106.594 1463.35 Q106.594 1460.69 104.696 1459.28 Q102.821 1457.85 99.3021 1457.85 Q97.3808 1457.85 95.1817 1458.26 Q92.9826 1458.68 90.3438 1459.56 L90.3438 1455.39 Q93.0058 1454.65 95.3206 1454.28 Q97.6585 1453.91 99.7187 1453.91 Q105.043 1453.91 108.145 1456.34 Q111.246 1458.75 111.246 1462.87 Q111.246 1465.74 109.603 1467.73 Q107.959 1469.7 104.927 1470.46 Z\" fill=\"#000000\" fill-rule=\"nonzero\" fill-opacity=\"1\" /><path clip-path=\"url(#clip040)\" d=\"M51.9412 1241.37 L81.617 1241.37 L81.617 1245.31 L51.9412 1245.31 L51.9412 1241.37 Z\" fill=\"#000000\" fill-rule=\"nonzero\" fill-opacity=\"1\" /><path clip-path=\"url(#clip040)\" d=\"M95.7373 1254.27 L112.057 1254.27 L112.057 1258.2 L90.1123 1258.2 L90.1123 1254.27 Q92.7743 1251.51 97.3576 1246.88 Q101.964 1242.23 103.145 1240.89 Q105.39 1238.37 106.27 1236.63 Q107.172 1234.87 107.172 1233.18 Q107.172 1230.43 105.228 1228.69 Q103.307 1226.95 100.205 1226.95 Q98.0058 1226.95 95.5521 1227.72 Q93.1215 1228.48 90.3438 1230.03 L90.3438 1225.31 Q93.1678 1224.18 95.6215 1223.6 Q98.0752 1223.02 100.112 1223.02 Q105.483 1223.02 108.677 1225.7 Q111.871 1228.39 111.871 1232.88 Q111.871 1235.01 111.061 1236.93 Q110.274 1238.83 108.168 1241.42 Q107.589 1242.09 104.487 1245.31 Q101.385 1248.5 95.7373 1254.27 Z\" fill=\"#000000\" fill-rule=\"nonzero\" fill-opacity=\"1\" /><path clip-path=\"url(#clip040)\" d=\"M51.5708 1010.48 L81.2466 1010.48 L81.2466 1014.42 L51.5708 1014.42 L51.5708 1010.48 Z\" fill=\"#000000\" fill-rule=\"nonzero\" fill-opacity=\"1\" /><path clip-path=\"url(#clip040)\" d=\"M92.1493 1023.38 L99.7882 1023.38 L99.7882 997.01 L91.478 998.677 L91.478 994.417 L99.7419 992.751 L104.418 992.751 L104.418 1023.38 L112.057 1023.38 L112.057 1027.31 L92.1493 1027.31 L92.1493 1023.38 Z\" fill=\"#000000\" fill-rule=\"nonzero\" fill-opacity=\"1\" /><path clip-path=\"url(#clip040)\" d=\"M100.112 764.937 Q96.5011 764.937 94.6724 768.502 Q92.8669 772.043 92.8669 779.173 Q92.8669 786.279 94.6724 789.844 Q96.5011 793.386 100.112 793.386 Q103.746 793.386 105.552 789.844 Q107.381 786.279 107.381 779.173 Q107.381 772.043 105.552 768.502 Q103.746 764.937 100.112 764.937 M100.112 761.233 Q105.922 761.233 108.978 765.84 Q112.057 770.423 112.057 779.173 Q112.057 787.9 108.978 792.506 Q105.922 797.09 100.112 797.09 Q94.3021 797.09 91.2234 792.506 Q88.1679 787.9 88.1679 779.173 Q88.1679 770.423 91.2234 765.84 Q94.3021 761.233 100.112 761.233 Z\" fill=\"#000000\" fill-rule=\"nonzero\" fill-opacity=\"1\" /><path clip-path=\"url(#clip040)\" d=\"M92.1493 561.591 L99.7882 561.591 L99.7882 535.225 L91.478 536.892 L91.478 532.633 L99.7419 530.966 L104.418 530.966 L104.418 561.591 L112.057 561.591 L112.057 565.526 L92.1493 565.526 L92.1493 561.591 Z\" fill=\"#000000\" fill-rule=\"nonzero\" fill-opacity=\"1\" /><path clip-path=\"url(#clip040)\" d=\"M95.7373 330.698 L112.057 330.698 L112.057 334.633 L90.1123 334.633 L90.1123 330.698 Q92.7743 327.944 97.3576 323.314 Q101.964 318.661 103.145 317.319 Q105.39 314.796 106.27 313.06 Q107.172 311.3 107.172 309.61 Q107.172 306.856 105.228 305.12 Q103.307 303.384 100.205 303.384 Q98.0058 303.384 95.5521 304.148 Q93.1215 304.911 90.3438 306.462 L90.3438 301.74 Q93.1678 300.606 95.6215 300.027 Q98.0752 299.448 100.112 299.448 Q105.483 299.448 108.677 302.134 Q111.871 304.819 111.871 309.31 Q111.871 311.439 111.061 313.36 Q110.274 315.259 108.168 317.851 Q107.589 318.522 104.487 321.74 Q101.385 324.934 95.7373 330.698 Z\" fill=\"#000000\" fill-rule=\"nonzero\" fill-opacity=\"1\" /><path clip-path=\"url(#clip040)\" d=\"M104.927 85.107 Q108.283 85.8246 110.158 88.0931 Q112.057 90.3616 112.057 93.6949 Q112.057 98.8106 108.538 101.612 Q105.02 104.412 98.5382 104.412 Q96.3623 104.412 94.0475 103.973 Q91.7558 103.556 89.3021 102.699 L89.3021 98.1856 Q91.2465 99.3198 93.5613 99.8985 Q95.8761 100.477 98.3993 100.477 Q102.797 100.477 105.089 98.7411 Q107.404 97.005 107.404 93.6949 Q107.404 90.6393 105.251 88.9264 Q103.121 87.1903 99.3021 87.1903 L95.2743 87.1903 L95.2743 83.3477 L99.4872 83.3477 Q102.936 83.3477 104.765 81.982 Q106.594 80.5931 106.594 78.0005 Q106.594 75.3385 104.696 73.9265 Q102.821 72.4913 99.3021 72.4913 Q97.3808 72.4913 95.1817 72.908 Q92.9826 73.3246 90.3438 74.2042 L90.3438 70.0376 Q93.0058 69.2969 95.3206 68.9265 Q97.6585 68.5561 99.7187 68.5561 Q105.043 68.5561 108.145 70.9867 Q111.246 73.3941 111.246 77.5144 Q111.246 80.3848 109.603 82.3755 Q107.959 84.3431 104.927 85.107 Z\" fill=\"#000000\" fill-rule=\"nonzero\" fill-opacity=\"1\" /><circle clip-path=\"url(#clip042)\" cx=\"210.454\" cy=\"779.138\" r=\"14.4\" fill=\"#009af9\" fill-rule=\"evenodd\" fill-opacity=\"1\" stroke=\"#000000\" stroke-opacity=\"1\" stroke-width=\"3.2\"/>\n",
       "<circle clip-path=\"url(#clip042)\" cx=\"340.448\" cy=\"768.308\" r=\"14.4\" fill=\"#009af9\" fill-rule=\"evenodd\" fill-opacity=\"1\" stroke=\"#000000\" stroke-opacity=\"1\" stroke-width=\"3.2\"/>\n",
       "<circle clip-path=\"url(#clip042)\" cx=\"470.442\" cy=\"747.11\" r=\"14.4\" fill=\"#009af9\" fill-rule=\"evenodd\" fill-opacity=\"1\" stroke=\"#000000\" stroke-opacity=\"1\" stroke-width=\"3.2\"/>\n",
       "<circle clip-path=\"url(#clip042)\" cx=\"600.436\" cy=\"727.555\" r=\"14.4\" fill=\"#009af9\" fill-rule=\"evenodd\" fill-opacity=\"1\" stroke=\"#000000\" stroke-opacity=\"1\" stroke-width=\"3.2\"/>\n",
       "<circle clip-path=\"url(#clip042)\" cx=\"730.43\" cy=\"715.926\" r=\"14.4\" fill=\"#009af9\" fill-rule=\"evenodd\" fill-opacity=\"1\" stroke=\"#000000\" stroke-opacity=\"1\" stroke-width=\"3.2\"/>\n",
       "<circle clip-path=\"url(#clip042)\" cx=\"860.424\" cy=\"707.318\" r=\"14.4\" fill=\"#009af9\" fill-rule=\"evenodd\" fill-opacity=\"1\" stroke=\"#000000\" stroke-opacity=\"1\" stroke-width=\"3.2\"/>\n",
       "<circle clip-path=\"url(#clip042)\" cx=\"990.418\" cy=\"712.311\" r=\"14.4\" fill=\"#009af9\" fill-rule=\"evenodd\" fill-opacity=\"1\" stroke=\"#000000\" stroke-opacity=\"1\" stroke-width=\"3.2\"/>\n",
       "<circle clip-path=\"url(#clip042)\" cx=\"1120.41\" cy=\"723.713\" r=\"14.4\" fill=\"#009af9\" fill-rule=\"evenodd\" fill-opacity=\"1\" stroke=\"#000000\" stroke-opacity=\"1\" stroke-width=\"3.2\"/>\n",
       "<circle clip-path=\"url(#clip042)\" cx=\"1250.41\" cy=\"744.652\" r=\"14.4\" fill=\"#009af9\" fill-rule=\"evenodd\" fill-opacity=\"1\" stroke=\"#000000\" stroke-opacity=\"1\" stroke-width=\"3.2\"/>\n",
       "<circle clip-path=\"url(#clip042)\" cx=\"1380.4\" cy=\"772.364\" r=\"14.4\" fill=\"#009af9\" fill-rule=\"evenodd\" fill-opacity=\"1\" stroke=\"#000000\" stroke-opacity=\"1\" stroke-width=\"3.2\"/>\n",
       "<circle clip-path=\"url(#clip042)\" cx=\"1510.39\" cy=\"809.437\" r=\"14.4\" fill=\"#009af9\" fill-rule=\"evenodd\" fill-opacity=\"1\" stroke=\"#000000\" stroke-opacity=\"1\" stroke-width=\"3.2\"/>\n",
       "<circle clip-path=\"url(#clip042)\" cx=\"1640.39\" cy=\"838.345\" r=\"14.4\" fill=\"#009af9\" fill-rule=\"evenodd\" fill-opacity=\"1\" stroke=\"#000000\" stroke-opacity=\"1\" stroke-width=\"3.2\"/>\n",
       "<circle clip-path=\"url(#clip042)\" cx=\"1770.38\" cy=\"906.534\" r=\"14.4\" fill=\"#009af9\" fill-rule=\"evenodd\" fill-opacity=\"1\" stroke=\"#000000\" stroke-opacity=\"1\" stroke-width=\"3.2\"/>\n",
       "<circle clip-path=\"url(#clip042)\" cx=\"1900.38\" cy=\"828.271\" r=\"14.4\" fill=\"#009af9\" fill-rule=\"evenodd\" fill-opacity=\"1\" stroke=\"#000000\" stroke-opacity=\"1\" stroke-width=\"3.2\"/>\n",
       "<circle clip-path=\"url(#clip042)\" cx=\"2030.37\" cy=\"752.135\" r=\"14.4\" fill=\"#009af9\" fill-rule=\"evenodd\" fill-opacity=\"1\" stroke=\"#000000\" stroke-opacity=\"1\" stroke-width=\"3.2\"/>\n",
       "<circle clip-path=\"url(#clip042)\" cx=\"2160.36\" cy=\"1445.72\" r=\"14.4\" fill=\"#009af9\" fill-rule=\"evenodd\" fill-opacity=\"1\" stroke=\"#000000\" stroke-opacity=\"1\" stroke-width=\"3.2\"/>\n",
       "<circle clip-path=\"url(#clip042)\" cx=\"2290.36\" cy=\"87.9763\" r=\"14.4\" fill=\"#009af9\" fill-rule=\"evenodd\" fill-opacity=\"1\" stroke=\"#000000\" stroke-opacity=\"1\" stroke-width=\"3.2\"/>\n",
       "<path clip-path=\"url(#clip040)\" d=\"M221.547 198.898 L494.447 198.898 L494.447 95.2176 L221.547 95.2176  Z\" fill=\"#ffffff\" fill-rule=\"evenodd\" fill-opacity=\"1\"/>\n",
       "<polyline clip-path=\"url(#clip040)\" style=\"stroke:#000000; stroke-linecap:round; stroke-linejoin:round; stroke-width:4; stroke-opacity:1; fill:none\" points=\"221.547,198.898 494.447,198.898 494.447,95.2176 221.547,95.2176 221.547,198.898 \"/>\n",
       "<circle clip-path=\"url(#clip040)\" cx=\"319.533\" cy=\"147.058\" r=\"20.48\" fill=\"#009af9\" fill-rule=\"evenodd\" fill-opacity=\"1\" stroke=\"#000000\" stroke-opacity=\"1\" stroke-width=\"4.55111\"/>\n",
       "<path clip-path=\"url(#clip040)\" d=\"M431.362 166.745 Q429.557 171.375 427.844 172.787 Q426.131 174.199 423.261 174.199 L419.858 174.199 L419.858 170.634 L422.358 170.634 Q424.117 170.634 425.089 169.8 Q426.061 168.967 427.242 165.865 L428.006 163.921 L417.52 138.412 L422.034 138.412 L430.136 158.689 L438.237 138.412 L442.751 138.412 L431.362 166.745 Z\" fill=\"#000000\" fill-rule=\"nonzero\" fill-opacity=\"1\" /><path clip-path=\"url(#clip040)\" d=\"M450.043 160.402 L457.682 160.402 L457.682 134.037 L449.372 135.703 L449.372 131.444 L457.635 129.778 L462.311 129.778 L462.311 160.402 L469.95 160.402 L469.95 164.338 L450.043 164.338 L450.043 160.402 Z\" fill=\"#000000\" fill-rule=\"nonzero\" fill-opacity=\"1\" /></svg>\n"
      ]
     },
     "execution_count": 5,
     "metadata": {},
     "output_type": "execute_result"
    }
   ],
   "source": [
    "fit.resid\n",
    "scatter(x,abs.(fit.resid).+1e-16, yscale =:log10)\n",
    "scatter(x,fit.resid)"
   ]
  },
  {
   "cell_type": "code",
   "execution_count": null,
   "metadata": {},
   "outputs": [],
   "source": []
  },
  {
   "cell_type": "markdown",
   "metadata": {},
   "source": [
    "6. Use que $\\alpha = m/c$ y que la masa de la gota es $m=0.001\\,\\mathrm{Kg}$ para determinar el valor de $c$. Explicite en una celda en formato texto y LaTex el valor obtenido de $c$. Además, especifique las unidades que tiene $\\alpha$ y las uniades que tiene $c$."
   ]
  },
  {
   "cell_type": "markdown",
   "metadata": {},
   "source": [
    "7. Grafique la curva $z(t)$ ajustada con lo puntos especificados en el archivo `datos.dat` superpuestos."
   ]
  },
  {
   "cell_type": "markdown",
   "metadata": {},
   "source": [
    "8. Al descender la gota por efecto de la fuerza  gravitatoria que ejerce la tierra sobre ella al tiempo que es frenada por una fuerza restauradora proporcional a menos su velocidad (debida a la viscocidad del aire), la gota del experimento recibe un trabajo. La expresión de dicho trabajo, como debe usted recordar de sus clases de Física General I, está dada por:\n",
    "    $$\n",
    "    W = \\int_{t_{\\mathrm{inicial}}}^{t_{\\mathrm{final}}} \\vec{F}.\\vec{v} \\, dt    \n",
    "    $$ \n",
    "    donde\n",
    "    $$\n",
    "    \\vec{F} = -m\\,g \\hat{z} \\; - c\\,v(t)\\hat{z}\n",
    "    $$\n",
    "    es la fuerza total actuante sobre la gota.\n",
    "\n",
    "    Para calcular el trabajo, emplee el algoritmo de integración del método de Simpson compuesto para intervalos equiespaciados, utilizando los $t_i$ proveídos en los datos y las correspondientes aproximaciones de $v_i$ del inciso 2. Explicite el resultado del cómputo en una celda en formato texto y LaTeX.\n",
    "\n",
    "    Aproxime la integral nuevamente, dividiendo el intervalo de tiempo en $100$ subintervalos ($n=101$ puntos) y usando correspondientes valores de $v(t)$ calculados a partir de la derivada analítica de la expresión del ajuste de $z(t)$. Compare resultados con la aproximación anterior."
   ]
  },
  {
   "cell_type": "markdown",
   "metadata": {},
   "source": [
    "9. Cuando la trayectoria del objeto no se cruza a si misma, una forma equivalente de calcular el trabajo proviene de la expresión:\n",
    "    $$\n",
    "    W = \\int_{z_{\\mathrm{inicial}}}^{z_{\\mathrm{final}}} \\; \\vec{F}.\\vec{dz} \\nonumber \\\\\n",
    "    $$\n",
    "    Aproxime nuevamente el trabajo $W$ integrando esta otra expresión, utilizando el método del trapecio para intervalos **no equiespaciados**, y usando los puntos $z_i$ proveídos en los datos y las correspondientes aproximaciones $v_i$ del inciso 2.\n",
    "    \n",
    "    Compare resultados con el inciso anterior.\n",
    "    \n",
    "    **Ayuda:** Note que deberá implementar el el método del trapecio para intervalos **no equiespaciados**. Le recomendamos chequear el correcto funcionamiento del método, aproximando la integral\n",
    "    \n",
    "    $$\n",
    "    \\int_0^1 \\sin(x)\\,dx\n",
    "    $$\n",
    "    \n",
    "    usando el siguiente arreglo de puntos de integración $x = [0.0,0.1,0.3,0.5,0.8,1.0]$. Debería darle $\\approx 0.457421559686$."
   ]
  },
  {
   "cell_type": "code",
   "execution_count": 6,
   "metadata": {},
   "outputs": [
    {
     "data": {
      "text/plain": [
       "trapecio_no_equiespaciado (generic function with 1 method)"
      ]
     },
     "execution_count": 6,
     "metadata": {},
     "output_type": "execute_result"
    }
   ],
   "source": [
    "function trapecio_no_equiespaciado(x, y)\n",
    "    n = length(x)\n",
    "    if n != length(y)\n",
    "        throw(ArgumentError(\"Los vectores x e y deben tener la misma longitud\"))\n",
    "    end\n",
    "    \n",
    "    suma = 0.0\n",
    "    for i in 2:n\n",
    "        h = x[i] - x[i-1]\n",
    "        suma += (y[i] + y[i-1]) * h\n",
    "    end\n",
    "    \n",
    "    return suma / 2\n",
    "end"
   ]
  },
  {
   "cell_type": "code",
   "execution_count": 7,
   "metadata": {},
   "outputs": [
    {
     "data": {
      "text/plain": [
       "0.4574215596860132"
      ]
     },
     "execution_count": 7,
     "metadata": {},
     "output_type": "execute_result"
    }
   ],
   "source": [
    "x = [0.0,0.1,0.3,0.5,0.8,1.0]\n",
    "y = @. sin(x)\n",
    "\n",
    "trapecio_no_equiespaciado(x,y)"
   ]
  },
  {
   "cell_type": "code",
   "execution_count": 8,
   "metadata": {},
   "outputs": [
    {
     "data": {
      "text/plain": [
       "17-element Vector{Float64}:\n",
       "    0.0\n",
       "   -4.412\n",
       "  -15.971\n",
       "  -32.69\n",
       "  -53.134\n",
       "  -76.3\n",
       " -101.397\n",
       " -127.914\n",
       " -155.443\n",
       " -183.709\n",
       " -212.492\n",
       " -241.716\n",
       " -271.065\n",
       " -301.263\n",
       " -331.608\n",
       " -358.733\n",
       " -394.825"
      ]
     },
     "execution_count": 8,
     "metadata": {},
     "output_type": "execute_result"
    }
   ],
   "source": [
    "z_i = data[!,2]\n",
    "\n",
    "\n"
   ]
  },
  {
   "cell_type": "markdown",
   "metadata": {},
   "source": [
    "10. Para verificar si las integrales le dieron el resultado correcto, calcule también el trabajo como:\n",
    "\n",
    "    $$\n",
    "    W=E_{\\mathrm{cinética}}(t)-E_{\\mathrm{cinética}}(0)\n",
    "    $$\n",
    "    \n",
    "    donde\n",
    "    \n",
    "    $$\n",
    "    E_{\\mathrm{cinética}}(t) = \\frac{1}{2}m v^2(t)\n",
    "    $$\n",
    "\n",
    "    Utilice para ello la velocidad final del ajuste. Imprima este valor también por pantalla."
   ]
  },
  {
   "cell_type": "markdown",
   "metadata": {},
   "source": [
    "11. A partir del archivo `datos.dat`, interpole la posición como función del tiempo con el método del polinomio interpolante de Lagrange dividiendo el intervalo de tiempo en $100$ subintervalos ($n=100$). Grafique, en un único gráfico, las siguientes curvas entre $t_i$ y $t_f$:\n",
    "    1. Los puntos medidos $z_i$ vs $t_i$,\n",
    "    2. el polinomio interpolante de Lagrange y\n",
    "    3. la curva de la posición ajustada en el inciso 4."
   ]
  },
  {
   "cell_type": "markdown",
   "metadata": {},
   "source": [
    "12. Explique en una celda los resultados obtenidos."
   ]
  },
  {
   "cell_type": "markdown",
   "metadata": {},
   "source": [
    "### Respuestas"
   ]
  },
  {
   "cell_type": "code",
   "execution_count": null,
   "metadata": {},
   "outputs": [],
   "source": []
  }
 ],
 "metadata": {
  "kernelspec": {
   "display_name": "Julia 1.8.0",
   "language": "julia",
   "name": "julia-1.8"
  },
  "language_info": {
   "file_extension": ".jl",
   "mimetype": "application/julia",
   "name": "julia",
   "version": "1.8.0"
  }
 },
 "nbformat": 4,
 "nbformat_minor": 4
}
