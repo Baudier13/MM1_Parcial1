{
 "cells": [
  {
   "cell_type": "markdown",
   "metadata": {},
   "source": [
    "# Métodos Numericos 2023\n",
    "\n",
    "## Parcial 2\n",
    "\n",
    "### Fecha de entrega \n",
    "\n",
    "8 de Junio de 2023\n",
    "\n",
    "### Nota sobre la programación en Julia\n",
    "\n",
    "Recuerde que su notebook tiene que poder ser entendida por otra persona. Para ello:\n",
    "\n",
    "* Cuando crea conveniente, use texto Markdown para desarrollar o comentar una idea.\n",
    "\n",
    "* Agregue comentarios a su código de ser necesario.\n",
    "\n",
    "* Realice gráficos que tengan etiquetas en los ejes y leyendas para cada curva o serie de puntos graficados, como así también un título apropiado.\n",
    "\n",
    "* Procure respetar reglas de buena programación:\n",
    "\n",
    "    * Use sangrías adecuadamente.\n",
    "\n",
    "    * Cuando sea posible, implemente funciones de caracter general, en vez de código específico a cada problema, facilitando así la reutilización de código.\n",
    "\n",
    "    * Implemente funciones que tengan los argumentos necesarios para su buen funcionamiento."
   ]
  },
  {
   "cell_type": "code",
   "execution_count": 1,
   "metadata": {},
   "outputs": [],
   "source": [
    "using Plots\n",
    "using LaTeXStrings\n",
    "using DataFrames\n",
    "using CSV\n",
    "using LsqFit"
   ]
  },
  {
   "cell_type": "markdown",
   "metadata": {},
   "source": [
    "### Problema\n",
    "\n",
    "**Contexto físico**\n",
    "\n",
    "Los datos incluidos en el archivo adjunto `datos.dat` representan los tiempos de medición $t_i$ (primera columna) y posición $z_i$ (segunda columna) de una gota de agua en caída libre pero afectada por la resistencia impuesta por el aire. \n",
    "La posición se mide a lo largo de la perpendicular a la tierra ($z$), el origen de coordenadas se fija en el punto de partida de la gota, la cual tiene velocidad inicial nula.\n",
    "\n",
    "Este experimento, ideado originalmente por el físico Philipp Lennard, ganador del Premio Nobel de Física en 1905 por sus investigaciones sobre los rayos catódicos y sus propiedades, consiste en medir durante la caída libre de la gota su posición para diferentes tiempos, los cuales, en este caso se escogieron equiespaciados.\n",
    "\n",
    "A partir de suponer que la gota está sometida a la fuerza gravitacional que le ejerce la tierra y una fuerza restitutiva de rozamiento proporcional a su velocidad:\n",
    "$$\n",
    "\\vec{F}=\\vec{F_g} + \\vec{F_R} = -mg \\hat{z} - cv \\hat{z}\n",
    "$$\n",
    "y usando las leyes de Newton, es posible deducir la posición $z$ en función del tiempo, como veremos más adelante en este parcial.\n",
    "En este ejercicio no nos interesa que entiendan la física del experimento, pues lo verán más adeltante en la carrera, pero queremos que vean cómo se resuelven problemas físicos no triviales combinando variados métodos numéricos. \n",
    "\n",
    "**Incisos a resolver**\n",
    "\n",
    "1. Lea los datos del archivo `datos.dat` y grafique las posiciones $z_i$ en función de los tiempos $t_i$. Los datos son tales que la unidad de tiempos es segundos $[\\mathrm{s}]$ y la de posiciones es metros $[\\mathrm{m}]$. Describa cualitativamente el comportamiento de la gota.\n",
    "\n",
    "2. Calcule **numéricamente** la velocidad de la gota para cada uno de los tiempos de medición. Use el método centrado de cinco puntos en los puntos centrales, el método centrado de tres puntos en el segundo y el anteúltimo, y el de dos puntos en el primer y en el último punto. \n",
    "\n",
    "3. Grafique la aproximación de la velocidad $v_i$ calculada, en función del tiempo $t_i$. Describa cualitativamente el comportamiento temporal de la velocidad de la gota.\n",
    "\n",
    "4. Grafique la velocidad $v_i$ en función de posición $z_i$. Describa cualitativamente cómo la velocidad de la gota cambia a medidad que cambia su posición.\n",
    "\n",
    "5. Sabiendo que la ecuación que describe la posición de la gota en función del tiempo es:\n",
    "    $$\n",
    "    z(t)= - g\\,\\alpha\\,t + g\\,\\alpha^2\\, \\left(1-e^{-t/\\alpha} \\right)\n",
    "    $$\n",
    "    donde $\\alpha=m/c$, realice un ajuste de cuadrados mínimos de las posiciones $z_i$ en función de los tiempos $t_i$ y obtenga una estimación de los parámetros $\\alpha$ y $g$. Verifique que los residuos son relativamente pequeños. Explicite los resultados del ajute en una celda en formato texto y LaTeX. En particular, compare el valor ajustado de $g$, con el comunmente utilizado de $g=9,81\\,\\mathrm{m}/\\mathrm{s}^2$.\n",
    "\n",
    "6. Use que $\\alpha = m/c$ y que la masa de la gota es $m=0.001\\,\\mathrm{Kg}$ para determinar el valor de $c$. Explicite en una celda en formato texto y LaTex el valor obtenido de $c$. Además, especifique las unidades que tiene $\\alpha$ y las uniades que tiene $c$.\n",
    "\n",
    "7. Grafique la curva $z(t)$ ajustada con lo puntos especificados en el archivo `datos.dat` superpuestos.\n",
    "\n",
    "8. Al descender la gota por efecto de la fuerza  gravitatoria que ejerce la tierra sobre ella al tiempo que es frenada por una fuerza restauradora proporcional a menos su velocidad (debida a la viscocidad del aire), la gota del experimento recibe un trabajo. La expresión de dicho trabajo, como debe usted recordar de sus clases de Física General I, está dada por:\n",
    "    $$\n",
    "    W = \\int_{t_{\\mathrm{inicial}}}^{t_{\\mathrm{final}}} \\vec{F}.\\vec{v} \\, dt    \n",
    "    $$ \n",
    "    donde\n",
    "    $$\n",
    "    \\vec{F} = -m\\,g \\hat{z} \\; - c\\,v(t)\\hat{z}\n",
    "    $$\n",
    "    es la fuerza total actuante sobre la gota.\n",
    "\n",
    "    Para calcular el trabajo, emplee el algoritmo de integración del método de Simpson compuesto para intervalos equiespaciados, utilizando los $t_i$ proveídos en los datos y las correspondientes aproximaciones de $v_i$ del inciso 2. Explicite el resultado del cómputo en una celda en formato texto y LaTeX.\n",
    "\n",
    "    Aproxime la integral nuevamente, dividiendo el intervalo de tiempo en $100$ subintervalos ($n=101$ puntos) y usando correspondientes valores de $v(t)$ calculados a partir de la derivada analítica de la expresión del ajuste de $z(t)$. Compare resultados con la aproximación anterior.\n",
    "\n",
    "9. Cuando la trayectoria del objeto no se cruza a si misma, una forma equivalente de calcular el trabajo proviene de la expresión:\n",
    "    $$\n",
    "    W = \\int_{z_{\\mathrm{inicial}}}^{z_{\\mathrm{final}}} \\; \\vec{F}.\\vec{dz} \\nonumber \\\\\n",
    "    $$\n",
    "    Aproxime nuevamente el trabajo $W$ integrando esta otra expresión, utilizando el método del trapecio para intervalos **no equiespaciados**, y usando los puntos $z_i$ proveídos en los datos y las correspondientes aproximaciones $v_i$ del inciso 2.\n",
    "    \n",
    "    Compare resultados con el inciso anterior.\n",
    "    \n",
    "    **Ayuda:** Note que deberá implementar el el método del trapecio para intervalos **no equiespaciados**. Le recomendamos chequear el correcto funcionamiento del método, aproximando la integral\n",
    "    \n",
    "    $$\n",
    "    \\int_0^1 \\sin(x)\\,dx\n",
    "    $$\n",
    "    \n",
    "    usando el siguiente arreglo de puntos de integración $x = [0.0,0.1,0.3,0.5,0.8,1.0]$. Debería darle $\\approx 0.457421559686$.\n",
    "\n",
    "10. Para verificar si las integrales le dieron el resultado correcto, calcule también el trabajo como:\n",
    "\n",
    "    $$\n",
    "    W=E_{\\mathrm{cinética}}(t)-E_{\\mathrm{cinética}}(0)\n",
    "    $$\n",
    "    \n",
    "    donde\n",
    "    \n",
    "    $$\n",
    "    E_{\\mathrm{cinética}}(t) = \\frac{1}{2}m v^2(t)\n",
    "    $$\n",
    "\n",
    "    Utilice para ello la velocidad final del ajuste. Imprima este valor también por pantalla.\n",
    "\n",
    "11. A partir del archivo `datos.dat`, interpole la posición como función del tiempo con el método del polinomio interpolante de Lagrange dividiendo el intervalo de tiempo en $100$ subintervalos ($n=100$). Grafique, en un único gráfico, las siguientes curvas entre $t_i$ y $t_f$:\n",
    "    1. Los puntos medidos $z_i$ vs $t_i$,\n",
    "    2. el polinomio interpolante de Lagrange y\n",
    "    3. la curva de la posición ajustada en el inciso 4.\n",
    "   \n",
    "12. Explique en una celda los resultados obtenidos."
   ]
  },
  {
   "cell_type": "markdown",
   "metadata": {},
   "source": [
    "### Respuestas"
   ]
  },
  {
   "cell_type": "markdown",
   "metadata": {},
   "source": [
    "1. Lea los datos del archivo `datos.dat` y grafique las posiciones $z_i$ en función de los tiempos $t_i$. Los datos son tales que la unidad de tiempos es segundos $[\\mathrm{s}]$ y la de posiciones es metros $[\\mathrm{m}]$. Describa cualitativamente el comportamiento de la gota."
   ]
  },
  {
   "cell_type": "code",
   "execution_count": 2,
   "metadata": {},
   "outputs": [
    {
     "data": {
      "image/svg+xml": [
       "<?xml version=\"1.0\" encoding=\"utf-8\"?>\n",
       "<svg xmlns=\"http://www.w3.org/2000/svg\" xmlns:xlink=\"http://www.w3.org/1999/xlink\" width=\"600\" height=\"400\" viewBox=\"0 0 2400 1600\">\n",
       "<defs>\n",
       "  <clipPath id=\"clip260\">\n",
       "    <rect x=\"0\" y=\"0\" width=\"2400\" height=\"1600\"/>\n",
       "  </clipPath>\n",
       "</defs>\n",
       "<path clip-path=\"url(#clip260)\" d=\"M0 1600 L2400 1600 L2400 0 L0 0  Z\" fill=\"#ffffff\" fill-rule=\"evenodd\" fill-opacity=\"1\"/>\n",
       "<defs>\n",
       "  <clipPath id=\"clip261\">\n",
       "    <rect x=\"480\" y=\"0\" width=\"1681\" height=\"1600\"/>\n",
       "  </clipPath>\n",
       "</defs>\n",
       "<path clip-path=\"url(#clip260)\" d=\"M272.297 1423.18 L2352.76 1423.18 L2352.76 47.2441 L272.297 47.2441  Z\" fill=\"#ffffff\" fill-rule=\"evenodd\" fill-opacity=\"1\"/>\n",
       "<defs>\n",
       "  <clipPath id=\"clip262\">\n",
       "    <rect x=\"272\" y=\"47\" width=\"2081\" height=\"1377\"/>\n",
       "  </clipPath>\n",
       "</defs>\n",
       "<polyline clip-path=\"url(#clip262)\" style=\"stroke:#000000; stroke-linecap:round; stroke-linejoin:round; stroke-width:2; stroke-opacity:0.1; fill:none\" points=\"331.177,1423.18 331.177,47.2441 \"/>\n",
       "<polyline clip-path=\"url(#clip262)\" style=\"stroke:#000000; stroke-linecap:round; stroke-linejoin:round; stroke-width:2; stroke-opacity:0.1; fill:none\" points=\"944.52,1423.18 944.52,47.2441 \"/>\n",
       "<polyline clip-path=\"url(#clip262)\" style=\"stroke:#000000; stroke-linecap:round; stroke-linejoin:round; stroke-width:2; stroke-opacity:0.1; fill:none\" points=\"1557.86,1423.18 1557.86,47.2441 \"/>\n",
       "<polyline clip-path=\"url(#clip262)\" style=\"stroke:#000000; stroke-linecap:round; stroke-linejoin:round; stroke-width:2; stroke-opacity:0.1; fill:none\" points=\"2171.21,1423.18 2171.21,47.2441 \"/>\n",
       "<polyline clip-path=\"url(#clip260)\" style=\"stroke:#000000; stroke-linecap:round; stroke-linejoin:round; stroke-width:4; stroke-opacity:1; fill:none\" points=\"272.297,1423.18 2352.76,1423.18 \"/>\n",
       "<polyline clip-path=\"url(#clip260)\" style=\"stroke:#000000; stroke-linecap:round; stroke-linejoin:round; stroke-width:4; stroke-opacity:1; fill:none\" points=\"331.177,1423.18 331.177,1404.28 \"/>\n",
       "<polyline clip-path=\"url(#clip260)\" style=\"stroke:#000000; stroke-linecap:round; stroke-linejoin:round; stroke-width:4; stroke-opacity:1; fill:none\" points=\"944.52,1423.18 944.52,1404.28 \"/>\n",
       "<polyline clip-path=\"url(#clip260)\" style=\"stroke:#000000; stroke-linecap:round; stroke-linejoin:round; stroke-width:4; stroke-opacity:1; fill:none\" points=\"1557.86,1423.18 1557.86,1404.28 \"/>\n",
       "<polyline clip-path=\"url(#clip260)\" style=\"stroke:#000000; stroke-linecap:round; stroke-linejoin:round; stroke-width:4; stroke-opacity:1; fill:none\" points=\"2171.21,1423.18 2171.21,1404.28 \"/>\n",
       "<path clip-path=\"url(#clip260)\" d=\"M331.177 1454.1 Q327.566 1454.1 325.738 1457.66 Q323.932 1461.2 323.932 1468.33 Q323.932 1475.44 325.738 1479.01 Q327.566 1482.55 331.177 1482.55 Q334.812 1482.55 336.617 1479.01 Q338.446 1475.44 338.446 1468.33 Q338.446 1461.2 336.617 1457.66 Q334.812 1454.1 331.177 1454.1 M331.177 1450.39 Q336.988 1450.39 340.043 1455 Q343.122 1459.58 343.122 1468.33 Q343.122 1477.06 340.043 1481.67 Q336.988 1486.25 331.177 1486.25 Q325.367 1486.25 322.289 1481.67 Q319.233 1477.06 319.233 1468.33 Q319.233 1459.58 322.289 1455 Q325.367 1450.39 331.177 1450.39 Z\" fill=\"#000000\" fill-rule=\"evenodd\" fill-opacity=\"1\" /><path clip-path=\"url(#clip260)\" d=\"M934.798 1451.02 L953.155 1451.02 L953.155 1454.96 L939.081 1454.96 L939.081 1463.43 Q940.099 1463.08 941.118 1462.92 Q942.136 1462.73 943.155 1462.73 Q948.942 1462.73 952.321 1465.9 Q955.701 1469.08 955.701 1474.49 Q955.701 1480.07 952.229 1483.17 Q948.757 1486.25 942.437 1486.25 Q940.261 1486.25 937.993 1485.88 Q935.747 1485.51 933.34 1484.77 L933.34 1480.07 Q935.423 1481.2 937.645 1481.76 Q939.868 1482.32 942.345 1482.32 Q946.349 1482.32 948.687 1480.21 Q951.025 1478.1 951.025 1474.49 Q951.025 1470.88 948.687 1468.77 Q946.349 1466.67 942.345 1466.67 Q940.47 1466.67 938.595 1467.08 Q936.743 1467.5 934.798 1468.38 L934.798 1451.02 Z\" fill=\"#000000\" fill-rule=\"evenodd\" fill-opacity=\"1\" /><path clip-path=\"url(#clip260)\" d=\"M1532.55 1481.64 L1540.19 1481.64 L1540.19 1455.28 L1531.88 1456.95 L1531.88 1452.69 L1540.14 1451.02 L1544.82 1451.02 L1544.82 1481.64 L1552.46 1481.64 L1552.46 1485.58 L1532.55 1485.58 L1532.55 1481.64 Z\" fill=\"#000000\" fill-rule=\"evenodd\" fill-opacity=\"1\" /><path clip-path=\"url(#clip260)\" d=\"M1571.9 1454.1 Q1568.29 1454.1 1566.46 1457.66 Q1564.66 1461.2 1564.66 1468.33 Q1564.66 1475.44 1566.46 1479.01 Q1568.29 1482.55 1571.9 1482.55 Q1575.54 1482.55 1577.34 1479.01 Q1579.17 1475.44 1579.17 1468.33 Q1579.17 1461.2 1577.34 1457.66 Q1575.54 1454.1 1571.9 1454.1 M1571.9 1450.39 Q1577.71 1450.39 1580.77 1455 Q1583.85 1459.58 1583.85 1468.33 Q1583.85 1477.06 1580.77 1481.67 Q1577.71 1486.25 1571.9 1486.25 Q1566.09 1486.25 1563.01 1481.67 Q1559.96 1477.06 1559.96 1468.33 Q1559.96 1459.58 1563.01 1455 Q1566.09 1450.39 1571.9 1450.39 Z\" fill=\"#000000\" fill-rule=\"evenodd\" fill-opacity=\"1\" /><path clip-path=\"url(#clip260)\" d=\"M2146.39 1481.64 L2154.03 1481.64 L2154.03 1455.28 L2145.72 1456.95 L2145.72 1452.69 L2153.98 1451.02 L2158.66 1451.02 L2158.66 1481.64 L2166.3 1481.64 L2166.3 1485.58 L2146.39 1485.58 L2146.39 1481.64 Z\" fill=\"#000000\" fill-rule=\"evenodd\" fill-opacity=\"1\" /><path clip-path=\"url(#clip260)\" d=\"M2175.79 1451.02 L2194.15 1451.02 L2194.15 1454.96 L2180.07 1454.96 L2180.07 1463.43 Q2181.09 1463.08 2182.11 1462.92 Q2183.13 1462.73 2184.15 1462.73 Q2189.93 1462.73 2193.31 1465.9 Q2196.69 1469.08 2196.69 1474.49 Q2196.69 1480.07 2193.22 1483.17 Q2189.75 1486.25 2183.43 1486.25 Q2181.25 1486.25 2178.98 1485.88 Q2176.74 1485.51 2174.33 1484.77 L2174.33 1480.07 Q2176.41 1481.2 2178.64 1481.76 Q2180.86 1482.32 2183.34 1482.32 Q2187.34 1482.32 2189.68 1480.21 Q2192.02 1478.1 2192.02 1474.49 Q2192.02 1470.88 2189.68 1468.77 Q2187.34 1466.67 2183.34 1466.67 Q2181.46 1466.67 2179.59 1467.08 Q2177.73 1467.5 2175.79 1468.38 L2175.79 1451.02 Z\" fill=\"#000000\" fill-rule=\"evenodd\" fill-opacity=\"1\" /><path clip-path=\"url(#clip260)\" d=\"M1282.38 1528.17 Q1282.38 1529.07 1281.97 1529.3 Q1281.55 1529.49 1280.39 1529.49 L1274.2 1529.49 L1269.31 1548.94 Q1268.92 1550.65 1268.92 1552.1 Q1268.92 1553.71 1269.41 1554.42 Q1269.92 1555.13 1270.98 1555.13 Q1273.08 1555.13 1275.33 1553.23 Q1277.62 1551.33 1279.55 1546.69 Q1279.81 1546.08 1279.94 1545.95 Q1280.1 1545.79 1280.52 1545.79 Q1281.32 1545.79 1281.32 1546.43 Q1281.32 1546.66 1280.87 1547.69 Q1280.45 1548.72 1279.52 1550.23 Q1278.62 1551.75 1277.42 1553.16 Q1276.27 1554.58 1274.49 1555.61 Q1272.72 1556.61 1270.82 1556.61 Q1268.15 1556.61 1266.44 1554.9 Q1264.77 1553.19 1264.77 1550.52 Q1264.77 1549.65 1265.44 1546.88 Q1266.12 1544.08 1269.79 1529.49 L1263.96 1529.49 Q1263.16 1529.49 1262.84 1529.46 Q1262.55 1529.43 1262.32 1529.27 Q1262.13 1529.07 1262.13 1528.69 Q1262.13 1528.07 1262.38 1527.82 Q1262.64 1527.53 1262.96 1527.49 Q1263.32 1527.43 1264.12 1527.43 L1270.31 1527.43 L1272.88 1516.96 Q1273.14 1515.93 1273.79 1515.35 Q1274.46 1514.74 1274.85 1514.68 Q1275.23 1514.58 1275.52 1514.58 Q1276.39 1514.58 1276.91 1515.06 Q1277.42 1515.51 1277.42 1516.35 Q1277.42 1516.8 1274.72 1527.43 L1280.52 1527.43 Q1281.26 1527.43 1281.55 1527.46 Q1281.87 1527.49 1282.13 1527.66 Q1282.38 1527.82 1282.38 1528.17 Z\" fill=\"#000000\" fill-rule=\"evenodd\" fill-opacity=\"1\" /><path clip-path=\"url(#clip260)\" d=\"M1303.13 1572.36 L1303.13 1506.4 L1313.08 1506.4 L1313.08 1507.91 L1307.54 1507.91 L1307.54 1570.84 L1313.08 1570.84 L1313.08 1572.36 L1303.13 1572.36 Z\" fill=\"#000000\" fill-rule=\"evenodd\" fill-opacity=\"1\" /><path clip-path=\"url(#clip260)\" d=\"M1340.02 1532.39 Q1340.02 1534.19 1339.12 1535.16 Q1338.22 1536.09 1336.99 1536.09 Q1335.99 1536.09 1335.45 1535.51 Q1334.93 1534.93 1334.93 1534.16 Q1334.93 1533.03 1335.83 1532.13 Q1336.77 1531.23 1338.12 1531.2 Q1337.67 1530.01 1336.48 1529.3 Q1335.29 1528.56 1334.22 1528.36 Q1333.19 1528.17 1332.16 1528.17 Q1330.13 1528.17 1328.59 1528.81 Q1327.04 1529.46 1326.27 1530.46 Q1325.5 1531.42 1325.14 1532.36 Q1324.79 1533.29 1324.79 1534.1 Q1324.79 1534.81 1324.95 1535.38 Q1325.14 1535.93 1325.59 1536.35 Q1326.04 1536.74 1326.36 1537 Q1326.72 1537.25 1327.49 1537.48 Q1328.26 1537.7 1328.59 1537.8 Q1328.91 1537.86 1329.81 1538.06 Q1331.68 1538.44 1332.52 1538.67 Q1333.35 1538.86 1334.45 1539.41 Q1335.58 1539.96 1336.41 1540.83 Q1338.44 1542.86 1338.44 1545.66 Q1338.44 1546.69 1338.09 1547.95 Q1337.77 1549.2 1336.83 1550.78 Q1335.9 1552.36 1334.48 1553.61 Q1333.06 1554.87 1330.62 1555.74 Q1328.2 1556.61 1325.17 1556.61 Q1320.95 1556.61 1318.35 1554.84 Q1315.74 1553.03 1315.74 1550.2 Q1315.74 1548.14 1316.86 1547.01 Q1317.99 1545.85 1319.44 1545.85 Q1320.54 1545.85 1321.21 1546.46 Q1321.89 1547.04 1321.89 1548.14 Q1321.89 1549.62 1320.7 1550.75 Q1319.5 1551.87 1317.73 1551.65 Q1319.25 1555.13 1325.24 1555.13 Q1327.49 1555.13 1329.23 1554.55 Q1331 1553.94 1331.97 1553.1 Q1332.97 1552.23 1333.61 1551.17 Q1334.26 1550.1 1334.45 1549.3 Q1334.67 1548.49 1334.67 1547.88 Q1334.67 1546.82 1334.26 1546.01 Q1333.84 1545.21 1333.26 1544.76 Q1332.71 1544.27 1331.65 1543.89 Q1330.62 1543.47 1329.88 1543.31 Q1329.13 1543.15 1327.81 1542.89 Q1327.2 1542.76 1326.82 1542.7 Q1326.43 1542.6 1325.62 1542.34 Q1324.85 1542.05 1324.3 1541.76 Q1323.79 1541.47 1323.11 1540.96 Q1322.44 1540.44 1322.02 1539.83 Q1321.6 1539.22 1321.31 1538.32 Q1321.02 1537.41 1321.02 1536.35 Q1321.02 1535.38 1321.31 1534.23 Q1321.63 1533.07 1322.44 1531.71 Q1323.27 1530.36 1324.46 1529.27 Q1325.66 1528.17 1327.65 1527.46 Q1329.68 1526.72 1332.16 1526.72 Q1335.77 1526.72 1337.89 1528.4 Q1340.02 1530.04 1340.02 1532.39 Z\" fill=\"#000000\" fill-rule=\"evenodd\" fill-opacity=\"1\" /><path clip-path=\"url(#clip260)\" d=\"M1344.78 1570.84 L1350.31 1570.84 L1350.31 1507.91 L1344.78 1507.91 L1344.78 1506.4 L1354.73 1506.4 L1354.73 1572.36 L1344.78 1572.36 L1344.78 1570.84 Z\" fill=\"#000000\" fill-rule=\"evenodd\" fill-opacity=\"1\" /><polyline clip-path=\"url(#clip262)\" style=\"stroke:#000000; stroke-linecap:round; stroke-linejoin:round; stroke-width:2; stroke-opacity:0.1; fill:none\" points=\"272.297,1401.25 2352.76,1401.25 \"/>\n",
       "<polyline clip-path=\"url(#clip262)\" style=\"stroke:#000000; stroke-linecap:round; stroke-linejoin:round; stroke-width:2; stroke-opacity:0.1; fill:none\" points=\"272.297,1072.49 2352.76,1072.49 \"/>\n",
       "<polyline clip-path=\"url(#clip262)\" style=\"stroke:#000000; stroke-linecap:round; stroke-linejoin:round; stroke-width:2; stroke-opacity:0.1; fill:none\" points=\"272.297,743.719 2352.76,743.719 \"/>\n",
       "<polyline clip-path=\"url(#clip262)\" style=\"stroke:#000000; stroke-linecap:round; stroke-linejoin:round; stroke-width:2; stroke-opacity:0.1; fill:none\" points=\"272.297,414.952 2352.76,414.952 \"/>\n",
       "<polyline clip-path=\"url(#clip262)\" style=\"stroke:#000000; stroke-linecap:round; stroke-linejoin:round; stroke-width:2; stroke-opacity:0.1; fill:none\" points=\"272.297,86.1857 2352.76,86.1857 \"/>\n",
       "<polyline clip-path=\"url(#clip260)\" style=\"stroke:#000000; stroke-linecap:round; stroke-linejoin:round; stroke-width:4; stroke-opacity:1; fill:none\" points=\"272.297,1423.18 272.297,47.2441 \"/>\n",
       "<polyline clip-path=\"url(#clip260)\" style=\"stroke:#000000; stroke-linecap:round; stroke-linejoin:round; stroke-width:4; stroke-opacity:1; fill:none\" points=\"272.297,1401.25 291.194,1401.25 \"/>\n",
       "<polyline clip-path=\"url(#clip260)\" style=\"stroke:#000000; stroke-linecap:round; stroke-linejoin:round; stroke-width:4; stroke-opacity:1; fill:none\" points=\"272.297,1072.49 291.194,1072.49 \"/>\n",
       "<polyline clip-path=\"url(#clip260)\" style=\"stroke:#000000; stroke-linecap:round; stroke-linejoin:round; stroke-width:4; stroke-opacity:1; fill:none\" points=\"272.297,743.719 291.194,743.719 \"/>\n",
       "<polyline clip-path=\"url(#clip260)\" style=\"stroke:#000000; stroke-linecap:round; stroke-linejoin:round; stroke-width:4; stroke-opacity:1; fill:none\" points=\"272.297,414.952 291.194,414.952 \"/>\n",
       "<polyline clip-path=\"url(#clip260)\" style=\"stroke:#000000; stroke-linecap:round; stroke-linejoin:round; stroke-width:4; stroke-opacity:1; fill:none\" points=\"272.297,86.1857 291.194,86.1857 \"/>\n",
       "<path clip-path=\"url(#clip260)\" d=\"M114.26 1401.7 L143.936 1401.7 L143.936 1405.64 L114.26 1405.64 L114.26 1401.7 Z\" fill=\"#000000\" fill-rule=\"evenodd\" fill-opacity=\"1\" /><path clip-path=\"url(#clip260)\" d=\"M166.876 1388.05 L155.07 1406.49 L166.876 1406.49 L166.876 1388.05 M165.649 1383.97 L171.528 1383.97 L171.528 1406.49 L176.459 1406.49 L176.459 1410.38 L171.528 1410.38 L171.528 1418.53 L166.876 1418.53 L166.876 1410.38 L151.274 1410.38 L151.274 1405.87 L165.649 1383.97 Z\" fill=\"#000000\" fill-rule=\"evenodd\" fill-opacity=\"1\" /><path clip-path=\"url(#clip260)\" d=\"M194.19 1387.05 Q190.579 1387.05 188.75 1390.62 Q186.945 1394.16 186.945 1401.29 Q186.945 1408.39 188.75 1411.96 Q190.579 1415.5 194.19 1415.5 Q197.825 1415.5 199.63 1411.96 Q201.459 1408.39 201.459 1401.29 Q201.459 1394.16 199.63 1390.62 Q197.825 1387.05 194.19 1387.05 M194.19 1383.35 Q200 1383.35 203.056 1387.95 Q206.135 1392.54 206.135 1401.29 Q206.135 1410.01 203.056 1414.62 Q200 1419.2 194.19 1419.2 Q188.38 1419.2 185.301 1414.62 Q182.246 1410.01 182.246 1401.29 Q182.246 1392.54 185.301 1387.95 Q188.38 1383.35 194.19 1383.35 Z\" fill=\"#000000\" fill-rule=\"evenodd\" fill-opacity=\"1\" /><path clip-path=\"url(#clip260)\" d=\"M224.352 1387.05 Q220.741 1387.05 218.912 1390.62 Q217.107 1394.16 217.107 1401.29 Q217.107 1408.39 218.912 1411.96 Q220.741 1415.5 224.352 1415.5 Q227.986 1415.5 229.792 1411.96 Q231.621 1408.39 231.621 1401.29 Q231.621 1394.16 229.792 1390.62 Q227.986 1387.05 224.352 1387.05 M224.352 1383.35 Q230.162 1383.35 233.218 1387.95 Q236.297 1392.54 236.297 1401.29 Q236.297 1410.01 233.218 1414.62 Q230.162 1419.2 224.352 1419.2 Q218.542 1419.2 215.463 1414.62 Q212.408 1410.01 212.408 1401.29 Q212.408 1392.54 215.463 1387.95 Q218.542 1383.35 224.352 1383.35 Z\" fill=\"#000000\" fill-rule=\"evenodd\" fill-opacity=\"1\" /><path clip-path=\"url(#clip260)\" d=\"M114.26 1072.94 L143.936 1072.94 L143.936 1076.87 L114.26 1076.87 L114.26 1072.94 Z\" fill=\"#000000\" fill-rule=\"evenodd\" fill-opacity=\"1\" /><path clip-path=\"url(#clip260)\" d=\"M168.195 1071.13 Q171.552 1071.85 173.427 1074.12 Q175.325 1076.39 175.325 1079.72 Q175.325 1084.83 171.806 1087.64 Q168.288 1090.44 161.806 1090.44 Q159.63 1090.44 157.315 1090 Q155.024 1089.58 152.57 1088.72 L152.57 1084.21 Q154.515 1085.34 156.829 1085.92 Q159.144 1086.5 161.667 1086.5 Q166.065 1086.5 168.357 1084.77 Q170.672 1083.03 170.672 1079.72 Q170.672 1076.66 168.519 1074.95 Q166.39 1073.21 162.57 1073.21 L158.542 1073.21 L158.542 1069.37 L162.755 1069.37 Q166.204 1069.37 168.033 1068.01 Q169.862 1066.62 169.862 1064.02 Q169.862 1061.36 167.964 1059.95 Q166.089 1058.52 162.57 1058.52 Q160.649 1058.52 158.45 1058.93 Q156.251 1059.35 153.612 1060.23 L153.612 1056.06 Q156.274 1055.32 158.589 1054.95 Q160.927 1054.58 162.987 1054.58 Q168.311 1054.58 171.413 1057.01 Q174.514 1059.42 174.514 1063.54 Q174.514 1066.41 172.871 1068.4 Q171.227 1070.37 168.195 1071.13 Z\" fill=\"#000000\" fill-rule=\"evenodd\" fill-opacity=\"1\" /><path clip-path=\"url(#clip260)\" d=\"M194.19 1058.28 Q190.579 1058.28 188.75 1061.85 Q186.945 1065.39 186.945 1072.52 Q186.945 1079.63 188.75 1083.19 Q190.579 1086.73 194.19 1086.73 Q197.825 1086.73 199.63 1083.19 Q201.459 1079.63 201.459 1072.52 Q201.459 1065.39 199.63 1061.85 Q197.825 1058.28 194.19 1058.28 M194.19 1054.58 Q200 1054.58 203.056 1059.19 Q206.135 1063.77 206.135 1072.52 Q206.135 1081.25 203.056 1085.85 Q200 1090.44 194.19 1090.44 Q188.38 1090.44 185.301 1085.85 Q182.246 1081.25 182.246 1072.52 Q182.246 1063.77 185.301 1059.19 Q188.38 1054.58 194.19 1054.58 Z\" fill=\"#000000\" fill-rule=\"evenodd\" fill-opacity=\"1\" /><path clip-path=\"url(#clip260)\" d=\"M224.352 1058.28 Q220.741 1058.28 218.912 1061.85 Q217.107 1065.39 217.107 1072.52 Q217.107 1079.63 218.912 1083.19 Q220.741 1086.73 224.352 1086.73 Q227.986 1086.73 229.792 1083.19 Q231.621 1079.63 231.621 1072.52 Q231.621 1065.39 229.792 1061.85 Q227.986 1058.28 224.352 1058.28 M224.352 1054.58 Q230.162 1054.58 233.218 1059.19 Q236.297 1063.77 236.297 1072.52 Q236.297 1081.25 233.218 1085.85 Q230.162 1090.44 224.352 1090.44 Q218.542 1090.44 215.463 1085.85 Q212.408 1081.25 212.408 1072.52 Q212.408 1063.77 215.463 1059.19 Q218.542 1054.58 224.352 1054.58 Z\" fill=\"#000000\" fill-rule=\"evenodd\" fill-opacity=\"1\" /><path clip-path=\"url(#clip260)\" d=\"M114.26 744.17 L143.936 744.17 L143.936 748.105 L114.26 748.105 L114.26 744.17 Z\" fill=\"#000000\" fill-rule=\"evenodd\" fill-opacity=\"1\" /><path clip-path=\"url(#clip260)\" d=\"M158.056 757.064 L174.376 757.064 L174.376 760.999 L152.431 760.999 L152.431 757.064 Q155.093 754.309 159.677 749.679 Q164.283 745.027 165.464 743.684 Q167.709 741.161 168.589 739.425 Q169.491 737.666 169.491 735.976 Q169.491 733.221 167.547 731.485 Q165.626 729.749 162.524 729.749 Q160.325 729.749 157.871 730.513 Q155.44 731.277 152.663 732.828 L152.663 728.105 Q155.487 726.971 157.94 726.393 Q160.394 725.814 162.431 725.814 Q167.802 725.814 170.996 728.499 Q174.19 731.184 174.19 735.675 Q174.19 737.804 173.38 739.726 Q172.593 741.624 170.487 744.216 Q169.908 744.888 166.806 748.105 Q163.704 751.3 158.056 757.064 Z\" fill=\"#000000\" fill-rule=\"evenodd\" fill-opacity=\"1\" /><path clip-path=\"url(#clip260)\" d=\"M194.19 729.517 Q190.579 729.517 188.75 733.082 Q186.945 736.624 186.945 743.754 Q186.945 750.86 188.75 754.425 Q190.579 757.966 194.19 757.966 Q197.825 757.966 199.63 754.425 Q201.459 750.86 201.459 743.754 Q201.459 736.624 199.63 733.082 Q197.825 729.517 194.19 729.517 M194.19 725.814 Q200 725.814 203.056 730.42 Q206.135 735.004 206.135 743.754 Q206.135 752.48 203.056 757.087 Q200 761.67 194.19 761.67 Q188.38 761.67 185.301 757.087 Q182.246 752.48 182.246 743.754 Q182.246 735.004 185.301 730.42 Q188.38 725.814 194.19 725.814 Z\" fill=\"#000000\" fill-rule=\"evenodd\" fill-opacity=\"1\" /><path clip-path=\"url(#clip260)\" d=\"M224.352 729.517 Q220.741 729.517 218.912 733.082 Q217.107 736.624 217.107 743.754 Q217.107 750.86 218.912 754.425 Q220.741 757.966 224.352 757.966 Q227.986 757.966 229.792 754.425 Q231.621 750.86 231.621 743.754 Q231.621 736.624 229.792 733.082 Q227.986 729.517 224.352 729.517 M224.352 725.814 Q230.162 725.814 233.218 730.42 Q236.297 735.004 236.297 743.754 Q236.297 752.48 233.218 757.087 Q230.162 761.67 224.352 761.67 Q218.542 761.67 215.463 757.087 Q212.408 752.48 212.408 743.754 Q212.408 735.004 215.463 730.42 Q218.542 725.814 224.352 725.814 Z\" fill=\"#000000\" fill-rule=\"evenodd\" fill-opacity=\"1\" /><path clip-path=\"url(#clip260)\" d=\"M114.26 415.404 L143.936 415.404 L143.936 419.339 L114.26 419.339 L114.26 415.404 Z\" fill=\"#000000\" fill-rule=\"evenodd\" fill-opacity=\"1\" /><path clip-path=\"url(#clip260)\" d=\"M154.839 428.297 L162.477 428.297 L162.477 401.931 L154.167 403.598 L154.167 399.339 L162.431 397.672 L167.107 397.672 L167.107 428.297 L174.746 428.297 L174.746 432.232 L154.839 432.232 L154.839 428.297 Z\" fill=\"#000000\" fill-rule=\"evenodd\" fill-opacity=\"1\" /><path clip-path=\"url(#clip260)\" d=\"M194.19 400.751 Q190.579 400.751 188.75 404.316 Q186.945 407.857 186.945 414.987 Q186.945 422.093 188.75 425.658 Q190.579 429.2 194.19 429.2 Q197.825 429.2 199.63 425.658 Q201.459 422.093 201.459 414.987 Q201.459 407.857 199.63 404.316 Q197.825 400.751 194.19 400.751 M194.19 397.047 Q200 397.047 203.056 401.654 Q206.135 406.237 206.135 414.987 Q206.135 423.714 203.056 428.32 Q200 432.904 194.19 432.904 Q188.38 432.904 185.301 428.32 Q182.246 423.714 182.246 414.987 Q182.246 406.237 185.301 401.654 Q188.38 397.047 194.19 397.047 Z\" fill=\"#000000\" fill-rule=\"evenodd\" fill-opacity=\"1\" /><path clip-path=\"url(#clip260)\" d=\"M224.352 400.751 Q220.741 400.751 218.912 404.316 Q217.107 407.857 217.107 414.987 Q217.107 422.093 218.912 425.658 Q220.741 429.2 224.352 429.2 Q227.986 429.2 229.792 425.658 Q231.621 422.093 231.621 414.987 Q231.621 407.857 229.792 404.316 Q227.986 400.751 224.352 400.751 M224.352 397.047 Q230.162 397.047 233.218 401.654 Q236.297 406.237 236.297 414.987 Q236.297 423.714 233.218 428.32 Q230.162 432.904 224.352 432.904 Q218.542 432.904 215.463 428.32 Q212.408 423.714 212.408 414.987 Q212.408 406.237 215.463 401.654 Q218.542 397.047 224.352 397.047 Z\" fill=\"#000000\" fill-rule=\"evenodd\" fill-opacity=\"1\" /><path clip-path=\"url(#clip260)\" d=\"M224.352 71.9844 Q220.741 71.9844 218.912 75.5492 Q217.107 79.0908 217.107 86.2204 Q217.107 93.3268 218.912 96.8916 Q220.741 100.433 224.352 100.433 Q227.986 100.433 229.792 96.8916 Q231.621 93.3268 231.621 86.2204 Q231.621 79.0908 229.792 75.5492 Q227.986 71.9844 224.352 71.9844 M224.352 68.2807 Q230.162 68.2807 233.218 72.8871 Q236.297 77.4704 236.297 86.2204 Q236.297 94.9472 233.218 99.5537 Q230.162 104.137 224.352 104.137 Q218.542 104.137 215.463 99.5537 Q212.408 94.9472 212.408 86.2204 Q212.408 77.4704 215.463 72.8871 Q218.542 68.2807 224.352 68.2807 Z\" fill=\"#000000\" fill-rule=\"evenodd\" fill-opacity=\"1\" /><path clip-path=\"url(#clip260)\" d=\"M37.5819 813.117 Q37.8073 813.117 38.7735 813.665 Q39.7075 814.18 42.0585 816.08 Q44.4096 817.98 47.147 820.814 Q48.2098 821.877 49.6913 823.488 Q51.1728 825.098 52.139 826.193 L53.1051 827.288 Q56.6478 831.475 60.6091 835.146 Q60.5125 834.888 60.4803 834.438 Q60.4159 833.987 60.4159 833.665 L60.4159 833.343 Q60.4159 831.668 61.5431 828.737 Q62.3804 826.161 62.3804 824.84 Q62.3804 823.552 61.9295 822.135 Q61.4787 820.718 60.1582 819.172 Q58.8378 817.626 56.841 816.918 Q56.519 816.789 56.4223 816.724 Q56.2935 816.66 56.1647 816.467 Q56.0037 816.273 56.0037 816.016 Q56.0037 815.662 56.1969 815.436 Q56.3901 815.211 56.6478 815.211 Q57.2275 815.211 58.3869 815.662 Q59.5463 816.08 60.9956 817.014 Q62.4448 817.916 63.7653 819.108 Q65.0535 820.267 65.9553 822.006 Q66.8248 823.745 66.8248 825.581 Q66.8248 826.901 66.1807 827.868 Q65.5688 828.834 64.3772 829.8 Q62.8635 831.12 62.3804 831.829 Q61.8651 832.537 61.8651 833.632 Q61.8651 836.563 65.9553 839.236 Q66.535 839.526 66.6638 839.719 Q66.8248 839.88 66.8248 840.267 Q66.7926 841.072 66.1485 841.072 Q65.8909 841.072 64.7637 840.363 Q63.6042 839.623 61.5753 837.98 Q59.5463 836.306 57.5173 834.277 L51.9779 828.351 Q46.4385 821.781 43.3146 819.172 Q43.3146 820.267 43.2823 820.75 Q43.2501 821.201 43.0569 822.103 Q42.8315 823.004 42.3484 824.261 Q41.35 827.191 41.35 828.415 Q41.35 828.737 41.3822 829.091 Q41.4144 829.446 41.5754 830.251 Q41.7365 831.024 42.0585 831.668 Q42.3484 832.312 42.9925 832.988 Q43.6044 833.665 44.4418 834.019 Q44.6994 834.116 44.8282 834.18 Q44.957 834.244 45.0859 834.438 Q45.1825 834.599 45.1825 834.856 Q45.1825 835.243 44.957 835.468 Q44.7316 835.661 44.4418 835.661 Q43.8621 835.661 42.6704 835.082 Q41.4788 834.502 40.1906 833.536 Q38.8701 832.57 37.904 830.992 Q36.9378 829.413 36.9378 827.674 Q36.9378 826.644 37.3887 825.774 Q37.8396 824.872 38.3226 824.422 Q38.7735 823.938 39.7719 823.133 Q40.5448 822.457 40.8669 822.135 Q41.189 821.813 41.5432 821.169 Q41.8653 820.492 41.8653 819.752 Q41.8653 818.528 40.9313 817.401 Q39.9651 816.273 37.6463 814.824 Q36.9378 814.438 36.9378 813.826 Q36.9378 813.117 37.5819 813.117 Z\" fill=\"#000000\" fill-rule=\"evenodd\" fill-opacity=\"1\" /><path clip-path=\"url(#clip260)\" d=\"M49.5947 804.369 Q38.4515 804.369 29.466 800.214 Q25.6979 798.443 22.5418 795.963 Q19.3856 793.483 18.0007 791.841 Q16.6159 790.198 16.6159 789.747 Q16.6159 789.103 17.26 789.071 Q17.5821 789.071 18.3872 789.94 Q29.2084 800.568 49.5947 800.536 Q70.0454 800.536 80.4479 790.198 Q81.5751 789.071 81.9294 789.071 Q82.5735 789.071 82.5735 789.747 Q82.5735 790.198 81.2531 791.776 Q79.9326 793.354 76.9053 795.802 Q73.8779 798.249 70.1742 800.021 Q61.1888 804.369 49.5947 804.369 Z\" fill=\"#000000\" fill-rule=\"evenodd\" fill-opacity=\"1\" /><path clip-path=\"url(#clip260)\" d=\"M38.3871 763.8 Q39.2888 763.8 39.5143 764.218 Q39.7075 764.637 39.7075 765.796 L39.7075 771.98 L59.1598 776.875 Q60.8667 777.262 62.316 777.262 Q63.9263 777.262 64.6348 776.779 Q65.3434 776.263 65.3434 775.201 Q65.3434 773.107 63.4432 770.853 Q61.5431 768.566 56.9054 766.634 Q56.2935 766.376 56.1647 766.247 Q56.0037 766.086 56.0037 765.668 Q56.0037 764.863 56.6478 764.863 Q56.8732 764.863 57.9038 765.313 Q58.9344 765.732 60.4481 766.666 Q61.9617 767.568 63.3788 768.759 Q64.7959 769.919 65.8264 771.69 Q66.8248 773.461 66.8248 775.362 Q66.8248 778.035 65.1179 779.742 Q63.411 781.416 60.7379 781.416 Q59.8684 781.416 57.0987 780.74 Q54.2967 780.064 39.7075 776.392 L39.7075 782.221 Q39.7075 783.027 39.6753 783.349 Q39.6431 783.639 39.4821 783.864 Q39.2888 784.057 38.9023 784.057 Q38.2904 784.057 38.0328 783.8 Q37.7429 783.542 37.7107 783.22 Q37.6463 782.866 37.6463 782.06 L37.6463 775.877 L27.1794 773.3 Q26.1488 773.043 25.5691 772.399 Q24.9572 771.722 24.8928 771.336 Q24.7962 770.949 24.7962 770.66 Q24.7962 769.79 25.2793 769.275 Q25.7302 768.759 26.5675 768.759 Q27.0184 768.759 37.6463 771.465 L37.6463 765.668 Q37.6463 764.927 37.6785 764.637 Q37.7107 764.315 37.8718 764.057 Q38.0328 763.8 38.3871 763.8 Z\" fill=\"#000000\" fill-rule=\"evenodd\" fill-opacity=\"1\" /><path clip-path=\"url(#clip260)\" d=\"M81.9294 758.636 Q81.6073 758.636 80.8022 757.799 Q69.981 747.171 49.5947 747.171 Q29.144 747.171 18.8059 757.38 Q17.6143 758.636 17.26 758.636 Q16.6159 758.636 16.6159 757.992 Q16.6159 757.541 17.9363 755.963 Q19.2568 754.353 22.2841 751.937 Q25.3115 749.49 29.0151 747.686 Q38.0006 743.338 49.5947 743.338 Q60.7379 743.338 69.7234 747.493 Q73.4914 749.264 76.6476 751.744 Q79.8038 754.224 81.1886 755.867 Q82.5735 757.509 82.5735 757.992 Q82.5735 758.636 81.9294 758.636 Z\" fill=\"#000000\" fill-rule=\"evenodd\" fill-opacity=\"1\" /><path clip-path=\"url(#clip260)\" d=\"M82.5735 715.878 L16.6159 715.878 L16.6159 705.926 L18.1296 705.926 L18.1296 711.466 L81.0598 711.466 L81.0598 705.926 L82.5735 705.926 L82.5735 715.878 Z\" fill=\"#000000\" fill-rule=\"evenodd\" fill-opacity=\"1\" /><path clip-path=\"url(#clip260)\" d=\"M56.6478 650.55 Q56.9054 650.55 57.9038 650.84 Q58.9022 651.13 60.4481 651.838 Q61.994 652.515 63.411 653.481 Q64.7959 654.415 65.8264 655.961 Q66.8248 657.475 66.8248 659.214 Q66.8248 661.532 65.2789 663.078 Q63.7331 664.624 61.4142 664.624 Q60.1582 664.624 57.775 663.755 Q46.8894 659.665 42.9925 659.665 Q38.3871 659.665 38.3871 663.239 Q38.3871 665.268 39.2244 667.104 Q40.0618 668.94 41.2212 670.131 Q42.3806 671.323 43.701 672.257 Q45.0215 673.191 45.891 673.61 Q46.7606 673.996 47.147 674.093 L63.0567 678.054 Q64.4094 678.376 65.0535 678.602 Q65.6976 678.827 66.2451 679.439 Q66.8248 680.051 66.8248 681.017 Q66.8248 681.822 66.3417 682.402 Q65.8587 682.949 65.0213 682.949 Q64.8925 682.949 64.2162 682.788 Q63.5398 682.627 62.6059 682.402 Q61.6719 682.176 61.1244 682.08 Q56.7444 680.92 56.1325 680.759 L48.4675 678.924 Q44.6672 677.925 42.9925 677.925 Q38.3871 677.925 38.3871 681.5 Q38.3871 683.271 39.0634 684.946 Q39.7075 686.589 40.6093 687.716 Q41.511 688.843 42.7671 689.874 Q43.9909 690.872 44.8282 691.387 Q45.6334 691.87 46.4385 692.257 L49.7235 693.094 Q50.6253 693.287 54.1357 694.221 L60.0938 695.671 Q64.5382 696.701 64.9569 696.927 Q65.8587 697.249 66.3417 697.957 Q66.8248 698.666 66.8248 699.374 Q66.8248 700.179 66.3417 700.727 Q65.8587 701.274 65.0213 701.274 Q64.8925 701.274 64.4094 701.178 Q63.9263 701.081 63.25 700.92 Q62.5737 700.759 62.1872 700.695 L46.9538 696.862 Q44.1841 696.154 43.3146 695.993 Q42.4128 695.799 41.4144 695.799 Q38.3871 695.799 38.3871 697.861 Q38.3871 699.535 40.3838 700.63 Q42.3806 701.725 46.2453 702.659 Q47.3081 702.949 47.5335 703.142 Q47.759 703.303 47.759 703.787 Q47.7268 704.592 47.0826 704.592 Q46.9216 704.592 45.891 704.334 Q44.8604 704.076 43.3146 703.593 Q41.7365 703.078 40.7059 702.531 Q40.0296 702.208 39.5787 701.919 Q39.1278 701.629 38.4193 701.049 Q37.7107 700.469 37.3243 699.6 Q36.9378 698.73 36.9378 697.667 Q36.9378 695.316 38.4515 693.577 Q39.9651 691.806 42.6704 691.581 Q36.9378 687.297 36.9378 681.307 Q36.9378 677.925 38.6447 675.896 Q40.2872 673.996 43.3146 673.771 Q36.9378 669.326 36.9378 663.014 Q36.9378 659.375 38.8379 657.41 Q40.7059 655.446 43.9909 655.446 Q45.6978 655.446 48.9506 656.315 Q52.1712 657.185 53.7815 657.764 Q55.3917 658.344 58.4835 659.471 Q61.4465 660.663 63.1856 660.663 Q64.3128 660.663 64.8281 660.276 Q65.3434 659.89 65.3434 659.053 Q65.3434 657.764 64.6026 656.637 Q63.8297 655.51 62.5737 654.705 Q61.2854 653.867 59.9972 653.32 Q58.6767 652.772 57.1953 652.354 Q56.3901 652.096 56.1969 651.967 Q56.0037 651.806 56.0037 651.355 Q56.0037 650.55 56.6478 650.55 Z\" fill=\"#000000\" fill-rule=\"evenodd\" fill-opacity=\"1\" /><path clip-path=\"url(#clip260)\" d=\"M81.0598 647.502 L81.0598 641.963 L18.1296 641.963 L18.1296 647.502 L16.6159 647.502 L16.6159 637.551 L82.5735 637.551 L82.5735 647.502 L81.0598 647.502 Z\" fill=\"#000000\" fill-rule=\"evenodd\" fill-opacity=\"1\" /><circle clip-path=\"url(#clip262)\" cx=\"331.177\" cy=\"86.1857\" r=\"14.4\" fill=\"#009af9\" fill-rule=\"evenodd\" fill-opacity=\"1\" stroke=\"#000000\" stroke-opacity=\"1\" stroke-width=\"3.2\"/>\n",
       "<circle clip-path=\"url(#clip262)\" cx=\"453.846\" cy=\"100.691\" r=\"14.4\" fill=\"#009af9\" fill-rule=\"evenodd\" fill-opacity=\"1\" stroke=\"#000000\" stroke-opacity=\"1\" stroke-width=\"3.2\"/>\n",
       "<circle clip-path=\"url(#clip262)\" cx=\"576.515\" cy=\"138.693\" r=\"14.4\" fill=\"#009af9\" fill-rule=\"evenodd\" fill-opacity=\"1\" stroke=\"#000000\" stroke-opacity=\"1\" stroke-width=\"3.2\"/>\n",
       "<circle clip-path=\"url(#clip262)\" cx=\"699.183\" cy=\"193.659\" r=\"14.4\" fill=\"#009af9\" fill-rule=\"evenodd\" fill-opacity=\"1\" stroke=\"#000000\" stroke-opacity=\"1\" stroke-width=\"3.2\"/>\n",
       "<circle clip-path=\"url(#clip262)\" cx=\"821.852\" cy=\"260.872\" r=\"14.4\" fill=\"#009af9\" fill-rule=\"evenodd\" fill-opacity=\"1\" stroke=\"#000000\" stroke-opacity=\"1\" stroke-width=\"3.2\"/>\n",
       "<circle clip-path=\"url(#clip262)\" cx=\"944.52\" cy=\"337.035\" r=\"14.4\" fill=\"#009af9\" fill-rule=\"evenodd\" fill-opacity=\"1\" stroke=\"#000000\" stroke-opacity=\"1\" stroke-width=\"3.2\"/>\n",
       "<circle clip-path=\"url(#clip262)\" cx=\"1067.19\" cy=\"419.545\" r=\"14.4\" fill=\"#009af9\" fill-rule=\"evenodd\" fill-opacity=\"1\" stroke=\"#000000\" stroke-opacity=\"1\" stroke-width=\"3.2\"/>\n",
       "<circle clip-path=\"url(#clip262)\" cx=\"1189.86\" cy=\"506.724\" r=\"14.4\" fill=\"#009af9\" fill-rule=\"evenodd\" fill-opacity=\"1\" stroke=\"#000000\" stroke-opacity=\"1\" stroke-width=\"3.2\"/>\n",
       "<circle clip-path=\"url(#clip262)\" cx=\"1312.53\" cy=\"597.23\" r=\"14.4\" fill=\"#009af9\" fill-rule=\"evenodd\" fill-opacity=\"1\" stroke=\"#000000\" stroke-opacity=\"1\" stroke-width=\"3.2\"/>\n",
       "<circle clip-path=\"url(#clip262)\" cx=\"1435.19\" cy=\"690.159\" r=\"14.4\" fill=\"#009af9\" fill-rule=\"evenodd\" fill-opacity=\"1\" stroke=\"#000000\" stroke-opacity=\"1\" stroke-width=\"3.2\"/>\n",
       "<circle clip-path=\"url(#clip262)\" cx=\"1557.86\" cy=\"784.788\" r=\"14.4\" fill=\"#009af9\" fill-rule=\"evenodd\" fill-opacity=\"1\" stroke=\"#000000\" stroke-opacity=\"1\" stroke-width=\"3.2\"/>\n",
       "<circle clip-path=\"url(#clip262)\" cx=\"1680.53\" cy=\"880.867\" r=\"14.4\" fill=\"#009af9\" fill-rule=\"evenodd\" fill-opacity=\"1\" stroke=\"#000000\" stroke-opacity=\"1\" stroke-width=\"3.2\"/>\n",
       "<circle clip-path=\"url(#clip262)\" cx=\"1803.2\" cy=\"977.357\" r=\"14.4\" fill=\"#009af9\" fill-rule=\"evenodd\" fill-opacity=\"1\" stroke=\"#000000\" stroke-opacity=\"1\" stroke-width=\"3.2\"/>\n",
       "<circle clip-path=\"url(#clip262)\" cx=\"1925.87\" cy=\"1076.64\" r=\"14.4\" fill=\"#009af9\" fill-rule=\"evenodd\" fill-opacity=\"1\" stroke=\"#000000\" stroke-opacity=\"1\" stroke-width=\"3.2\"/>\n",
       "<circle clip-path=\"url(#clip262)\" cx=\"2048.54\" cy=\"1176.4\" r=\"14.4\" fill=\"#009af9\" fill-rule=\"evenodd\" fill-opacity=\"1\" stroke=\"#000000\" stroke-opacity=\"1\" stroke-width=\"3.2\"/>\n",
       "<circle clip-path=\"url(#clip262)\" cx=\"2171.21\" cy=\"1265.58\" r=\"14.4\" fill=\"#009af9\" fill-rule=\"evenodd\" fill-opacity=\"1\" stroke=\"#000000\" stroke-opacity=\"1\" stroke-width=\"3.2\"/>\n",
       "<circle clip-path=\"url(#clip262)\" cx=\"2293.87\" cy=\"1384.24\" r=\"14.4\" fill=\"#009af9\" fill-rule=\"evenodd\" fill-opacity=\"1\" stroke=\"#000000\" stroke-opacity=\"1\" stroke-width=\"3.2\"/>\n",
       "<path clip-path=\"url(#clip260)\" d=\"M1993.46 196.789 L2283.41 196.789 L2283.41 93.1086 L1993.46 93.1086  Z\" fill=\"#ffffff\" fill-rule=\"evenodd\" fill-opacity=\"1\"/>\n",
       "<polyline clip-path=\"url(#clip260)\" style=\"stroke:#000000; stroke-linecap:round; stroke-linejoin:round; stroke-width:4; stroke-opacity:1; fill:none\" points=\"1993.46,196.789 2283.41,196.789 2283.41,93.1086 1993.46,93.1086 1993.46,196.789 \"/>\n",
       "<circle clip-path=\"url(#clip260)\" cx=\"2085.93\" cy=\"144.949\" r=\"23.04\" fill=\"#009af9\" fill-rule=\"evenodd\" fill-opacity=\"1\" stroke=\"#000000\" stroke-opacity=\"1\" stroke-width=\"5.12\"/>\n",
       "<path clip-path=\"url(#clip260)\" d=\"M2202.28 138.788 Q2202.28 140.1 2201.46 140.85 Q2200.64 141.576 2199.71 141.576 Q2198.82 141.576 2198.35 141.06 Q2197.88 140.545 2197.88 139.889 Q2197.88 138.999 2198.54 138.226 Q2199.19 137.453 2200.18 137.289 Q2199.22 136.68 2197.79 136.68 Q2196.85 136.68 2196.03 137.172 Q2195.23 137.664 2194.74 138.296 Q2194.27 138.929 2193.85 139.842 Q2193.45 140.732 2193.29 141.271 Q2193.15 141.786 2193.03 142.349 L2191.39 148.907 Q2190.6 152.022 2190.6 153.123 Q2190.6 154.481 2191.25 155.395 Q2191.91 156.285 2193.22 156.285 Q2193.73 156.285 2194.32 156.144 Q2194.91 155.98 2195.66 155.559 Q2196.43 155.114 2197.11 154.458 Q2197.81 153.779 2198.49 152.631 Q2199.17 151.483 2199.61 150.008 Q2199.75 149.492 2200.22 149.492 Q2200.81 149.492 2200.81 149.961 Q2200.81 150.359 2200.48 151.202 Q2200.18 152.022 2199.5 153.099 Q2198.84 154.153 2197.97 155.114 Q2197.11 156.051 2195.82 156.707 Q2194.53 157.362 2193.13 157.362 Q2191.11 157.362 2189.78 156.285 Q2188.44 155.207 2187.95 153.708 Q2187.83 153.919 2187.67 154.2 Q2187.5 154.481 2187.01 155.114 Q2186.54 155.723 2186 156.191 Q2185.47 156.636 2184.62 156.988 Q2183.8 157.362 2182.91 157.362 Q2181.79 157.362 2180.78 157.034 Q2179.8 156.707 2179.1 155.957 Q2178.39 155.207 2178.39 154.177 Q2178.39 153.029 2179.17 152.233 Q2179.96 151.413 2181.04 151.413 Q2181.72 151.413 2182.26 151.811 Q2182.82 152.209 2182.82 153.076 Q2182.82 154.036 2182.16 154.762 Q2181.51 155.489 2180.57 155.676 Q2181.53 156.285 2182.96 156.285 Q2184.51 156.285 2185.72 154.926 Q2186.94 153.568 2187.53 151.296 Q2188.98 145.838 2189.54 143.403 Q2190.1 140.943 2190.1 139.889 Q2190.1 138.905 2189.85 138.226 Q2189.59 137.547 2189.14 137.242 Q2188.72 136.915 2188.32 136.797 Q2187.95 136.68 2187.53 136.68 Q2186.82 136.68 2186.03 136.961 Q2185.26 137.242 2184.32 137.898 Q2183.41 138.531 2182.54 139.842 Q2181.67 141.154 2181.09 142.958 Q2180.97 143.496 2180.45 143.496 Q2179.89 143.473 2179.89 143.004 Q2179.89 142.606 2180.2 141.786 Q2180.52 140.943 2181.18 139.889 Q2181.86 138.835 2182.73 137.898 Q2183.62 136.938 2184.9 136.282 Q2186.22 135.626 2187.62 135.626 Q2188.25 135.626 2188.86 135.767 Q2189.49 135.884 2190.24 136.235 Q2191.02 136.587 2191.7 137.36 Q2192.38 138.133 2192.8 139.257 Q2193.08 138.718 2193.45 138.203 Q2193.85 137.687 2194.46 137.055 Q2195.09 136.399 2195.96 136.024 Q2196.85 135.626 2197.83 135.626 Q2198.79 135.626 2199.73 135.884 Q2200.67 136.118 2201.46 136.891 Q2202.28 137.641 2202.28 138.788 Z\" fill=\"#000000\" fill-rule=\"evenodd\" fill-opacity=\"1\" /><path clip-path=\"url(#clip260)\" d=\"M2208.62 144.831 Q2208.62 136.727 2211.65 130.192 Q2212.93 127.452 2214.74 125.156 Q2216.54 122.861 2217.74 121.854 Q2218.93 120.847 2219.26 120.847 Q2219.73 120.847 2219.75 121.315 Q2219.75 121.549 2219.12 122.135 Q2211.39 130.005 2211.41 144.831 Q2211.41 159.705 2218.93 167.27 Q2219.75 168.09 2219.75 168.347 Q2219.75 168.816 2219.26 168.816 Q2218.93 168.816 2217.78 167.856 Q2216.63 166.895 2214.85 164.694 Q2213.07 162.492 2211.79 159.798 Q2208.62 153.263 2208.62 144.831 Z\" fill=\"#000000\" fill-rule=\"evenodd\" fill-opacity=\"1\" /><path clip-path=\"url(#clip260)\" d=\"M2238.12 136.68 Q2238.12 137.336 2237.82 137.5 Q2237.52 137.641 2236.67 137.641 L2232.18 137.641 L2228.61 151.788 Q2228.33 153.029 2228.33 154.083 Q2228.33 155.254 2228.69 155.77 Q2229.06 156.285 2229.83 156.285 Q2231.36 156.285 2232.99 154.903 Q2234.66 153.521 2236.06 150.148 Q2236.25 149.703 2236.34 149.61 Q2236.46 149.492 2236.77 149.492 Q2237.35 149.492 2237.35 149.961 Q2237.35 150.125 2237.02 150.874 Q2236.72 151.624 2236.04 152.725 Q2235.38 153.826 2234.52 154.856 Q2233.67 155.887 2232.39 156.636 Q2231.1 157.362 2229.72 157.362 Q2227.77 157.362 2226.53 156.121 Q2225.31 154.88 2225.31 152.935 Q2225.31 152.303 2225.8 150.289 Q2226.3 148.251 2228.97 137.641 L2224.73 137.641 Q2224.14 137.641 2223.91 137.617 Q2223.7 137.594 2223.53 137.477 Q2223.39 137.336 2223.39 137.055 Q2223.39 136.61 2223.58 136.423 Q2223.77 136.212 2224 136.188 Q2224.26 136.142 2224.84 136.142 L2229.34 136.142 L2231.21 128.529 Q2231.4 127.78 2231.87 127.358 Q2232.36 126.913 2232.64 126.866 Q2232.92 126.796 2233.14 126.796 Q2233.77 126.796 2234.14 127.147 Q2234.52 127.475 2234.52 128.084 Q2234.52 128.412 2232.55 136.142 L2236.77 136.142 Q2237.3 136.142 2237.52 136.165 Q2237.75 136.188 2237.94 136.306 Q2238.12 136.423 2238.12 136.68 Z\" fill=\"#000000\" fill-rule=\"evenodd\" fill-opacity=\"1\" /><path clip-path=\"url(#clip260)\" d=\"M2241.88 168.347 Q2241.88 168.113 2242.48 167.528 Q2250.21 159.658 2250.21 144.831 Q2250.21 129.958 2242.79 122.439 Q2241.88 121.573 2241.88 121.315 Q2241.88 120.847 2242.34 120.847 Q2242.67 120.847 2243.82 121.807 Q2244.99 122.767 2246.75 124.969 Q2248.53 127.171 2249.84 129.864 Q2253 136.399 2253 144.831 Q2253 152.935 2249.98 159.47 Q2248.69 162.211 2246.89 164.506 Q2245.08 166.802 2243.89 167.809 Q2242.7 168.816 2242.34 168.816 Q2241.88 168.816 2241.88 168.347 Z\" fill=\"#000000\" fill-rule=\"evenodd\" fill-opacity=\"1\" /></svg>\n"
      ]
     },
     "execution_count": 2,
     "metadata": {},
     "output_type": "execute_result"
    }
   ],
   "source": [
    "data = CSV.read(\"datos.dat\", DataFrame, delim=\" \", ignorerepeated=true)\n",
    "\n",
    "t = data[!,1]\n",
    "z = data[!,2]\n",
    "\n",
    "scatter(t,z, label=L\"x(t)\")\n",
    "plot!(xlabel=L\"t \\ [s]\", ylabel=L\"z(t) \\  [m]\")\n"
   ]
  },
  {
   "cell_type": "markdown",
   "metadata": {},
   "source": [
    "La gota cae, se acelera por la gravedad y se frena por la fuerza de roce por el aire alcanzando una velocidad terminal."
   ]
  },
  {
   "cell_type": "markdown",
   "metadata": {},
   "source": [
    "2. Calcule **numéricamente** la velocidad de la gota para cada uno de los tiempos de medición. Use el método centrado de cinco puntos en los puntos centrales, el método centrado de tres puntos en el segundo y el anteúltimo, y el de dos puntos en el primer y en el último punto."
   ]
  },
  {
   "cell_type": "code",
   "execution_count": 3,
   "metadata": {},
   "outputs": [
    {
     "data": {
      "text/plain": [
       "D (generic function with 1 method)"
      ]
     },
     "execution_count": 3,
     "metadata": {},
     "output_type": "execute_result"
    }
   ],
   "source": [
    "function D(t,z)\n",
    "    \n",
    "    v = zeros(length(t))\n",
    "    h = t[2] - t[1]\n",
    "\n",
    "    #derivada para los puntos centrales\n",
    "    for j in 3:(length(t)-2)\n",
    "        v[j] = (-z[j+2] + 8*z[j+1] - 8*z[j-1] + z[j-2])/(12*h)\n",
    "    end\n",
    "    \n",
    "    #derivada para el segundo y anteultimo \n",
    "    v[2]     = (z[3] - z[1])/(2*h)\n",
    "    v[end-1] = (z[end] - z[end-2])/(2*h)\n",
    "    \n",
    "    #derivada para el primero y ultimo\n",
    "    v[1]   = (z[2] - z[1])/h\n",
    "    v[end] = (z[end] - z[end-1])/h\n",
    "    \n",
    "    return v\n",
    "end"
   ]
  },
  {
   "cell_type": "code",
   "execution_count": 4,
   "metadata": {},
   "outputs": [
    {
     "data": {
      "text/plain": [
       "17-element Vector{Float64}:\n",
       "  -4.412\n",
       "  -7.9855\n",
       " -14.424166666666665\n",
       " -18.784666666666666\n",
       " -21.9545\n",
       " -24.240000000000006\n",
       " -25.883583333333338\n",
       " -27.079916666666666\n",
       " -27.938750000000002\n",
       " -28.54916666666664\n",
       " -29.036166666666663\n",
       " -29.252500000000012\n",
       " -29.77166666666663\n",
       " -30.610583333333324\n",
       " -28.000000000000032\n",
       " -31.608499999999992\n",
       " -36.091999999999985"
      ]
     },
     "execution_count": 4,
     "metadata": {},
     "output_type": "execute_result"
    }
   ],
   "source": [
    "v = D(t,z)"
   ]
  },
  {
   "cell_type": "markdown",
   "metadata": {},
   "source": [
    "3. Grafique la aproximación de la velocidad $v_i$ calculada, en función del tiempo $t_i$. Describa cualitativamente el comportamiento temporal de la velocidad de la gota.\n"
   ]
  },
  {
   "cell_type": "code",
   "execution_count": 5,
   "metadata": {},
   "outputs": [
    {
     "data": {
      "image/svg+xml": [
       "<?xml version=\"1.0\" encoding=\"utf-8\"?>\n",
       "<svg xmlns=\"http://www.w3.org/2000/svg\" xmlns:xlink=\"http://www.w3.org/1999/xlink\" width=\"600\" height=\"400\" viewBox=\"0 0 2400 1600\">\n",
       "<defs>\n",
       "  <clipPath id=\"clip300\">\n",
       "    <rect x=\"0\" y=\"0\" width=\"2400\" height=\"1600\"/>\n",
       "  </clipPath>\n",
       "</defs>\n",
       "<path clip-path=\"url(#clip300)\" d=\"M0 1600 L2400 1600 L2400 0 L0 0  Z\" fill=\"#ffffff\" fill-rule=\"evenodd\" fill-opacity=\"1\"/>\n",
       "<defs>\n",
       "  <clipPath id=\"clip301\">\n",
       "    <rect x=\"480\" y=\"0\" width=\"1681\" height=\"1600\"/>\n",
       "  </clipPath>\n",
       "</defs>\n",
       "<defs>\n",
       "  <clipPath id=\"clip302\">\n",
       "    <rect x=\"272\" y=\"47\" width=\"2081\" height=\"1377\"/>\n",
       "  </clipPath>\n",
       "</defs>\n",
       "<path clip-path=\"url(#clip300)\" d=\"M242.135 1423.18 L2352.76 1423.18 L2352.76 47.2441 L242.135 47.2441  Z\" fill=\"#ffffff\" fill-rule=\"evenodd\" fill-opacity=\"1\"/>\n",
       "<defs>\n",
       "  <clipPath id=\"clip303\">\n",
       "    <rect x=\"242\" y=\"47\" width=\"2112\" height=\"1377\"/>\n",
       "  </clipPath>\n",
       "</defs>\n",
       "<polyline clip-path=\"url(#clip303)\" style=\"stroke:#000000; stroke-linecap:round; stroke-linejoin:round; stroke-width:2; stroke-opacity:0.1; fill:none\" points=\"301.869,1423.18 301.869,47.2441 \"/>\n",
       "<polyline clip-path=\"url(#clip303)\" style=\"stroke:#000000; stroke-linecap:round; stroke-linejoin:round; stroke-width:2; stroke-opacity:0.1; fill:none\" points=\"924.104,1423.18 924.104,47.2441 \"/>\n",
       "<polyline clip-path=\"url(#clip303)\" style=\"stroke:#000000; stroke-linecap:round; stroke-linejoin:round; stroke-width:2; stroke-opacity:0.1; fill:none\" points=\"1546.34,1423.18 1546.34,47.2441 \"/>\n",
       "<polyline clip-path=\"url(#clip303)\" style=\"stroke:#000000; stroke-linecap:round; stroke-linejoin:round; stroke-width:2; stroke-opacity:0.1; fill:none\" points=\"2168.57,1423.18 2168.57,47.2441 \"/>\n",
       "<polyline clip-path=\"url(#clip300)\" style=\"stroke:#000000; stroke-linecap:round; stroke-linejoin:round; stroke-width:4; stroke-opacity:1; fill:none\" points=\"242.135,1423.18 2352.76,1423.18 \"/>\n",
       "<polyline clip-path=\"url(#clip300)\" style=\"stroke:#000000; stroke-linecap:round; stroke-linejoin:round; stroke-width:4; stroke-opacity:1; fill:none\" points=\"301.869,1423.18 301.869,1404.28 \"/>\n",
       "<polyline clip-path=\"url(#clip300)\" style=\"stroke:#000000; stroke-linecap:round; stroke-linejoin:round; stroke-width:4; stroke-opacity:1; fill:none\" points=\"924.104,1423.18 924.104,1404.28 \"/>\n",
       "<polyline clip-path=\"url(#clip300)\" style=\"stroke:#000000; stroke-linecap:round; stroke-linejoin:round; stroke-width:4; stroke-opacity:1; fill:none\" points=\"1546.34,1423.18 1546.34,1404.28 \"/>\n",
       "<polyline clip-path=\"url(#clip300)\" style=\"stroke:#000000; stroke-linecap:round; stroke-linejoin:round; stroke-width:4; stroke-opacity:1; fill:none\" points=\"2168.57,1423.18 2168.57,1404.28 \"/>\n",
       "<path clip-path=\"url(#clip300)\" d=\"M301.869 1454.1 Q298.258 1454.1 296.429 1457.66 Q294.624 1461.2 294.624 1468.33 Q294.624 1475.44 296.429 1479.01 Q298.258 1482.55 301.869 1482.55 Q305.503 1482.55 307.309 1479.01 Q309.138 1475.44 309.138 1468.33 Q309.138 1461.2 307.309 1457.66 Q305.503 1454.1 301.869 1454.1 M301.869 1450.39 Q307.679 1450.39 310.735 1455 Q313.814 1459.58 313.814 1468.33 Q313.814 1477.06 310.735 1481.67 Q307.679 1486.25 301.869 1486.25 Q296.059 1486.25 292.98 1481.67 Q289.925 1477.06 289.925 1468.33 Q289.925 1459.58 292.98 1455 Q296.059 1450.39 301.869 1450.39 Z\" fill=\"#000000\" fill-rule=\"evenodd\" fill-opacity=\"1\" /><path clip-path=\"url(#clip300)\" d=\"M914.382 1451.02 L932.738 1451.02 L932.738 1454.96 L918.664 1454.96 L918.664 1463.43 Q919.683 1463.08 920.702 1462.92 Q921.72 1462.73 922.739 1462.73 Q928.526 1462.73 931.905 1465.9 Q935.285 1469.08 935.285 1474.49 Q935.285 1480.07 931.813 1483.17 Q928.34 1486.25 922.021 1486.25 Q919.845 1486.25 917.577 1485.88 Q915.331 1485.51 912.924 1484.77 L912.924 1480.07 Q915.007 1481.2 917.229 1481.76 Q919.452 1482.32 921.928 1482.32 Q925.933 1482.32 928.271 1480.21 Q930.609 1478.1 930.609 1474.49 Q930.609 1470.88 928.271 1468.77 Q925.933 1466.67 921.928 1466.67 Q920.053 1466.67 918.178 1467.08 Q916.327 1467.5 914.382 1468.38 L914.382 1451.02 Z\" fill=\"#000000\" fill-rule=\"evenodd\" fill-opacity=\"1\" /><path clip-path=\"url(#clip300)\" d=\"M1521.03 1481.64 L1528.67 1481.64 L1528.67 1455.28 L1520.36 1456.95 L1520.36 1452.69 L1528.62 1451.02 L1533.3 1451.02 L1533.3 1481.64 L1540.93 1481.64 L1540.93 1485.58 L1521.03 1485.58 L1521.03 1481.64 Z\" fill=\"#000000\" fill-rule=\"evenodd\" fill-opacity=\"1\" /><path clip-path=\"url(#clip300)\" d=\"M1560.38 1454.1 Q1556.77 1454.1 1554.94 1457.66 Q1553.13 1461.2 1553.13 1468.33 Q1553.13 1475.44 1554.94 1479.01 Q1556.77 1482.55 1560.38 1482.55 Q1564.01 1482.55 1565.82 1479.01 Q1567.65 1475.44 1567.65 1468.33 Q1567.65 1461.2 1565.82 1457.66 Q1564.01 1454.1 1560.38 1454.1 M1560.38 1450.39 Q1566.19 1450.39 1569.24 1455 Q1572.32 1459.58 1572.32 1468.33 Q1572.32 1477.06 1569.24 1481.67 Q1566.19 1486.25 1560.38 1486.25 Q1554.57 1486.25 1551.49 1481.67 Q1548.43 1477.06 1548.43 1468.33 Q1548.43 1459.58 1551.49 1455 Q1554.57 1450.39 1560.38 1450.39 Z\" fill=\"#000000\" fill-rule=\"evenodd\" fill-opacity=\"1\" /><path clip-path=\"url(#clip300)\" d=\"M2143.76 1481.64 L2151.4 1481.64 L2151.4 1455.28 L2143.09 1456.95 L2143.09 1452.69 L2151.35 1451.02 L2156.03 1451.02 L2156.03 1481.64 L2163.67 1481.64 L2163.67 1485.58 L2143.76 1485.58 L2143.76 1481.64 Z\" fill=\"#000000\" fill-rule=\"evenodd\" fill-opacity=\"1\" /><path clip-path=\"url(#clip300)\" d=\"M2173.16 1451.02 L2191.51 1451.02 L2191.51 1454.96 L2177.44 1454.96 L2177.44 1463.43 Q2178.46 1463.08 2179.48 1462.92 Q2180.5 1462.73 2181.51 1462.73 Q2187.3 1462.73 2190.68 1465.9 Q2194.06 1469.08 2194.06 1474.49 Q2194.06 1480.07 2190.59 1483.17 Q2187.12 1486.25 2180.8 1486.25 Q2178.62 1486.25 2176.35 1485.88 Q2174.11 1485.51 2171.7 1484.77 L2171.7 1480.07 Q2173.78 1481.2 2176 1481.76 Q2178.23 1482.32 2180.7 1482.32 Q2184.71 1482.32 2187.05 1480.21 Q2189.38 1478.1 2189.38 1474.49 Q2189.38 1470.88 2187.05 1468.77 Q2184.71 1466.67 2180.7 1466.67 Q2178.83 1466.67 2176.95 1467.08 Q2175.1 1467.5 2173.16 1468.38 L2173.16 1451.02 Z\" fill=\"#000000\" fill-rule=\"evenodd\" fill-opacity=\"1\" /><path clip-path=\"url(#clip300)\" d=\"M1267.3 1528.17 Q1267.3 1529.07 1266.88 1529.3 Q1266.47 1529.49 1265.31 1529.49 L1259.12 1529.49 L1254.23 1548.94 Q1253.84 1550.65 1253.84 1552.1 Q1253.84 1553.71 1254.32 1554.42 Q1254.84 1555.13 1255.9 1555.13 Q1258 1555.13 1260.25 1553.23 Q1262.54 1551.33 1264.47 1546.69 Q1264.73 1546.08 1264.86 1545.95 Q1265.02 1545.79 1265.44 1545.79 Q1266.24 1545.79 1266.24 1546.43 Q1266.24 1546.66 1265.79 1547.69 Q1265.37 1548.72 1264.44 1550.23 Q1263.54 1551.75 1262.34 1553.16 Q1261.18 1554.58 1259.41 1555.61 Q1257.64 1556.61 1255.74 1556.61 Q1253.07 1556.61 1251.36 1554.9 Q1249.69 1553.19 1249.69 1550.52 Q1249.69 1549.65 1250.36 1546.88 Q1251.04 1544.08 1254.71 1529.49 L1248.88 1529.49 Q1248.08 1529.49 1247.75 1529.46 Q1247.46 1529.43 1247.24 1529.27 Q1247.05 1529.07 1247.05 1528.69 Q1247.05 1528.07 1247.3 1527.82 Q1247.56 1527.53 1247.88 1527.49 Q1248.24 1527.43 1249.04 1527.43 L1255.23 1527.43 L1257.8 1516.96 Q1258.06 1515.93 1258.7 1515.35 Q1259.38 1514.74 1259.77 1514.68 Q1260.15 1514.58 1260.44 1514.58 Q1261.31 1514.58 1261.83 1515.06 Q1262.34 1515.51 1262.34 1516.35 Q1262.34 1516.8 1259.64 1527.43 L1265.44 1527.43 Q1266.18 1527.43 1266.47 1527.46 Q1266.79 1527.49 1267.05 1527.66 Q1267.3 1527.82 1267.3 1528.17 Z\" fill=\"#000000\" fill-rule=\"evenodd\" fill-opacity=\"1\" /><path clip-path=\"url(#clip300)\" d=\"M1288.05 1572.36 L1288.05 1506.4 L1298 1506.4 L1298 1507.91 L1292.46 1507.91 L1292.46 1570.84 L1298 1570.84 L1298 1572.36 L1288.05 1572.36 Z\" fill=\"#000000\" fill-rule=\"evenodd\" fill-opacity=\"1\" /><path clip-path=\"url(#clip300)\" d=\"M1324.94 1532.39 Q1324.94 1534.19 1324.04 1535.16 Q1323.14 1536.09 1321.91 1536.09 Q1320.91 1536.09 1320.37 1535.51 Q1319.85 1534.93 1319.85 1534.16 Q1319.85 1533.03 1320.75 1532.13 Q1321.69 1531.23 1323.04 1531.2 Q1322.59 1530.01 1321.4 1529.3 Q1320.2 1528.56 1319.14 1528.36 Q1318.11 1528.17 1317.08 1528.17 Q1315.05 1528.17 1313.51 1528.81 Q1311.96 1529.46 1311.19 1530.46 Q1310.41 1531.42 1310.06 1532.36 Q1309.71 1533.29 1309.71 1534.1 Q1309.71 1534.81 1309.87 1535.38 Q1310.06 1535.93 1310.51 1536.35 Q1310.96 1536.74 1311.28 1537 Q1311.64 1537.25 1312.41 1537.48 Q1313.18 1537.7 1313.51 1537.8 Q1313.83 1537.86 1314.73 1538.06 Q1316.6 1538.44 1317.44 1538.67 Q1318.27 1538.86 1319.37 1539.41 Q1320.49 1539.96 1321.33 1540.83 Q1323.36 1542.86 1323.36 1545.66 Q1323.36 1546.69 1323.01 1547.95 Q1322.68 1549.2 1321.75 1550.78 Q1320.82 1552.36 1319.4 1553.61 Q1317.98 1554.87 1315.54 1555.74 Q1313.12 1556.61 1310.09 1556.61 Q1305.87 1556.61 1303.26 1554.84 Q1300.66 1553.03 1300.66 1550.2 Q1300.66 1548.14 1301.78 1547.01 Q1302.91 1545.85 1304.36 1545.85 Q1305.45 1545.85 1306.13 1546.46 Q1306.81 1547.04 1306.81 1548.14 Q1306.81 1549.62 1305.62 1550.75 Q1304.42 1551.87 1302.65 1551.65 Q1304.17 1555.13 1310.16 1555.13 Q1312.41 1555.13 1314.15 1554.55 Q1315.92 1553.94 1316.89 1553.1 Q1317.89 1552.23 1318.53 1551.17 Q1319.17 1550.1 1319.37 1549.3 Q1319.59 1548.49 1319.59 1547.88 Q1319.59 1546.82 1319.17 1546.01 Q1318.76 1545.21 1318.18 1544.76 Q1317.63 1544.27 1316.57 1543.89 Q1315.54 1543.47 1314.79 1543.31 Q1314.05 1543.15 1312.73 1542.89 Q1312.12 1542.76 1311.73 1542.7 Q1311.35 1542.6 1310.54 1542.34 Q1309.77 1542.05 1309.22 1541.76 Q1308.71 1541.47 1308.03 1540.96 Q1307.35 1540.44 1306.94 1539.83 Q1306.52 1539.22 1306.23 1538.32 Q1305.94 1537.41 1305.94 1536.35 Q1305.94 1535.38 1306.23 1534.23 Q1306.55 1533.07 1307.35 1531.71 Q1308.19 1530.36 1309.38 1529.27 Q1310.58 1528.17 1312.57 1527.46 Q1314.6 1526.72 1317.08 1526.72 Q1320.69 1526.72 1322.81 1528.4 Q1324.94 1530.04 1324.94 1532.39 Z\" fill=\"#000000\" fill-rule=\"evenodd\" fill-opacity=\"1\" /><path clip-path=\"url(#clip300)\" d=\"M1329.69 1570.84 L1335.23 1570.84 L1335.23 1507.91 L1329.69 1507.91 L1329.69 1506.4 L1339.65 1506.4 L1339.65 1572.36 L1329.69 1572.36 L1329.69 1570.84 Z\" fill=\"#000000\" fill-rule=\"evenodd\" fill-opacity=\"1\" /><polyline clip-path=\"url(#clip303)\" style=\"stroke:#000000; stroke-linecap:round; stroke-linejoin:round; stroke-width:2; stroke-opacity:0.1; fill:none\" points=\"242.135,1339.49 2352.76,1339.49 \"/>\n",
       "<polyline clip-path=\"url(#clip303)\" style=\"stroke:#000000; stroke-linecap:round; stroke-linejoin:round; stroke-width:2; stroke-opacity:0.1; fill:none\" points=\"242.135,1134.63 2352.76,1134.63 \"/>\n",
       "<polyline clip-path=\"url(#clip303)\" style=\"stroke:#000000; stroke-linecap:round; stroke-linejoin:round; stroke-width:2; stroke-opacity:0.1; fill:none\" points=\"242.135,929.756 2352.76,929.756 \"/>\n",
       "<polyline clip-path=\"url(#clip303)\" style=\"stroke:#000000; stroke-linecap:round; stroke-linejoin:round; stroke-width:2; stroke-opacity:0.1; fill:none\" points=\"242.135,724.887 2352.76,724.887 \"/>\n",
       "<polyline clip-path=\"url(#clip303)\" style=\"stroke:#000000; stroke-linecap:round; stroke-linejoin:round; stroke-width:2; stroke-opacity:0.1; fill:none\" points=\"242.135,520.017 2352.76,520.017 \"/>\n",
       "<polyline clip-path=\"url(#clip303)\" style=\"stroke:#000000; stroke-linecap:round; stroke-linejoin:round; stroke-width:2; stroke-opacity:0.1; fill:none\" points=\"242.135,315.148 2352.76,315.148 \"/>\n",
       "<polyline clip-path=\"url(#clip303)\" style=\"stroke:#000000; stroke-linecap:round; stroke-linejoin:round; stroke-width:2; stroke-opacity:0.1; fill:none\" points=\"242.135,110.278 2352.76,110.278 \"/>\n",
       "<polyline clip-path=\"url(#clip300)\" style=\"stroke:#000000; stroke-linecap:round; stroke-linejoin:round; stroke-width:4; stroke-opacity:1; fill:none\" points=\"242.135,1423.18 242.135,47.2441 \"/>\n",
       "<polyline clip-path=\"url(#clip300)\" style=\"stroke:#000000; stroke-linecap:round; stroke-linejoin:round; stroke-width:4; stroke-opacity:1; fill:none\" points=\"242.135,1339.49 261.032,1339.49 \"/>\n",
       "<polyline clip-path=\"url(#clip300)\" style=\"stroke:#000000; stroke-linecap:round; stroke-linejoin:round; stroke-width:4; stroke-opacity:1; fill:none\" points=\"242.135,1134.63 261.032,1134.63 \"/>\n",
       "<polyline clip-path=\"url(#clip300)\" style=\"stroke:#000000; stroke-linecap:round; stroke-linejoin:round; stroke-width:4; stroke-opacity:1; fill:none\" points=\"242.135,929.756 261.032,929.756 \"/>\n",
       "<polyline clip-path=\"url(#clip300)\" style=\"stroke:#000000; stroke-linecap:round; stroke-linejoin:round; stroke-width:4; stroke-opacity:1; fill:none\" points=\"242.135,724.887 261.032,724.887 \"/>\n",
       "<polyline clip-path=\"url(#clip300)\" style=\"stroke:#000000; stroke-linecap:round; stroke-linejoin:round; stroke-width:4; stroke-opacity:1; fill:none\" points=\"242.135,520.017 261.032,520.017 \"/>\n",
       "<polyline clip-path=\"url(#clip300)\" style=\"stroke:#000000; stroke-linecap:round; stroke-linejoin:round; stroke-width:4; stroke-opacity:1; fill:none\" points=\"242.135,315.148 261.032,315.148 \"/>\n",
       "<polyline clip-path=\"url(#clip300)\" style=\"stroke:#000000; stroke-linecap:round; stroke-linejoin:round; stroke-width:4; stroke-opacity:1; fill:none\" points=\"242.135,110.278 261.032,110.278 \"/>\n",
       "<path clip-path=\"url(#clip300)\" d=\"M115.256 1339.95 L144.931 1339.95 L144.931 1343.88 L115.256 1343.88 L115.256 1339.95 Z\" fill=\"#000000\" fill-rule=\"evenodd\" fill-opacity=\"1\" /><path clip-path=\"url(#clip300)\" d=\"M169.19 1338.14 Q172.547 1338.86 174.422 1341.13 Q176.32 1343.4 176.32 1346.73 Q176.32 1351.84 172.802 1354.65 Q169.283 1357.45 162.802 1357.45 Q160.626 1357.45 158.311 1357.01 Q156.019 1356.59 153.566 1355.73 L153.566 1351.22 Q155.51 1352.35 157.825 1352.93 Q160.14 1353.51 162.663 1353.51 Q167.061 1353.51 169.352 1351.77 Q171.667 1350.04 171.667 1346.73 Q171.667 1343.67 169.514 1341.96 Q167.385 1340.22 163.565 1340.22 L159.538 1340.22 L159.538 1336.38 L163.751 1336.38 Q167.2 1336.38 169.028 1335.02 Q170.857 1333.63 170.857 1331.03 Q170.857 1328.37 168.959 1326.96 Q167.084 1325.52 163.565 1325.52 Q161.644 1325.52 159.445 1325.94 Q157.246 1326.36 154.607 1327.24 L154.607 1323.07 Q157.269 1322.33 159.584 1321.96 Q161.922 1321.59 163.982 1321.59 Q169.306 1321.59 172.408 1324.02 Q175.51 1326.43 175.51 1330.55 Q175.51 1333.42 173.866 1335.41 Q172.223 1337.38 169.19 1338.14 Z\" fill=\"#000000\" fill-rule=\"evenodd\" fill-opacity=\"1\" /><path clip-path=\"url(#clip300)\" d=\"M185.232 1322.21 L203.588 1322.21 L203.588 1326.15 L189.514 1326.15 L189.514 1334.62 Q190.533 1334.27 191.551 1334.11 Q192.57 1333.93 193.588 1333.93 Q199.375 1333.93 202.755 1337.1 Q206.135 1340.27 206.135 1345.69 Q206.135 1351.27 202.662 1354.37 Q199.19 1357.45 192.871 1357.45 Q190.695 1357.45 188.426 1357.08 Q186.181 1356.71 183.774 1355.96 L183.774 1351.27 Q185.857 1352.4 188.079 1352.96 Q190.301 1353.51 192.778 1353.51 Q196.783 1353.51 199.121 1351.4 Q201.459 1349.3 201.459 1345.69 Q201.459 1342.08 199.121 1339.97 Q196.783 1337.86 192.778 1337.86 Q190.903 1337.86 189.028 1338.28 Q187.176 1338.7 185.232 1339.58 L185.232 1322.21 Z\" fill=\"#000000\" fill-rule=\"evenodd\" fill-opacity=\"1\" /><path clip-path=\"url(#clip300)\" d=\"M114.26 1135.08 L143.936 1135.08 L143.936 1139.01 L114.26 1139.01 L114.26 1135.08 Z\" fill=\"#000000\" fill-rule=\"evenodd\" fill-opacity=\"1\" /><path clip-path=\"url(#clip300)\" d=\"M168.195 1133.27 Q171.552 1133.99 173.427 1136.26 Q175.325 1138.53 175.325 1141.86 Q175.325 1146.97 171.806 1149.78 Q168.288 1152.58 161.806 1152.58 Q159.63 1152.58 157.315 1152.14 Q155.024 1151.72 152.57 1150.86 L152.57 1146.35 Q154.515 1147.48 156.829 1148.06 Q159.144 1148.64 161.667 1148.64 Q166.065 1148.64 168.357 1146.91 Q170.672 1145.17 170.672 1141.86 Q170.672 1138.8 168.519 1137.09 Q166.39 1135.35 162.57 1135.35 L158.542 1135.35 L158.542 1131.51 L162.755 1131.51 Q166.204 1131.51 168.033 1130.15 Q169.862 1128.76 169.862 1126.16 Q169.862 1123.5 167.964 1122.09 Q166.089 1120.66 162.57 1120.66 Q160.649 1120.66 158.45 1121.07 Q156.251 1121.49 153.612 1122.37 L153.612 1118.2 Q156.274 1117.46 158.589 1117.09 Q160.927 1116.72 162.987 1116.72 Q168.311 1116.72 171.413 1119.15 Q174.514 1121.56 174.514 1125.68 Q174.514 1128.55 172.871 1130.54 Q171.227 1132.51 168.195 1133.27 Z\" fill=\"#000000\" fill-rule=\"evenodd\" fill-opacity=\"1\" /><path clip-path=\"url(#clip300)\" d=\"M194.19 1120.42 Q190.579 1120.42 188.75 1123.99 Q186.945 1127.53 186.945 1134.66 Q186.945 1141.77 188.75 1145.33 Q190.579 1148.87 194.19 1148.87 Q197.825 1148.87 199.63 1145.33 Q201.459 1141.77 201.459 1134.66 Q201.459 1127.53 199.63 1123.99 Q197.825 1120.42 194.19 1120.42 M194.19 1116.72 Q200 1116.72 203.056 1121.33 Q206.135 1125.91 206.135 1134.66 Q206.135 1143.39 203.056 1147.99 Q200 1152.58 194.19 1152.58 Q188.38 1152.58 185.301 1147.99 Q182.246 1143.39 182.246 1134.66 Q182.246 1125.91 185.301 1121.33 Q188.38 1116.72 194.19 1116.72 Z\" fill=\"#000000\" fill-rule=\"evenodd\" fill-opacity=\"1\" /><path clip-path=\"url(#clip300)\" d=\"M115.256 930.207 L144.931 930.207 L144.931 934.143 L115.256 934.143 L115.256 930.207 Z\" fill=\"#000000\" fill-rule=\"evenodd\" fill-opacity=\"1\" /><path clip-path=\"url(#clip300)\" d=\"M159.052 943.101 L175.371 943.101 L175.371 947.036 L153.427 947.036 L153.427 943.101 Q156.089 940.346 160.672 935.717 Q165.278 931.064 166.459 929.721 Q168.704 927.198 169.584 925.462 Q170.487 923.703 170.487 922.013 Q170.487 919.258 168.542 917.522 Q166.621 915.786 163.519 915.786 Q161.32 915.786 158.866 916.55 Q156.436 917.314 153.658 918.865 L153.658 914.143 Q156.482 913.008 158.936 912.43 Q161.39 911.851 163.427 911.851 Q168.797 911.851 171.991 914.536 Q175.186 917.221 175.186 921.712 Q175.186 923.842 174.376 925.763 Q173.589 927.661 171.482 930.254 Q170.903 930.925 167.802 934.143 Q164.7 937.337 159.052 943.101 Z\" fill=\"#000000\" fill-rule=\"evenodd\" fill-opacity=\"1\" /><path clip-path=\"url(#clip300)\" d=\"M185.232 912.476 L203.588 912.476 L203.588 916.411 L189.514 916.411 L189.514 924.883 Q190.533 924.536 191.551 924.374 Q192.57 924.189 193.588 924.189 Q199.375 924.189 202.755 927.36 Q206.135 930.531 206.135 935.948 Q206.135 941.527 202.662 944.629 Q199.19 947.707 192.871 947.707 Q190.695 947.707 188.426 947.337 Q186.181 946.967 183.774 946.226 L183.774 941.527 Q185.857 942.661 188.079 943.217 Q190.301 943.772 192.778 943.772 Q196.783 943.772 199.121 941.666 Q201.459 939.559 201.459 935.948 Q201.459 932.337 199.121 930.23 Q196.783 928.124 192.778 928.124 Q190.903 928.124 189.028 928.541 Q187.176 928.957 185.232 929.837 L185.232 912.476 Z\" fill=\"#000000\" fill-rule=\"evenodd\" fill-opacity=\"1\" /><path clip-path=\"url(#clip300)\" d=\"M114.26 725.338 L143.936 725.338 L143.936 729.273 L114.26 729.273 L114.26 725.338 Z\" fill=\"#000000\" fill-rule=\"evenodd\" fill-opacity=\"1\" /><path clip-path=\"url(#clip300)\" d=\"M158.056 738.231 L174.376 738.231 L174.376 742.167 L152.431 742.167 L152.431 738.231 Q155.093 735.477 159.677 730.847 Q164.283 726.194 165.464 724.852 Q167.709 722.329 168.589 720.593 Q169.491 718.833 169.491 717.144 Q169.491 714.389 167.547 712.653 Q165.626 710.917 162.524 710.917 Q160.325 710.917 157.871 711.681 Q155.44 712.444 152.663 713.995 L152.663 709.273 Q155.487 708.139 157.94 707.56 Q160.394 706.982 162.431 706.982 Q167.802 706.982 170.996 709.667 Q174.19 712.352 174.19 716.843 Q174.19 718.972 173.38 720.894 Q172.593 722.792 170.487 725.384 Q169.908 726.056 166.806 729.273 Q163.704 732.468 158.056 738.231 Z\" fill=\"#000000\" fill-rule=\"evenodd\" fill-opacity=\"1\" /><path clip-path=\"url(#clip300)\" d=\"M194.19 710.685 Q190.579 710.685 188.75 714.25 Q186.945 717.792 186.945 724.921 Q186.945 732.028 188.75 735.593 Q190.579 739.134 194.19 739.134 Q197.825 739.134 199.63 735.593 Q201.459 732.028 201.459 724.921 Q201.459 717.792 199.63 714.25 Q197.825 710.685 194.19 710.685 M194.19 706.982 Q200 706.982 203.056 711.588 Q206.135 716.171 206.135 724.921 Q206.135 733.648 203.056 738.255 Q200 742.838 194.19 742.838 Q188.38 742.838 185.301 738.255 Q182.246 733.648 182.246 724.921 Q182.246 716.171 185.301 711.588 Q188.38 706.982 194.19 706.982 Z\" fill=\"#000000\" fill-rule=\"evenodd\" fill-opacity=\"1\" /><path clip-path=\"url(#clip300)\" d=\"M115.256 520.469 L144.931 520.469 L144.931 524.404 L115.256 524.404 L115.256 520.469 Z\" fill=\"#000000\" fill-rule=\"evenodd\" fill-opacity=\"1\" /><path clip-path=\"url(#clip300)\" d=\"M155.834 533.362 L163.473 533.362 L163.473 506.996 L155.163 508.663 L155.163 504.404 L163.427 502.737 L168.102 502.737 L168.102 533.362 L175.741 533.362 L175.741 537.297 L155.834 537.297 L155.834 533.362 Z\" fill=\"#000000\" fill-rule=\"evenodd\" fill-opacity=\"1\" /><path clip-path=\"url(#clip300)\" d=\"M185.232 502.737 L203.588 502.737 L203.588 506.672 L189.514 506.672 L189.514 515.144 Q190.533 514.797 191.551 514.635 Q192.57 514.45 193.588 514.45 Q199.375 514.45 202.755 517.621 Q206.135 520.793 206.135 526.209 Q206.135 531.788 202.662 534.89 Q199.19 537.968 192.871 537.968 Q190.695 537.968 188.426 537.598 Q186.181 537.228 183.774 536.487 L183.774 531.788 Q185.857 532.922 188.079 533.478 Q190.301 534.033 192.778 534.033 Q196.783 534.033 199.121 531.927 Q201.459 529.82 201.459 526.209 Q201.459 522.598 199.121 520.492 Q196.783 518.385 192.778 518.385 Q190.903 518.385 189.028 518.802 Q187.176 519.219 185.232 520.098 L185.232 502.737 Z\" fill=\"#000000\" fill-rule=\"evenodd\" fill-opacity=\"1\" /><path clip-path=\"url(#clip300)\" d=\"M114.26 315.599 L143.936 315.599 L143.936 319.534 L114.26 319.534 L114.26 315.599 Z\" fill=\"#000000\" fill-rule=\"evenodd\" fill-opacity=\"1\" /><path clip-path=\"url(#clip300)\" d=\"M154.839 328.493 L162.477 328.493 L162.477 302.127 L154.167 303.794 L154.167 299.534 L162.431 297.868 L167.107 297.868 L167.107 328.493 L174.746 328.493 L174.746 332.428 L154.839 332.428 L154.839 328.493 Z\" fill=\"#000000\" fill-rule=\"evenodd\" fill-opacity=\"1\" /><path clip-path=\"url(#clip300)\" d=\"M194.19 300.946 Q190.579 300.946 188.75 304.511 Q186.945 308.053 186.945 315.182 Q186.945 322.289 188.75 325.854 Q190.579 329.395 194.19 329.395 Q197.825 329.395 199.63 325.854 Q201.459 322.289 201.459 315.182 Q201.459 308.053 199.63 304.511 Q197.825 300.946 194.19 300.946 M194.19 297.243 Q200 297.243 203.056 301.849 Q206.135 306.432 206.135 315.182 Q206.135 323.909 203.056 328.516 Q200 333.099 194.19 333.099 Q188.38 333.099 185.301 328.516 Q182.246 323.909 182.246 315.182 Q182.246 306.432 185.301 301.849 Q188.38 297.243 194.19 297.243 Z\" fill=\"#000000\" fill-rule=\"evenodd\" fill-opacity=\"1\" /><path clip-path=\"url(#clip300)\" d=\"M145.417 110.73 L175.093 110.73 L175.093 114.665 L145.417 114.665 L145.417 110.73 Z\" fill=\"#000000\" fill-rule=\"evenodd\" fill-opacity=\"1\" /><path clip-path=\"url(#clip300)\" d=\"M185.232 92.9983 L203.588 92.9983 L203.588 96.9335 L189.514 96.9335 L189.514 105.406 Q190.533 105.058 191.551 104.896 Q192.57 104.711 193.588 104.711 Q199.375 104.711 202.755 107.882 Q206.135 111.054 206.135 116.47 Q206.135 122.049 202.662 125.151 Q199.19 128.23 192.871 128.23 Q190.695 128.23 188.426 127.859 Q186.181 127.489 183.774 126.748 L183.774 122.049 Q185.857 123.183 188.079 123.739 Q190.301 124.294 192.778 124.294 Q196.783 124.294 199.121 122.188 Q201.459 120.082 201.459 116.47 Q201.459 112.859 199.121 110.753 Q196.783 108.646 192.778 108.646 Q190.903 108.646 189.028 109.063 Q187.176 109.48 185.232 110.359 L185.232 92.9983 Z\" fill=\"#000000\" fill-rule=\"evenodd\" fill-opacity=\"1\" /><path clip-path=\"url(#clip300)\" d=\"M41.5432 843.756 Q42.3806 843.756 44.0231 843.982 Q45.6656 844.207 48.0488 844.755 Q50.432 845.302 52.9441 846.107 Q55.4562 846.88 57.9682 848.104 Q60.4481 849.328 62.4126 850.777 Q64.3772 852.226 65.601 854.255 Q66.8248 856.284 66.8248 858.571 Q66.8248 859.634 66.6638 860.664 Q66.5028 861.695 65.9875 862.983 Q65.4722 864.271 64.6348 865.205 Q63.7653 866.139 62.2194 866.783 Q60.6735 867.427 58.6445 867.427 Q56.5512 867.427 53.7493 866.655 Q50.9151 865.849 45.1181 863.659 Q42.1229 862.532 40.4804 862.532 Q39.7397 862.532 39.2888 862.693 Q38.8057 862.854 38.6447 863.176 Q38.4515 863.498 38.4193 863.692 Q38.3871 863.853 38.3871 864.175 Q38.3871 865.946 40.2228 867.75 Q42.0585 869.553 46.5673 870.841 Q47.3725 871.099 47.5657 871.26 Q47.759 871.421 47.759 871.904 Q47.7268 872.709 47.0826 872.709 Q46.8894 872.709 46.1487 872.484 Q45.3757 872.258 44.2163 871.84 Q43.0247 871.421 41.8009 870.68 Q40.5448 869.94 39.4498 869.038 Q38.3548 868.104 37.6463 866.783 Q36.9378 865.463 36.9378 863.981 Q36.9378 861.566 38.5159 860.085 Q40.0618 858.571 42.3484 858.571 Q43.6044 858.571 45.6334 859.376 Q49.3048 860.729 51.0762 861.341 Q52.8475 861.952 55.3595 862.597 Q57.8716 863.208 59.6107 863.208 Q62.2516 863.208 63.7975 861.985 Q65.3434 860.761 65.3434 858.313 Q65.3434 856.123 63.7653 854.159 Q62.155 852.162 59.8684 850.841 Q57.5495 849.521 54.9731 848.523 Q52.3644 847.524 50.3998 847.073 Q48.4031 846.59 47.4691 846.59 Q44.2163 846.59 42.0907 848.812 Q41.4788 849.424 41.0923 849.65 Q40.7059 849.875 40.094 849.875 Q38.9668 849.875 37.9684 848.877 Q36.9378 847.846 36.9378 846.655 Q36.9378 845.56 38.0328 844.658 Q39.1278 843.756 41.5432 843.756 Z\" fill=\"#000000\" fill-rule=\"evenodd\" fill-opacity=\"1\" /><path clip-path=\"url(#clip300)\" d=\"M49.5947 834.698 Q38.4515 834.698 29.466 830.543 Q25.6979 828.772 22.5418 826.292 Q19.3856 823.812 18.0007 822.17 Q16.6159 820.527 16.6159 820.077 Q16.6159 819.432 17.26 819.4 Q17.5821 819.4 18.3872 820.27 Q29.2084 830.898 49.5947 830.866 Q70.0454 830.866 80.4479 820.527 Q81.5751 819.4 81.9294 819.4 Q82.5735 819.4 82.5735 820.077 Q82.5735 820.527 81.2531 822.106 Q79.9326 823.684 76.9053 826.131 Q73.8779 828.579 70.1742 830.35 Q61.1888 834.698 49.5947 834.698 Z\" fill=\"#000000\" fill-rule=\"evenodd\" fill-opacity=\"1\" /><path clip-path=\"url(#clip300)\" d=\"M38.3871 794.129 Q39.2888 794.129 39.5143 794.548 Q39.7075 794.966 39.7075 796.126 L39.7075 802.309 L59.1598 807.205 Q60.8667 807.591 62.316 807.591 Q63.9263 807.591 64.6348 807.108 Q65.3434 806.593 65.3434 805.53 Q65.3434 803.437 63.4432 801.182 Q61.5431 798.896 56.9054 796.963 Q56.2935 796.706 56.1647 796.577 Q56.0037 796.416 56.0037 795.997 Q56.0037 795.192 56.6478 795.192 Q56.8732 795.192 57.9038 795.643 Q58.9344 796.061 60.4481 796.995 Q61.9617 797.897 63.3788 799.089 Q64.7959 800.248 65.8264 802.02 Q66.8248 803.791 66.8248 805.691 Q66.8248 808.364 65.1179 810.071 Q63.411 811.746 60.7379 811.746 Q59.8684 811.746 57.0987 811.069 Q54.2967 810.393 39.7075 806.722 L39.7075 812.551 Q39.7075 813.356 39.6753 813.678 Q39.6431 813.968 39.4821 814.193 Q39.2888 814.387 38.9023 814.387 Q38.2904 814.387 38.0328 814.129 Q37.7429 813.871 37.7107 813.549 Q37.6463 813.195 37.6463 812.39 L37.6463 806.206 L27.1794 803.63 Q26.1488 803.372 25.5691 802.728 Q24.9572 802.052 24.8928 801.665 Q24.7962 801.279 24.7962 800.989 Q24.7962 800.119 25.2793 799.604 Q25.7302 799.089 26.5675 799.089 Q27.0184 799.089 37.6463 801.794 L37.6463 795.997 Q37.6463 795.256 37.6785 794.966 Q37.7107 794.644 37.8718 794.387 Q38.0328 794.129 38.3871 794.129 Z\" fill=\"#000000\" fill-rule=\"evenodd\" fill-opacity=\"1\" /><path clip-path=\"url(#clip300)\" d=\"M81.9294 788.966 Q81.6073 788.966 80.8022 788.128 Q69.981 777.5 49.5947 777.5 Q29.144 777.5 18.8059 787.71 Q17.6143 788.966 17.26 788.966 Q16.6159 788.966 16.6159 788.322 Q16.6159 787.871 17.9363 786.293 Q19.2568 784.682 22.2841 782.267 Q25.3115 779.819 29.0151 778.016 Q38.0006 773.668 49.5947 773.668 Q60.7379 773.668 69.7234 777.822 Q73.4914 779.594 76.6476 782.074 Q79.8038 784.553 81.1886 786.196 Q82.5735 787.838 82.5735 788.322 Q82.5735 788.966 81.9294 788.966 Z\" fill=\"#000000\" fill-rule=\"evenodd\" fill-opacity=\"1\" /><path clip-path=\"url(#clip300)\" d=\"M82.5735 746.207 L16.6159 746.207 L16.6159 736.256 L18.1296 736.256 L18.1296 741.795 L81.0598 741.795 L81.0598 736.256 L82.5735 736.256 L82.5735 746.207 Z\" fill=\"#000000\" fill-rule=\"evenodd\" fill-opacity=\"1\" /><path clip-path=\"url(#clip300)\" d=\"M56.6478 680.88 Q56.9054 680.88 57.9038 681.17 Q58.9022 681.459 60.4481 682.168 Q61.994 682.844 63.411 683.81 Q64.7959 684.744 65.8264 686.29 Q66.8248 687.804 66.8248 689.543 Q66.8248 691.862 65.2789 693.408 Q63.7331 694.954 61.4142 694.954 Q60.1582 694.954 57.775 694.084 Q46.8894 689.994 42.9925 689.994 Q38.3871 689.994 38.3871 693.569 Q38.3871 695.598 39.2244 697.433 Q40.0618 699.269 41.2212 700.461 Q42.3806 701.652 43.701 702.586 Q45.0215 703.52 45.891 703.939 Q46.7606 704.326 47.147 704.422 L63.0567 708.383 Q64.4094 708.706 65.0535 708.931 Q65.6976 709.156 66.2451 709.768 Q66.8248 710.38 66.8248 711.346 Q66.8248 712.152 66.3417 712.731 Q65.8587 713.279 65.0213 713.279 Q64.8925 713.279 64.2162 713.118 Q63.5398 712.957 62.6059 712.731 Q61.6719 712.506 61.1244 712.409 Q56.7444 711.25 56.1325 711.089 L48.4675 709.253 Q44.6672 708.255 42.9925 708.255 Q38.3871 708.255 38.3871 711.829 Q38.3871 713.601 39.0634 715.276 Q39.7075 716.918 40.6093 718.045 Q41.511 719.172 42.7671 720.203 Q43.9909 721.201 44.8282 721.717 Q45.6334 722.2 46.4385 722.586 L49.7235 723.424 Q50.6253 723.617 54.1357 724.551 L60.0938 726 Q64.5382 727.031 64.9569 727.256 Q65.8587 727.578 66.3417 728.287 Q66.8248 728.995 66.8248 729.704 Q66.8248 730.509 66.3417 731.056 Q65.8587 731.604 65.0213 731.604 Q64.8925 731.604 64.4094 731.507 Q63.9263 731.411 63.25 731.25 Q62.5737 731.089 62.1872 731.024 L46.9538 727.192 Q44.1841 726.483 43.3146 726.322 Q42.4128 726.129 41.4144 726.129 Q38.3871 726.129 38.3871 728.19 Q38.3871 729.865 40.3838 730.96 Q42.3806 732.055 46.2453 732.989 Q47.3081 733.279 47.5335 733.472 Q47.759 733.633 47.759 734.116 Q47.7268 734.921 47.0826 734.921 Q46.9216 734.921 45.891 734.663 Q44.8604 734.406 43.3146 733.923 Q41.7365 733.407 40.7059 732.86 Q40.0296 732.538 39.5787 732.248 Q39.1278 731.958 38.4193 731.378 Q37.7107 730.799 37.3243 729.929 Q36.9378 729.06 36.9378 727.997 Q36.9378 725.646 38.4515 723.907 Q39.9651 722.135 42.6704 721.91 Q36.9378 717.627 36.9378 711.636 Q36.9378 708.255 38.6447 706.226 Q40.2872 704.326 43.3146 704.1 Q36.9378 699.656 36.9378 693.343 Q36.9378 689.704 38.8379 687.739 Q40.7059 685.775 43.9909 685.775 Q45.6978 685.775 48.9506 686.645 Q52.1712 687.514 53.7815 688.094 Q55.3917 688.673 58.4835 689.801 Q61.4465 690.992 63.1856 690.992 Q64.3128 690.992 64.8281 690.606 Q65.3434 690.219 65.3434 689.382 Q65.3434 688.094 64.6026 686.967 Q63.8297 685.839 62.5737 685.034 Q61.2854 684.197 59.9972 683.649 Q58.6767 683.102 57.1953 682.683 Q56.3901 682.426 56.1969 682.297 Q56.0037 682.136 56.0037 681.685 Q56.0037 680.88 56.6478 680.88 Z\" fill=\"#000000\" fill-rule=\"evenodd\" fill-opacity=\"1\" /><path clip-path=\"url(#clip300)\" d=\"M81.6395 677.568 Q81.3175 677.568 80.6089 677.31 L18.3872 654.025 Q18.3228 654.025 17.9685 653.864 Q17.6143 653.703 17.3888 653.606 Q17.1312 653.51 16.938 653.317 Q16.7447 653.091 16.7447 652.833 Q16.7447 652.189 17.5499 652.189 Q17.6143 652.189 18.3872 652.383 L80.6734 675.732 Q81.8006 676.118 82.1226 676.376 Q82.4447 676.601 82.4447 676.988 Q82.4447 677.568 81.6395 677.568 Z\" fill=\"#000000\" fill-rule=\"evenodd\" fill-opacity=\"1\" /><path clip-path=\"url(#clip300)\" d=\"M42.606 620.62 Q44.4096 620.62 45.3757 621.522 Q46.3097 622.424 46.3097 623.648 Q46.3097 624.646 45.73 625.194 Q45.1503 625.709 44.3773 625.709 Q43.2501 625.709 42.3484 624.807 Q41.4466 623.873 41.4144 622.52 Q40.2228 622.971 39.5143 624.163 Q38.7735 625.355 38.5803 626.417 Q38.3871 627.448 38.3871 628.479 Q38.3871 630.508 39.0312 632.053 Q39.6753 633.599 40.6737 634.372 Q41.6398 635.145 42.5738 635.499 Q43.5078 635.854 44.3129 635.854 Q45.0215 635.854 45.6012 635.693 Q46.1487 635.499 46.5673 635.049 Q46.9538 634.598 47.2115 634.276 Q47.4691 633.921 47.6945 633.148 Q47.92 632.375 48.0166 632.053 Q48.081 631.731 48.2743 630.83 Q48.6607 628.962 48.8862 628.124 Q49.0794 627.287 49.6269 626.192 Q50.1744 625.065 51.044 624.227 Q53.0729 622.198 55.8748 622.198 Q56.9054 622.198 58.1615 622.553 Q59.4175 622.875 60.9956 623.809 Q62.5737 624.743 63.8297 626.16 Q65.0857 627.577 65.9553 630.024 Q66.8248 632.44 66.8248 635.467 Q66.8248 639.686 65.0535 642.295 Q63.25 644.904 60.4159 644.904 Q58.3547 644.904 57.2275 643.776 Q56.0681 642.649 56.0681 641.2 Q56.0681 640.105 56.68 639.429 Q57.2597 638.752 58.3547 638.752 Q59.8362 638.752 60.9634 639.944 Q62.0906 641.135 61.8651 642.907 Q65.3434 641.393 65.3434 635.403 Q65.3434 633.148 64.7637 631.409 Q64.1517 629.638 63.3144 628.672 Q62.4448 627.673 61.382 627.029 Q60.3192 626.385 59.5141 626.192 Q58.709 625.966 58.097 625.966 Q57.0342 625.966 56.2291 626.385 Q55.424 626.804 54.9731 627.384 Q54.49 627.931 54.1035 628.994 Q53.6848 630.024 53.5238 630.765 Q53.3628 631.506 53.1051 632.826 Q52.9763 633.438 52.9119 633.825 Q52.8153 634.211 52.5576 635.016 Q52.2678 635.789 51.9779 636.337 Q51.6881 636.852 51.1728 637.528 Q50.6575 638.205 50.0456 638.623 Q49.4337 639.042 48.5319 639.332 Q47.6301 639.622 46.5673 639.622 Q45.6012 639.622 44.4418 639.332 Q43.2823 639.01 41.9297 638.205 Q40.5771 637.367 39.4821 636.176 Q38.3871 634.984 37.6785 632.987 Q36.9378 630.958 36.9378 628.479 Q36.9378 624.871 38.6125 622.746 Q40.255 620.62 42.606 620.62 Z\" fill=\"#000000\" fill-rule=\"evenodd\" fill-opacity=\"1\" /><path clip-path=\"url(#clip300)\" d=\"M81.0598 615.865 L81.0598 610.326 L18.1296 610.326 L18.1296 615.865 L16.6159 615.865 L16.6159 605.913 L82.5735 605.913 L82.5735 615.865 L81.0598 615.865 Z\" fill=\"#000000\" fill-rule=\"evenodd\" fill-opacity=\"1\" /><circle clip-path=\"url(#clip303)\" cx=\"301.869\" cy=\"86.1857\" r=\"14.4\" fill=\"#009af9\" fill-rule=\"evenodd\" fill-opacity=\"1\" stroke=\"#000000\" stroke-opacity=\"1\" stroke-width=\"3.2\"/>\n",
       "<circle clip-path=\"url(#clip303)\" cx=\"426.316\" cy=\"232.606\" r=\"14.4\" fill=\"#009af9\" fill-rule=\"evenodd\" fill-opacity=\"1\" stroke=\"#000000\" stroke-opacity=\"1\" stroke-width=\"3.2\"/>\n",
       "<circle clip-path=\"url(#clip303)\" cx=\"550.763\" cy=\"496.423\" r=\"14.4\" fill=\"#009af9\" fill-rule=\"evenodd\" fill-opacity=\"1\" stroke=\"#000000\" stroke-opacity=\"1\" stroke-width=\"3.2\"/>\n",
       "<circle clip-path=\"url(#clip303)\" cx=\"675.21\" cy=\"675.09\" r=\"14.4\" fill=\"#009af9\" fill-rule=\"evenodd\" fill-opacity=\"1\" stroke=\"#000000\" stroke-opacity=\"1\" stroke-width=\"3.2\"/>\n",
       "<circle clip-path=\"url(#clip303)\" cx=\"799.657\" cy=\"804.97\" r=\"14.4\" fill=\"#009af9\" fill-rule=\"evenodd\" fill-opacity=\"1\" stroke=\"#000000\" stroke-opacity=\"1\" stroke-width=\"3.2\"/>\n",
       "<circle clip-path=\"url(#clip303)\" cx=\"924.104\" cy=\"898.616\" r=\"14.4\" fill=\"#009af9\" fill-rule=\"evenodd\" fill-opacity=\"1\" stroke=\"#000000\" stroke-opacity=\"1\" stroke-width=\"3.2\"/>\n",
       "<circle clip-path=\"url(#clip303)\" cx=\"1048.55\" cy=\"965.96\" r=\"14.4\" fill=\"#009af9\" fill-rule=\"evenodd\" fill-opacity=\"1\" stroke=\"#000000\" stroke-opacity=\"1\" stroke-width=\"3.2\"/>\n",
       "<circle clip-path=\"url(#clip303)\" cx=\"1173\" cy=\"1014.98\" r=\"14.4\" fill=\"#009af9\" fill-rule=\"evenodd\" fill-opacity=\"1\" stroke=\"#000000\" stroke-opacity=\"1\" stroke-width=\"3.2\"/>\n",
       "<circle clip-path=\"url(#clip303)\" cx=\"1297.45\" cy=\"1050.17\" r=\"14.4\" fill=\"#009af9\" fill-rule=\"evenodd\" fill-opacity=\"1\" stroke=\"#000000\" stroke-opacity=\"1\" stroke-width=\"3.2\"/>\n",
       "<circle clip-path=\"url(#clip303)\" cx=\"1421.89\" cy=\"1075.18\" r=\"14.4\" fill=\"#009af9\" fill-rule=\"evenodd\" fill-opacity=\"1\" stroke=\"#000000\" stroke-opacity=\"1\" stroke-width=\"3.2\"/>\n",
       "<circle clip-path=\"url(#clip303)\" cx=\"1546.34\" cy=\"1095.13\" r=\"14.4\" fill=\"#009af9\" fill-rule=\"evenodd\" fill-opacity=\"1\" stroke=\"#000000\" stroke-opacity=\"1\" stroke-width=\"3.2\"/>\n",
       "<circle clip-path=\"url(#clip303)\" cx=\"1670.79\" cy=\"1104\" r=\"14.4\" fill=\"#009af9\" fill-rule=\"evenodd\" fill-opacity=\"1\" stroke=\"#000000\" stroke-opacity=\"1\" stroke-width=\"3.2\"/>\n",
       "<circle clip-path=\"url(#clip303)\" cx=\"1795.23\" cy=\"1125.27\" r=\"14.4\" fill=\"#009af9\" fill-rule=\"evenodd\" fill-opacity=\"1\" stroke=\"#000000\" stroke-opacity=\"1\" stroke-width=\"3.2\"/>\n",
       "<circle clip-path=\"url(#clip303)\" cx=\"1919.68\" cy=\"1159.64\" r=\"14.4\" fill=\"#009af9\" fill-rule=\"evenodd\" fill-opacity=\"1\" stroke=\"#000000\" stroke-opacity=\"1\" stroke-width=\"3.2\"/>\n",
       "<circle clip-path=\"url(#clip303)\" cx=\"2044.13\" cy=\"1052.68\" r=\"14.4\" fill=\"#009af9\" fill-rule=\"evenodd\" fill-opacity=\"1\" stroke=\"#000000\" stroke-opacity=\"1\" stroke-width=\"3.2\"/>\n",
       "<circle clip-path=\"url(#clip303)\" cx=\"2168.57\" cy=\"1200.53\" r=\"14.4\" fill=\"#009af9\" fill-rule=\"evenodd\" fill-opacity=\"1\" stroke=\"#000000\" stroke-opacity=\"1\" stroke-width=\"3.2\"/>\n",
       "<circle clip-path=\"url(#clip303)\" cx=\"2293.02\" cy=\"1384.24\" r=\"14.4\" fill=\"#009af9\" fill-rule=\"evenodd\" fill-opacity=\"1\" stroke=\"#000000\" stroke-opacity=\"1\" stroke-width=\"3.2\"/>\n",
       "<path clip-path=\"url(#clip300)\" d=\"M1992.03 196.789 L2282.4 196.789 L2282.4 93.1086 L1992.03 93.1086  Z\" fill=\"#ffffff\" fill-rule=\"evenodd\" fill-opacity=\"1\"/>\n",
       "<polyline clip-path=\"url(#clip300)\" style=\"stroke:#000000; stroke-linecap:round; stroke-linejoin:round; stroke-width:4; stroke-opacity:1; fill:none\" points=\"1992.03,196.789 2282.4,196.789 2282.4,93.1086 1992.03,93.1086 1992.03,196.789 \"/>\n",
       "<circle clip-path=\"url(#clip300)\" cx=\"2085.84\" cy=\"144.949\" r=\"23.04\" fill=\"#009af9\" fill-rule=\"evenodd\" fill-opacity=\"1\" stroke=\"#000000\" stroke-opacity=\"1\" stroke-width=\"5.12\"/>\n",
       "<path clip-path=\"url(#clip300)\" d=\"M2200.7 138.976 Q2200.7 139.585 2200.54 140.779 Q2200.37 141.974 2199.98 143.707 Q2199.58 145.44 2198.99 147.267 Q2198.43 149.094 2197.54 150.921 Q2196.65 152.725 2195.6 154.153 Q2194.54 155.582 2193.07 156.472 Q2191.59 157.362 2189.93 157.362 Q2189.15 157.362 2188.4 157.245 Q2187.66 157.128 2186.72 156.753 Q2185.78 156.379 2185.1 155.77 Q2184.42 155.137 2183.95 154.013 Q2183.49 152.889 2183.49 151.413 Q2183.49 149.891 2184.05 147.853 Q2184.63 145.792 2186.23 141.576 Q2187.05 139.397 2187.05 138.203 Q2187.05 137.664 2186.93 137.336 Q2186.81 136.985 2186.58 136.868 Q2186.34 136.727 2186.2 136.704 Q2186.09 136.68 2185.85 136.68 Q2184.56 136.68 2183.25 138.015 Q2181.94 139.35 2181 142.63 Q2180.82 143.215 2180.7 143.356 Q2180.58 143.496 2180.23 143.496 Q2179.64 143.473 2179.64 143.004 Q2179.64 142.864 2179.81 142.325 Q2179.97 141.763 2180.28 140.92 Q2180.58 140.053 2181.12 139.163 Q2181.66 138.25 2182.31 137.453 Q2182.99 136.657 2183.95 136.142 Q2184.91 135.626 2185.99 135.626 Q2187.75 135.626 2188.83 136.774 Q2189.93 137.898 2189.93 139.561 Q2189.93 140.475 2189.34 141.95 Q2188.36 144.621 2187.91 145.909 Q2187.47 147.197 2187 149.024 Q2186.55 150.851 2186.55 152.116 Q2186.55 154.036 2187.44 155.161 Q2188.33 156.285 2190.11 156.285 Q2191.71 156.285 2193.14 155.137 Q2194.59 153.966 2195.55 152.303 Q2196.51 150.617 2197.23 148.743 Q2197.96 146.846 2198.29 145.417 Q2198.64 143.965 2198.64 143.285 Q2198.64 140.92 2197.02 139.374 Q2196.58 138.929 2196.42 138.648 Q2196.25 138.367 2196.25 137.922 Q2196.25 137.102 2196.98 136.376 Q2197.73 135.626 2198.59 135.626 Q2199.39 135.626 2200.05 136.423 Q2200.7 137.219 2200.7 138.976 Z\" fill=\"#000000\" fill-rule=\"evenodd\" fill-opacity=\"1\" /><path clip-path=\"url(#clip300)\" d=\"M2207.28 144.831 Q2207.28 136.727 2210.31 130.192 Q2211.59 127.452 2213.4 125.156 Q2215.2 122.861 2216.39 121.854 Q2217.59 120.847 2217.92 120.847 Q2218.39 120.847 2218.41 121.315 Q2218.41 121.549 2217.78 122.135 Q2210.05 130.005 2210.07 144.831 Q2210.07 159.705 2217.59 167.27 Q2218.41 168.09 2218.41 168.347 Q2218.41 168.816 2217.92 168.816 Q2217.59 168.816 2216.44 167.856 Q2215.29 166.895 2213.51 164.694 Q2211.73 162.492 2210.45 159.798 Q2207.28 153.263 2207.28 144.831 Z\" fill=\"#000000\" fill-rule=\"evenodd\" fill-opacity=\"1\" /><path clip-path=\"url(#clip300)\" d=\"M2236.78 136.68 Q2236.78 137.336 2236.48 137.5 Q2236.17 137.641 2235.33 137.641 L2230.83 137.641 L2227.27 151.788 Q2226.99 153.029 2226.99 154.083 Q2226.99 155.254 2227.34 155.77 Q2227.72 156.285 2228.49 156.285 Q2230.01 156.285 2231.65 154.903 Q2233.32 153.521 2234.72 150.148 Q2234.91 149.703 2235 149.61 Q2235.12 149.492 2235.43 149.492 Q2236.01 149.492 2236.01 149.961 Q2236.01 150.125 2235.68 150.874 Q2235.38 151.624 2234.7 152.725 Q2234.04 153.826 2233.18 154.856 Q2232.33 155.887 2231.05 156.636 Q2229.76 157.362 2228.38 157.362 Q2226.43 157.362 2225.19 156.121 Q2223.97 154.88 2223.97 152.935 Q2223.97 152.303 2224.46 150.289 Q2224.96 148.251 2227.63 137.641 L2223.39 137.641 Q2222.8 137.641 2222.57 137.617 Q2222.36 137.594 2222.19 137.477 Q2222.05 137.336 2222.05 137.055 Q2222.05 136.61 2222.24 136.423 Q2222.43 136.212 2222.66 136.188 Q2222.92 136.142 2223.5 136.142 L2228 136.142 L2229.87 128.529 Q2230.06 127.78 2230.53 127.358 Q2231.02 126.913 2231.3 126.866 Q2231.58 126.796 2231.79 126.796 Q2232.43 126.796 2232.8 127.147 Q2233.18 127.475 2233.18 128.084 Q2233.18 128.412 2231.21 136.142 L2235.43 136.142 Q2235.96 136.142 2236.17 136.165 Q2236.41 136.188 2236.6 136.306 Q2236.78 136.423 2236.78 136.68 Z\" fill=\"#000000\" fill-rule=\"evenodd\" fill-opacity=\"1\" /><path clip-path=\"url(#clip300)\" d=\"M2240.53 168.347 Q2240.53 168.113 2241.14 167.528 Q2248.87 159.658 2248.87 144.831 Q2248.87 129.958 2241.45 122.439 Q2240.53 121.573 2240.53 121.315 Q2240.53 120.847 2241 120.847 Q2241.33 120.847 2242.48 121.807 Q2243.65 122.767 2245.41 124.969 Q2247.19 127.171 2248.5 129.864 Q2251.66 136.399 2251.66 144.831 Q2251.66 152.935 2248.64 159.47 Q2247.35 162.211 2245.55 164.506 Q2243.74 166.802 2242.55 167.809 Q2241.35 168.816 2241 168.816 Q2240.53 168.816 2240.53 168.347 Z\" fill=\"#000000\" fill-rule=\"evenodd\" fill-opacity=\"1\" /></svg>\n"
      ]
     },
     "execution_count": 5,
     "metadata": {},
     "output_type": "execute_result"
    }
   ],
   "source": [
    "scatter(t,v, label=L\"v(t)\")\n",
    "plot!(xlabel=L\"t \\ [s]\", ylabel=L\"v(t) \\  [m/s]\")"
   ]
  },
  {
   "cell_type": "markdown",
   "metadata": {},
   "source": [
    "La gota se acelera en los primeros segudos de caida, y se frena hasta llegar a una velocidad casi constate debido a que las fuerzas de gravedad y rozamiento se igualan."
   ]
  },
  {
   "cell_type": "markdown",
   "metadata": {},
   "source": [
    "4. Grafique la velocidad $v_i$ en función de posición $z_i$. Describa cualitativamente cómo la velocidad de la gota cambia a medidad que cambia su posición."
   ]
  },
  {
   "cell_type": "code",
   "execution_count": 6,
   "metadata": {},
   "outputs": [
    {
     "data": {
      "image/svg+xml": [
       "<?xml version=\"1.0\" encoding=\"utf-8\"?>\n",
       "<svg xmlns=\"http://www.w3.org/2000/svg\" xmlns:xlink=\"http://www.w3.org/1999/xlink\" width=\"600\" height=\"400\" viewBox=\"0 0 2400 1600\">\n",
       "<defs>\n",
       "  <clipPath id=\"clip340\">\n",
       "    <rect x=\"0\" y=\"0\" width=\"2400\" height=\"1600\"/>\n",
       "  </clipPath>\n",
       "</defs>\n",
       "<path clip-path=\"url(#clip340)\" d=\"M0 1600 L2400 1600 L2400 0 L0 0  Z\" fill=\"#ffffff\" fill-rule=\"evenodd\" fill-opacity=\"1\"/>\n",
       "<defs>\n",
       "  <clipPath id=\"clip341\">\n",
       "    <rect x=\"480\" y=\"0\" width=\"1681\" height=\"1600\"/>\n",
       "  </clipPath>\n",
       "</defs>\n",
       "<defs>\n",
       "  <clipPath id=\"clip342\">\n",
       "    <rect x=\"242\" y=\"47\" width=\"2112\" height=\"1377\"/>\n",
       "  </clipPath>\n",
       "</defs>\n",
       "<path clip-path=\"url(#clip340)\" d=\"M242.135 1423.18 L2352.76 1423.18 L2352.76 47.2441 L242.135 47.2441  Z\" fill=\"#ffffff\" fill-rule=\"evenodd\" fill-opacity=\"1\"/>\n",
       "<polyline clip-path=\"url(#clip342)\" style=\"stroke:#000000; stroke-linecap:round; stroke-linejoin:round; stroke-width:2; stroke-opacity:0.1; fill:none\" points=\"275.771,1423.18 275.771,47.2441 \"/>\n",
       "<polyline clip-path=\"url(#clip342)\" style=\"stroke:#000000; stroke-linecap:round; stroke-linejoin:round; stroke-width:2; stroke-opacity:0.1; fill:none\" points=\"780.084,1423.18 780.084,47.2441 \"/>\n",
       "<polyline clip-path=\"url(#clip342)\" style=\"stroke:#000000; stroke-linecap:round; stroke-linejoin:round; stroke-width:2; stroke-opacity:0.1; fill:none\" points=\"1284.4,1423.18 1284.4,47.2441 \"/>\n",
       "<polyline clip-path=\"url(#clip342)\" style=\"stroke:#000000; stroke-linecap:round; stroke-linejoin:round; stroke-width:2; stroke-opacity:0.1; fill:none\" points=\"1788.71,1423.18 1788.71,47.2441 \"/>\n",
       "<polyline clip-path=\"url(#clip342)\" style=\"stroke:#000000; stroke-linecap:round; stroke-linejoin:round; stroke-width:2; stroke-opacity:0.1; fill:none\" points=\"2293.02,1423.18 2293.02,47.2441 \"/>\n",
       "<polyline clip-path=\"url(#clip340)\" style=\"stroke:#000000; stroke-linecap:round; stroke-linejoin:round; stroke-width:4; stroke-opacity:1; fill:none\" points=\"242.135,1423.18 2352.76,1423.18 \"/>\n",
       "<polyline clip-path=\"url(#clip340)\" style=\"stroke:#000000; stroke-linecap:round; stroke-linejoin:round; stroke-width:4; stroke-opacity:1; fill:none\" points=\"275.771,1423.18 275.771,1404.28 \"/>\n",
       "<polyline clip-path=\"url(#clip340)\" style=\"stroke:#000000; stroke-linecap:round; stroke-linejoin:round; stroke-width:4; stroke-opacity:1; fill:none\" points=\"780.084,1423.18 780.084,1404.28 \"/>\n",
       "<polyline clip-path=\"url(#clip340)\" style=\"stroke:#000000; stroke-linecap:round; stroke-linejoin:round; stroke-width:4; stroke-opacity:1; fill:none\" points=\"1284.4,1423.18 1284.4,1404.28 \"/>\n",
       "<polyline clip-path=\"url(#clip340)\" style=\"stroke:#000000; stroke-linecap:round; stroke-linejoin:round; stroke-width:4; stroke-opacity:1; fill:none\" points=\"1788.71,1423.18 1788.71,1404.28 \"/>\n",
       "<polyline clip-path=\"url(#clip340)\" style=\"stroke:#000000; stroke-linecap:round; stroke-linejoin:round; stroke-width:4; stroke-opacity:1; fill:none\" points=\"2293.02,1423.18 2293.02,1404.28 \"/>\n",
       "<path clip-path=\"url(#clip340)\" d=\"M214.753 1468.75 L244.429 1468.75 L244.429 1472.69 L214.753 1472.69 L214.753 1468.75 Z\" fill=\"#000000\" fill-rule=\"evenodd\" fill-opacity=\"1\" /><path clip-path=\"url(#clip340)\" d=\"M267.368 1455.09 L255.563 1473.54 L267.368 1473.54 L267.368 1455.09 M266.141 1451.02 L272.021 1451.02 L272.021 1473.54 L276.952 1473.54 L276.952 1477.43 L272.021 1477.43 L272.021 1485.58 L267.368 1485.58 L267.368 1477.43 L251.767 1477.43 L251.767 1472.92 L266.141 1451.02 Z\" fill=\"#000000\" fill-rule=\"evenodd\" fill-opacity=\"1\" /><path clip-path=\"url(#clip340)\" d=\"M294.683 1454.1 Q291.072 1454.1 289.243 1457.66 Q287.438 1461.2 287.438 1468.33 Q287.438 1475.44 289.243 1479.01 Q291.072 1482.55 294.683 1482.55 Q298.317 1482.55 300.123 1479.01 Q301.951 1475.44 301.951 1468.33 Q301.951 1461.2 300.123 1457.66 Q298.317 1454.1 294.683 1454.1 M294.683 1450.39 Q300.493 1450.39 303.549 1455 Q306.627 1459.58 306.627 1468.33 Q306.627 1477.06 303.549 1481.67 Q300.493 1486.25 294.683 1486.25 Q288.873 1486.25 285.794 1481.67 Q282.739 1477.06 282.739 1468.33 Q282.739 1459.58 285.794 1455 Q288.873 1450.39 294.683 1450.39 Z\" fill=\"#000000\" fill-rule=\"evenodd\" fill-opacity=\"1\" /><path clip-path=\"url(#clip340)\" d=\"M324.845 1454.1 Q321.234 1454.1 319.405 1457.66 Q317.6 1461.2 317.6 1468.33 Q317.6 1475.44 319.405 1479.01 Q321.234 1482.55 324.845 1482.55 Q328.479 1482.55 330.285 1479.01 Q332.113 1475.44 332.113 1468.33 Q332.113 1461.2 330.285 1457.66 Q328.479 1454.1 324.845 1454.1 M324.845 1450.39 Q330.655 1450.39 333.711 1455 Q336.789 1459.58 336.789 1468.33 Q336.789 1477.06 333.711 1481.67 Q330.655 1486.25 324.845 1486.25 Q319.035 1486.25 315.956 1481.67 Q312.9 1477.06 312.9 1468.33 Q312.9 1459.58 315.956 1455 Q319.035 1450.39 324.845 1450.39 Z\" fill=\"#000000\" fill-rule=\"evenodd\" fill-opacity=\"1\" /><path clip-path=\"url(#clip340)\" d=\"M719.065 1468.75 L748.741 1468.75 L748.741 1472.69 L719.065 1472.69 L719.065 1468.75 Z\" fill=\"#000000\" fill-rule=\"evenodd\" fill-opacity=\"1\" /><path clip-path=\"url(#clip340)\" d=\"M773 1466.95 Q776.357 1467.66 778.232 1469.93 Q780.13 1472.2 780.13 1475.53 Q780.13 1480.65 776.611 1483.45 Q773.093 1486.25 766.611 1486.25 Q764.436 1486.25 762.121 1485.81 Q759.829 1485.39 757.375 1484.54 L757.375 1480.02 Q759.32 1481.16 761.635 1481.74 Q763.949 1482.32 766.473 1482.32 Q770.871 1482.32 773.162 1480.58 Q775.477 1478.84 775.477 1475.53 Q775.477 1472.48 773.324 1470.77 Q771.195 1469.03 767.375 1469.03 L763.348 1469.03 L763.348 1465.19 L767.561 1465.19 Q771.01 1465.19 772.838 1463.82 Q774.667 1462.43 774.667 1459.84 Q774.667 1457.18 772.769 1455.77 Q770.894 1454.33 767.375 1454.33 Q765.454 1454.33 763.255 1454.75 Q761.056 1455.16 758.417 1456.04 L758.417 1451.88 Q761.079 1451.14 763.394 1450.77 Q765.732 1450.39 767.792 1450.39 Q773.116 1450.39 776.218 1452.83 Q779.32 1455.23 779.32 1459.35 Q779.32 1462.22 777.676 1464.21 Q776.033 1466.18 773 1466.95 Z\" fill=\"#000000\" fill-rule=\"evenodd\" fill-opacity=\"1\" /><path clip-path=\"url(#clip340)\" d=\"M798.996 1454.1 Q795.384 1454.1 793.556 1457.66 Q791.75 1461.2 791.75 1468.33 Q791.75 1475.44 793.556 1479.01 Q795.384 1482.55 798.996 1482.55 Q802.63 1482.55 804.435 1479.01 Q806.264 1475.44 806.264 1468.33 Q806.264 1461.2 804.435 1457.66 Q802.63 1454.1 798.996 1454.1 M798.996 1450.39 Q804.806 1450.39 807.861 1455 Q810.94 1459.58 810.94 1468.33 Q810.94 1477.06 807.861 1481.67 Q804.806 1486.25 798.996 1486.25 Q793.185 1486.25 790.107 1481.67 Q787.051 1477.06 787.051 1468.33 Q787.051 1459.58 790.107 1455 Q793.185 1450.39 798.996 1450.39 Z\" fill=\"#000000\" fill-rule=\"evenodd\" fill-opacity=\"1\" /><path clip-path=\"url(#clip340)\" d=\"M829.157 1454.1 Q825.546 1454.1 823.718 1457.66 Q821.912 1461.2 821.912 1468.33 Q821.912 1475.44 823.718 1479.01 Q825.546 1482.55 829.157 1482.55 Q832.792 1482.55 834.597 1479.01 Q836.426 1475.44 836.426 1468.33 Q836.426 1461.2 834.597 1457.66 Q832.792 1454.1 829.157 1454.1 M829.157 1450.39 Q834.968 1450.39 838.023 1455 Q841.102 1459.58 841.102 1468.33 Q841.102 1477.06 838.023 1481.67 Q834.968 1486.25 829.157 1486.25 Q823.347 1486.25 820.269 1481.67 Q817.213 1477.06 817.213 1468.33 Q817.213 1459.58 820.269 1455 Q823.347 1450.39 829.157 1450.39 Z\" fill=\"#000000\" fill-rule=\"evenodd\" fill-opacity=\"1\" /><path clip-path=\"url(#clip340)\" d=\"M1223.38 1468.75 L1253.05 1468.75 L1253.05 1472.69 L1223.38 1472.69 L1223.38 1468.75 Z\" fill=\"#000000\" fill-rule=\"evenodd\" fill-opacity=\"1\" /><path clip-path=\"url(#clip340)\" d=\"M1267.17 1481.64 L1283.49 1481.64 L1283.49 1485.58 L1261.55 1485.58 L1261.55 1481.64 Q1264.21 1478.89 1268.79 1474.26 Q1273.4 1469.61 1274.58 1468.27 Q1276.83 1465.74 1277.71 1464.01 Q1278.61 1462.25 1278.61 1460.56 Q1278.61 1457.8 1276.66 1456.07 Q1274.74 1454.33 1271.64 1454.33 Q1269.44 1454.33 1266.99 1455.09 Q1264.56 1455.86 1261.78 1457.41 L1261.78 1452.69 Q1264.6 1451.55 1267.06 1450.97 Q1269.51 1450.39 1271.55 1450.39 Q1276.92 1450.39 1280.11 1453.08 Q1283.31 1455.77 1283.31 1460.26 Q1283.31 1462.39 1282.5 1464.31 Q1281.71 1466.2 1279.6 1468.8 Q1279.03 1469.47 1275.92 1472.69 Q1272.82 1475.88 1267.17 1481.64 Z\" fill=\"#000000\" fill-rule=\"evenodd\" fill-opacity=\"1\" /><path clip-path=\"url(#clip340)\" d=\"M1303.31 1454.1 Q1299.7 1454.1 1297.87 1457.66 Q1296.06 1461.2 1296.06 1468.33 Q1296.06 1475.44 1297.87 1479.01 Q1299.7 1482.55 1303.31 1482.55 Q1306.94 1482.55 1308.75 1479.01 Q1310.58 1475.44 1310.58 1468.33 Q1310.58 1461.2 1308.75 1457.66 Q1306.94 1454.1 1303.31 1454.1 M1303.31 1450.39 Q1309.12 1450.39 1312.17 1455 Q1315.25 1459.58 1315.25 1468.33 Q1315.25 1477.06 1312.17 1481.67 Q1309.12 1486.25 1303.31 1486.25 Q1297.5 1486.25 1294.42 1481.67 Q1291.36 1477.06 1291.36 1468.33 Q1291.36 1459.58 1294.42 1455 Q1297.5 1450.39 1303.31 1450.39 Z\" fill=\"#000000\" fill-rule=\"evenodd\" fill-opacity=\"1\" /><path clip-path=\"url(#clip340)\" d=\"M1333.47 1454.1 Q1329.86 1454.1 1328.03 1457.66 Q1326.22 1461.2 1326.22 1468.33 Q1326.22 1475.44 1328.03 1479.01 Q1329.86 1482.55 1333.47 1482.55 Q1337.1 1482.55 1338.91 1479.01 Q1340.74 1475.44 1340.74 1468.33 Q1340.74 1461.2 1338.91 1457.66 Q1337.1 1454.1 1333.47 1454.1 M1333.47 1450.39 Q1339.28 1450.39 1342.34 1455 Q1345.41 1459.58 1345.41 1468.33 Q1345.41 1477.06 1342.34 1481.67 Q1339.28 1486.25 1333.47 1486.25 Q1327.66 1486.25 1324.58 1481.67 Q1321.53 1477.06 1321.53 1468.33 Q1321.53 1459.58 1324.58 1455 Q1327.66 1450.39 1333.47 1450.39 Z\" fill=\"#000000\" fill-rule=\"evenodd\" fill-opacity=\"1\" /><path clip-path=\"url(#clip340)\" d=\"M1727.69 1468.75 L1757.37 1468.75 L1757.37 1472.69 L1727.69 1472.69 L1727.69 1468.75 Z\" fill=\"#000000\" fill-rule=\"evenodd\" fill-opacity=\"1\" /><path clip-path=\"url(#clip340)\" d=\"M1768.27 1481.64 L1775.91 1481.64 L1775.91 1455.28 L1767.6 1456.95 L1767.6 1452.69 L1775.86 1451.02 L1780.54 1451.02 L1780.54 1481.64 L1788.18 1481.64 L1788.18 1485.58 L1768.27 1485.58 L1768.27 1481.64 Z\" fill=\"#000000\" fill-rule=\"evenodd\" fill-opacity=\"1\" /><path clip-path=\"url(#clip340)\" d=\"M1807.62 1454.1 Q1804.01 1454.1 1802.18 1457.66 Q1800.38 1461.2 1800.38 1468.33 Q1800.38 1475.44 1802.18 1479.01 Q1804.01 1482.55 1807.62 1482.55 Q1811.25 1482.55 1813.06 1479.01 Q1814.89 1475.44 1814.89 1468.33 Q1814.89 1461.2 1813.06 1457.66 Q1811.25 1454.1 1807.62 1454.1 M1807.62 1450.39 Q1813.43 1450.39 1816.49 1455 Q1819.57 1459.58 1819.57 1468.33 Q1819.57 1477.06 1816.49 1481.67 Q1813.43 1486.25 1807.62 1486.25 Q1801.81 1486.25 1798.73 1481.67 Q1795.68 1477.06 1795.68 1468.33 Q1795.68 1459.58 1798.73 1455 Q1801.81 1450.39 1807.62 1450.39 Z\" fill=\"#000000\" fill-rule=\"evenodd\" fill-opacity=\"1\" /><path clip-path=\"url(#clip340)\" d=\"M1837.78 1454.1 Q1834.17 1454.1 1832.34 1457.66 Q1830.54 1461.2 1830.54 1468.33 Q1830.54 1475.44 1832.34 1479.01 Q1834.17 1482.55 1837.78 1482.55 Q1841.42 1482.55 1843.22 1479.01 Q1845.05 1475.44 1845.05 1468.33 Q1845.05 1461.2 1843.22 1457.66 Q1841.42 1454.1 1837.78 1454.1 M1837.78 1450.39 Q1843.59 1450.39 1846.65 1455 Q1849.73 1459.58 1849.73 1468.33 Q1849.73 1477.06 1846.65 1481.67 Q1843.59 1486.25 1837.78 1486.25 Q1831.97 1486.25 1828.89 1481.67 Q1825.84 1477.06 1825.84 1468.33 Q1825.84 1459.58 1828.89 1455 Q1831.97 1450.39 1837.78 1450.39 Z\" fill=\"#000000\" fill-rule=\"evenodd\" fill-opacity=\"1\" /><path clip-path=\"url(#clip340)\" d=\"M2293.02 1454.1 Q2289.41 1454.1 2287.58 1457.66 Q2285.78 1461.2 2285.78 1468.33 Q2285.78 1475.44 2287.58 1479.01 Q2289.41 1482.55 2293.02 1482.55 Q2296.66 1482.55 2298.46 1479.01 Q2300.29 1475.44 2300.29 1468.33 Q2300.29 1461.2 2298.46 1457.66 Q2296.66 1454.1 2293.02 1454.1 M2293.02 1450.39 Q2298.83 1450.39 2301.89 1455 Q2304.97 1459.58 2304.97 1468.33 Q2304.97 1477.06 2301.89 1481.67 Q2298.83 1486.25 2293.02 1486.25 Q2287.21 1486.25 2284.13 1481.67 Q2281.08 1477.06 2281.08 1468.33 Q2281.08 1459.58 2284.13 1455 Q2287.21 1450.39 2293.02 1450.39 Z\" fill=\"#000000\" fill-rule=\"evenodd\" fill-opacity=\"1\" /><path clip-path=\"url(#clip340)\" d=\"M1258.24 1527.37 Q1258.24 1527.59 1257.69 1528.56 Q1257.18 1529.49 1255.27 1531.84 Q1253.37 1534.19 1250.54 1536.93 Q1249.48 1537.99 1247.87 1539.47 Q1246.26 1540.96 1245.16 1541.92 L1244.07 1542.89 Q1239.88 1546.43 1236.21 1550.39 Q1236.47 1550.3 1236.92 1550.26 Q1237.37 1550.2 1237.69 1550.2 L1238.01 1550.2 Q1239.69 1550.2 1242.62 1551.33 Q1245.19 1552.16 1246.51 1552.16 Q1247.8 1552.16 1249.22 1551.71 Q1250.64 1551.26 1252.18 1549.94 Q1253.73 1548.62 1254.44 1546.62 Q1254.57 1546.3 1254.63 1546.21 Q1254.7 1546.08 1254.89 1545.95 Q1255.08 1545.79 1255.34 1545.79 Q1255.69 1545.79 1255.92 1545.98 Q1256.14 1546.17 1256.14 1546.43 Q1256.14 1547.01 1255.69 1548.17 Q1255.27 1549.33 1254.34 1550.78 Q1253.44 1552.23 1252.25 1553.55 Q1251.09 1554.84 1249.35 1555.74 Q1247.61 1556.61 1245.77 1556.61 Q1244.45 1556.61 1243.49 1555.96 Q1242.52 1555.35 1241.56 1554.16 Q1240.23 1552.65 1239.53 1552.16 Q1238.82 1551.65 1237.72 1551.65 Q1234.79 1551.65 1232.12 1555.74 Q1231.83 1556.32 1231.64 1556.45 Q1231.47 1556.61 1231.09 1556.61 Q1230.28 1556.58 1230.28 1555.93 Q1230.28 1555.67 1230.99 1554.55 Q1231.73 1553.39 1233.37 1551.36 Q1235.05 1549.33 1237.08 1547.3 L1243 1541.76 Q1249.57 1536.22 1252.18 1533.1 Q1251.09 1533.1 1250.61 1533.07 Q1250.15 1533.03 1249.25 1532.84 Q1248.35 1532.62 1247.09 1532.13 Q1244.16 1531.13 1242.94 1531.13 Q1242.62 1531.13 1242.26 1531.17 Q1241.91 1531.2 1241.1 1531.36 Q1240.33 1531.52 1239.69 1531.84 Q1239.04 1532.13 1238.37 1532.78 Q1237.69 1533.39 1237.34 1534.23 Q1237.24 1534.48 1237.18 1534.61 Q1237.11 1534.74 1236.92 1534.87 Q1236.76 1534.97 1236.5 1534.97 Q1236.11 1534.97 1235.89 1534.74 Q1235.69 1534.52 1235.69 1534.23 Q1235.69 1533.65 1236.27 1532.45 Q1236.85 1531.26 1237.82 1529.97 Q1238.79 1528.65 1240.36 1527.69 Q1241.94 1526.72 1243.68 1526.72 Q1244.71 1526.72 1245.58 1527.17 Q1246.48 1527.62 1246.93 1528.11 Q1247.42 1528.56 1248.22 1529.56 Q1248.9 1530.33 1249.22 1530.65 Q1249.54 1530.97 1250.19 1531.33 Q1250.86 1531.65 1251.6 1531.65 Q1252.83 1531.65 1253.95 1530.72 Q1255.08 1529.75 1256.53 1527.43 Q1256.92 1526.72 1257.53 1526.72 Q1258.24 1526.72 1258.24 1527.37 Z\" fill=\"#000000\" fill-rule=\"evenodd\" fill-opacity=\"1\" /><path clip-path=\"url(#clip340)\" d=\"M1278.08 1572.36 L1278.08 1506.4 L1288.03 1506.4 L1288.03 1507.91 L1282.49 1507.91 L1282.49 1570.84 L1288.03 1570.84 L1288.03 1572.36 L1278.08 1572.36 Z\" fill=\"#000000\" fill-rule=\"evenodd\" fill-opacity=\"1\" /><path clip-path=\"url(#clip340)\" d=\"M1343.41 1546.43 Q1343.41 1546.69 1343.12 1547.69 Q1342.83 1548.69 1342.12 1550.23 Q1341.44 1551.78 1340.48 1553.19 Q1339.54 1554.58 1338 1555.61 Q1336.48 1556.61 1334.75 1556.61 Q1332.43 1556.61 1330.88 1555.06 Q1329.34 1553.52 1329.34 1551.2 Q1329.34 1549.94 1330.2 1547.56 Q1334.29 1536.67 1334.29 1532.78 Q1334.29 1528.17 1330.72 1528.17 Q1328.69 1528.17 1326.86 1529.01 Q1325.02 1529.85 1323.83 1531 Q1322.64 1532.16 1321.7 1533.48 Q1320.77 1534.81 1320.35 1535.67 Q1319.96 1536.54 1319.87 1536.93 L1315.91 1552.84 Q1315.58 1554.19 1315.36 1554.84 Q1315.13 1555.48 1314.52 1556.03 Q1313.91 1556.61 1312.94 1556.61 Q1312.14 1556.61 1311.56 1556.13 Q1311.01 1555.64 1311.01 1554.8 Q1311.01 1554.68 1311.17 1554 Q1311.33 1553.32 1311.56 1552.39 Q1311.78 1551.46 1311.88 1550.91 Q1313.04 1546.53 1313.2 1545.92 L1315.04 1538.25 Q1316.03 1534.45 1316.03 1532.78 Q1316.03 1528.17 1312.46 1528.17 Q1310.69 1528.17 1309.01 1528.85 Q1307.37 1529.49 1306.24 1530.39 Q1305.12 1531.29 1304.09 1532.55 Q1303.09 1533.77 1302.57 1534.61 Q1302.09 1535.42 1301.7 1536.22 L1300.87 1539.51 Q1300.67 1540.41 1299.74 1543.92 L1298.29 1549.88 Q1297.26 1554.32 1297.03 1554.74 Q1296.71 1555.64 1296 1556.13 Q1295.29 1556.61 1294.59 1556.61 Q1293.78 1556.61 1293.23 1556.13 Q1292.68 1555.64 1292.68 1554.8 Q1292.68 1554.68 1292.78 1554.19 Q1292.88 1553.71 1293.04 1553.03 Q1293.2 1552.36 1293.26 1551.97 L1297.1 1536.74 Q1297.81 1533.97 1297.97 1533.1 Q1298.16 1532.2 1298.16 1531.2 Q1298.16 1528.17 1296.1 1528.17 Q1294.42 1528.17 1293.33 1530.17 Q1292.23 1532.16 1291.3 1536.03 Q1291.01 1537.09 1290.82 1537.32 Q1290.66 1537.54 1290.17 1537.54 Q1289.37 1537.51 1289.37 1536.87 Q1289.37 1536.71 1289.63 1535.67 Q1289.88 1534.64 1290.37 1533.1 Q1290.88 1531.52 1291.43 1530.49 Q1291.75 1529.81 1292.04 1529.36 Q1292.33 1528.91 1292.91 1528.2 Q1293.49 1527.49 1294.36 1527.11 Q1295.23 1526.72 1296.29 1526.72 Q1298.64 1526.72 1300.38 1528.24 Q1302.15 1529.75 1302.38 1532.45 Q1306.66 1526.72 1312.65 1526.72 Q1316.03 1526.72 1318.06 1528.43 Q1319.96 1530.07 1320.19 1533.1 Q1324.63 1526.72 1330.95 1526.72 Q1334.58 1526.72 1336.55 1528.62 Q1338.51 1530.49 1338.51 1533.77 Q1338.51 1535.48 1337.64 1538.73 Q1336.77 1541.95 1336.19 1543.57 Q1335.62 1545.18 1334.49 1548.27 Q1333.3 1551.23 1333.3 1552.97 Q1333.3 1554.1 1333.68 1554.61 Q1334.07 1555.13 1334.91 1555.13 Q1336.19 1555.13 1337.32 1554.39 Q1338.45 1553.61 1339.25 1552.36 Q1340.09 1551.07 1340.64 1549.78 Q1341.19 1548.46 1341.61 1546.98 Q1341.86 1546.17 1341.99 1545.98 Q1342.15 1545.79 1342.6 1545.79 Q1343.41 1545.79 1343.41 1546.43 Z\" fill=\"#000000\" fill-rule=\"evenodd\" fill-opacity=\"1\" /><path clip-path=\"url(#clip340)\" d=\"M1346.46 1570.84 L1352 1570.84 L1352 1507.91 L1346.46 1507.91 L1346.46 1506.4 L1356.41 1506.4 L1356.41 1572.36 L1346.46 1572.36 L1346.46 1570.84 Z\" fill=\"#000000\" fill-rule=\"evenodd\" fill-opacity=\"1\" /><polyline clip-path=\"url(#clip342)\" style=\"stroke:#000000; stroke-linecap:round; stroke-linejoin:round; stroke-width:2; stroke-opacity:0.1; fill:none\" points=\"242.135,1339.49 2352.76,1339.49 \"/>\n",
       "<polyline clip-path=\"url(#clip342)\" style=\"stroke:#000000; stroke-linecap:round; stroke-linejoin:round; stroke-width:2; stroke-opacity:0.1; fill:none\" points=\"242.135,1134.63 2352.76,1134.63 \"/>\n",
       "<polyline clip-path=\"url(#clip342)\" style=\"stroke:#000000; stroke-linecap:round; stroke-linejoin:round; stroke-width:2; stroke-opacity:0.1; fill:none\" points=\"242.135,929.756 2352.76,929.756 \"/>\n",
       "<polyline clip-path=\"url(#clip342)\" style=\"stroke:#000000; stroke-linecap:round; stroke-linejoin:round; stroke-width:2; stroke-opacity:0.1; fill:none\" points=\"242.135,724.887 2352.76,724.887 \"/>\n",
       "<polyline clip-path=\"url(#clip342)\" style=\"stroke:#000000; stroke-linecap:round; stroke-linejoin:round; stroke-width:2; stroke-opacity:0.1; fill:none\" points=\"242.135,520.017 2352.76,520.017 \"/>\n",
       "<polyline clip-path=\"url(#clip342)\" style=\"stroke:#000000; stroke-linecap:round; stroke-linejoin:round; stroke-width:2; stroke-opacity:0.1; fill:none\" points=\"242.135,315.148 2352.76,315.148 \"/>\n",
       "<polyline clip-path=\"url(#clip342)\" style=\"stroke:#000000; stroke-linecap:round; stroke-linejoin:round; stroke-width:2; stroke-opacity:0.1; fill:none\" points=\"242.135,110.278 2352.76,110.278 \"/>\n",
       "<polyline clip-path=\"url(#clip340)\" style=\"stroke:#000000; stroke-linecap:round; stroke-linejoin:round; stroke-width:4; stroke-opacity:1; fill:none\" points=\"242.135,1423.18 242.135,47.2441 \"/>\n",
       "<polyline clip-path=\"url(#clip340)\" style=\"stroke:#000000; stroke-linecap:round; stroke-linejoin:round; stroke-width:4; stroke-opacity:1; fill:none\" points=\"242.135,1339.49 261.032,1339.49 \"/>\n",
       "<polyline clip-path=\"url(#clip340)\" style=\"stroke:#000000; stroke-linecap:round; stroke-linejoin:round; stroke-width:4; stroke-opacity:1; fill:none\" points=\"242.135,1134.63 261.032,1134.63 \"/>\n",
       "<polyline clip-path=\"url(#clip340)\" style=\"stroke:#000000; stroke-linecap:round; stroke-linejoin:round; stroke-width:4; stroke-opacity:1; fill:none\" points=\"242.135,929.756 261.032,929.756 \"/>\n",
       "<polyline clip-path=\"url(#clip340)\" style=\"stroke:#000000; stroke-linecap:round; stroke-linejoin:round; stroke-width:4; stroke-opacity:1; fill:none\" points=\"242.135,724.887 261.032,724.887 \"/>\n",
       "<polyline clip-path=\"url(#clip340)\" style=\"stroke:#000000; stroke-linecap:round; stroke-linejoin:round; stroke-width:4; stroke-opacity:1; fill:none\" points=\"242.135,520.017 261.032,520.017 \"/>\n",
       "<polyline clip-path=\"url(#clip340)\" style=\"stroke:#000000; stroke-linecap:round; stroke-linejoin:round; stroke-width:4; stroke-opacity:1; fill:none\" points=\"242.135,315.148 261.032,315.148 \"/>\n",
       "<polyline clip-path=\"url(#clip340)\" style=\"stroke:#000000; stroke-linecap:round; stroke-linejoin:round; stroke-width:4; stroke-opacity:1; fill:none\" points=\"242.135,110.278 261.032,110.278 \"/>\n",
       "<path clip-path=\"url(#clip340)\" d=\"M115.256 1339.95 L144.931 1339.95 L144.931 1343.88 L115.256 1343.88 L115.256 1339.95 Z\" fill=\"#000000\" fill-rule=\"evenodd\" fill-opacity=\"1\" /><path clip-path=\"url(#clip340)\" d=\"M169.19 1338.14 Q172.547 1338.86 174.422 1341.13 Q176.32 1343.4 176.32 1346.73 Q176.32 1351.84 172.802 1354.65 Q169.283 1357.45 162.802 1357.45 Q160.626 1357.45 158.311 1357.01 Q156.019 1356.59 153.566 1355.73 L153.566 1351.22 Q155.51 1352.35 157.825 1352.93 Q160.14 1353.51 162.663 1353.51 Q167.061 1353.51 169.352 1351.77 Q171.667 1350.04 171.667 1346.73 Q171.667 1343.67 169.514 1341.96 Q167.385 1340.22 163.565 1340.22 L159.538 1340.22 L159.538 1336.38 L163.751 1336.38 Q167.2 1336.38 169.028 1335.02 Q170.857 1333.63 170.857 1331.03 Q170.857 1328.37 168.959 1326.96 Q167.084 1325.52 163.565 1325.52 Q161.644 1325.52 159.445 1325.94 Q157.246 1326.36 154.607 1327.24 L154.607 1323.07 Q157.269 1322.33 159.584 1321.96 Q161.922 1321.59 163.982 1321.59 Q169.306 1321.59 172.408 1324.02 Q175.51 1326.43 175.51 1330.55 Q175.51 1333.42 173.866 1335.41 Q172.223 1337.38 169.19 1338.14 Z\" fill=\"#000000\" fill-rule=\"evenodd\" fill-opacity=\"1\" /><path clip-path=\"url(#clip340)\" d=\"M185.232 1322.21 L203.588 1322.21 L203.588 1326.15 L189.514 1326.15 L189.514 1334.62 Q190.533 1334.27 191.551 1334.11 Q192.57 1333.93 193.588 1333.93 Q199.375 1333.93 202.755 1337.1 Q206.135 1340.27 206.135 1345.69 Q206.135 1351.27 202.662 1354.37 Q199.19 1357.45 192.871 1357.45 Q190.695 1357.45 188.426 1357.08 Q186.181 1356.71 183.774 1355.96 L183.774 1351.27 Q185.857 1352.4 188.079 1352.96 Q190.301 1353.51 192.778 1353.51 Q196.783 1353.51 199.121 1351.4 Q201.459 1349.3 201.459 1345.69 Q201.459 1342.08 199.121 1339.97 Q196.783 1337.86 192.778 1337.86 Q190.903 1337.86 189.028 1338.28 Q187.176 1338.7 185.232 1339.58 L185.232 1322.21 Z\" fill=\"#000000\" fill-rule=\"evenodd\" fill-opacity=\"1\" /><path clip-path=\"url(#clip340)\" d=\"M114.26 1135.08 L143.936 1135.08 L143.936 1139.01 L114.26 1139.01 L114.26 1135.08 Z\" fill=\"#000000\" fill-rule=\"evenodd\" fill-opacity=\"1\" /><path clip-path=\"url(#clip340)\" d=\"M168.195 1133.27 Q171.552 1133.99 173.427 1136.26 Q175.325 1138.53 175.325 1141.86 Q175.325 1146.97 171.806 1149.78 Q168.288 1152.58 161.806 1152.58 Q159.63 1152.58 157.315 1152.14 Q155.024 1151.72 152.57 1150.86 L152.57 1146.35 Q154.515 1147.48 156.829 1148.06 Q159.144 1148.64 161.667 1148.64 Q166.065 1148.64 168.357 1146.91 Q170.672 1145.17 170.672 1141.86 Q170.672 1138.8 168.519 1137.09 Q166.39 1135.35 162.57 1135.35 L158.542 1135.35 L158.542 1131.51 L162.755 1131.51 Q166.204 1131.51 168.033 1130.15 Q169.862 1128.76 169.862 1126.16 Q169.862 1123.5 167.964 1122.09 Q166.089 1120.66 162.57 1120.66 Q160.649 1120.66 158.45 1121.07 Q156.251 1121.49 153.612 1122.37 L153.612 1118.2 Q156.274 1117.46 158.589 1117.09 Q160.927 1116.72 162.987 1116.72 Q168.311 1116.72 171.413 1119.15 Q174.514 1121.56 174.514 1125.68 Q174.514 1128.55 172.871 1130.54 Q171.227 1132.51 168.195 1133.27 Z\" fill=\"#000000\" fill-rule=\"evenodd\" fill-opacity=\"1\" /><path clip-path=\"url(#clip340)\" d=\"M194.19 1120.42 Q190.579 1120.42 188.75 1123.99 Q186.945 1127.53 186.945 1134.66 Q186.945 1141.77 188.75 1145.33 Q190.579 1148.87 194.19 1148.87 Q197.825 1148.87 199.63 1145.33 Q201.459 1141.77 201.459 1134.66 Q201.459 1127.53 199.63 1123.99 Q197.825 1120.42 194.19 1120.42 M194.19 1116.72 Q200 1116.72 203.056 1121.33 Q206.135 1125.91 206.135 1134.66 Q206.135 1143.39 203.056 1147.99 Q200 1152.58 194.19 1152.58 Q188.38 1152.58 185.301 1147.99 Q182.246 1143.39 182.246 1134.66 Q182.246 1125.91 185.301 1121.33 Q188.38 1116.72 194.19 1116.72 Z\" fill=\"#000000\" fill-rule=\"evenodd\" fill-opacity=\"1\" /><path clip-path=\"url(#clip340)\" d=\"M115.256 930.207 L144.931 930.207 L144.931 934.143 L115.256 934.143 L115.256 930.207 Z\" fill=\"#000000\" fill-rule=\"evenodd\" fill-opacity=\"1\" /><path clip-path=\"url(#clip340)\" d=\"M159.052 943.101 L175.371 943.101 L175.371 947.036 L153.427 947.036 L153.427 943.101 Q156.089 940.346 160.672 935.717 Q165.278 931.064 166.459 929.721 Q168.704 927.198 169.584 925.462 Q170.487 923.703 170.487 922.013 Q170.487 919.258 168.542 917.522 Q166.621 915.786 163.519 915.786 Q161.32 915.786 158.866 916.55 Q156.436 917.314 153.658 918.865 L153.658 914.143 Q156.482 913.008 158.936 912.43 Q161.39 911.851 163.427 911.851 Q168.797 911.851 171.991 914.536 Q175.186 917.221 175.186 921.712 Q175.186 923.842 174.376 925.763 Q173.589 927.661 171.482 930.254 Q170.903 930.925 167.802 934.143 Q164.7 937.337 159.052 943.101 Z\" fill=\"#000000\" fill-rule=\"evenodd\" fill-opacity=\"1\" /><path clip-path=\"url(#clip340)\" d=\"M185.232 912.476 L203.588 912.476 L203.588 916.411 L189.514 916.411 L189.514 924.883 Q190.533 924.536 191.551 924.374 Q192.57 924.189 193.588 924.189 Q199.375 924.189 202.755 927.36 Q206.135 930.531 206.135 935.948 Q206.135 941.527 202.662 944.629 Q199.19 947.707 192.871 947.707 Q190.695 947.707 188.426 947.337 Q186.181 946.967 183.774 946.226 L183.774 941.527 Q185.857 942.661 188.079 943.217 Q190.301 943.772 192.778 943.772 Q196.783 943.772 199.121 941.666 Q201.459 939.559 201.459 935.948 Q201.459 932.337 199.121 930.23 Q196.783 928.124 192.778 928.124 Q190.903 928.124 189.028 928.541 Q187.176 928.957 185.232 929.837 L185.232 912.476 Z\" fill=\"#000000\" fill-rule=\"evenodd\" fill-opacity=\"1\" /><path clip-path=\"url(#clip340)\" d=\"M114.26 725.338 L143.936 725.338 L143.936 729.273 L114.26 729.273 L114.26 725.338 Z\" fill=\"#000000\" fill-rule=\"evenodd\" fill-opacity=\"1\" /><path clip-path=\"url(#clip340)\" d=\"M158.056 738.231 L174.376 738.231 L174.376 742.167 L152.431 742.167 L152.431 738.231 Q155.093 735.477 159.677 730.847 Q164.283 726.194 165.464 724.852 Q167.709 722.329 168.589 720.593 Q169.491 718.833 169.491 717.144 Q169.491 714.389 167.547 712.653 Q165.626 710.917 162.524 710.917 Q160.325 710.917 157.871 711.681 Q155.44 712.444 152.663 713.995 L152.663 709.273 Q155.487 708.139 157.94 707.56 Q160.394 706.982 162.431 706.982 Q167.802 706.982 170.996 709.667 Q174.19 712.352 174.19 716.843 Q174.19 718.972 173.38 720.894 Q172.593 722.792 170.487 725.384 Q169.908 726.056 166.806 729.273 Q163.704 732.468 158.056 738.231 Z\" fill=\"#000000\" fill-rule=\"evenodd\" fill-opacity=\"1\" /><path clip-path=\"url(#clip340)\" d=\"M194.19 710.685 Q190.579 710.685 188.75 714.25 Q186.945 717.792 186.945 724.921 Q186.945 732.028 188.75 735.593 Q190.579 739.134 194.19 739.134 Q197.825 739.134 199.63 735.593 Q201.459 732.028 201.459 724.921 Q201.459 717.792 199.63 714.25 Q197.825 710.685 194.19 710.685 M194.19 706.982 Q200 706.982 203.056 711.588 Q206.135 716.171 206.135 724.921 Q206.135 733.648 203.056 738.255 Q200 742.838 194.19 742.838 Q188.38 742.838 185.301 738.255 Q182.246 733.648 182.246 724.921 Q182.246 716.171 185.301 711.588 Q188.38 706.982 194.19 706.982 Z\" fill=\"#000000\" fill-rule=\"evenodd\" fill-opacity=\"1\" /><path clip-path=\"url(#clip340)\" d=\"M115.256 520.469 L144.931 520.469 L144.931 524.404 L115.256 524.404 L115.256 520.469 Z\" fill=\"#000000\" fill-rule=\"evenodd\" fill-opacity=\"1\" /><path clip-path=\"url(#clip340)\" d=\"M155.834 533.362 L163.473 533.362 L163.473 506.996 L155.163 508.663 L155.163 504.404 L163.427 502.737 L168.102 502.737 L168.102 533.362 L175.741 533.362 L175.741 537.297 L155.834 537.297 L155.834 533.362 Z\" fill=\"#000000\" fill-rule=\"evenodd\" fill-opacity=\"1\" /><path clip-path=\"url(#clip340)\" d=\"M185.232 502.737 L203.588 502.737 L203.588 506.672 L189.514 506.672 L189.514 515.144 Q190.533 514.797 191.551 514.635 Q192.57 514.45 193.588 514.45 Q199.375 514.45 202.755 517.621 Q206.135 520.793 206.135 526.209 Q206.135 531.788 202.662 534.89 Q199.19 537.968 192.871 537.968 Q190.695 537.968 188.426 537.598 Q186.181 537.228 183.774 536.487 L183.774 531.788 Q185.857 532.922 188.079 533.478 Q190.301 534.033 192.778 534.033 Q196.783 534.033 199.121 531.927 Q201.459 529.82 201.459 526.209 Q201.459 522.598 199.121 520.492 Q196.783 518.385 192.778 518.385 Q190.903 518.385 189.028 518.802 Q187.176 519.219 185.232 520.098 L185.232 502.737 Z\" fill=\"#000000\" fill-rule=\"evenodd\" fill-opacity=\"1\" /><path clip-path=\"url(#clip340)\" d=\"M114.26 315.599 L143.936 315.599 L143.936 319.534 L114.26 319.534 L114.26 315.599 Z\" fill=\"#000000\" fill-rule=\"evenodd\" fill-opacity=\"1\" /><path clip-path=\"url(#clip340)\" d=\"M154.839 328.493 L162.477 328.493 L162.477 302.127 L154.167 303.794 L154.167 299.534 L162.431 297.868 L167.107 297.868 L167.107 328.493 L174.746 328.493 L174.746 332.428 L154.839 332.428 L154.839 328.493 Z\" fill=\"#000000\" fill-rule=\"evenodd\" fill-opacity=\"1\" /><path clip-path=\"url(#clip340)\" d=\"M194.19 300.946 Q190.579 300.946 188.75 304.511 Q186.945 308.053 186.945 315.182 Q186.945 322.289 188.75 325.854 Q190.579 329.395 194.19 329.395 Q197.825 329.395 199.63 325.854 Q201.459 322.289 201.459 315.182 Q201.459 308.053 199.63 304.511 Q197.825 300.946 194.19 300.946 M194.19 297.243 Q200 297.243 203.056 301.849 Q206.135 306.432 206.135 315.182 Q206.135 323.909 203.056 328.516 Q200 333.099 194.19 333.099 Q188.38 333.099 185.301 328.516 Q182.246 323.909 182.246 315.182 Q182.246 306.432 185.301 301.849 Q188.38 297.243 194.19 297.243 Z\" fill=\"#000000\" fill-rule=\"evenodd\" fill-opacity=\"1\" /><path clip-path=\"url(#clip340)\" d=\"M145.417 110.73 L175.093 110.73 L175.093 114.665 L145.417 114.665 L145.417 110.73 Z\" fill=\"#000000\" fill-rule=\"evenodd\" fill-opacity=\"1\" /><path clip-path=\"url(#clip340)\" d=\"M185.232 92.9983 L203.588 92.9983 L203.588 96.9335 L189.514 96.9335 L189.514 105.406 Q190.533 105.058 191.551 104.896 Q192.57 104.711 193.588 104.711 Q199.375 104.711 202.755 107.882 Q206.135 111.054 206.135 116.47 Q206.135 122.049 202.662 125.151 Q199.19 128.23 192.871 128.23 Q190.695 128.23 188.426 127.859 Q186.181 127.489 183.774 126.748 L183.774 122.049 Q185.857 123.183 188.079 123.739 Q190.301 124.294 192.778 124.294 Q196.783 124.294 199.121 122.188 Q201.459 120.082 201.459 116.47 Q201.459 112.859 199.121 110.753 Q196.783 108.646 192.778 108.646 Q190.903 108.646 189.028 109.063 Q187.176 109.48 185.232 110.359 L185.232 92.9983 Z\" fill=\"#000000\" fill-rule=\"evenodd\" fill-opacity=\"1\" /><path clip-path=\"url(#clip340)\" d=\"M41.5432 805.058 Q42.3806 805.058 44.0231 805.284 Q45.6656 805.509 48.0488 806.057 Q50.432 806.604 52.9441 807.409 Q55.4562 808.182 57.9682 809.406 Q60.4481 810.63 62.4126 812.079 Q64.3772 813.528 65.601 815.557 Q66.8248 817.586 66.8248 819.873 Q66.8248 820.936 66.6638 821.966 Q66.5028 822.997 65.9875 824.285 Q65.4722 825.573 64.6348 826.507 Q63.7653 827.441 62.2194 828.085 Q60.6735 828.73 58.6445 828.73 Q56.5512 828.73 53.7493 827.957 Q50.9151 827.151 45.1181 824.961 Q42.1229 823.834 40.4804 823.834 Q39.7397 823.834 39.2888 823.995 Q38.8057 824.156 38.6447 824.478 Q38.4515 824.8 38.4193 824.994 Q38.3871 825.155 38.3871 825.477 Q38.3871 827.248 40.2228 829.052 Q42.0585 830.855 46.5673 832.143 Q47.3725 832.401 47.5657 832.562 Q47.759 832.723 47.759 833.206 Q47.7268 834.011 47.0826 834.011 Q46.8894 834.011 46.1487 833.786 Q45.3757 833.56 44.2163 833.142 Q43.0247 832.723 41.8009 831.982 Q40.5448 831.242 39.4498 830.34 Q38.3548 829.406 37.6463 828.085 Q36.9378 826.765 36.9378 825.284 Q36.9378 822.868 38.5159 821.387 Q40.0618 819.873 42.3484 819.873 Q43.6044 819.873 45.6334 820.678 Q49.3048 822.031 51.0762 822.643 Q52.8475 823.255 55.3595 823.899 Q57.8716 824.511 59.6107 824.511 Q62.2516 824.511 63.7975 823.287 Q65.3434 822.063 65.3434 819.615 Q65.3434 817.425 63.7653 815.461 Q62.155 813.464 59.8684 812.144 Q57.5495 810.823 54.9731 809.825 Q52.3644 808.826 50.3998 808.375 Q48.4031 807.892 47.4691 807.892 Q44.2163 807.892 42.0907 810.115 Q41.4788 810.726 41.0923 810.952 Q40.7059 811.177 40.094 811.177 Q38.9668 811.177 37.9684 810.179 Q36.9378 809.148 36.9378 807.957 Q36.9378 806.862 38.0328 805.96 Q39.1278 805.058 41.5432 805.058 Z\" fill=\"#000000\" fill-rule=\"evenodd\" fill-opacity=\"1\" /><path clip-path=\"url(#clip340)\" d=\"M82.5735 784.905 L16.6159 784.905 L16.6159 774.954 L18.1296 774.954 L18.1296 780.493 L81.0598 780.493 L81.0598 774.954 L82.5735 774.954 L82.5735 784.905 Z\" fill=\"#000000\" fill-rule=\"evenodd\" fill-opacity=\"1\" /><path clip-path=\"url(#clip340)\" d=\"M56.6478 719.578 Q56.9054 719.578 57.9038 719.867 Q58.9022 720.157 60.4481 720.866 Q61.994 721.542 63.411 722.508 Q64.7959 723.442 65.8264 724.988 Q66.8248 726.502 66.8248 728.241 Q66.8248 730.56 65.2789 732.106 Q63.7331 733.652 61.4142 733.652 Q60.1582 733.652 57.775 732.782 Q46.8894 728.692 42.9925 728.692 Q38.3871 728.692 38.3871 732.267 Q38.3871 734.296 39.2244 736.131 Q40.0618 737.967 41.2212 739.159 Q42.3806 740.35 43.701 741.284 Q45.0215 742.218 45.891 742.637 Q46.7606 743.023 47.147 743.12 L63.0567 747.081 Q64.4094 747.403 65.0535 747.629 Q65.6976 747.854 66.2451 748.466 Q66.8248 749.078 66.8248 750.044 Q66.8248 750.849 66.3417 751.429 Q65.8587 751.977 65.0213 751.977 Q64.8925 751.977 64.2162 751.816 Q63.5398 751.655 62.6059 751.429 Q61.6719 751.204 61.1244 751.107 Q56.7444 749.948 56.1325 749.787 L48.4675 747.951 Q44.6672 746.953 42.9925 746.953 Q38.3871 746.953 38.3871 750.527 Q38.3871 752.299 39.0634 753.973 Q39.7075 755.616 40.6093 756.743 Q41.511 757.87 42.7671 758.901 Q43.9909 759.899 44.8282 760.415 Q45.6334 760.898 46.4385 761.284 L49.7235 762.121 Q50.6253 762.315 54.1357 763.249 L60.0938 764.698 Q64.5382 765.729 64.9569 765.954 Q65.8587 766.276 66.3417 766.985 Q66.8248 767.693 66.8248 768.402 Q66.8248 769.207 66.3417 769.754 Q65.8587 770.302 65.0213 770.302 Q64.8925 770.302 64.4094 770.205 Q63.9263 770.109 63.25 769.948 Q62.5737 769.786 62.1872 769.722 L46.9538 765.89 Q44.1841 765.181 43.3146 765.02 Q42.4128 764.827 41.4144 764.827 Q38.3871 764.827 38.3871 766.888 Q38.3871 768.563 40.3838 769.658 Q42.3806 770.753 46.2453 771.687 Q47.3081 771.976 47.5335 772.17 Q47.759 772.331 47.759 772.814 Q47.7268 773.619 47.0826 773.619 Q46.9216 773.619 45.891 773.361 Q44.8604 773.104 43.3146 772.621 Q41.7365 772.105 40.7059 771.558 Q40.0296 771.236 39.5787 770.946 Q39.1278 770.656 38.4193 770.076 Q37.7107 769.497 37.3243 768.627 Q36.9378 767.758 36.9378 766.695 Q36.9378 764.344 38.4515 762.605 Q39.9651 760.833 42.6704 760.608 Q36.9378 756.324 36.9378 750.334 Q36.9378 746.953 38.6447 744.924 Q40.2872 743.023 43.3146 742.798 Q36.9378 738.354 36.9378 732.041 Q36.9378 728.402 38.8379 726.437 Q40.7059 724.473 43.9909 724.473 Q45.6978 724.473 48.9506 725.342 Q52.1712 726.212 53.7815 726.792 Q55.3917 727.371 58.4835 728.499 Q61.4465 729.69 63.1856 729.69 Q64.3128 729.69 64.8281 729.304 Q65.3434 728.917 65.3434 728.08 Q65.3434 726.792 64.6026 725.664 Q63.8297 724.537 62.5737 723.732 Q61.2854 722.895 59.9972 722.347 Q58.6767 721.8 57.1953 721.381 Q56.3901 721.123 56.1969 720.995 Q56.0037 720.834 56.0037 720.383 Q56.0037 719.578 56.6478 719.578 Z\" fill=\"#000000\" fill-rule=\"evenodd\" fill-opacity=\"1\" /><path clip-path=\"url(#clip340)\" d=\"M81.6395 716.265 Q81.3175 716.265 80.6089 716.008 L18.3872 692.723 Q18.3228 692.723 17.9685 692.562 Q17.6143 692.401 17.3888 692.304 Q17.1312 692.208 16.938 692.014 Q16.7447 691.789 16.7447 691.531 Q16.7447 690.887 17.5499 690.887 Q17.6143 690.887 18.3872 691.081 L80.6734 714.43 Q81.8006 714.816 82.1226 715.074 Q82.4447 715.299 82.4447 715.686 Q82.4447 716.265 81.6395 716.265 Z\" fill=\"#000000\" fill-rule=\"evenodd\" fill-opacity=\"1\" /><path clip-path=\"url(#clip340)\" d=\"M42.606 659.318 Q44.4096 659.318 45.3757 660.22 Q46.3097 661.122 46.3097 662.346 Q46.3097 663.344 45.73 663.891 Q45.1503 664.407 44.3773 664.407 Q43.2501 664.407 42.3484 663.505 Q41.4466 662.571 41.4144 661.218 Q40.2228 661.669 39.5143 662.861 Q38.7735 664.052 38.5803 665.115 Q38.3871 666.146 38.3871 667.176 Q38.3871 669.205 39.0312 670.751 Q39.6753 672.297 40.6737 673.07 Q41.6398 673.843 42.5738 674.197 Q43.5078 674.552 44.3129 674.552 Q45.0215 674.552 45.6012 674.391 Q46.1487 674.197 46.5673 673.746 Q46.9538 673.296 47.2115 672.973 Q47.4691 672.619 47.6945 671.846 Q47.92 671.073 48.0166 670.751 Q48.081 670.429 48.2743 669.527 Q48.6607 667.66 48.8862 666.822 Q49.0794 665.985 49.6269 664.89 Q50.1744 663.763 51.044 662.925 Q53.0729 660.896 55.8748 660.896 Q56.9054 660.896 58.1615 661.251 Q59.4175 661.573 60.9956 662.507 Q62.5737 663.441 63.8297 664.858 Q65.0857 666.275 65.9553 668.722 Q66.8248 671.138 66.8248 674.165 Q66.8248 678.384 65.0535 680.993 Q63.25 683.601 60.4159 683.601 Q58.3547 683.601 57.2275 682.474 Q56.0681 681.347 56.0681 679.898 Q56.0681 678.803 56.68 678.126 Q57.2597 677.45 58.3547 677.45 Q59.8362 677.45 60.9634 678.642 Q62.0906 679.833 61.8651 681.605 Q65.3434 680.091 65.3434 674.101 Q65.3434 671.846 64.7637 670.107 Q64.1517 668.336 63.3144 667.37 Q62.4448 666.371 61.382 665.727 Q60.3192 665.083 59.5141 664.89 Q58.709 664.664 58.097 664.664 Q57.0342 664.664 56.2291 665.083 Q55.424 665.502 54.9731 666.081 Q54.49 666.629 54.1035 667.692 Q53.6848 668.722 53.5238 669.463 Q53.3628 670.204 53.1051 671.524 Q52.9763 672.136 52.9119 672.523 Q52.8153 672.909 52.5576 673.714 Q52.2678 674.487 51.9779 675.035 Q51.6881 675.55 51.1728 676.226 Q50.6575 676.903 50.0456 677.321 Q49.4337 677.74 48.5319 678.03 Q47.6301 678.32 46.5673 678.32 Q45.6012 678.32 44.4418 678.03 Q43.2823 677.708 41.9297 676.903 Q40.5771 676.065 39.4821 674.874 Q38.3871 673.682 37.6785 671.685 Q36.9378 669.656 36.9378 667.176 Q36.9378 663.569 38.6125 661.444 Q40.255 659.318 42.606 659.318 Z\" fill=\"#000000\" fill-rule=\"evenodd\" fill-opacity=\"1\" /><path clip-path=\"url(#clip340)\" d=\"M81.0598 654.563 L81.0598 649.023 L18.1296 649.023 L18.1296 654.563 L16.6159 654.563 L16.6159 644.611 L82.5735 644.611 L82.5735 654.563 L81.0598 654.563 Z\" fill=\"#000000\" fill-rule=\"evenodd\" fill-opacity=\"1\" /><circle clip-path=\"url(#clip342)\" cx=\"2293.02\" cy=\"86.1857\" r=\"14.4\" fill=\"#009af9\" fill-rule=\"evenodd\" fill-opacity=\"1\" stroke=\"#000000\" stroke-opacity=\"1\" stroke-width=\"3.2\"/>\n",
       "<circle clip-path=\"url(#clip342)\" cx=\"2270.77\" cy=\"232.606\" r=\"14.4\" fill=\"#009af9\" fill-rule=\"evenodd\" fill-opacity=\"1\" stroke=\"#000000\" stroke-opacity=\"1\" stroke-width=\"3.2\"/>\n",
       "<circle clip-path=\"url(#clip342)\" cx=\"2212.48\" cy=\"496.423\" r=\"14.4\" fill=\"#009af9\" fill-rule=\"evenodd\" fill-opacity=\"1\" stroke=\"#000000\" stroke-opacity=\"1\" stroke-width=\"3.2\"/>\n",
       "<circle clip-path=\"url(#clip342)\" cx=\"2128.16\" cy=\"675.09\" r=\"14.4\" fill=\"#009af9\" fill-rule=\"evenodd\" fill-opacity=\"1\" stroke=\"#000000\" stroke-opacity=\"1\" stroke-width=\"3.2\"/>\n",
       "<circle clip-path=\"url(#clip342)\" cx=\"2025.06\" cy=\"804.97\" r=\"14.4\" fill=\"#009af9\" fill-rule=\"evenodd\" fill-opacity=\"1\" stroke=\"#000000\" stroke-opacity=\"1\" stroke-width=\"3.2\"/>\n",
       "<circle clip-path=\"url(#clip342)\" cx=\"1908.23\" cy=\"898.616\" r=\"14.4\" fill=\"#009af9\" fill-rule=\"evenodd\" fill-opacity=\"1\" stroke=\"#000000\" stroke-opacity=\"1\" stroke-width=\"3.2\"/>\n",
       "<circle clip-path=\"url(#clip342)\" cx=\"1781.66\" cy=\"965.96\" r=\"14.4\" fill=\"#009af9\" fill-rule=\"evenodd\" fill-opacity=\"1\" stroke=\"#000000\" stroke-opacity=\"1\" stroke-width=\"3.2\"/>\n",
       "<circle clip-path=\"url(#clip342)\" cx=\"1647.93\" cy=\"1014.98\" r=\"14.4\" fill=\"#009af9\" fill-rule=\"evenodd\" fill-opacity=\"1\" stroke=\"#000000\" stroke-opacity=\"1\" stroke-width=\"3.2\"/>\n",
       "<circle clip-path=\"url(#clip342)\" cx=\"1509.1\" cy=\"1050.17\" r=\"14.4\" fill=\"#009af9\" fill-rule=\"evenodd\" fill-opacity=\"1\" stroke=\"#000000\" stroke-opacity=\"1\" stroke-width=\"3.2\"/>\n",
       "<circle clip-path=\"url(#clip342)\" cx=\"1366.55\" cy=\"1075.18\" r=\"14.4\" fill=\"#009af9\" fill-rule=\"evenodd\" fill-opacity=\"1\" stroke=\"#000000\" stroke-opacity=\"1\" stroke-width=\"3.2\"/>\n",
       "<circle clip-path=\"url(#clip342)\" cx=\"1221.4\" cy=\"1095.13\" r=\"14.4\" fill=\"#009af9\" fill-rule=\"evenodd\" fill-opacity=\"1\" stroke=\"#000000\" stroke-opacity=\"1\" stroke-width=\"3.2\"/>\n",
       "<circle clip-path=\"url(#clip342)\" cx=\"1074.02\" cy=\"1104\" r=\"14.4\" fill=\"#009af9\" fill-rule=\"evenodd\" fill-opacity=\"1\" stroke=\"#000000\" stroke-opacity=\"1\" stroke-width=\"3.2\"/>\n",
       "<circle clip-path=\"url(#clip342)\" cx=\"926.006\" cy=\"1125.27\" r=\"14.4\" fill=\"#009af9\" fill-rule=\"evenodd\" fill-opacity=\"1\" stroke=\"#000000\" stroke-opacity=\"1\" stroke-width=\"3.2\"/>\n",
       "<circle clip-path=\"url(#clip342)\" cx=\"773.714\" cy=\"1159.64\" r=\"14.4\" fill=\"#009af9\" fill-rule=\"evenodd\" fill-opacity=\"1\" stroke=\"#000000\" stroke-opacity=\"1\" stroke-width=\"3.2\"/>\n",
       "<circle clip-path=\"url(#clip342)\" cx=\"620.681\" cy=\"1052.68\" r=\"14.4\" fill=\"#009af9\" fill-rule=\"evenodd\" fill-opacity=\"1\" stroke=\"#000000\" stroke-opacity=\"1\" stroke-width=\"3.2\"/>\n",
       "<circle clip-path=\"url(#clip342)\" cx=\"483.886\" cy=\"1200.53\" r=\"14.4\" fill=\"#009af9\" fill-rule=\"evenodd\" fill-opacity=\"1\" stroke=\"#000000\" stroke-opacity=\"1\" stroke-width=\"3.2\"/>\n",
       "<circle clip-path=\"url(#clip342)\" cx=\"301.869\" cy=\"1384.24\" r=\"14.4\" fill=\"#009af9\" fill-rule=\"evenodd\" fill-opacity=\"1\" stroke=\"#000000\" stroke-opacity=\"1\" stroke-width=\"3.2\"/>\n",
       "<path clip-path=\"url(#clip340)\" d=\"M312.489 196.789 L610.293 196.789 L610.293 93.1086 L312.489 93.1086  Z\" fill=\"#ffffff\" fill-rule=\"evenodd\" fill-opacity=\"1\"/>\n",
       "<polyline clip-path=\"url(#clip340)\" style=\"stroke:#000000; stroke-linecap:round; stroke-linejoin:round; stroke-width:4; stroke-opacity:1; fill:none\" points=\"312.489,196.789 610.293,196.789 610.293,93.1086 312.489,93.1086 312.489,196.789 \"/>\n",
       "<circle clip-path=\"url(#clip340)\" cx=\"406.294\" cy=\"144.949\" r=\"23.04\" fill=\"#009af9\" fill-rule=\"evenodd\" fill-opacity=\"1\" stroke=\"#000000\" stroke-opacity=\"1\" stroke-width=\"5.12\"/>\n",
       "<path clip-path=\"url(#clip340)\" d=\"M521.156 138.976 Q521.156 139.585 520.992 140.779 Q520.828 141.974 520.43 143.707 Q520.032 145.44 519.446 147.267 Q518.884 149.094 517.994 150.921 Q517.104 152.725 516.05 154.153 Q514.996 155.582 513.521 156.472 Q512.045 157.362 510.382 157.362 Q509.609 157.362 508.859 157.245 Q508.11 157.128 507.173 156.753 Q506.236 156.379 505.557 155.77 Q504.878 155.137 504.409 154.013 Q503.941 152.889 503.941 151.413 Q503.941 149.891 504.503 147.853 Q505.088 145.792 506.681 141.576 Q507.501 139.397 507.501 138.203 Q507.501 137.664 507.384 137.336 Q507.267 136.985 507.033 136.868 Q506.798 136.727 506.658 136.704 Q506.541 136.68 506.306 136.68 Q505.018 136.68 503.707 138.015 Q502.395 139.35 501.458 142.63 Q501.271 143.215 501.153 143.356 Q501.036 143.496 500.685 143.496 Q500.099 143.473 500.099 143.004 Q500.099 142.864 500.263 142.325 Q500.427 141.763 500.732 140.92 Q501.036 140.053 501.575 139.163 Q502.114 138.25 502.77 137.453 Q503.449 136.657 504.409 136.142 Q505.37 135.626 506.447 135.626 Q508.204 135.626 509.281 136.774 Q510.382 137.898 510.382 139.561 Q510.382 140.475 509.796 141.95 Q508.813 144.621 508.368 145.909 Q507.923 147.197 507.454 149.024 Q507.009 150.851 507.009 152.116 Q507.009 154.036 507.899 155.161 Q508.789 156.285 510.569 156.285 Q512.162 156.285 513.591 155.137 Q515.043 153.966 516.003 152.303 Q516.964 150.617 517.69 148.743 Q518.416 146.846 518.744 145.417 Q519.095 143.965 519.095 143.285 Q519.095 140.92 517.479 139.374 Q517.034 138.929 516.87 138.648 Q516.706 138.367 516.706 137.922 Q516.706 137.102 517.432 136.376 Q518.182 135.626 519.048 135.626 Q519.845 135.626 520.5 136.423 Q521.156 137.219 521.156 138.976 Z\" fill=\"#000000\" fill-rule=\"evenodd\" fill-opacity=\"1\" /><path clip-path=\"url(#clip340)\" d=\"M527.738 144.831 Q527.738 136.727 530.76 130.192 Q532.048 127.452 533.852 125.156 Q535.655 122.861 536.85 121.854 Q538.044 120.847 538.372 120.847 Q538.841 120.847 538.864 121.315 Q538.864 121.549 538.232 122.135 Q530.502 130.005 530.526 144.831 Q530.526 159.705 538.044 167.27 Q538.864 168.09 538.864 168.347 Q538.864 168.816 538.372 168.816 Q538.044 168.816 536.897 167.856 Q535.749 166.895 533.969 164.694 Q532.189 162.492 530.901 159.798 Q527.738 153.263 527.738 144.831 Z\" fill=\"#000000\" fill-rule=\"evenodd\" fill-opacity=\"1\" /><path clip-path=\"url(#clip340)\" d=\"M563.797 136.095 Q563.797 136.259 563.399 136.961 Q563.024 137.641 561.642 139.35 Q560.26 141.06 558.199 143.051 Q557.426 143.824 556.255 144.902 Q555.084 145.979 554.287 146.682 L553.491 147.384 Q550.446 149.961 547.776 152.842 Q547.963 152.772 548.291 152.748 Q548.619 152.701 548.853 152.701 L549.087 152.701 Q550.305 152.701 552.437 153.521 Q554.311 154.13 555.271 154.13 Q556.208 154.13 557.238 153.802 Q558.269 153.474 559.393 152.514 Q560.518 151.554 561.033 150.101 Q561.127 149.867 561.173 149.797 Q561.22 149.703 561.361 149.61 Q561.501 149.492 561.689 149.492 Q561.946 149.492 562.11 149.633 Q562.274 149.773 562.274 149.961 Q562.274 150.382 561.946 151.226 Q561.642 152.069 560.963 153.123 Q560.307 154.177 559.44 155.137 Q558.597 156.074 557.332 156.73 Q556.067 157.362 554.732 157.362 Q553.772 157.362 553.069 156.894 Q552.367 156.449 551.664 155.582 Q550.704 154.481 550.188 154.13 Q549.673 153.755 548.877 153.755 Q546.745 153.755 544.801 156.73 Q544.59 157.152 544.45 157.245 Q544.333 157.362 544.052 157.362 Q543.466 157.339 543.466 156.87 Q543.466 156.683 543.981 155.863 Q544.52 155.02 545.715 153.544 Q546.933 152.069 548.408 150.593 L552.718 146.565 Q557.496 142.536 559.393 140.264 Q558.597 140.264 558.246 140.241 Q557.918 140.217 557.262 140.077 Q556.606 139.913 555.693 139.561 Q553.561 138.835 552.671 138.835 Q552.437 138.835 552.179 138.859 Q551.922 138.882 551.336 138.999 Q550.774 139.116 550.305 139.35 Q549.837 139.561 549.345 140.03 Q548.853 140.475 548.596 141.084 Q548.525 141.271 548.478 141.365 Q548.432 141.458 548.291 141.552 Q548.174 141.622 547.987 141.622 Q547.705 141.622 547.542 141.458 Q547.401 141.295 547.401 141.084 Q547.401 140.662 547.823 139.796 Q548.244 138.929 548.947 137.992 Q549.65 137.032 550.797 136.329 Q551.945 135.626 553.21 135.626 Q553.959 135.626 554.592 135.954 Q555.248 136.282 555.575 136.633 Q555.927 136.961 556.512 137.687 Q557.004 138.25 557.238 138.484 Q557.473 138.718 557.941 138.976 Q558.433 139.21 558.972 139.21 Q559.862 139.21 560.682 138.531 Q561.501 137.828 562.555 136.142 Q562.836 135.626 563.281 135.626 Q563.797 135.626 563.797 136.095 Z\" fill=\"#000000\" fill-rule=\"evenodd\" fill-opacity=\"1\" /><path clip-path=\"url(#clip340)\" d=\"M568.426 168.347 Q568.426 168.113 569.035 167.528 Q576.764 159.658 576.764 144.831 Q576.764 129.958 569.34 122.439 Q568.426 121.573 568.426 121.315 Q568.426 120.847 568.895 120.847 Q569.222 120.847 570.37 121.807 Q571.541 122.767 573.298 124.969 Q575.078 127.171 576.39 129.864 Q579.552 136.399 579.552 144.831 Q579.552 152.935 576.53 159.47 Q575.242 162.211 573.438 164.506 Q571.635 166.802 570.44 167.809 Q569.246 168.816 568.895 168.816 Q568.426 168.816 568.426 168.347 Z\" fill=\"#000000\" fill-rule=\"evenodd\" fill-opacity=\"1\" /></svg>\n"
      ]
     },
     "execution_count": 6,
     "metadata": {},
     "output_type": "execute_result"
    }
   ],
   "source": [
    "scatter(z,v, label=L\"v(z)\")\n",
    "plot!(xlabel=L\"z \\ [m]\", ylabel=L\"v \\  [m/s]\")"
   ]
  },
  {
   "cell_type": "markdown",
   "metadata": {},
   "source": [
    "5. Sabiendo que la ecuación que describe la posición de la gota en función del tiempo es:\n",
    "    $$\n",
    "    z(t)= - g\\,\\alpha\\,t + g\\,\\alpha^2\\, \\left(1-e^{-t/\\alpha} \\right)\n",
    "    $$\n",
    "    donde $\\alpha=m/c$, realice un ajuste de cuadrados mínimos de las posiciones $z_i$ en función de los tiempos $t_i$ y obtenga una estimación de los parámetros $\\alpha$ y $g$. Verifique que los residuos son relativamente pequeños. Explicite los resultados del ajute en una celda en formato texto y LaTeX. En particular, compare el valor ajustado de $g$, con el comunmente utilizado de $g=9,81\\,\\mathrm{m}/\\mathrm{s}^2$."
   ]
  },
  {
   "cell_type": "code",
   "execution_count": 7,
   "metadata": {},
   "outputs": [
    {
     "data": {
      "image/svg+xml": [
       "<?xml version=\"1.0\" encoding=\"utf-8\"?>\n",
       "<svg xmlns=\"http://www.w3.org/2000/svg\" xmlns:xlink=\"http://www.w3.org/1999/xlink\" width=\"600\" height=\"400\" viewBox=\"0 0 2400 1600\">\n",
       "<defs>\n",
       "  <clipPath id=\"clip380\">\n",
       "    <rect x=\"0\" y=\"0\" width=\"2400\" height=\"1600\"/>\n",
       "  </clipPath>\n",
       "</defs>\n",
       "<path clip-path=\"url(#clip380)\" d=\"M0 1600 L2400 1600 L2400 0 L0 0  Z\" fill=\"#ffffff\" fill-rule=\"evenodd\" fill-opacity=\"1\"/>\n",
       "<defs>\n",
       "  <clipPath id=\"clip381\">\n",
       "    <rect x=\"480\" y=\"0\" width=\"1681\" height=\"1600\"/>\n",
       "  </clipPath>\n",
       "</defs>\n",
       "<path clip-path=\"url(#clip380)\" d=\"M209.029 1486.45 L2352.76 1486.45 L2352.76 47.2441 L209.029 47.2441  Z\" fill=\"#ffffff\" fill-rule=\"evenodd\" fill-opacity=\"1\"/>\n",
       "<defs>\n",
       "  <clipPath id=\"clip382\">\n",
       "    <rect x=\"209\" y=\"47\" width=\"2145\" height=\"1440\"/>\n",
       "  </clipPath>\n",
       "</defs>\n",
       "<polyline clip-path=\"url(#clip382)\" style=\"stroke:#000000; stroke-linecap:round; stroke-linejoin:round; stroke-width:2; stroke-opacity:0.1; fill:none\" points=\"269.7,1486.45 269.7,47.2441 \"/>\n",
       "<polyline clip-path=\"url(#clip382)\" style=\"stroke:#000000; stroke-linecap:round; stroke-linejoin:round; stroke-width:2; stroke-opacity:0.1; fill:none\" points=\"901.695,1486.45 901.695,47.2441 \"/>\n",
       "<polyline clip-path=\"url(#clip382)\" style=\"stroke:#000000; stroke-linecap:round; stroke-linejoin:round; stroke-width:2; stroke-opacity:0.1; fill:none\" points=\"1533.69,1486.45 1533.69,47.2441 \"/>\n",
       "<polyline clip-path=\"url(#clip382)\" style=\"stroke:#000000; stroke-linecap:round; stroke-linejoin:round; stroke-width:2; stroke-opacity:0.1; fill:none\" points=\"2165.69,1486.45 2165.69,47.2441 \"/>\n",
       "<polyline clip-path=\"url(#clip380)\" style=\"stroke:#000000; stroke-linecap:round; stroke-linejoin:round; stroke-width:4; stroke-opacity:1; fill:none\" points=\"209.029,1486.45 2352.76,1486.45 \"/>\n",
       "<polyline clip-path=\"url(#clip380)\" style=\"stroke:#000000; stroke-linecap:round; stroke-linejoin:round; stroke-width:4; stroke-opacity:1; fill:none\" points=\"269.7,1486.45 269.7,1467.55 \"/>\n",
       "<polyline clip-path=\"url(#clip380)\" style=\"stroke:#000000; stroke-linecap:round; stroke-linejoin:round; stroke-width:4; stroke-opacity:1; fill:none\" points=\"901.695,1486.45 901.695,1467.55 \"/>\n",
       "<polyline clip-path=\"url(#clip380)\" style=\"stroke:#000000; stroke-linecap:round; stroke-linejoin:round; stroke-width:4; stroke-opacity:1; fill:none\" points=\"1533.69,1486.45 1533.69,1467.55 \"/>\n",
       "<polyline clip-path=\"url(#clip380)\" style=\"stroke:#000000; stroke-linecap:round; stroke-linejoin:round; stroke-width:4; stroke-opacity:1; fill:none\" points=\"2165.69,1486.45 2165.69,1467.55 \"/>\n",
       "<path clip-path=\"url(#clip380)\" d=\"M269.7 1517.37 Q266.089 1517.37 264.26 1520.93 Q262.455 1524.47 262.455 1531.6 Q262.455 1538.71 264.26 1542.27 Q266.089 1545.82 269.7 1545.82 Q273.334 1545.82 275.14 1542.27 Q276.969 1538.71 276.969 1531.6 Q276.969 1524.47 275.14 1520.93 Q273.334 1517.37 269.7 1517.37 M269.7 1513.66 Q275.51 1513.66 278.566 1518.27 Q281.644 1522.85 281.644 1531.6 Q281.644 1540.33 278.566 1544.94 Q275.51 1549.52 269.7 1549.52 Q263.89 1549.52 260.811 1544.94 Q257.756 1540.33 257.756 1531.6 Q257.756 1522.85 260.811 1518.27 Q263.89 1513.66 269.7 1513.66 Z\" fill=\"#000000\" fill-rule=\"evenodd\" fill-opacity=\"1\" /><path clip-path=\"url(#clip380)\" d=\"M891.973 1514.29 L910.329 1514.29 L910.329 1518.22 L896.255 1518.22 L896.255 1526.7 Q897.274 1526.35 898.292 1526.19 Q899.311 1526 900.329 1526 Q906.116 1526 909.496 1529.17 Q912.876 1532.34 912.876 1537.76 Q912.876 1543.34 909.403 1546.44 Q905.931 1549.52 899.612 1549.52 Q897.436 1549.52 895.167 1549.15 Q892.922 1548.78 890.515 1548.04 L890.515 1543.34 Q892.598 1544.47 894.82 1545.03 Q897.042 1545.58 899.519 1545.58 Q903.524 1545.58 905.862 1543.48 Q908.2 1541.37 908.2 1537.76 Q908.2 1534.15 905.862 1532.04 Q903.524 1529.94 899.519 1529.94 Q897.644 1529.94 895.769 1530.35 Q893.917 1530.77 891.973 1531.65 L891.973 1514.29 Z\" fill=\"#000000\" fill-rule=\"evenodd\" fill-opacity=\"1\" /><path clip-path=\"url(#clip380)\" d=\"M1508.38 1544.91 L1516.02 1544.91 L1516.02 1518.55 L1507.71 1520.21 L1507.71 1515.95 L1515.97 1514.29 L1520.65 1514.29 L1520.65 1544.91 L1528.29 1544.91 L1528.29 1548.85 L1508.38 1548.85 L1508.38 1544.91 Z\" fill=\"#000000\" fill-rule=\"evenodd\" fill-opacity=\"1\" /><path clip-path=\"url(#clip380)\" d=\"M1547.73 1517.37 Q1544.12 1517.37 1542.29 1520.93 Q1540.48 1524.47 1540.48 1531.6 Q1540.48 1538.71 1542.29 1542.27 Q1544.12 1545.82 1547.73 1545.82 Q1551.36 1545.82 1553.17 1542.27 Q1555 1538.71 1555 1531.6 Q1555 1524.47 1553.17 1520.93 Q1551.36 1517.37 1547.73 1517.37 M1547.73 1513.66 Q1553.54 1513.66 1556.6 1518.27 Q1559.67 1522.85 1559.67 1531.6 Q1559.67 1540.33 1556.6 1544.94 Q1553.54 1549.52 1547.73 1549.52 Q1541.92 1549.52 1538.84 1544.94 Q1535.79 1540.33 1535.79 1531.6 Q1535.79 1522.85 1538.84 1518.27 Q1541.92 1513.66 1547.73 1513.66 Z\" fill=\"#000000\" fill-rule=\"evenodd\" fill-opacity=\"1\" /><path clip-path=\"url(#clip380)\" d=\"M2140.87 1544.91 L2148.51 1544.91 L2148.51 1518.55 L2140.2 1520.21 L2140.2 1515.95 L2148.46 1514.29 L2153.14 1514.29 L2153.14 1544.91 L2160.78 1544.91 L2160.78 1548.85 L2140.87 1548.85 L2140.87 1544.91 Z\" fill=\"#000000\" fill-rule=\"evenodd\" fill-opacity=\"1\" /><path clip-path=\"url(#clip380)\" d=\"M2170.27 1514.29 L2188.63 1514.29 L2188.63 1518.22 L2174.55 1518.22 L2174.55 1526.7 Q2175.57 1526.35 2176.59 1526.19 Q2177.61 1526 2178.63 1526 Q2184.41 1526 2187.79 1529.17 Q2191.17 1532.34 2191.17 1537.76 Q2191.17 1543.34 2187.7 1546.44 Q2184.23 1549.52 2177.91 1549.52 Q2175.73 1549.52 2173.46 1549.15 Q2171.22 1548.78 2168.81 1548.04 L2168.81 1543.34 Q2170.89 1544.47 2173.12 1545.03 Q2175.34 1545.58 2177.81 1545.58 Q2181.82 1545.58 2184.16 1543.48 Q2186.5 1541.37 2186.5 1537.76 Q2186.5 1534.15 2184.16 1532.04 Q2181.82 1529.94 2177.81 1529.94 Q2175.94 1529.94 2174.06 1530.35 Q2172.21 1530.77 2170.27 1531.65 L2170.27 1514.29 Z\" fill=\"#000000\" fill-rule=\"evenodd\" fill-opacity=\"1\" /><polyline clip-path=\"url(#clip382)\" style=\"stroke:#000000; stroke-linecap:round; stroke-linejoin:round; stroke-width:2; stroke-opacity:0.1; fill:none\" points=\"209.029,1463.51 2352.76,1463.51 \"/>\n",
       "<polyline clip-path=\"url(#clip382)\" style=\"stroke:#000000; stroke-linecap:round; stroke-linejoin:round; stroke-width:2; stroke-opacity:0.1; fill:none\" points=\"209.029,1119.63 2352.76,1119.63 \"/>\n",
       "<polyline clip-path=\"url(#clip382)\" style=\"stroke:#000000; stroke-linecap:round; stroke-linejoin:round; stroke-width:2; stroke-opacity:0.1; fill:none\" points=\"209.029,775.744 2352.76,775.744 \"/>\n",
       "<polyline clip-path=\"url(#clip382)\" style=\"stroke:#000000; stroke-linecap:round; stroke-linejoin:round; stroke-width:2; stroke-opacity:0.1; fill:none\" points=\"209.029,431.86 2352.76,431.86 \"/>\n",
       "<polyline clip-path=\"url(#clip382)\" style=\"stroke:#000000; stroke-linecap:round; stroke-linejoin:round; stroke-width:2; stroke-opacity:0.1; fill:none\" points=\"209.029,87.9763 2352.76,87.9763 \"/>\n",
       "<polyline clip-path=\"url(#clip380)\" style=\"stroke:#000000; stroke-linecap:round; stroke-linejoin:round; stroke-width:4; stroke-opacity:1; fill:none\" points=\"209.029,1486.45 209.029,47.2441 \"/>\n",
       "<polyline clip-path=\"url(#clip380)\" style=\"stroke:#000000; stroke-linecap:round; stroke-linejoin:round; stroke-width:4; stroke-opacity:1; fill:none\" points=\"209.029,1463.51 227.926,1463.51 \"/>\n",
       "<polyline clip-path=\"url(#clip380)\" style=\"stroke:#000000; stroke-linecap:round; stroke-linejoin:round; stroke-width:4; stroke-opacity:1; fill:none\" points=\"209.029,1119.63 227.926,1119.63 \"/>\n",
       "<polyline clip-path=\"url(#clip380)\" style=\"stroke:#000000; stroke-linecap:round; stroke-linejoin:round; stroke-width:4; stroke-opacity:1; fill:none\" points=\"209.029,775.744 227.926,775.744 \"/>\n",
       "<polyline clip-path=\"url(#clip380)\" style=\"stroke:#000000; stroke-linecap:round; stroke-linejoin:round; stroke-width:4; stroke-opacity:1; fill:none\" points=\"209.029,431.86 227.926,431.86 \"/>\n",
       "<polyline clip-path=\"url(#clip380)\" style=\"stroke:#000000; stroke-linecap:round; stroke-linejoin:round; stroke-width:4; stroke-opacity:1; fill:none\" points=\"209.029,87.9763 227.926,87.9763 \"/>\n",
       "<path clip-path=\"url(#clip380)\" d=\"M50.9921 1463.96 L80.6679 1463.96 L80.6679 1467.9 L50.9921 1467.9 L50.9921 1463.96 Z\" fill=\"#000000\" fill-rule=\"evenodd\" fill-opacity=\"1\" /><path clip-path=\"url(#clip380)\" d=\"M103.608 1450.31 L91.8021 1468.75 L103.608 1468.75 L103.608 1450.31 M102.381 1446.23 L108.26 1446.23 L108.26 1468.75 L113.191 1468.75 L113.191 1472.64 L108.26 1472.64 L108.26 1480.79 L103.608 1480.79 L103.608 1472.64 L88.0058 1472.64 L88.0058 1468.13 L102.381 1446.23 Z\" fill=\"#000000\" fill-rule=\"evenodd\" fill-opacity=\"1\" /><path clip-path=\"url(#clip380)\" d=\"M130.922 1449.31 Q127.311 1449.31 125.482 1452.88 Q123.677 1456.42 123.677 1463.55 Q123.677 1470.65 125.482 1474.22 Q127.311 1477.76 130.922 1477.76 Q134.556 1477.76 136.362 1474.22 Q138.191 1470.65 138.191 1463.55 Q138.191 1456.42 136.362 1452.88 Q134.556 1449.31 130.922 1449.31 M130.922 1445.61 Q136.732 1445.61 139.788 1450.21 Q142.867 1454.8 142.867 1463.55 Q142.867 1472.27 139.788 1476.88 Q136.732 1481.46 130.922 1481.46 Q125.112 1481.46 122.033 1476.88 Q118.978 1472.27 118.978 1463.55 Q118.978 1454.8 122.033 1450.21 Q125.112 1445.61 130.922 1445.61 Z\" fill=\"#000000\" fill-rule=\"evenodd\" fill-opacity=\"1\" /><path clip-path=\"url(#clip380)\" d=\"M161.084 1449.31 Q157.473 1449.31 155.644 1452.88 Q153.839 1456.42 153.839 1463.55 Q153.839 1470.65 155.644 1474.22 Q157.473 1477.76 161.084 1477.76 Q164.718 1477.76 166.524 1474.22 Q168.353 1470.65 168.353 1463.55 Q168.353 1456.42 166.524 1452.88 Q164.718 1449.31 161.084 1449.31 M161.084 1445.61 Q166.894 1445.61 169.95 1450.21 Q173.029 1454.8 173.029 1463.55 Q173.029 1472.27 169.95 1476.88 Q166.894 1481.46 161.084 1481.46 Q155.274 1481.46 152.195 1476.88 Q149.14 1472.27 149.14 1463.55 Q149.14 1454.8 152.195 1450.21 Q155.274 1445.61 161.084 1445.61 Z\" fill=\"#000000\" fill-rule=\"evenodd\" fill-opacity=\"1\" /><path clip-path=\"url(#clip380)\" d=\"M50.9921 1120.08 L80.6679 1120.08 L80.6679 1124.01 L50.9921 1124.01 L50.9921 1120.08 Z\" fill=\"#000000\" fill-rule=\"evenodd\" fill-opacity=\"1\" /><path clip-path=\"url(#clip380)\" d=\"M104.927 1118.27 Q108.283 1118.99 110.158 1121.26 Q112.057 1123.53 112.057 1126.86 Q112.057 1131.98 108.538 1134.78 Q105.02 1137.58 98.5382 1137.58 Q96.3623 1137.58 94.0475 1137.14 Q91.7558 1136.72 89.3021 1135.87 L89.3021 1131.35 Q91.2465 1132.49 93.5613 1133.07 Q95.8761 1133.64 98.3993 1133.64 Q102.797 1133.64 105.089 1131.91 Q107.404 1130.17 107.404 1126.86 Q107.404 1123.81 105.251 1122.09 Q103.121 1120.36 99.3021 1120.36 L95.2743 1120.36 L95.2743 1116.51 L99.4872 1116.51 Q102.936 1116.51 104.765 1115.15 Q106.594 1113.76 106.594 1111.17 Q106.594 1108.51 104.696 1107.09 Q102.821 1105.66 99.3021 1105.66 Q97.3808 1105.66 95.1817 1106.07 Q92.9826 1106.49 90.3438 1107.37 L90.3438 1103.2 Q93.0058 1102.46 95.3206 1102.09 Q97.6585 1101.72 99.7187 1101.72 Q105.043 1101.72 108.145 1104.15 Q111.246 1106.56 111.246 1110.68 Q111.246 1113.55 109.603 1115.54 Q107.959 1117.51 104.927 1118.27 Z\" fill=\"#000000\" fill-rule=\"evenodd\" fill-opacity=\"1\" /><path clip-path=\"url(#clip380)\" d=\"M130.922 1105.43 Q127.311 1105.43 125.482 1108.99 Q123.677 1112.53 123.677 1119.66 Q123.677 1126.77 125.482 1130.33 Q127.311 1133.88 130.922 1133.88 Q134.556 1133.88 136.362 1130.33 Q138.191 1126.77 138.191 1119.66 Q138.191 1112.53 136.362 1108.99 Q134.556 1105.43 130.922 1105.43 M130.922 1101.72 Q136.732 1101.72 139.788 1106.33 Q142.867 1110.91 142.867 1119.66 Q142.867 1128.39 139.788 1133 Q136.732 1137.58 130.922 1137.58 Q125.112 1137.58 122.033 1133 Q118.978 1128.39 118.978 1119.66 Q118.978 1110.91 122.033 1106.33 Q125.112 1101.72 130.922 1101.72 Z\" fill=\"#000000\" fill-rule=\"evenodd\" fill-opacity=\"1\" /><path clip-path=\"url(#clip380)\" d=\"M161.084 1105.43 Q157.473 1105.43 155.644 1108.99 Q153.839 1112.53 153.839 1119.66 Q153.839 1126.77 155.644 1130.33 Q157.473 1133.88 161.084 1133.88 Q164.718 1133.88 166.524 1130.33 Q168.353 1126.77 168.353 1119.66 Q168.353 1112.53 166.524 1108.99 Q164.718 1105.43 161.084 1105.43 M161.084 1101.72 Q166.894 1101.72 169.95 1106.33 Q173.029 1110.91 173.029 1119.66 Q173.029 1128.39 169.95 1133 Q166.894 1137.58 161.084 1137.58 Q155.274 1137.58 152.195 1133 Q149.14 1128.39 149.14 1119.66 Q149.14 1110.91 152.195 1106.33 Q155.274 1101.72 161.084 1101.72 Z\" fill=\"#000000\" fill-rule=\"evenodd\" fill-opacity=\"1\" /><path clip-path=\"url(#clip380)\" d=\"M50.9921 776.195 L80.6679 776.195 L80.6679 780.131 L50.9921 780.131 L50.9921 776.195 Z\" fill=\"#000000\" fill-rule=\"evenodd\" fill-opacity=\"1\" /><path clip-path=\"url(#clip380)\" d=\"M94.7882 789.089 L111.108 789.089 L111.108 793.024 L89.1632 793.024 L89.1632 789.089 Q91.8252 786.334 96.4085 781.705 Q101.015 777.052 102.196 775.709 Q104.441 773.186 105.321 771.45 Q106.223 769.691 106.223 768.001 Q106.223 765.246 104.279 763.51 Q102.358 761.774 99.2558 761.774 Q97.0567 761.774 94.603 762.538 Q92.1725 763.302 89.3947 764.853 L89.3947 760.131 Q92.2188 758.996 94.6724 758.418 Q97.1261 757.839 99.1632 757.839 Q104.534 757.839 107.728 760.524 Q110.922 763.209 110.922 767.7 Q110.922 769.83 110.112 771.751 Q109.325 773.649 107.219 776.242 Q106.64 776.913 103.538 780.131 Q100.436 783.325 94.7882 789.089 Z\" fill=\"#000000\" fill-rule=\"evenodd\" fill-opacity=\"1\" /><path clip-path=\"url(#clip380)\" d=\"M130.922 761.543 Q127.311 761.543 125.482 765.107 Q123.677 768.649 123.677 775.779 Q123.677 782.885 125.482 786.45 Q127.311 789.992 130.922 789.992 Q134.556 789.992 136.362 786.45 Q138.191 782.885 138.191 775.779 Q138.191 768.649 136.362 765.107 Q134.556 761.543 130.922 761.543 M130.922 757.839 Q136.732 757.839 139.788 762.445 Q142.867 767.029 142.867 775.779 Q142.867 784.506 139.788 789.112 Q136.732 793.695 130.922 793.695 Q125.112 793.695 122.033 789.112 Q118.978 784.506 118.978 775.779 Q118.978 767.029 122.033 762.445 Q125.112 757.839 130.922 757.839 Z\" fill=\"#000000\" fill-rule=\"evenodd\" fill-opacity=\"1\" /><path clip-path=\"url(#clip380)\" d=\"M161.084 761.543 Q157.473 761.543 155.644 765.107 Q153.839 768.649 153.839 775.779 Q153.839 782.885 155.644 786.45 Q157.473 789.992 161.084 789.992 Q164.718 789.992 166.524 786.45 Q168.353 782.885 168.353 775.779 Q168.353 768.649 166.524 765.107 Q164.718 761.543 161.084 761.543 M161.084 757.839 Q166.894 757.839 169.95 762.445 Q173.029 767.029 173.029 775.779 Q173.029 784.506 169.95 789.112 Q166.894 793.695 161.084 793.695 Q155.274 793.695 152.195 789.112 Q149.14 784.506 149.14 775.779 Q149.14 767.029 152.195 762.445 Q155.274 757.839 161.084 757.839 Z\" fill=\"#000000\" fill-rule=\"evenodd\" fill-opacity=\"1\" /><path clip-path=\"url(#clip380)\" d=\"M50.9921 432.312 L80.6679 432.312 L80.6679 436.247 L50.9921 436.247 L50.9921 432.312 Z\" fill=\"#000000\" fill-rule=\"evenodd\" fill-opacity=\"1\" /><path clip-path=\"url(#clip380)\" d=\"M91.5706 445.205 L99.2095 445.205 L99.2095 418.839 L90.8993 420.506 L90.8993 416.247 L99.1632 414.58 L103.839 414.58 L103.839 445.205 L111.478 445.205 L111.478 449.14 L91.5706 449.14 L91.5706 445.205 Z\" fill=\"#000000\" fill-rule=\"evenodd\" fill-opacity=\"1\" /><path clip-path=\"url(#clip380)\" d=\"M130.922 417.659 Q127.311 417.659 125.482 421.224 Q123.677 424.765 123.677 431.895 Q123.677 439.001 125.482 442.566 Q127.311 446.108 130.922 446.108 Q134.556 446.108 136.362 442.566 Q138.191 439.001 138.191 431.895 Q138.191 424.765 136.362 421.224 Q134.556 417.659 130.922 417.659 M130.922 413.955 Q136.732 413.955 139.788 418.562 Q142.867 423.145 142.867 431.895 Q142.867 440.622 139.788 445.228 Q136.732 449.811 130.922 449.811 Q125.112 449.811 122.033 445.228 Q118.978 440.622 118.978 431.895 Q118.978 423.145 122.033 418.562 Q125.112 413.955 130.922 413.955 Z\" fill=\"#000000\" fill-rule=\"evenodd\" fill-opacity=\"1\" /><path clip-path=\"url(#clip380)\" d=\"M161.084 417.659 Q157.473 417.659 155.644 421.224 Q153.839 424.765 153.839 431.895 Q153.839 439.001 155.644 442.566 Q157.473 446.108 161.084 446.108 Q164.718 446.108 166.524 442.566 Q168.353 439.001 168.353 431.895 Q168.353 424.765 166.524 421.224 Q164.718 417.659 161.084 417.659 M161.084 413.955 Q166.894 413.955 169.95 418.562 Q173.029 423.145 173.029 431.895 Q173.029 440.622 169.95 445.228 Q166.894 449.811 161.084 449.811 Q155.274 449.811 152.195 445.228 Q149.14 440.622 149.14 431.895 Q149.14 423.145 152.195 418.562 Q155.274 413.955 161.084 413.955 Z\" fill=\"#000000\" fill-rule=\"evenodd\" fill-opacity=\"1\" /><path clip-path=\"url(#clip380)\" d=\"M161.084 73.775 Q157.473 73.775 155.644 77.3398 Q153.839 80.8814 153.839 88.011 Q153.839 95.1174 155.644 98.6822 Q157.473 102.224 161.084 102.224 Q164.718 102.224 166.524 98.6822 Q168.353 95.1174 168.353 88.011 Q168.353 80.8814 166.524 77.3398 Q164.718 73.775 161.084 73.775 M161.084 70.0713 Q166.894 70.0713 169.95 74.6777 Q173.029 79.261 173.029 88.011 Q173.029 96.7378 169.95 101.344 Q166.894 105.928 161.084 105.928 Q155.274 105.928 152.195 101.344 Q149.14 96.7378 149.14 88.011 Q149.14 79.261 152.195 74.6777 Q155.274 70.0713 161.084 70.0713 Z\" fill=\"#000000\" fill-rule=\"evenodd\" fill-opacity=\"1\" /><polyline clip-path=\"url(#clip382)\" style=\"stroke:#009af9; stroke-linecap:round; stroke-linejoin:round; stroke-width:4; stroke-opacity:1; fill:none\" points=\"269.7,87.9763 396.099,102.987 522.498,142.421 648.897,199.624 775.296,269.754 901.695,349.29 1028.09,435.669 1154.49,527.026 1280.89,622.006 1407.29,719.621 1533.69,819.153 1660.09,920.08 1786.49,1022.02 1912.89,1124.7 2039.29,1227.92 2165.69,1331.53 2292.08,1435.42 \"/>\n",
       "<circle clip-path=\"url(#clip382)\" cx=\"269.7\" cy=\"87.9763\" r=\"14.4\" fill=\"#e26f46\" fill-rule=\"evenodd\" fill-opacity=\"1\" stroke=\"#000000\" stroke-opacity=\"1\" stroke-width=\"3.2\"/>\n",
       "<circle clip-path=\"url(#clip382)\" cx=\"396.099\" cy=\"103.148\" r=\"14.4\" fill=\"#e26f46\" fill-rule=\"evenodd\" fill-opacity=\"1\" stroke=\"#000000\" stroke-opacity=\"1\" stroke-width=\"3.2\"/>\n",
       "<circle clip-path=\"url(#clip382)\" cx=\"522.498\" cy=\"142.898\" r=\"14.4\" fill=\"#e26f46\" fill-rule=\"evenodd\" fill-opacity=\"1\" stroke=\"#000000\" stroke-opacity=\"1\" stroke-width=\"3.2\"/>\n",
       "<circle clip-path=\"url(#clip382)\" cx=\"648.897\" cy=\"200.392\" r=\"14.4\" fill=\"#e26f46\" fill-rule=\"evenodd\" fill-opacity=\"1\" stroke=\"#000000\" stroke-opacity=\"1\" stroke-width=\"3.2\"/>\n",
       "<circle clip-path=\"url(#clip382)\" cx=\"775.296\" cy=\"270.696\" r=\"14.4\" fill=\"#e26f46\" fill-rule=\"evenodd\" fill-opacity=\"1\" stroke=\"#000000\" stroke-opacity=\"1\" stroke-width=\"3.2\"/>\n",
       "<circle clip-path=\"url(#clip382)\" cx=\"901.695\" cy=\"350.36\" r=\"14.4\" fill=\"#e26f46\" fill-rule=\"evenodd\" fill-opacity=\"1\" stroke=\"#000000\" stroke-opacity=\"1\" stroke-width=\"3.2\"/>\n",
       "<circle clip-path=\"url(#clip382)\" cx=\"1028.09\" cy=\"436.664\" r=\"14.4\" fill=\"#e26f46\" fill-rule=\"evenodd\" fill-opacity=\"1\" stroke=\"#000000\" stroke-opacity=\"1\" stroke-width=\"3.2\"/>\n",
       "<circle clip-path=\"url(#clip382)\" cx=\"1154.49\" cy=\"527.852\" r=\"14.4\" fill=\"#e26f46\" fill-rule=\"evenodd\" fill-opacity=\"1\" stroke=\"#000000\" stroke-opacity=\"1\" stroke-width=\"3.2\"/>\n",
       "<circle clip-path=\"url(#clip382)\" cx=\"1280.89\" cy=\"622.52\" r=\"14.4\" fill=\"#e26f46\" fill-rule=\"evenodd\" fill-opacity=\"1\" stroke=\"#000000\" stroke-opacity=\"1\" stroke-width=\"3.2\"/>\n",
       "<circle clip-path=\"url(#clip382)\" cx=\"1407.29\" cy=\"719.722\" r=\"14.4\" fill=\"#e26f46\" fill-rule=\"evenodd\" fill-opacity=\"1\" stroke=\"#000000\" stroke-opacity=\"1\" stroke-width=\"3.2\"/>\n",
       "<circle clip-path=\"url(#clip382)\" cx=\"1533.69\" cy=\"818.702\" r=\"14.4\" fill=\"#e26f46\" fill-rule=\"evenodd\" fill-opacity=\"1\" stroke=\"#000000\" stroke-opacity=\"1\" stroke-width=\"3.2\"/>\n",
       "<circle clip-path=\"url(#clip382)\" cx=\"1660.09\" cy=\"919.199\" r=\"14.4\" fill=\"#e26f46\" fill-rule=\"evenodd\" fill-opacity=\"1\" stroke=\"#000000\" stroke-opacity=\"1\" stroke-width=\"3.2\"/>\n",
       "<circle clip-path=\"url(#clip382)\" cx=\"1786.49\" cy=\"1020.13\" r=\"14.4\" fill=\"#e26f46\" fill-rule=\"evenodd\" fill-opacity=\"1\" stroke=\"#000000\" stroke-opacity=\"1\" stroke-width=\"3.2\"/>\n",
       "<circle clip-path=\"url(#clip382)\" cx=\"1912.89\" cy=\"1123.97\" r=\"14.4\" fill=\"#e26f46\" fill-rule=\"evenodd\" fill-opacity=\"1\" stroke=\"#000000\" stroke-opacity=\"1\" stroke-width=\"3.2\"/>\n",
       "<circle clip-path=\"url(#clip382)\" cx=\"2039.29\" cy=\"1228.32\" r=\"14.4\" fill=\"#e26f46\" fill-rule=\"evenodd\" fill-opacity=\"1\" stroke=\"#000000\" stroke-opacity=\"1\" stroke-width=\"3.2\"/>\n",
       "<circle clip-path=\"url(#clip382)\" cx=\"2165.69\" cy=\"1321.6\" r=\"14.4\" fill=\"#e26f46\" fill-rule=\"evenodd\" fill-opacity=\"1\" stroke=\"#000000\" stroke-opacity=\"1\" stroke-width=\"3.2\"/>\n",
       "<circle clip-path=\"url(#clip382)\" cx=\"2292.08\" cy=\"1445.72\" r=\"14.4\" fill=\"#e26f46\" fill-rule=\"evenodd\" fill-opacity=\"1\" stroke=\"#000000\" stroke-opacity=\"1\" stroke-width=\"3.2\"/>\n",
       "<path clip-path=\"url(#clip380)\" d=\"M2014.5 250.738 L2281.3 250.738 L2281.3 95.2176 L2014.5 95.2176  Z\" fill=\"#ffffff\" fill-rule=\"evenodd\" fill-opacity=\"1\"/>\n",
       "<polyline clip-path=\"url(#clip380)\" style=\"stroke:#000000; stroke-linecap:round; stroke-linejoin:round; stroke-width:4; stroke-opacity:1; fill:none\" points=\"2014.5,250.738 2281.3,250.738 2281.3,95.2176 2014.5,95.2176 2014.5,250.738 \"/>\n",
       "<polyline clip-path=\"url(#clip380)\" style=\"stroke:#009af9; stroke-linecap:round; stroke-linejoin:round; stroke-width:4; stroke-opacity:1; fill:none\" points=\"2038.31,147.058 2181.23,147.058 \"/>\n",
       "<path clip-path=\"url(#clip380)\" d=\"M2218.89 166.745 Q2217.09 171.375 2215.37 172.787 Q2213.66 174.199 2210.79 174.199 L2207.39 174.199 L2207.39 170.634 L2209.89 170.634 Q2211.65 170.634 2212.62 169.8 Q2213.59 168.967 2214.77 165.865 L2215.53 163.921 L2205.05 138.412 L2209.56 138.412 L2217.66 158.689 L2225.77 138.412 L2230.28 138.412 L2218.89 166.745 Z\" fill=\"#000000\" fill-rule=\"evenodd\" fill-opacity=\"1\" /><path clip-path=\"url(#clip380)\" d=\"M2237.57 160.402 L2245.21 160.402 L2245.21 134.037 L2236.9 135.703 L2236.9 131.444 L2245.16 129.778 L2249.84 129.778 L2249.84 160.402 L2257.48 160.402 L2257.48 164.338 L2237.57 164.338 L2237.57 160.402 Z\" fill=\"#000000\" fill-rule=\"evenodd\" fill-opacity=\"1\" /><circle clip-path=\"url(#clip380)\" cx=\"2109.77\" cy=\"198.898\" r=\"23.04\" fill=\"#e26f46\" fill-rule=\"evenodd\" fill-opacity=\"1\" stroke=\"#000000\" stroke-opacity=\"1\" stroke-width=\"5.12\"/>\n",
       "<path clip-path=\"url(#clip380)\" d=\"M2218.89 218.585 Q2217.09 223.215 2215.37 224.627 Q2213.66 226.039 2210.79 226.039 L2207.39 226.039 L2207.39 222.474 L2209.89 222.474 Q2211.65 222.474 2212.62 221.64 Q2213.59 220.807 2214.77 217.705 L2215.53 215.761 L2205.05 190.252 L2209.56 190.252 L2217.66 210.529 L2225.77 190.252 L2230.28 190.252 L2218.89 218.585 Z\" fill=\"#000000\" fill-rule=\"evenodd\" fill-opacity=\"1\" /><path clip-path=\"url(#clip380)\" d=\"M2240.79 212.242 L2257.11 212.242 L2257.11 216.178 L2235.16 216.178 L2235.16 212.242 Q2237.83 209.488 2242.41 204.858 Q2247.02 200.205 2248.2 198.863 Q2250.44 196.34 2251.32 194.604 Q2252.22 192.844 2252.22 191.155 Q2252.22 188.4 2250.28 186.664 Q2248.36 184.928 2245.26 184.928 Q2243.06 184.928 2240.6 185.692 Q2238.17 186.455 2235.4 188.006 L2235.4 183.284 Q2238.22 182.15 2240.67 181.571 Q2243.13 180.993 2245.16 180.993 Q2250.53 180.993 2253.73 183.678 Q2256.92 186.363 2256.92 190.854 Q2256.92 192.983 2256.11 194.905 Q2255.33 196.803 2253.22 199.395 Q2252.64 200.067 2249.54 203.284 Q2246.44 206.479 2240.79 212.242 Z\" fill=\"#000000\" fill-rule=\"evenodd\" fill-opacity=\"1\" /></svg>\n"
      ]
     },
     "execution_count": 7,
     "metadata": {},
     "output_type": "execute_result"
    }
   ],
   "source": [
    "# funcion posicion z(t)\n",
    "# parametros de ajuste: α, g \n",
    "# Ver residuos \n",
    "# Comparar valores de g con tabla\n",
    "x = t\n",
    "y = z\n",
    "\n",
    "function modelo_z(t,p)\n",
    "    return -p[1]*p[2]*t + p[1]*(p[2]^2)*(1-exp(-t/p[2]))\n",
    "end\n",
    "\n",
    "p0 = [9.81, 3.14]\n",
    "\n",
    "modelo(t,p) = @. -p[1]*p[2]*t + p[1]*(p[2]^2)*(1-exp(-t/p[2]))\n",
    "\n",
    "fit = curve_fit(modelo, x, y, p0)\n",
    "fit.param\n",
    "\n",
    "plot(x, modelo(x,fit.param))\n",
    "scatter!(x,y)"
   ]
  },
  {
   "cell_type": "code",
   "execution_count": 8,
   "metadata": {},
   "outputs": [
    {
     "data": {
      "text/plain": [
       "3.1439064131137466"
      ]
     },
     "execution_count": 8,
     "metadata": {},
     "output_type": "execute_result"
    }
   ],
   "source": [
    "α_medido = fit.param[2]"
   ]
  },
  {
   "cell_type": "code",
   "execution_count": 9,
   "metadata": {},
   "outputs": [
    {
     "data": {
      "image/svg+xml": [
       "<?xml version=\"1.0\" encoding=\"utf-8\"?>\n",
       "<svg xmlns=\"http://www.w3.org/2000/svg\" xmlns:xlink=\"http://www.w3.org/1999/xlink\" width=\"600\" height=\"400\" viewBox=\"0 0 2400 1600\">\n",
       "<defs>\n",
       "  <clipPath id=\"clip420\">\n",
       "    <rect x=\"0\" y=\"0\" width=\"2400\" height=\"1600\"/>\n",
       "  </clipPath>\n",
       "</defs>\n",
       "<path clip-path=\"url(#clip420)\" d=\"M0 1600 L2400 1600 L2400 0 L0 0  Z\" fill=\"#ffffff\" fill-rule=\"evenodd\" fill-opacity=\"1\"/>\n",
       "<defs>\n",
       "  <clipPath id=\"clip421\">\n",
       "    <rect x=\"480\" y=\"0\" width=\"1681\" height=\"1600\"/>\n",
       "  </clipPath>\n",
       "</defs>\n",
       "<path clip-path=\"url(#clip420)\" d=\"M148.057 1486.45 L2352.76 1486.45 L2352.76 47.2441 L148.057 47.2441  Z\" fill=\"#ffffff\" fill-rule=\"evenodd\" fill-opacity=\"1\"/>\n",
       "<defs>\n",
       "  <clipPath id=\"clip422\">\n",
       "    <rect x=\"148\" y=\"47\" width=\"2206\" height=\"1440\"/>\n",
       "  </clipPath>\n",
       "</defs>\n",
       "<polyline clip-path=\"url(#clip422)\" style=\"stroke:#000000; stroke-linecap:round; stroke-linejoin:round; stroke-width:2; stroke-opacity:0.1; fill:none\" points=\"210.454,1486.45 210.454,47.2441 \"/>\n",
       "<polyline clip-path=\"url(#clip422)\" style=\"stroke:#000000; stroke-linecap:round; stroke-linejoin:round; stroke-width:2; stroke-opacity:0.1; fill:none\" points=\"860.424,1486.45 860.424,47.2441 \"/>\n",
       "<polyline clip-path=\"url(#clip422)\" style=\"stroke:#000000; stroke-linecap:round; stroke-linejoin:round; stroke-width:2; stroke-opacity:0.1; fill:none\" points=\"1510.39,1486.45 1510.39,47.2441 \"/>\n",
       "<polyline clip-path=\"url(#clip422)\" style=\"stroke:#000000; stroke-linecap:round; stroke-linejoin:round; stroke-width:2; stroke-opacity:0.1; fill:none\" points=\"2160.36,1486.45 2160.36,47.2441 \"/>\n",
       "<polyline clip-path=\"url(#clip420)\" style=\"stroke:#000000; stroke-linecap:round; stroke-linejoin:round; stroke-width:4; stroke-opacity:1; fill:none\" points=\"148.057,1486.45 2352.76,1486.45 \"/>\n",
       "<polyline clip-path=\"url(#clip420)\" style=\"stroke:#000000; stroke-linecap:round; stroke-linejoin:round; stroke-width:4; stroke-opacity:1; fill:none\" points=\"210.454,1486.45 210.454,1467.55 \"/>\n",
       "<polyline clip-path=\"url(#clip420)\" style=\"stroke:#000000; stroke-linecap:round; stroke-linejoin:round; stroke-width:4; stroke-opacity:1; fill:none\" points=\"860.424,1486.45 860.424,1467.55 \"/>\n",
       "<polyline clip-path=\"url(#clip420)\" style=\"stroke:#000000; stroke-linecap:round; stroke-linejoin:round; stroke-width:4; stroke-opacity:1; fill:none\" points=\"1510.39,1486.45 1510.39,1467.55 \"/>\n",
       "<polyline clip-path=\"url(#clip420)\" style=\"stroke:#000000; stroke-linecap:round; stroke-linejoin:round; stroke-width:4; stroke-opacity:1; fill:none\" points=\"2160.36,1486.45 2160.36,1467.55 \"/>\n",
       "<path clip-path=\"url(#clip420)\" d=\"M210.454 1517.37 Q206.843 1517.37 205.014 1520.93 Q203.208 1524.47 203.208 1531.6 Q203.208 1538.71 205.014 1542.27 Q206.843 1545.82 210.454 1545.82 Q214.088 1545.82 215.894 1542.27 Q217.722 1538.71 217.722 1531.6 Q217.722 1524.47 215.894 1520.93 Q214.088 1517.37 210.454 1517.37 M210.454 1513.66 Q216.264 1513.66 219.319 1518.27 Q222.398 1522.85 222.398 1531.6 Q222.398 1540.33 219.319 1544.94 Q216.264 1549.52 210.454 1549.52 Q204.644 1549.52 201.565 1544.94 Q198.509 1540.33 198.509 1531.6 Q198.509 1522.85 201.565 1518.27 Q204.644 1513.66 210.454 1513.66 Z\" fill=\"#000000\" fill-rule=\"evenodd\" fill-opacity=\"1\" /><path clip-path=\"url(#clip420)\" d=\"M850.702 1514.29 L869.058 1514.29 L869.058 1518.22 L854.984 1518.22 L854.984 1526.7 Q856.003 1526.35 857.021 1526.19 Q858.04 1526 859.058 1526 Q864.845 1526 868.225 1529.17 Q871.605 1532.34 871.605 1537.76 Q871.605 1543.34 868.132 1546.44 Q864.66 1549.52 858.341 1549.52 Q856.165 1549.52 853.896 1549.15 Q851.651 1548.78 849.244 1548.04 L849.244 1543.34 Q851.327 1544.47 853.549 1545.03 Q855.771 1545.58 858.248 1545.58 Q862.253 1545.58 864.591 1543.48 Q866.929 1541.37 866.929 1537.76 Q866.929 1534.15 864.591 1532.04 Q862.253 1529.94 858.248 1529.94 Q856.373 1529.94 854.498 1530.35 Q852.646 1530.77 850.702 1531.65 L850.702 1514.29 Z\" fill=\"#000000\" fill-rule=\"evenodd\" fill-opacity=\"1\" /><path clip-path=\"url(#clip420)\" d=\"M1485.08 1544.91 L1492.72 1544.91 L1492.72 1518.55 L1484.41 1520.21 L1484.41 1515.95 L1492.67 1514.29 L1497.35 1514.29 L1497.35 1544.91 L1504.99 1544.91 L1504.99 1548.85 L1485.08 1548.85 L1485.08 1544.91 Z\" fill=\"#000000\" fill-rule=\"evenodd\" fill-opacity=\"1\" /><path clip-path=\"url(#clip420)\" d=\"M1524.43 1517.37 Q1520.82 1517.37 1518.99 1520.93 Q1517.19 1524.47 1517.19 1531.6 Q1517.19 1538.71 1518.99 1542.27 Q1520.82 1545.82 1524.43 1545.82 Q1528.07 1545.82 1529.87 1542.27 Q1531.7 1538.71 1531.7 1531.6 Q1531.7 1524.47 1529.87 1520.93 Q1528.07 1517.37 1524.43 1517.37 M1524.43 1513.66 Q1530.24 1513.66 1533.3 1518.27 Q1536.38 1522.85 1536.38 1531.6 Q1536.38 1540.33 1533.3 1544.94 Q1530.24 1549.52 1524.43 1549.52 Q1518.62 1549.52 1515.54 1544.94 Q1512.49 1540.33 1512.49 1531.6 Q1512.49 1522.85 1515.54 1518.27 Q1518.62 1513.66 1524.43 1513.66 Z\" fill=\"#000000\" fill-rule=\"evenodd\" fill-opacity=\"1\" /><path clip-path=\"url(#clip420)\" d=\"M2135.55 1544.91 L2143.19 1544.91 L2143.19 1518.55 L2134.88 1520.21 L2134.88 1515.95 L2143.14 1514.29 L2147.82 1514.29 L2147.82 1544.91 L2155.46 1544.91 L2155.46 1548.85 L2135.55 1548.85 L2135.55 1544.91 Z\" fill=\"#000000\" fill-rule=\"evenodd\" fill-opacity=\"1\" /><path clip-path=\"url(#clip420)\" d=\"M2164.95 1514.29 L2183.3 1514.29 L2183.3 1518.22 L2169.23 1518.22 L2169.23 1526.7 Q2170.25 1526.35 2171.27 1526.19 Q2172.29 1526 2173.3 1526 Q2179.09 1526 2182.47 1529.17 Q2185.85 1532.34 2185.85 1537.76 Q2185.85 1543.34 2182.38 1546.44 Q2178.91 1549.52 2172.59 1549.52 Q2170.41 1549.52 2168.14 1549.15 Q2165.9 1548.78 2163.49 1548.04 L2163.49 1543.34 Q2165.57 1544.47 2167.8 1545.03 Q2170.02 1545.58 2172.49 1545.58 Q2176.5 1545.58 2178.84 1543.48 Q2181.17 1541.37 2181.17 1537.76 Q2181.17 1534.15 2178.84 1532.04 Q2176.5 1529.94 2172.49 1529.94 Q2170.62 1529.94 2168.74 1530.35 Q2166.89 1530.77 2164.95 1531.65 L2164.95 1514.29 Z\" fill=\"#000000\" fill-rule=\"evenodd\" fill-opacity=\"1\" /><polyline clip-path=\"url(#clip422)\" style=\"stroke:#000000; stroke-linecap:round; stroke-linejoin:round; stroke-width:2; stroke-opacity:0.1; fill:none\" points=\"148.057,1471.82 2352.76,1471.82 \"/>\n",
       "<polyline clip-path=\"url(#clip422)\" style=\"stroke:#000000; stroke-linecap:round; stroke-linejoin:round; stroke-width:2; stroke-opacity:0.1; fill:none\" points=\"148.057,1240.92 2352.76,1240.92 \"/>\n",
       "<polyline clip-path=\"url(#clip422)\" style=\"stroke:#000000; stroke-linecap:round; stroke-linejoin:round; stroke-width:2; stroke-opacity:0.1; fill:none\" points=\"148.057,1010.03 2352.76,1010.03 \"/>\n",
       "<polyline clip-path=\"url(#clip422)\" style=\"stroke:#000000; stroke-linecap:round; stroke-linejoin:round; stroke-width:2; stroke-opacity:0.1; fill:none\" points=\"148.057,779.138 2352.76,779.138 \"/>\n",
       "<polyline clip-path=\"url(#clip422)\" style=\"stroke:#000000; stroke-linecap:round; stroke-linejoin:round; stroke-width:2; stroke-opacity:0.1; fill:none\" points=\"148.057,548.246 2352.76,548.246 \"/>\n",
       "<polyline clip-path=\"url(#clip422)\" style=\"stroke:#000000; stroke-linecap:round; stroke-linejoin:round; stroke-width:2; stroke-opacity:0.1; fill:none\" points=\"148.057,317.353 2352.76,317.353 \"/>\n",
       "<polyline clip-path=\"url(#clip422)\" style=\"stroke:#000000; stroke-linecap:round; stroke-linejoin:round; stroke-width:2; stroke-opacity:0.1; fill:none\" points=\"148.057,86.4611 2352.76,86.4611 \"/>\n",
       "<polyline clip-path=\"url(#clip420)\" style=\"stroke:#000000; stroke-linecap:round; stroke-linejoin:round; stroke-width:4; stroke-opacity:1; fill:none\" points=\"148.057,1486.45 148.057,47.2441 \"/>\n",
       "<polyline clip-path=\"url(#clip420)\" style=\"stroke:#000000; stroke-linecap:round; stroke-linejoin:round; stroke-width:4; stroke-opacity:1; fill:none\" points=\"148.057,1471.82 166.954,1471.82 \"/>\n",
       "<polyline clip-path=\"url(#clip420)\" style=\"stroke:#000000; stroke-linecap:round; stroke-linejoin:round; stroke-width:4; stroke-opacity:1; fill:none\" points=\"148.057,1240.92 166.954,1240.92 \"/>\n",
       "<polyline clip-path=\"url(#clip420)\" style=\"stroke:#000000; stroke-linecap:round; stroke-linejoin:round; stroke-width:4; stroke-opacity:1; fill:none\" points=\"148.057,1010.03 166.954,1010.03 \"/>\n",
       "<polyline clip-path=\"url(#clip420)\" style=\"stroke:#000000; stroke-linecap:round; stroke-linejoin:round; stroke-width:4; stroke-opacity:1; fill:none\" points=\"148.057,779.138 166.954,779.138 \"/>\n",
       "<polyline clip-path=\"url(#clip420)\" style=\"stroke:#000000; stroke-linecap:round; stroke-linejoin:round; stroke-width:4; stroke-opacity:1; fill:none\" points=\"148.057,548.246 166.954,548.246 \"/>\n",
       "<polyline clip-path=\"url(#clip420)\" style=\"stroke:#000000; stroke-linecap:round; stroke-linejoin:round; stroke-width:4; stroke-opacity:1; fill:none\" points=\"148.057,317.353 166.954,317.353 \"/>\n",
       "<polyline clip-path=\"url(#clip420)\" style=\"stroke:#000000; stroke-linecap:round; stroke-linejoin:round; stroke-width:4; stroke-opacity:1; fill:none\" points=\"148.057,86.4611 166.954,86.4611 \"/>\n",
       "<path clip-path=\"url(#clip420)\" d=\"M50.9921 1472.27 L80.6679 1472.27 L80.6679 1476.2 L50.9921 1476.2 L50.9921 1472.27 Z\" fill=\"#000000\" fill-rule=\"evenodd\" fill-opacity=\"1\" /><path clip-path=\"url(#clip420)\" d=\"M104.927 1470.46 Q108.283 1471.18 110.158 1473.45 Q112.057 1475.72 112.057 1479.05 Q112.057 1484.16 108.538 1486.97 Q105.02 1489.77 98.5382 1489.77 Q96.3623 1489.77 94.0475 1489.33 Q91.7558 1488.91 89.3021 1488.05 L89.3021 1483.54 Q91.2465 1484.67 93.5613 1485.25 Q95.8761 1485.83 98.3993 1485.83 Q102.797 1485.83 105.089 1484.1 Q107.404 1482.36 107.404 1479.05 Q107.404 1475.99 105.251 1474.28 Q103.121 1472.54 99.3021 1472.54 L95.2743 1472.54 L95.2743 1468.7 L99.4872 1468.7 Q102.936 1468.7 104.765 1467.34 Q106.594 1465.95 106.594 1463.35 Q106.594 1460.69 104.696 1459.28 Q102.821 1457.85 99.3021 1457.85 Q97.3808 1457.85 95.1817 1458.26 Q92.9826 1458.68 90.3438 1459.56 L90.3438 1455.39 Q93.0058 1454.65 95.3206 1454.28 Q97.6585 1453.91 99.7187 1453.91 Q105.043 1453.91 108.145 1456.34 Q111.246 1458.75 111.246 1462.87 Q111.246 1465.74 109.603 1467.73 Q107.959 1469.7 104.927 1470.46 Z\" fill=\"#000000\" fill-rule=\"evenodd\" fill-opacity=\"1\" /><path clip-path=\"url(#clip420)\" d=\"M51.9412 1241.37 L81.617 1241.37 L81.617 1245.31 L51.9412 1245.31 L51.9412 1241.37 Z\" fill=\"#000000\" fill-rule=\"evenodd\" fill-opacity=\"1\" /><path clip-path=\"url(#clip420)\" d=\"M95.7373 1254.27 L112.057 1254.27 L112.057 1258.2 L90.1123 1258.2 L90.1123 1254.27 Q92.7743 1251.51 97.3576 1246.88 Q101.964 1242.23 103.145 1240.89 Q105.39 1238.37 106.27 1236.63 Q107.172 1234.87 107.172 1233.18 Q107.172 1230.43 105.228 1228.69 Q103.307 1226.95 100.205 1226.95 Q98.0058 1226.95 95.5521 1227.72 Q93.1215 1228.48 90.3438 1230.03 L90.3438 1225.31 Q93.1678 1224.18 95.6215 1223.6 Q98.0752 1223.02 100.112 1223.02 Q105.483 1223.02 108.677 1225.7 Q111.871 1228.39 111.871 1232.88 Q111.871 1235.01 111.061 1236.93 Q110.274 1238.83 108.168 1241.42 Q107.589 1242.09 104.487 1245.31 Q101.385 1248.5 95.7373 1254.27 Z\" fill=\"#000000\" fill-rule=\"evenodd\" fill-opacity=\"1\" /><path clip-path=\"url(#clip420)\" d=\"M51.5708 1010.48 L81.2466 1010.48 L81.2466 1014.42 L51.5708 1014.42 L51.5708 1010.48 Z\" fill=\"#000000\" fill-rule=\"evenodd\" fill-opacity=\"1\" /><path clip-path=\"url(#clip420)\" d=\"M92.1493 1023.38 L99.7882 1023.38 L99.7882 997.01 L91.478 998.677 L91.478 994.417 L99.7419 992.751 L104.418 992.751 L104.418 1023.38 L112.057 1023.38 L112.057 1027.31 L92.1493 1027.31 L92.1493 1023.38 Z\" fill=\"#000000\" fill-rule=\"evenodd\" fill-opacity=\"1\" /><path clip-path=\"url(#clip420)\" d=\"M100.112 764.937 Q96.5011 764.937 94.6724 768.502 Q92.8669 772.043 92.8669 779.173 Q92.8669 786.279 94.6724 789.844 Q96.5011 793.386 100.112 793.386 Q103.746 793.386 105.552 789.844 Q107.381 786.279 107.381 779.173 Q107.381 772.043 105.552 768.502 Q103.746 764.937 100.112 764.937 M100.112 761.233 Q105.922 761.233 108.978 765.84 Q112.057 770.423 112.057 779.173 Q112.057 787.9 108.978 792.506 Q105.922 797.09 100.112 797.09 Q94.3021 797.09 91.2234 792.506 Q88.1679 787.9 88.1679 779.173 Q88.1679 770.423 91.2234 765.84 Q94.3021 761.233 100.112 761.233 Z\" fill=\"#000000\" fill-rule=\"evenodd\" fill-opacity=\"1\" /><path clip-path=\"url(#clip420)\" d=\"M92.1493 561.591 L99.7882 561.591 L99.7882 535.225 L91.478 536.892 L91.478 532.633 L99.7419 530.966 L104.418 530.966 L104.418 561.591 L112.057 561.591 L112.057 565.526 L92.1493 565.526 L92.1493 561.591 Z\" fill=\"#000000\" fill-rule=\"evenodd\" fill-opacity=\"1\" /><path clip-path=\"url(#clip420)\" d=\"M95.7373 330.698 L112.057 330.698 L112.057 334.633 L90.1123 334.633 L90.1123 330.698 Q92.7743 327.944 97.3576 323.314 Q101.964 318.661 103.145 317.319 Q105.39 314.796 106.27 313.06 Q107.172 311.3 107.172 309.61 Q107.172 306.856 105.228 305.12 Q103.307 303.384 100.205 303.384 Q98.0058 303.384 95.5521 304.148 Q93.1215 304.911 90.3438 306.462 L90.3438 301.74 Q93.1678 300.606 95.6215 300.027 Q98.0752 299.448 100.112 299.448 Q105.483 299.448 108.677 302.134 Q111.871 304.819 111.871 309.31 Q111.871 311.439 111.061 313.36 Q110.274 315.259 108.168 317.851 Q107.589 318.522 104.487 321.74 Q101.385 324.934 95.7373 330.698 Z\" fill=\"#000000\" fill-rule=\"evenodd\" fill-opacity=\"1\" /><path clip-path=\"url(#clip420)\" d=\"M104.927 85.107 Q108.283 85.8246 110.158 88.0931 Q112.057 90.3616 112.057 93.6949 Q112.057 98.8106 108.538 101.612 Q105.02 104.412 98.5382 104.412 Q96.3623 104.412 94.0475 103.973 Q91.7558 103.556 89.3021 102.699 L89.3021 98.1856 Q91.2465 99.3198 93.5613 99.8985 Q95.8761 100.477 98.3993 100.477 Q102.797 100.477 105.089 98.7411 Q107.404 97.005 107.404 93.6949 Q107.404 90.6393 105.251 88.9264 Q103.121 87.1903 99.3021 87.1903 L95.2743 87.1903 L95.2743 83.3477 L99.4872 83.3477 Q102.936 83.3477 104.765 81.982 Q106.594 80.5931 106.594 78.0005 Q106.594 75.3385 104.696 73.9265 Q102.821 72.4913 99.3021 72.4913 Q97.3808 72.4913 95.1817 72.908 Q92.9826 73.3246 90.3438 74.2042 L90.3438 70.0376 Q93.0058 69.2969 95.3206 68.9265 Q97.6585 68.5561 99.7187 68.5561 Q105.043 68.5561 108.145 70.9867 Q111.246 73.3941 111.246 77.5144 Q111.246 80.3848 109.603 82.3755 Q107.959 84.3431 104.927 85.107 Z\" fill=\"#000000\" fill-rule=\"evenodd\" fill-opacity=\"1\" /><circle clip-path=\"url(#clip422)\" cx=\"210.454\" cy=\"779.138\" r=\"14.4\" fill=\"#009af9\" fill-rule=\"evenodd\" fill-opacity=\"1\" stroke=\"#000000\" stroke-opacity=\"1\" stroke-width=\"3.2\"/>\n",
       "<circle clip-path=\"url(#clip422)\" cx=\"340.448\" cy=\"768.308\" r=\"14.4\" fill=\"#009af9\" fill-rule=\"evenodd\" fill-opacity=\"1\" stroke=\"#000000\" stroke-opacity=\"1\" stroke-width=\"3.2\"/>\n",
       "<circle clip-path=\"url(#clip422)\" cx=\"470.442\" cy=\"747.11\" r=\"14.4\" fill=\"#009af9\" fill-rule=\"evenodd\" fill-opacity=\"1\" stroke=\"#000000\" stroke-opacity=\"1\" stroke-width=\"3.2\"/>\n",
       "<circle clip-path=\"url(#clip422)\" cx=\"600.436\" cy=\"727.555\" r=\"14.4\" fill=\"#009af9\" fill-rule=\"evenodd\" fill-opacity=\"1\" stroke=\"#000000\" stroke-opacity=\"1\" stroke-width=\"3.2\"/>\n",
       "<circle clip-path=\"url(#clip422)\" cx=\"730.43\" cy=\"715.926\" r=\"14.4\" fill=\"#009af9\" fill-rule=\"evenodd\" fill-opacity=\"1\" stroke=\"#000000\" stroke-opacity=\"1\" stroke-width=\"3.2\"/>\n",
       "<circle clip-path=\"url(#clip422)\" cx=\"860.424\" cy=\"707.318\" r=\"14.4\" fill=\"#009af9\" fill-rule=\"evenodd\" fill-opacity=\"1\" stroke=\"#000000\" stroke-opacity=\"1\" stroke-width=\"3.2\"/>\n",
       "<circle clip-path=\"url(#clip422)\" cx=\"990.418\" cy=\"712.311\" r=\"14.4\" fill=\"#009af9\" fill-rule=\"evenodd\" fill-opacity=\"1\" stroke=\"#000000\" stroke-opacity=\"1\" stroke-width=\"3.2\"/>\n",
       "<circle clip-path=\"url(#clip422)\" cx=\"1120.41\" cy=\"723.713\" r=\"14.4\" fill=\"#009af9\" fill-rule=\"evenodd\" fill-opacity=\"1\" stroke=\"#000000\" stroke-opacity=\"1\" stroke-width=\"3.2\"/>\n",
       "<circle clip-path=\"url(#clip422)\" cx=\"1250.41\" cy=\"744.652\" r=\"14.4\" fill=\"#009af9\" fill-rule=\"evenodd\" fill-opacity=\"1\" stroke=\"#000000\" stroke-opacity=\"1\" stroke-width=\"3.2\"/>\n",
       "<circle clip-path=\"url(#clip422)\" cx=\"1380.4\" cy=\"772.364\" r=\"14.4\" fill=\"#009af9\" fill-rule=\"evenodd\" fill-opacity=\"1\" stroke=\"#000000\" stroke-opacity=\"1\" stroke-width=\"3.2\"/>\n",
       "<circle clip-path=\"url(#clip422)\" cx=\"1510.39\" cy=\"809.437\" r=\"14.4\" fill=\"#009af9\" fill-rule=\"evenodd\" fill-opacity=\"1\" stroke=\"#000000\" stroke-opacity=\"1\" stroke-width=\"3.2\"/>\n",
       "<circle clip-path=\"url(#clip422)\" cx=\"1640.39\" cy=\"838.345\" r=\"14.4\" fill=\"#009af9\" fill-rule=\"evenodd\" fill-opacity=\"1\" stroke=\"#000000\" stroke-opacity=\"1\" stroke-width=\"3.2\"/>\n",
       "<circle clip-path=\"url(#clip422)\" cx=\"1770.38\" cy=\"906.534\" r=\"14.4\" fill=\"#009af9\" fill-rule=\"evenodd\" fill-opacity=\"1\" stroke=\"#000000\" stroke-opacity=\"1\" stroke-width=\"3.2\"/>\n",
       "<circle clip-path=\"url(#clip422)\" cx=\"1900.38\" cy=\"828.271\" r=\"14.4\" fill=\"#009af9\" fill-rule=\"evenodd\" fill-opacity=\"1\" stroke=\"#000000\" stroke-opacity=\"1\" stroke-width=\"3.2\"/>\n",
       "<circle clip-path=\"url(#clip422)\" cx=\"2030.37\" cy=\"752.135\" r=\"14.4\" fill=\"#009af9\" fill-rule=\"evenodd\" fill-opacity=\"1\" stroke=\"#000000\" stroke-opacity=\"1\" stroke-width=\"3.2\"/>\n",
       "<circle clip-path=\"url(#clip422)\" cx=\"2160.36\" cy=\"1445.72\" r=\"14.4\" fill=\"#009af9\" fill-rule=\"evenodd\" fill-opacity=\"1\" stroke=\"#000000\" stroke-opacity=\"1\" stroke-width=\"3.2\"/>\n",
       "<circle clip-path=\"url(#clip422)\" cx=\"2290.36\" cy=\"87.9763\" r=\"14.4\" fill=\"#009af9\" fill-rule=\"evenodd\" fill-opacity=\"1\" stroke=\"#000000\" stroke-opacity=\"1\" stroke-width=\"3.2\"/>\n",
       "<path clip-path=\"url(#clip420)\" d=\"M221.547 198.898 L494.447 198.898 L494.447 95.2176 L221.547 95.2176  Z\" fill=\"#ffffff\" fill-rule=\"evenodd\" fill-opacity=\"1\"/>\n",
       "<polyline clip-path=\"url(#clip420)\" style=\"stroke:#000000; stroke-linecap:round; stroke-linejoin:round; stroke-width:4; stroke-opacity:1; fill:none\" points=\"221.547,198.898 494.447,198.898 494.447,95.2176 221.547,95.2176 221.547,198.898 \"/>\n",
       "<circle clip-path=\"url(#clip420)\" cx=\"319.533\" cy=\"147.058\" r=\"23.04\" fill=\"#009af9\" fill-rule=\"evenodd\" fill-opacity=\"1\" stroke=\"#000000\" stroke-opacity=\"1\" stroke-width=\"5.12\"/>\n",
       "<path clip-path=\"url(#clip420)\" d=\"M431.362 166.745 Q429.557 171.375 427.844 172.787 Q426.131 174.199 423.261 174.199 L419.858 174.199 L419.858 170.634 L422.358 170.634 Q424.117 170.634 425.089 169.8 Q426.061 168.967 427.242 165.865 L428.006 163.921 L417.52 138.412 L422.034 138.412 L430.136 158.689 L438.237 138.412 L442.751 138.412 L431.362 166.745 Z\" fill=\"#000000\" fill-rule=\"evenodd\" fill-opacity=\"1\" /><path clip-path=\"url(#clip420)\" d=\"M450.043 160.402 L457.682 160.402 L457.682 134.037 L449.372 135.703 L449.372 131.444 L457.635 129.778 L462.311 129.778 L462.311 160.402 L469.95 160.402 L469.95 164.338 L450.043 164.338 L450.043 160.402 Z\" fill=\"#000000\" fill-rule=\"evenodd\" fill-opacity=\"1\" /></svg>\n"
      ]
     },
     "execution_count": 9,
     "metadata": {},
     "output_type": "execute_result"
    }
   ],
   "source": [
    "fit.resid\n",
    "scatter(x,abs.(fit.resid).+1e-16, yscale =:log10)\n",
    "scatter(x,fit.resid)"
   ]
  },
  {
   "cell_type": "code",
   "execution_count": 19,
   "metadata": {},
   "outputs": [
    {
     "data": {
      "text/plain": [
       "2-element Vector{Float64}:\n",
       " 9.67980802531526\n",
       " 3.1439064131137466"
      ]
     },
     "execution_count": 19,
     "metadata": {},
     "output_type": "execute_result"
    }
   ],
   "source": [
    "fit.param"
   ]
  },
  {
   "cell_type": "markdown",
   "metadata": {},
   "source": [
    "$\\alpha = 9.67980802531526$"
   ]
  },
  {
   "cell_type": "markdown",
   "metadata": {},
   "source": [
    "6. Use que $\\alpha = m/c$ y que la masa de la gota es $m=0.001\\,\\mathrm{Kg}$ para determinar el valor de $c$. Explicite en una celda en formato texto y LaTex el valor obtenido de $c$. Además, especifique las unidades que tiene $\\alpha$ y las uniades que tiene $c$."
   ]
  },
  {
   "cell_type": "code",
   "execution_count": 10,
   "metadata": {},
   "outputs": [
    {
     "data": {
      "text/plain": [
       "0.0003180756258611379"
      ]
     },
     "execution_count": 10,
     "metadata": {},
     "output_type": "execute_result"
    }
   ],
   "source": [
    "c_medido = 0.001/ α_medido # kg/s"
   ]
  },
  {
   "cell_type": "markdown",
   "metadata": {},
   "source": [
    "$c = 0.0003180756258611379 \\ \\mathrm{kg / s}$ \n",
    "\n",
    "$[\\alpha] = \\mathrm{s}$\n",
    "\n",
    "$[c] = \\mathrm{kg/s}$ "
   ]
  },
  {
   "cell_type": "markdown",
   "metadata": {},
   "source": [
    "7. Grafique la curva $z(t)$ ajustada con lo puntos especificados en el archivo `datos.dat` superpuestos."
   ]
  },
  {
   "cell_type": "code",
   "execution_count": null,
   "metadata": {},
   "outputs": [],
   "source": []
  },
  {
   "cell_type": "markdown",
   "metadata": {},
   "source": [
    "8. Al descender la gota por efecto de la fuerza  gravitatoria que ejerce la tierra sobre ella al tiempo que es frenada por una fuerza restauradora proporcional a menos su velocidad (debida a la viscocidad del aire), la gota del experimento recibe un trabajo. La expresión de dicho trabajo, como debe usted recordar de sus clases de Física General I, está dada por:\n",
    "    $$\n",
    "    W = \\int_{t_{\\mathrm{inicial}}}^{t_{\\mathrm{final}}} \\vec{F}.\\vec{v} \\, dt    \n",
    "    $$ \n",
    "    donde\n",
    "    $$\n",
    "    \\vec{F} = -m\\,g \\hat{z} \\; - c\\,v(t)\\hat{z}\n",
    "    $$\n",
    "    es la fuerza total actuante sobre la gota.\n",
    "\n",
    "    Para calcular el trabajo, emplee el algoritmo de integración del método de Simpson compuesto para intervalos equiespaciados, utilizando los $t_i$ proveídos en los datos y las correspondientes aproximaciones de $v_i$ del inciso 2. Explicite el resultado del cómputo en una celda en formato texto y LaTeX.\n",
    "\n",
    "    Aproxime la integral nuevamente, dividiendo el intervalo de tiempo en $100$ subintervalos ($n=101$ puntos) y usando correspondientes valores de $v(t)$ calculados a partir de la derivada analítica de la expresión del ajuste de $z(t)$. Compare resultados con la aproximación anterior."
   ]
  },
  {
   "cell_type": "code",
   "execution_count": 11,
   "metadata": {},
   "outputs": [
    {
     "data": {
      "text/plain": [
       "int_simpson (generic function with 1 method)"
      ]
     },
     "execution_count": 11,
     "metadata": {},
     "output_type": "execute_result"
    }
   ],
   "source": [
    "function int_simpson(x,y)\n",
    "    \n",
    "    n = length(x)\n",
    "    \n",
    "    if n%2 != 0\n",
    "        println(\"$n es impar, cambiando por $(n-1)\")\n",
    "        n -= 1\n",
    "    end\n",
    "    \n",
    "    h = (x[end]-x[1])/n\n",
    "    s0 = y[end]+y[1]\n",
    "    s1 = 0.\n",
    "    s2 = 0.\n",
    "    \n",
    "    for i in 2:n-1\n",
    "        if i%2==0\n",
    "            s2 += y[i]\n",
    "        else\n",
    "            s1 += y[i]\n",
    "        end\n",
    "    end\n",
    "        \n",
    "    integral = (h/3)*(s0+2*s2+4*s1)\n",
    "    \n",
    "    return integral\n",
    "    \n",
    "end"
   ]
  },
  {
   "cell_type": "code",
   "execution_count": 12,
   "metadata": {},
   "outputs": [
    {
     "name": "stdout",
     "output_type": "stream",
     "text": [
      "17 es impar, cambiando por 16\n"
     ]
    },
    {
     "data": {
      "text/plain": [
       "-0.029209071767880512"
      ]
     },
     "execution_count": 12,
     "metadata": {},
     "output_type": "execute_result"
    }
   ],
   "source": [
    "m, c = 0.001, c_medido #kg, #?\n",
    "g = 9.81 #m/s²\n",
    "F = -(m*g .+ c*v)\n",
    "# W = int_simpson(t,F.*v)\n",
    "int_simpson(t,F) ## no coincide con lo que deberia dar segun scipy.integrate.simpson (394.66)\n",
    "\n"
   ]
  },
  {
   "cell_type": "code",
   "execution_count": 13,
   "metadata": {},
   "outputs": [
    {
     "data": {
      "text/plain": [
       "S_S (generic function with 1 method)"
      ]
     },
     "execution_count": 13,
     "metadata": {},
     "output_type": "execute_result"
    }
   ],
   "source": [
    "function S_S(f,a,b,n)\n",
    "    \n",
    "    if n%2 != 0\n",
    "        println(\"$n es impar, cambiando por $(n+1)\")\n",
    "        n = n+1\n",
    "    end\n",
    "    \n",
    "    h = (b-a)/n\n",
    "    s1 = 0.\n",
    "    s2 = 0.\n",
    "    for j in 1:n//2-1\n",
    "        s1 += f(a+2*j*h)\n",
    "    end\n",
    "    for j in 1:n//2\n",
    "        s2 += f(a+(2*j-1)*h)\n",
    "    end\n",
    "    return (f(a) + f(b) + 2*s1 + 4*s2)*h/3 \n",
    "    \n",
    "end"
   ]
  },
  {
   "cell_type": "code",
   "execution_count": 14,
   "metadata": {},
   "outputs": [
    {
     "name": "stdout",
     "output_type": "stream",
     "text": [
      "101 es impar, cambiando por 102\n"
     ]
    },
    {
     "data": {
      "text/plain": [
       "0.4697615297164062"
      ]
     },
     "execution_count": 14,
     "metadata": {},
     "output_type": "execute_result"
    }
   ],
   "source": [
    "v_an(t) = -g*α*(1-exp(-t/α))\n",
    "α = α_medido\n",
    "c = c_medido\n",
    "integrand(t) = (-v_an.(t)*c .- m*g).*v_an.(t)\n",
    "S_S(integrand,0.,16.,101) ## ?? nada q ver con el otro metodo"
   ]
  },
  {
   "cell_type": "markdown",
   "metadata": {},
   "source": [
    "9. Cuando la trayectoria del objeto no se cruza a si misma, una forma equivalente de calcular el trabajo proviene de la expresión:\n",
    "    $$\n",
    "    W = \\int_{z_{\\mathrm{inicial}}}^{z_{\\mathrm{final}}} \\; \\vec{F}.\\vec{dz} \\nonumber \\\\\n",
    "    $$\n",
    "    Aproxime nuevamente el trabajo $W$ integrando esta otra expresión, utilizando el método del trapecio para intervalos **no equiespaciados**, y usando los puntos $z_i$ proveídos en los datos y las correspondientes aproximaciones $v_i$ del inciso 2.\n",
    "    \n",
    "    Compare resultados con el inciso anterior.\n",
    "    \n",
    "    **Ayuda:** Note que deberá implementar el el método del trapecio para intervalos **no equiespaciados**. Le recomendamos chequear el correcto funcionamiento del método, aproximando la integral\n",
    "    \n",
    "    $$\n",
    "    \\int_0^1 \\sin(x)\\,dx\n",
    "    $$\n",
    "    \n",
    "    usando el siguiente arreglo de puntos de integración $x = [0.0,0.1,0.3,0.5,0.8,1.0]$. Debería darle $\\approx 0.457421559686$."
   ]
  },
  {
   "cell_type": "code",
   "execution_count": 15,
   "metadata": {},
   "outputs": [
    {
     "data": {
      "text/plain": [
       "trapecio_no_equiespaciado (generic function with 1 method)"
      ]
     },
     "execution_count": 15,
     "metadata": {},
     "output_type": "execute_result"
    }
   ],
   "source": [
    "function trapecio_no_equiespaciado(x, y)\n",
    "    n = length(x)\n",
    "    if n != length(y)\n",
    "        throw(ArgumentError(\"Los vectores x e y deben tener la misma longitud\"))\n",
    "    end\n",
    "    \n",
    "    suma = 0.0\n",
    "    for i in 2:n\n",
    "        h = x[i] - x[i-1]\n",
    "        suma += (y[i] + y[i-1]) * h\n",
    "    end\n",
    "    \n",
    "    return suma / 2\n",
    "end"
   ]
  },
  {
   "cell_type": "code",
   "execution_count": 16,
   "metadata": {},
   "outputs": [
    {
     "data": {
      "text/plain": [
       "0.4574215596860132"
      ]
     },
     "execution_count": 16,
     "metadata": {},
     "output_type": "execute_result"
    }
   ],
   "source": [
    "x = [0.0,0.1,0.3,0.5,0.8,1.0]\n",
    "y = @. sin(x)\n",
    "\n",
    "trapecio_no_equiespaciado(x,y)"
   ]
  },
  {
   "cell_type": "code",
   "execution_count": 17,
   "metadata": {},
   "outputs": [
    {
     "data": {
      "text/plain": [
       "0.4855466609024149"
      ]
     },
     "execution_count": 17,
     "metadata": {},
     "output_type": "execute_result"
    }
   ],
   "source": [
    "trapecio_no_equiespaciado(z,F)"
   ]
  },
  {
   "cell_type": "markdown",
   "metadata": {},
   "source": [
    "10. Para verificar si las integrales le dieron el resultado correcto, calcule también el trabajo como:\n",
    "\n",
    "    $$\n",
    "    W=E_{\\mathrm{cinética}}(t)-E_{\\mathrm{cinética}}(0)\n",
    "    $$\n",
    "    \n",
    "    donde\n",
    "    \n",
    "    $$\n",
    "    E_{\\mathrm{cinética}}(t) = \\frac{1}{2}m v^2(t)\n",
    "    $$\n",
    "\n",
    "    Utilice para ello la velocidad final del ajuste. Imprima este valor también por pantalla."
   ]
  },
  {
   "cell_type": "code",
   "execution_count": null,
   "metadata": {},
   "outputs": [],
   "source": []
  },
  {
   "cell_type": "markdown",
   "metadata": {},
   "source": [
    "11. A partir del archivo `datos.dat`, interpole la posición como función del tiempo con el método del polinomio interpolante de Lagrange dividiendo el intervalo de tiempo en $100$ subintervalos ($n=100$). Grafique, en un único gráfico, las siguientes curvas entre $t_i$ y $t_f$:\n",
    "    1. Los puntos medidos $z_i$ vs $t_i$,\n",
    "    2. el polinomio interpolante de Lagrange y\n",
    "    3. la curva de la posición ajustada en el inciso 4."
   ]
  },
  {
   "cell_type": "markdown",
   "metadata": {},
   "source": [
    "12. Explique en una celda los resultados obtenidos."
   ]
  }
 ],
 "metadata": {
  "kernelspec": {
   "display_name": "Julia 1.8.5",
   "language": "julia",
   "name": "julia-1.8"
  },
  "language_info": {
   "file_extension": ".jl",
   "mimetype": "application/julia",
   "name": "julia",
   "version": "1.8.5"
  }
 },
 "nbformat": 4,
 "nbformat_minor": 4
}
