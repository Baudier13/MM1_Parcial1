{
 "cells": [
  {
   "cell_type": "markdown",
   "metadata": {},
   "source": [
    "# Métodos Numericos 2023\n",
    "\n",
    "## Parcial 2\n",
    "\n",
    "### Fecha de entrega \n",
    "\n",
    "8 de Junio de 2023\n",
    "\n",
    "### Nota sobre la programación en Julia\n",
    "\n",
    "Recuerde que su notebook tiene que poder ser entendida por otra persona. Para ello:\n",
    "\n",
    "* Cuando crea conveniente, use texto Markdown para desarrollar o comentar una idea.\n",
    "\n",
    "* Agregue comentarios a su código de ser necesario.\n",
    "\n",
    "* Realice gráficos que tengan etiquetas en los ejes y leyendas para cada curva o serie de puntos graficados, como así también un título apropiado.\n",
    "\n",
    "* Procure respetar reglas de buena programación:\n",
    "\n",
    "    * Use sangrías adecuadamente.\n",
    "\n",
    "    * Cuando sea posible, implemente funciones de caracter general, en vez de código específico a cada problema, facilitando así la reutilización de código.\n",
    "\n",
    "    * Implemente funciones que tengan los argumentos necesarios para su buen funcionamiento."
   ]
  },
  {
   "cell_type": "code",
   "execution_count": 1,
   "metadata": {},
   "outputs": [],
   "source": [
    "using Plots\n",
    "using LaTeXStrings\n",
    "using DataFrames\n",
    "using CSV\n",
    "using LsqFit"
   ]
  },
  {
   "cell_type": "markdown",
   "metadata": {},
   "source": [
    "### Problema\n",
    "\n",
    "**Contexto físico**\n",
    "\n",
    "Los datos incluidos en el archivo adjunto `datos.dat` representan los tiempos de medición $t_i$ (primera columna) y posición $z_i$ (segunda columna) de una gota de agua en caída libre pero afectada por la resistencia impuesta por el aire. \n",
    "La posición se mide a lo largo de la perpendicular a la tierra ($z$), el origen de coordenadas se fija en el punto de partida de la gota, la cual tiene velocidad inicial nula.\n",
    "\n",
    "Este experimento, ideado originalmente por el físico Philipp Lennard, ganador del Premio Nobel de Física en 1905 por sus investigaciones sobre los rayos catódicos y sus propiedades, consiste en medir durante la caída libre de la gota su posición para diferentes tiempos, los cuales, en este caso se escogieron equiespaciados.\n",
    "\n",
    "A partir de suponer que la gota está sometida a la fuerza gravitacional que le ejerce la tierra y una fuerza restitutiva de rozamiento proporcional a su velocidad:\n",
    "$$\n",
    "\\vec{F}=\\vec{F_g} + \\vec{F_R} = -mg \\hat{z} - cv \\hat{z}\n",
    "$$\n",
    "y usando las leyes de Newton, es posible deducir la posición $z$ en función del tiempo, como veremos más adelante en este parcial.\n",
    "En este ejercicio no nos interesa que entiendan la física del experimento, pues lo verán más adeltante en la carrera, pero queremos que vean cómo se resuelven problemas físicos no triviales combinando variados métodos numéricos. \n",
    "\n",
    "**Incisos a resolver**\n",
    "\n",
    "1. Lea los datos del archivo `datos.dat` y grafique las posiciones $z_i$ en función de los tiempos $t_i$. Los datos son tales que la unidad de tiempos es segundos $[\\mathrm{s}]$ y la de posiciones es metros $[\\mathrm{m}]$. Describa cualitativamente el comportamiento de la gota.\n",
    "\n",
    "2. Calcule **numéricamente** la velocidad de la gota para cada uno de los tiempos de medición. Use el método centrado de cinco puntos en los puntos centrales, el método centrado de tres puntos en el segundo y el anteúltimo, y el de dos puntos en el primer y en el último punto. \n",
    "\n",
    "3. Grafique la aproximación de la velocidad $v_i$ calculada, en función del tiempo $t_i$. Describa cualitativamente el comportamiento temporal de la velocidad de la gota.\n",
    "\n",
    "4. Grafique la velocidad $v_i$ en función de posición $z_i$. Describa cualitativamente cómo la velocidad de la gota cambia a medidad que cambia su posición.\n",
    "\n",
    "5. Sabiendo que la ecuación que describe la posición de la gota en función del tiempo es:\n",
    "    $$\n",
    "    z(t)= - g\\,\\alpha\\,t + g\\,\\alpha^2\\, \\left(1-e^{-t/\\alpha} \\right)\n",
    "    $$\n",
    "    donde $\\alpha=m/c$, realice un ajuste de cuadrados mínimos de las posiciones $z_i$ en función de los tiempos $t_i$ y obtenga una estimación de los parámetros $\\alpha$ y $g$. Verifique que los residuos son relativamente pequeños. Explicite los resultados del ajute en una celda en formato texto y LaTeX. En particular, compare el valor ajustado de $g$, con el comunmente utilizado de $g=9,81\\,\\mathrm{m}/\\mathrm{s}^2$.\n",
    "\n",
    "6. Use que $\\alpha = m/c$ y que la masa de la gota es $m=0.001\\,\\mathrm{Kg}$ para determinar el valor de $c$. Explicite en una celda en formato texto y LaTex el valor obtenido de $c$. Además, especifique las unidades que tiene $\\alpha$ y las uniades que tiene $c$.\n",
    "\n",
    "7. Grafique la curva $z(t)$ ajustada con lo puntos especificados en el archivo `datos.dat` superpuestos.\n",
    "\n",
    "8. Al descender la gota por efecto de la fuerza  gravitatoria que ejerce la tierra sobre ella al tiempo que es frenada por una fuerza restauradora proporcional a menos su velocidad (debida a la viscocidad del aire), la gota del experimento recibe un trabajo. La expresión de dicho trabajo, como debe usted recordar de sus clases de Física General I, está dada por:\n",
    "    $$\n",
    "    W = \\int_{t_{\\mathrm{inicial}}}^{t_{\\mathrm{final}}} \\vec{F}.\\vec{v} \\, dt    \n",
    "    $$ \n",
    "    donde\n",
    "    $$\n",
    "    \\vec{F} = -m\\,g \\hat{z} \\; - c\\,v(t)\\hat{z}\n",
    "    $$\n",
    "    es la fuerza total actuante sobre la gota.\n",
    "\n",
    "    Para calcular el trabajo, emplee el algoritmo de integración del método de Simpson compuesto para intervalos equiespaciados, utilizando los $t_i$ proveídos en los datos y las correspondientes aproximaciones de $v_i$ del inciso 2. Explicite el resultado del cómputo en una celda en formato texto y LaTeX.\n",
    "\n",
    "    Aproxime la integral nuevamente, dividiendo el intervalo de tiempo en $100$ subintervalos ($n=101$ puntos) y usando correspondientes valores de $v(t)$ calculados a partir de la derivada analítica de la expresión del ajuste de $z(t)$. Compare resultados con la aproximación anterior.\n",
    "\n",
    "9. Cuando la trayectoria del objeto no se cruza a si misma, una forma equivalente de calcular el trabajo proviene de la expresión:\n",
    "    $$\n",
    "    W = \\int_{z_{\\mathrm{inicial}}}^{z_{\\mathrm{final}}} \\; \\vec{F}.\\vec{dz} \\nonumber \\\\\n",
    "    $$\n",
    "    Aproxime nuevamente el trabajo $W$ integrando esta otra expresión, utilizando el método del trapecio para intervalos **no equiespaciados**, y usando los puntos $z_i$ proveídos en los datos y las correspondientes aproximaciones $v_i$ del inciso 2.\n",
    "    \n",
    "    Compare resultados con el inciso anterior.\n",
    "    \n",
    "    **Ayuda:** Note que deberá implementar el el método del trapecio para intervalos **no equiespaciados**. Le recomendamos chequear el correcto funcionamiento del método, aproximando la integral\n",
    "    \n",
    "    $$\n",
    "    \\int_0^1 \\sin(x)\\,dx\n",
    "    $$\n",
    "    \n",
    "    usando el siguiente arreglo de puntos de integración $x = [0.0,0.1,0.3,0.5,0.8,1.0]$. Debería darle $\\approx 0.457421559686$.\n",
    "\n",
    "10. Para verificar si las integrales le dieron el resultado correcto, calcule también el trabajo como:\n",
    "\n",
    "    $$\n",
    "    W=E_{\\mathrm{cinética}}(t)-E_{\\mathrm{cinética}}(0)\n",
    "    $$\n",
    "    \n",
    "    donde\n",
    "    \n",
    "    $$\n",
    "    E_{\\mathrm{cinética}}(t) = \\frac{1}{2}m v^2(t)\n",
    "    $$\n",
    "\n",
    "    Utilice para ello la velocidad final del ajuste. Imprima este valor también por pantalla.\n",
    "\n",
    "11. A partir del archivo `datos.dat`, interpole la posición como función del tiempo con el método del polinomio interpolante de Lagrange dividiendo el intervalo de tiempo en $100$ subintervalos ($n=100$). Grafique, en un único gráfico, las siguientes curvas entre $t_i$ y $t_f$:\n",
    "    1. Los puntos medidos $z_i$ vs $t_i$,\n",
    "    2. el polinomio interpolante de Lagrange y\n",
    "    3. la curva de la posición ajustada en el inciso 4.\n",
    "   \n",
    "12. Explique en una celda los resultados obtenidos."
   ]
  },
  {
   "cell_type": "markdown",
   "metadata": {},
   "source": [
    "### Respuestas"
   ]
  },
  {
   "cell_type": "markdown",
   "metadata": {},
   "source": [
    "#### 1. "
   ]
  },
  {
   "cell_type": "code",
   "execution_count": null,
   "metadata": {},
   "outputs": [],
   "source": [
    "data = CSV.read(\"datos.dat\", DataFrame, delim=\" \", ignorerepeated=true)\n",
    "\n",
    "t = data[!,1]\n",
    "z = data[!,2]\n",
    "\n",
    "scatter(t,z, label=L\"z(t)\")\n",
    "plot!(xlabel=L\"t \\ \\mathrm{[s]}\", ylabel=L\"z(t) \\  \\mathrm{[m]}\")\n"
   ]
  },
  {
   "cell_type": "markdown",
   "metadata": {},
   "source": [
    "La gota cae, se acelera por la gravedad y se frena por la fuerza de roce por el aire alcanzando una velocidad terminal constante."
   ]
  },
  {
   "cell_type": "markdown",
   "metadata": {},
   "source": [
    "#### 2."
   ]
  },
  {
   "cell_type": "code",
   "execution_count": null,
   "metadata": {},
   "outputs": [],
   "source": [
    "\"\"\"\n",
    "Derivada numerica\n",
    "t : (array) valor de t (abscisas)\n",
    "z : (array) valor de z(t) (ordenadas)\n",
    "\n",
    "return : (array) derivada z'(t)\"\"\"\n",
    "function D(t,z)\n",
    "    \n",
    "    v = zeros(length(t))\n",
    "    h = t[2] - t[1]\n",
    "\n",
    "    #derivada para los puntos centrales\n",
    "    for j in 3:(length(t)-2)\n",
    "        v[j] = (-z[j+2] + 8*z[j+1] - 8*z[j-1] + z[j-2])/(12*h)\n",
    "    end\n",
    "    \n",
    "    #derivada para el segundo y anteultimo \n",
    "    v[2]     = (z[3] - z[1])/(2*h)\n",
    "    v[end-1] = (z[end] - z[end-2])/(2*h)\n",
    "    \n",
    "    #derivada para el primero y ultimo\n",
    "    v[1]   = (z[2] - z[1])/h\n",
    "    v[end] = (z[end] - z[end-1])/h\n",
    "    \n",
    "    return v\n",
    "end"
   ]
  },
  {
   "cell_type": "code",
   "execution_count": null,
   "metadata": {},
   "outputs": [],
   "source": [
    "v = D(t,z)"
   ]
  },
  {
   "cell_type": "markdown",
   "metadata": {},
   "source": [
    "#### 3."
   ]
  },
  {
   "cell_type": "code",
   "execution_count": null,
   "metadata": {},
   "outputs": [],
   "source": [
    "scatter(t,v, label=L\"v(t)\")\n",
    "plot!(xlabel=L\"t \\ [s]\", ylabel=L\"v(t) \\  [m/s]\")"
   ]
  },
  {
   "cell_type": "markdown",
   "metadata": {},
   "source": [
    "La gota se acelera en los primeros segudos de caida, y se frena hasta llegar a una velocidad casi constate debido a que las fuerzas de gravedad y rozamiento se igualan."
   ]
  },
  {
   "cell_type": "markdown",
   "metadata": {},
   "source": [
    "#### 4."
   ]
  },
  {
   "cell_type": "code",
   "execution_count": null,
   "metadata": {},
   "outputs": [],
   "source": [
    "scatter(z,v, label=L\"v(z)\")\n",
    "plot!(xlabel=L\"z \\ \\mathrm{[m]}\", ylabel=L\"v \\ \\mathrm{[m/s]}\")"
   ]
  },
  {
   "cell_type": "markdown",
   "metadata": {},
   "source": [
    "La gota acelera a medida que su pocision se hace cada vez mas negativa (mas lejos de su pocision inicial), el mayor cambio de velocidad se da en los primeros $50$ m, que corresponde con la aceleracion por la gravedad, y a partir de los $100$ m su cambio con respecto a la pocision se vuelve aproximadamente lineal"
   ]
  },
  {
   "cell_type": "markdown",
   "metadata": {},
   "source": [
    "#### 5."
   ]
  },
  {
   "cell_type": "code",
   "execution_count": null,
   "metadata": {},
   "outputs": [],
   "source": [
    "# funcion posicion z(t)\n",
    "# parametros de ajuste: α, g \n",
    "# Ver residuos \n",
    "# Comparar valores de g con tabla\n",
    "x = t\n",
    "y = z\n",
    "\n",
    "function modelo_z(t,p)\n",
    "    return -p[1]*p[2]*t + p[1]*(p[2]^2)*(1-exp(-t/p[2]))\n",
    "end\n",
    "\n",
    "p0 = [9.81, 3.14]\n",
    "\n",
    "modelo(t,p) = @. -p[1]*p[2]*t + p[1]*(p[2]^2)*(1-exp(-t/p[2]))\n",
    "\n",
    "fit = curve_fit(modelo, x, y, p0)\n",
    "fit.param"
   ]
  },
  {
   "cell_type": "code",
   "execution_count": null,
   "metadata": {},
   "outputs": [],
   "source": [
    "α_medido = fit.param[2]"
   ]
  },
  {
   "cell_type": "code",
   "execution_count": null,
   "metadata": {},
   "outputs": [],
   "source": [
    "scatter(x,fit.resid, label=\"Residuos\")\n",
    "\n",
    "plot!(xlabel=L\"t \\ [s]\")\n",
    "plot!(ylabel=\"Residuos [m]\")"
   ]
  },
  {
   "cell_type": "code",
   "execution_count": null,
   "metadata": {},
   "outputs": [],
   "source": [
    "g_tabla = 9.81\n",
    "g_medido = fit.param[1]\n",
    "\n",
    "dif = g_tabla - g_medido\n",
    "err_por = abs(g_tabla - g_medido)/abs(g_tabla)*100"
   ]
  },
  {
   "cell_type": "markdown",
   "metadata": {},
   "source": [
    "Los valores ajustados son:\n",
    "\n",
    "$g = 9.67980802531526 \\ \\mathrm{m/s^2}$\n",
    "\n",
    "$\\alpha = 3.1439064131137466 \\ \\mathrm{s} $\n",
    "\n",
    "El valor de $g$ ajustado difiere del tabulado por $0.13019197468473998 \\ \\mathrm{m/s^2}$, que equivale a un error porcentual de ~ $1.3 \\%$"
   ]
  },
  {
   "cell_type": "markdown",
   "metadata": {},
   "source": [
    "#### 6."
   ]
  },
  {
   "cell_type": "code",
   "execution_count": null,
   "metadata": {},
   "outputs": [],
   "source": [
    "m = 0.001 #kg\n",
    "c_medido = m/ α_medido # kg/s"
   ]
  },
  {
   "cell_type": "markdown",
   "metadata": {},
   "source": [
    "$c = 0.0003180756258611379 \\ \\mathrm{kg / s}$ \n",
    "\n",
    "$[\\alpha] = \\mathrm{s}$\n",
    "\n",
    "$[c] = \\mathrm{kg/s}$ "
   ]
  },
  {
   "cell_type": "markdown",
   "metadata": {},
   "source": [
    "#### 7."
   ]
  },
  {
   "cell_type": "code",
   "execution_count": null,
   "metadata": {},
   "outputs": [],
   "source": [
    "plot(t, modelo(t,fit.param), label=\"Ajuste\")\n",
    "scatter!(t,z, label=\"Datos\")\n",
    "\n",
    "plot!(xlabel=L\"t \\ \\mathrm{[s]}\")\n",
    "plot!(ylabel=L\"z \\ \\mathrm{[m]}\")"
   ]
  },
  {
   "cell_type": "markdown",
   "metadata": {},
   "source": [
    "#### 8."
   ]
  },
  {
   "cell_type": "code",
   "execution_count": null,
   "metadata": {},
   "outputs": [],
   "source": [
    "\"\"\"\n",
    "Integracion numerica con el metodo de Simpson.\n",
    "x : (array) valores de x\n",
    "y : (array) valores de y(x)\n",
    "v : (bool, opcional) verbose\n",
    "\n",
    "return: (array) integral de y(x) entre minimo y maximo de x\"\"\"\n",
    "function int_simpson(x,y;v=false)\n",
    "    \n",
    "    n = length(x)\n",
    "    \n",
    "    if n%2 != 0\n",
    "        if v\n",
    "            println(\"$n es impar, cambiando por $(n-1)\")\n",
    "        end\n",
    "        n -= 1\n",
    "    end\n",
    "    \n",
    "    h = (x[end]-x[1])/n\n",
    "    s0 = y[end]+y[1]\n",
    "    s1 = 0.\n",
    "    s2 = 0.\n",
    "    \n",
    "    for i in 2:n-1\n",
    "        if i%2==0\n",
    "            s2 += y[i]\n",
    "        else\n",
    "            s1 += y[i]\n",
    "        end\n",
    "    end\n",
    "        \n",
    "    integral = (h/3)*(s0+2*s2+4*s1)\n",
    "    \n",
    "    return integral\n",
    "    \n",
    "end"
   ]
  },
  {
   "cell_type": "code",
   "execution_count": null,
   "metadata": {},
   "outputs": [],
   "source": [
    "m = 0.001#kg\n",
    "F = -(m*g_medido .+ c_medido*v)\n",
    "W = int_simpson(t,F.*v)"
   ]
  },
  {
   "cell_type": "markdown",
   "metadata": {},
   "source": [
    "El trabajo realizado sobre la gota (calculado a partir de la velocidad $v_i$ y los valores de $g$,$c$ ajustados) es\n",
    "\n",
    "$W = 0.4543308930193593 \\ \\mathrm{J}$"
   ]
  },
  {
   "cell_type": "code",
   "execution_count": null,
   "metadata": {},
   "outputs": [],
   "source": [
    "\"\"\"\n",
    "Integracion numerica con el metodo de Simpson.\n",
    "f : (function) integrando\n",
    "a : (float) limite inferior\n",
    "b : (float) limite superior\n",
    "v : (bool, opcional) verbose\n",
    "\n",
    "return: (array) integral de f entre a y b\"\"\"\n",
    "function S_S(f,a,b,n;v=false)\n",
    "    \n",
    "    if n%2 != 0\n",
    "        if v\n",
    "            println(\"$n es impar, cambiando por $(n+1)\")\n",
    "        end\n",
    "        n = n+1\n",
    "    end\n",
    "    \n",
    "    h = (b-a)/n\n",
    "    s1 = 0.\n",
    "    s2 = 0.\n",
    "    for j in 1:n//2-1\n",
    "        s1 += f(a+2*j*h)\n",
    "    end\n",
    "    for j in 1:n//2\n",
    "        s2 += f(a+(2*j-1)*h)\n",
    "    end\n",
    "    return (f(a) + f(b) + 2*s1 + 4*s2)*h/3 \n",
    "    \n",
    "end"
   ]
  },
  {
   "cell_type": "code",
   "execution_count": null,
   "metadata": {},
   "outputs": [],
   "source": [
    "v_an(t) = -g_medido*α*(1-exp(-t/α))\n",
    "α = α_medido\n",
    "integrand(t) = (-v_an.(t)*c_medido .- m*g_medido).*v_an.(t)\n",
    "W_an = S_S(integrand,0.,16.,101)"
   ]
  },
  {
   "cell_type": "markdown",
   "metadata": {},
   "source": [
    "El trabajo realizado sobre la gota (calculado a partir de la velocidad $v(t) = \\frac{d z(t)}{d t}$  y los valores de $g$,$c$ ajustados) es\n",
    "\n",
    "$W_{an} = 0.457375525916633 \\ \\mathrm{J}$"
   ]
  },
  {
   "cell_type": "code",
   "execution_count": null,
   "metadata": {},
   "outputs": [],
   "source": [
    "er_abs = abs(W - W_an)\n",
    "er_por = er_abs/abs(W_an)*100"
   ]
  },
  {
   "cell_type": "markdown",
   "metadata": {},
   "source": [
    "El trabajo calculado a partir de los datos y la velocidad analitica difieren en un error porcentual de ~ $0.67 \\%$"
   ]
  },
  {
   "cell_type": "markdown",
   "metadata": {},
   "source": [
    "#### 9."
   ]
  },
  {
   "cell_type": "code",
   "execution_count": null,
   "metadata": {},
   "outputs": [],
   "source": [
    "\"\"\"\n",
    "Integracion con el metodo del trapecio no equiespaciado\n",
    "x : (array) valores de x\n",
    "y : (array) valores de y(x)\n",
    "\n",
    "return: (array) integral de y entre el minimo y maximo de x\"\"\"\n",
    "function trapecio_no_equiespaciado(x, y)\n",
    "    n = length(x)\n",
    "    if n != length(y)\n",
    "        throw(ArgumentError(\"Los vectores x e y deben tener la misma longitud\"))\n",
    "    end\n",
    "    \n",
    "    suma = 0.0\n",
    "    for i in 2:n\n",
    "        h = x[i] - x[i-1]\n",
    "        suma += (y[i] + y[i-1]) * h\n",
    "    end\n",
    "    \n",
    "    return suma / 2\n",
    "end"
   ]
  },
  {
   "cell_type": "code",
   "execution_count": null,
   "metadata": {},
   "outputs": [],
   "source": [
    "#implementacion del metodo del trapecio no equiespaciado\n",
    "\n",
    "x = [0.0,0.1,0.3,0.5,0.8,1.0]\n",
    "y = @. sin(x)\n",
    "\n",
    "println(trapecio_no_equiespaciado(x,y))"
   ]
  },
  {
   "cell_type": "code",
   "execution_count": null,
   "metadata": {},
   "outputs": [],
   "source": [
    "W_9 = trapecio_no_equiespaciado(z,F)"
   ]
  },
  {
   "cell_type": "code",
   "execution_count": null,
   "metadata": {},
   "outputs": [],
   "source": [
    "e_w = abs(W-W_9)/abs(W)*100\n",
    "e_wan = abs(W_an-W_9)/abs(W_an)*100"
   ]
  },
  {
   "cell_type": "markdown",
   "metadata": {},
   "source": [
    "El trabajo realizado sobre la gota (calculado con la integral sobre la trayectoria de la particula y los valores de $g$,$c$ ajustados) es\n",
    "\n",
    "$W_{9} = 0.4341436144975121 \\ \\mathrm{J}$\n",
    "\n",
    "Comparado con $W$ (a partir de los datos) difiere en ~$4.4 \\%$, y comparado con $W_{an}$ (a partir de $v(t)$) difiere en ~$5.1 \\%$"
   ]
  },
  {
   "cell_type": "markdown",
   "metadata": {},
   "source": [
    "#### 10."
   ]
  },
  {
   "cell_type": "code",
   "execution_count": null,
   "metadata": {},
   "outputs": [],
   "source": [
    "g_medido = fit.param[1]\n",
    "vel(t) = -g_medido * α_medido + g_medido * α_medido^2 * exp(-t/ α_medido)\n",
    "\n",
    "v_f = vel(t[end])\n",
    "W_10 = (1/2) * m * (v_f^2)\n",
    "\n",
    "println(W_10)"
   ]
  },
  {
   "cell_type": "markdown",
   "metadata": {},
   "source": [
    "#### 11."
   ]
  },
  {
   "cell_type": "code",
   "execution_count": null,
   "metadata": {},
   "outputs": [],
   "source": [
    "# interpolar la posicion en funcion del tiempo\n",
    "# dividiendo el intervalo en 100 subintervalos\n",
    "# n = 100 \n",
    "\n",
    "\"\"\"\n",
    "i : grado\n",
    "x : valor de x\n",
    "xvec : arreglo valores x_i\n",
    "\"\"\"\n",
    "function Li(i::Int64,\n",
    "    x::Float64,\n",
    "    xvec::Vector{Float64}\n",
    "    )::Float64\n",
    "    L = 1.0\n",
    "    xi = xvec[i]\n",
    "    for j ∈ 1:i-1\n",
    "        xj = xvec[j]\n",
    "        L *= (x-xj)/(xi-xj)\n",
    "    end\n",
    "    for j ∈ i+1:length(xvec)\n",
    "        xj = xvec[j]\n",
    "        L *= (x-xj)/(xi-xj)\n",
    "    end\n",
    "    return L\n",
    "end\n",
    "\n",
    "\n",
    "\"\"\"\n",
    "x : valor x\n",
    "xvec : arreglo valores x_i\n",
    "yvec : arreglo valores y_i\n",
    "\"\"\"\n",
    "function PL(x::Float64,\n",
    "    xvec::Vector{Float64},\n",
    "    yvec::Vector{Float64}\n",
    "    )::Float64\n",
    "    Pl = 0.0\n",
    "    for i ∈ 1:length(xvec)\n",
    "        Pl += yvec[i]*Li(i,x,xvec)\n",
    "    end\n",
    "    return Pl\n",
    "end\n",
    "\n",
    "\n",
    "p = fit.param\n",
    "modelo(t,p) = @. -p[1]*p[2]*t + p[1]*(p[2]^2)*(1-exp(-t/p[2]))\n",
    "mod(t) = modelo(t,p)\n",
    "\n",
    "n = 100\n",
    "puntos = t \n",
    "valorfuncion = mod.(puntos)\n",
    "PLf(x) = PL(x,puntos,valorfuncion)\n",
    "\n",
    "\n",
    "# Unico grafico: \n",
    "# A. puntos z_i vs t_i\n",
    "# B. polinomio interpolante de Lagrange\n",
    "# C. Ajuste de la funcion (inciso 4)\n",
    "\n",
    "\n",
    "pts = range(0.,16.,n)\n",
    "\n",
    "\n",
    "plot(pts,PLf.(pts),label = \"Lagrange\", ls=:dot, lw=6)\n",
    "plot!(mod, lw = 3, c = \"orange\", label = \"Ajuste\", alpha=1)\n",
    "scatter!(t,z, c = \"red\", marker = :x,  markerstrokewidth = 4, ms = 5, label = \"Datos\")\n",
    "\n",
    "plot!(xlabel=L\"t \\ \\mathrm{[s]}\")\n",
    "plot!(ylabel=L\"z \\ \\mathrm{[m]}\")"
   ]
  },
  {
   "cell_type": "markdown",
   "metadata": {},
   "source": [
    "#### 12."
   ]
  },
  {
   "cell_type": "code",
   "execution_count": null,
   "metadata": {},
   "outputs": [],
   "source": [
    "plot(pts, abs.(PLf.(pts) .- mod(pts)), label=\"Lagrange - Ajuste\")\n",
    "plot!(xlabel=L\"t \\ \\mathrm{[s]}\")\n",
    "plot!(ylabel=\"Resto\")"
   ]
  },
  {
   "cell_type": "markdown",
   "metadata": {},
   "source": [
    "El grafico anterior muestra la diferencia entre el polinomio interpolante de Lagrange y el ajuste realizado, se puede ver que cerca de los bordes es donde ambos se separan lo que es esperable dado que el polinomio oscila fuera del rango donde interpolamos. Aun asi, la diferencia es del orden de $10^{-10}$."
   ]
  }
 ],
 "metadata": {
  "kernelspec": {
   "display_name": "Julia 1.8.0",
   "language": "julia",
   "name": "julia-1.8"
  },
  "language_info": {
   "file_extension": ".jl",
   "mimetype": "application/julia",
   "name": "julia",
   "version": "1.8.0"
  }
 },
 "nbformat": 4,
 "nbformat_minor": 4
}
