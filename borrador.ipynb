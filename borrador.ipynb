{
 "cells": [
  {
   "cell_type": "markdown",
   "id": "0c7e02dd-5ec5-4da6-b509-a5443b4f49ae",
   "metadata": {},
   "source": [
    "# Parcial 1\n",
    "Entrega Martes 8:00hs"
   ]
  },
  {
   "cell_type": "code",
   "execution_count": 1,
   "id": "f401ca73-7438-4a28-a0b5-bb0b3b688155",
   "metadata": {},
   "outputs": [],
   "source": [
    "using Plots\n",
    "using LaTeXStrings\n",
    "using DataFrames"
   ]
  },
  {
   "cell_type": "markdown",
   "id": "0242f5e9-161d-4259-850f-c7133adefa7d",
   "metadata": {},
   "source": [
    "## Problema 1 "
   ]
  },
  {
   "cell_type": "markdown",
   "id": "eee3582b-d8c6-41ce-8d0a-1fe4fad2d61a",
   "metadata": {},
   "source": [
    "Insertar tabla usando...\n",
    "\n",
    "|col1|col2|col3|\n",
    "|----|----|----|\n",
    "|    |    |    |\n",
    "|    |    |    |\n",
    "|    |    |    |\n",
    "|    |    |    |"
   ]
  },
  {
   "cell_type": "code",
   "execution_count": 15,
   "id": "96c7961b-f83a-4a01-85f1-8cf3ac1b8864",
   "metadata": {},
   "outputs": [
    {
     "data": {
      "text/plain": [
       "mcd_euclides (generic function with 1 method)"
      ]
     },
     "execution_count": 15,
     "metadata": {},
     "output_type": "execute_result"
    }
   ],
   "source": [
    "\n",
    "function mcd_euclides(num1::Int64,\n",
    "        num2::Int64;\n",
    "        verbose::Bool=false)\n",
    "    \n",
    "    #renombrar las variables en forma creciente\n",
    "    #m, p = min(num1,num2), max(num1,num2)\n",
    "    m = num1\n",
    "    p = num2\n",
    "    i = 0\n",
    "    while p != 0 \n",
    "        m, p = p, m%p\n",
    "        println(\"$m\\t $p\\t $i\")\n",
    "        i += 1  \n",
    "    end\n",
    "    \n",
    "    if verbose\n",
    "        println(\"El algoritmo de Euclides tomó $(i-1) iteraciones para calcular el MCD($num1, $num2) = $m.\")\n",
    "    else\n",
    "        println(\"MCD($num1, $num2) = $m\")\n",
    "    end\n",
    "    #return m\n",
    "    \n",
    "    #verbose = true, imprimir el numero de iteraciones,incluyen la iteracion de resto 0\n",
    "    \n",
    "end\n",
    "# Output : Maximo común divisor entre ambos numeros"
   ]
  },
  {
   "cell_type": "code",
   "execution_count": 26,
   "id": "6de93a92-eec8-4f02-9bbe-dfb9cc4799c5",
   "metadata": {},
   "outputs": [
    {
     "data": {
      "text/plain": [
       "func"
      ]
     },
     "execution_count": 26,
     "metadata": {},
     "output_type": "execute_result"
    }
   ],
   "source": [
    "\"\"\"hola\"\"\"\n",
    "function func()\n",
    "\n",
    "end\n"
   ]
  },
  {
   "cell_type": "code",
   "execution_count": 27,
   "id": "897342f1-9591-4d82-9c77-858e8ec69f30",
   "metadata": {},
   "outputs": [
    {
     "data": {
      "text/latex": [
       "hola\n",
       "\n"
      ],
      "text/markdown": [
       "hola\n"
      ],
      "text/plain": [
       "  hola"
      ]
     },
     "execution_count": 27,
     "metadata": {},
     "output_type": "execute_result"
    }
   ],
   "source": [
    "?func()"
   ]
  },
  {
   "cell_type": "code",
   "execution_count": 10,
   "id": "91bbe0ae-3e56-4d8d-bef4-50e908dc936e",
   "metadata": {},
   "outputs": [
    {
     "data": {
      "text/plain": [
       "regula_falsi (generic function with 1 method)"
      ]
     },
     "execution_count": 10,
     "metadata": {},
     "output_type": "execute_result"
    }
   ],
   "source": [
    "# Regula Falsi\n",
    "function regula_falsi(f::Function,\n",
    "    a::Float64,\n",
    "    b::Float64;\n",
    "    tol_x::Float64 = 10e-10,\n",
    "    tol_y::Float64 = 10e-10,\n",
    "    max_iter::Int64 = 100)\n",
    "    \n",
    "    #\n",
    "    p0 = a\n",
    "    p1 = b \n",
    "    fp0 = f(p0)\n",
    "    fp1 = f(p1)\n",
    "    error_abs = abs(p1-p0) \n",
    "    error_rel = abs(p1-p0)/abs(p1)\n",
    "    # comprobar que satisfacen la condicion fp0*fp1 < 0\n",
    "    if fp0*fp1 > 0 \n",
    "        error(\"Los puntos iniciales tienen el mismo signo\")\n",
    "    end\n",
    "    \n",
    "    # iteracion\n",
    "    for j in 1:max_iter\n",
    "        # verificar que los errores cumplen la desigualdad\n",
    "        if tol_x > error_rel || tol_y > abs(fp1)\n",
    "            #break\n",
    "            absoluto_raiz = abs(fp1)\n",
    "            return[\"la raiz es: $p1\",\n",
    "            \"iteraciones: $j\",\n",
    "            \"valor de la función: $fp1\",\n",
    "            \"error absoluto: $error_abs\",\n",
    "            \"error relativo: $error_rel\",\n",
    "            \"valor absoluto de la raiz: $absoluto_raiz\"]\n",
    "        end\n",
    "        \n",
    "        #reasignacion de valores\n",
    "        p2 = p1 - fp1 * (p1-p0)/(fp1-fp0)\n",
    "        \n",
    "        if p1*p0 > 0\n",
    "            p0 = p1\n",
    "        end\n",
    "        \n",
    "        #reasignacion de valores\n",
    "        p1 = p2\n",
    "        error_abs = abs(p1-p0)\n",
    "        error_rel = abs(p1-p0)/abs(p1)\n",
    "        fp0 = f(p0)\n",
    "        fp1 = f(p1)\n",
    "        \n",
    "    end\n",
    "    println(\"no converge\")    \n",
    "end"
   ]
  },
  {
   "cell_type": "code",
   "execution_count": 17,
   "id": "45d8e4fd-d21f-456f-b66b-a0f35145cc08",
   "metadata": {},
   "outputs": [
    {
     "name": "stdout",
     "output_type": "stream",
     "text": [
      "no converge\n"
     ]
    }
   ],
   "source": [
    "f(x) = x^2 - 1\n",
    "a = 0.\n",
    "b = 5.\n",
    "regula_falsi(f, a, b)"
   ]
  },
  {
   "cell_type": "code",
   "execution_count": 28,
   "id": "2efb6b44-d4c7-4e04-b188-e7f8eaa85823",
   "metadata": {},
   "outputs": [
    {
     "data": {
      "text/plain": [
       "secante (generic function with 1 method)"
      ]
     },
     "execution_count": 28,
     "metadata": {},
     "output_type": "execute_result"
    }
   ],
   "source": [
    "# Secante\n",
    "\n",
    "function secante(f, a, b; \n",
    "        nmax=100,\n",
    "        TOLx=10.0^-8,\n",
    "        TOLf=10.0^-8)\n",
    "    \n",
    "    i = 1 #iteracion inicial\n",
    "    list_p   = zeros(nmax)\n",
    "    list_f   = zeros(nmax)\n",
    "    c        = zeros(nmax)\n",
    "    list_e   = zeros(nmax)\n",
    "    converge = true\n",
    "    \n",
    "    \n",
    "    while i <= nmax\n",
    "        FA        = f(a)          # funcion evaluada en a\n",
    "        list_p[i] = a + (b-a) / 2 # aprox de la raiz\n",
    "        list_f[i] = f(list_p[i])         # funcion evaluada en p\n",
    "        c[i]      = abs(b-a) / 2  # error absoluto en x\n",
    "        list_e[i] = c[i] / (abs(list_p[i]))  # error relativo en x\n",
    "    \n",
    "        \n",
    "        \n",
    "    end\n",
    "    \n",
    "    p0 = a\n",
    "    p1 = b\n",
    "    fp0 = f(p0)\n",
    "    fp1 = f(p1)\n",
    "    error_abs = abs(p1-p0)\n",
    "    error_rel = abs(p1-p0)/abs(p1)\n",
    "    i = 1\n",
    "    \n",
    "    \n",
    "    for i ∈ 1:maxiter\n",
    "        \n",
    "        \n",
    "        if x_tol > error_rel || y_tol > abs(fp1)\n",
    "            break\n",
    "        end        \n",
    "        \n",
    "        p2 = p1 - fp1 * (p1-p0)/(fp1-fp0)  # Paso n-ésimo del algoritmo, aca p2 es nuestra aproximación.\n",
    "        \n",
    "        p0 = p1  # Valuo nuevamente las variables.\n",
    "        p1 = p2\n",
    "        \n",
    "        error_abs = abs(p1-p0) # Vuelvo a calcular los errores y los valores de las funciones.\n",
    "        error_rel = abs(p1-p0)/abs(p1)\n",
    "        fp0 = f(p0)\n",
    "        fp1 = f(p1)\n",
    "        i += 1\n",
    "    end\n",
    "    absoluto_raiz = abs(fp1)\n",
    "    return[\"la raiz es: $p1\",\n",
    "        \"iteraciones $i\",\n",
    "        \"valor de la función: $fp1\",\n",
    "        \"error absoluto $error_abs\",\n",
    "        \"error relativo $error_rel\",\n",
    "        \"valor absoluto de la raiz $absoluto_raiz\"]\n",
    "    \n",
    "end"
   ]
  }
 ],
 "metadata": {
  "kernelspec": {
   "display_name": "Julia 1.8.5",
   "language": "julia",
   "name": "julia-1.8"
  },
  "language_info": {
   "file_extension": ".jl",
   "mimetype": "application/julia",
   "name": "julia",
   "version": "1.8.5"
  }
 },
 "nbformat": 4,
 "nbformat_minor": 5
}
