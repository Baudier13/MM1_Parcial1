{
 "cells": [
  {
   "cell_type": "markdown",
   "id": "0c7e02dd-5ec5-4da6-b509-a5443b4f49ae",
   "metadata": {},
   "source": [
    "# Parcial 1\n",
    "Entrega Martes 8:00hs"
   ]
  },
  {
   "cell_type": "code",
   "execution_count": 1,
   "id": "f401ca73-7438-4a28-a0b5-bb0b3b688155",
   "metadata": {},
   "outputs": [],
   "source": [
    "using Plots\n",
    "using LaTeXStrings\n",
    "using DataFrames"
   ]
  },
  {
   "cell_type": "markdown",
   "id": "0242f5e9-161d-4259-850f-c7133adefa7d",
   "metadata": {},
   "source": [
    "## Problema 1 "
   ]
  },
  {
   "cell_type": "markdown",
   "id": "eee3582b-d8c6-41ce-8d0a-1fe4fad2d61a",
   "metadata": {},
   "source": [
    "Insertar tabla usando...\n",
    "\n",
    "|col1|col2|col3|\n",
    "|----|----|----|\n",
    "|    |    |    |\n",
    "|    |    |    |\n",
    "|    |    |    |\n",
    "|    |    |    |"
   ]
  },
  {
   "cell_type": "code",
   "execution_count": 88,
   "id": "96c7961b-f83a-4a01-85f1-8cf3ac1b8864",
   "metadata": {},
   "outputs": [
    {
     "data": {
      "text/plain": [
       "mcd_euclides (generic function with 1 method)"
      ]
     },
     "execution_count": 88,
     "metadata": {},
     "output_type": "execute_result"
    }
   ],
   "source": [
    "# Inputs\n",
    "num1 = 123\n",
    "num2 = 512\n",
    "\n",
    "function mcd_euclides(m::Int64,\n",
    "        p::Int64;\n",
    "        verbose::Bool=false)\n",
    "    \n",
    "    #renombrar las variables en forma creciente\n",
    "    m, p = min(m,p), max(m,p)\n",
    "    i = 0\n",
    "    while p != 0 \n",
    "        m, p = p, m%p\n",
    "        println(\"$m\\t $p\\t $i\")\n",
    "        i += 1  \n",
    "    end\n",
    "    \n",
    "    if verbose\n",
    "        println(\"El algoritmo de Euclides tomó $(i-1) iteraciones para calcular el MCD.\")\n",
    "    else\n",
    "        println(\"MCD $m\")\n",
    "    end\n",
    "    #return m\n",
    "    \n",
    "    #verbose = true, imprimir el numero de iteraciones,incluyen la iteracion de resto 0\n",
    "    \n",
    "end\n",
    "# Output : Maximo común divisor entre ambos numeros"
   ]
  },
  {
   "cell_type": "code",
   "execution_count": 89,
   "id": "6de93a92-eec8-4f02-9bbe-dfb9cc4799c5",
   "metadata": {},
   "outputs": [
    {
     "name": "stdout",
     "output_type": "stream",
     "text": [
      "255\t 195\t 0\n",
      "195\t 60\t 1\n",
      "60\t 15\t 2\n",
      "15\t 0\t 3\n",
      "MCD 15\n",
      "195\t 85\t 0\n",
      "85\t 25\t 1\n",
      "25\t 10\t 2\n",
      "10\t 5\t 3\n",
      "5\t 0\t 4\n",
      "MCD 5\n",
      "46905159\t 39173043\t 0\n",
      "39173043\t 7732116\t 1\n",
      "7732116\t 512463\t 2\n",
      "512463\t 45171\t 3\n",
      "45171\t 15582\t 4\n",
      "15582\t 14007\t 5\n",
      "14007\t 1575\t 6\n",
      "1575\t 1407\t 7\n",
      "1407\t 168\t 8\n",
      "168\t 63\t 9\n",
      "63\t 42\t 10\n",
      "42\t 21\t 11\n",
      "21\t 0\t 12\n",
      "MCD 21\n",
      "6\t 3\t 0\n",
      "3\t 0\t 1\n",
      "El algoritmo de Euclides tomó 1 iteraciones para calcular el MCD.\n"
     ]
    }
   ],
   "source": [
    "mcd_euclides(255,195)\n",
    "mcd_euclides(85,195)\n",
    "mcd_euclides(46905159,39173043)\n",
    "mcd_euclides(3,6,verbose = true)"
   ]
  },
  {
   "cell_type": "code",
   "execution_count": 10,
   "id": "91bbe0ae-3e56-4d8d-bef4-50e908dc936e",
   "metadata": {},
   "outputs": [
    {
     "data": {
      "text/plain": [
       "regula_falsi (generic function with 1 method)"
      ]
     },
     "execution_count": 10,
     "metadata": {},
     "output_type": "execute_result"
    }
   ],
   "source": [
    "# Regula Falsi\n",
    "function regula_falsi(f::Function,\n",
    "    a::Float64,\n",
    "    b::Float64;\n",
    "    tol_x::Float64 = 10e-10,\n",
    "    tol_y::Float64 = 10e-10,\n",
    "    max_iter::Int64 = 100)\n",
    "    \n",
    "    #\n",
    "    p0 = a\n",
    "    p1 = b \n",
    "    fp0 = f(p0)\n",
    "    fp1 = f(p1)\n",
    "    error_abs = abs(p1-p0) \n",
    "    error_rel = abs(p1-p0)/abs(p1)\n",
    "    # comprobar que satisfacen la condicion fp0*fp1 < 0\n",
    "    if fp0*fp1 > 0 \n",
    "        error(\"Los puntos iniciales tienen el mismo signo\")\n",
    "    end\n",
    "    \n",
    "    # iteracion\n",
    "    for j in 1:max_iter\n",
    "        # verificar que los errores cumplen la desigualdad\n",
    "        if tol_x > error_rel || tol_y > abs(fp1)\n",
    "            #break\n",
    "            absoluto_raiz = abs(fp1)\n",
    "            return[\"la raiz es: $p1\",\n",
    "            \"iteraciones: $j\",\n",
    "            \"valor de la función: $fp1\",\n",
    "            \"error absoluto: $error_abs\",\n",
    "            \"error relativo: $error_rel\",\n",
    "            \"valor absoluto de la raiz: $absoluto_raiz\"]\n",
    "        end\n",
    "        \n",
    "        #reasignacion de valores\n",
    "        p2 = p1 - fp1 * (p1-p0)/(fp1-fp0)\n",
    "        \n",
    "        if p1*p0 > 0\n",
    "            p0 = p1\n",
    "        end\n",
    "        \n",
    "        #reasignacion de valores\n",
    "        p1 = p2\n",
    "        error_abs = abs(p1-p0)\n",
    "        error_rel = abs(p1-p0)/abs(p1)\n",
    "        fp0 = f(p0)\n",
    "        fp1 = f(p1)\n",
    "        \n",
    "    end\n",
    "    println(\"no converge\")    \n",
    "end"
   ]
  },
  {
   "cell_type": "code",
   "execution_count": 17,
   "id": "45d8e4fd-d21f-456f-b66b-a0f35145cc08",
   "metadata": {},
   "outputs": [
    {
     "name": "stdout",
     "output_type": "stream",
     "text": [
      "no converge\n"
     ]
    }
   ],
   "source": [
    "f(x) = x^2 - 1\n",
    "a = 0.\n",
    "b = 5.\n",
    "regula_falsi(f, a, b)"
   ]
  }
 ],
 "metadata": {
  "kernelspec": {
   "display_name": "Julia 1.8.5",
   "language": "julia",
   "name": "julia-1.8"
  },
  "language_info": {
   "file_extension": ".jl",
   "mimetype": "application/julia",
   "name": "julia",
   "version": "1.8.5"
  }
 },
 "nbformat": 4,
 "nbformat_minor": 5
}
